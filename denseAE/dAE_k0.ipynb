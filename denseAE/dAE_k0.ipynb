{
 "cells": [
  {
   "cell_type": "markdown",
   "metadata": {},
   "source": [
    "First TF implementation"
   ]
  },
  {
   "cell_type": "code",
   "execution_count": 3,
   "metadata": {
    "ExecuteTime": {
     "end_time": "2019-07-19T11:28:50.665963Z",
     "start_time": "2019-07-19T11:28:50.663828Z"
    }
   },
   "outputs": [],
   "source": [
    "AEversion = '0'"
   ]
  },
  {
   "cell_type": "code",
   "execution_count": 4,
   "metadata": {
    "ExecuteTime": {
     "end_time": "2019-07-19T11:28:50.953393Z",
     "start_time": "2019-07-19T11:28:50.670039Z"
    }
   },
   "outputs": [
    {
     "data": {
      "application/javascript": [
       "IPython.notebook.set_autosave_interval(60000)"
      ]
     },
     "metadata": {},
     "output_type": "display_data"
    },
    {
     "name": "stdout",
     "output_type": "stream",
     "text": [
      "Autosaving every 60 seconds\n"
     ]
    }
   ],
   "source": [
    "import numpy as np\n",
    "import os, sys, pickle\n",
    "from prettytable import PrettyTable\n",
    "import matplotlib.pyplot as plt\n",
    "import matplotlib\n",
    "%matplotlib inline\n",
    "%autosave 60"
   ]
  },
  {
   "cell_type": "code",
   "execution_count": 5,
   "metadata": {
    "ExecuteTime": {
     "end_time": "2019-07-19T11:28:51.125949Z",
     "start_time": "2019-07-19T11:28:50.955063Z"
    }
   },
   "outputs": [
    {
     "name": "stdout",
     "output_type": "stream",
     "text": [
      "\u001b[1m\u001b[37mimperium-sm.hep.caltech.edu\u001b[m  Fri Jul 19 04:28:51 2019\n",
      "\u001b[36m[0]\u001b[m \u001b[34mGeForce GTX 1080\u001b[m |\u001b[31m 22'C\u001b[m, \u001b[32m  0 %\u001b[m | \u001b[36m\u001b[1m\u001b[33m  466\u001b[m / \u001b[33m 8119\u001b[m MB | \u001b[1m\u001b[30mocerri\u001b[m(\u001b[33m455M\u001b[m)\n",
      "\u001b[36m[1]\u001b[m \u001b[34mGeForce GTX 1080\u001b[m |\u001b[31m 22'C\u001b[m, \u001b[32m  0 %\u001b[m | \u001b[36m\u001b[1m\u001b[33m   11\u001b[m / \u001b[33m 8119\u001b[m MB |\n",
      "\u001b[36m[2]\u001b[m \u001b[34mGeForce GTX 1080\u001b[m |\u001b[31m 25'C\u001b[m, \u001b[32m  0 %\u001b[m | \u001b[36m\u001b[1m\u001b[33m   10\u001b[m / \u001b[33m 8119\u001b[m MB |\n",
      "\u001b[36m[3]\u001b[m \u001b[34mGeForce GTX 1080\u001b[m |\u001b[31m 22'C\u001b[m, \u001b[32m  0 %\u001b[m | \u001b[36m\u001b[1m\u001b[33m   11\u001b[m / \u001b[33m 8119\u001b[m MB |\n",
      "\u001b[36m[4]\u001b[m \u001b[34mGeForce GTX 1080\u001b[m |\u001b[31m 25'C\u001b[m, \u001b[32m  0 %\u001b[m | \u001b[36m\u001b[1m\u001b[33m   11\u001b[m / \u001b[33m 8119\u001b[m MB |\n",
      "\u001b[36m[5]\u001b[m \u001b[34mGeForce GTX 1080\u001b[m |\u001b[31m 24'C\u001b[m, \u001b[32m  0 %\u001b[m | \u001b[36m\u001b[1m\u001b[33m   11\u001b[m / \u001b[33m 8119\u001b[m MB |\n",
      "\u001b[36m[6]\u001b[m \u001b[34mGeForce GTX 1080\u001b[m |\u001b[31m 24'C\u001b[m, \u001b[32m  0 %\u001b[m | \u001b[36m\u001b[1m\u001b[33m   11\u001b[m / \u001b[33m 8119\u001b[m MB |\n",
      "\u001b[36m[7]\u001b[m \u001b[34mGeForce GTX 1080\u001b[m |\u001b[31m 26'C\u001b[m, \u001b[32m  0 %\u001b[m | \u001b[36m\u001b[1m\u001b[33m  802\u001b[m / \u001b[33m 8119\u001b[m MB | \u001b[1m\u001b[30mocerri\u001b[m(\u001b[33m791M\u001b[m)\n"
     ]
    }
   ],
   "source": [
    "import gpustat\n",
    "try:\n",
    "    gpustat.print_gpustat()\n",
    "except:\n",
    "    pass"
   ]
  },
  {
   "cell_type": "code",
   "execution_count": 6,
   "metadata": {
    "ExecuteTime": {
     "end_time": "2019-07-19T11:28:51.129947Z",
     "start_time": "2019-07-19T11:28:51.127736Z"
    }
   },
   "outputs": [],
   "source": [
    "import tensorflow as tf\n",
    "from tensorflow.keras import layers"
   ]
  },
  {
   "cell_type": "code",
   "execution_count": 9,
   "metadata": {
    "ExecuteTime": {
     "end_time": "2019-07-19T11:31:12.412961Z",
     "start_time": "2019-07-19T11:31:11.989262Z"
    }
   },
   "outputs": [],
   "source": [
    "sys.path.append('../lib')\n",
    "from progressBar import ProgressBar\n",
    "from utils import EarlyStopping, createROC_curve, ELU_ProbNorm"
   ]
  },
  {
   "cell_type": "code",
   "execution_count": 7,
   "metadata": {
    "ExecuteTime": {
     "end_time": "2019-07-19T11:29:08.763940Z",
     "start_time": "2019-07-19T11:29:08.760713Z"
    }
   },
   "outputs": [],
   "source": [
    "dnd = []"
   ]
  },
  {
   "cell_type": "markdown",
   "metadata": {},
   "source": [
    "## Get the dataset"
   ]
  },
  {
   "cell_type": "code",
   "execution_count": 10,
   "metadata": {
    "ExecuteTime": {
     "end_time": "2019-07-19T11:31:15.562601Z",
     "start_time": "2019-07-19T11:31:15.545424Z"
    }
   },
   "outputs": [],
   "source": [
    "from dataLoaders import ParticleDataset"
   ]
  },
  {
   "cell_type": "code",
   "execution_count": 11,
   "metadata": {
    "ExecuteTime": {
     "end_time": "2019-07-19T11:31:16.084476Z",
     "start_time": "2019-07-19T11:31:16.080897Z"
    }
   },
   "outputs": [],
   "source": [
    "dataset = ParticleDataset(template='../data/20190717_50part_PtOrder_v3/{}.npy', N_part=1, N_features=11)"
   ]
  },
  {
   "cell_type": "code",
   "execution_count": 12,
   "metadata": {
    "ExecuteTime": {
     "end_time": "2019-07-19T11:33:31.725958Z",
     "start_time": "2019-07-19T11:31:34.839629Z"
    }
   },
   "outputs": [
    {
     "name": "stdout",
     "output_type": "stream",
     "text": [
      "Fetching Wlnu\n",
      "Fetching qcd\n",
      "Fetching Zll\n",
      "Fetching ttbar\n",
      "Expected 1.00M train\n",
      "Expected 1.00M val\n",
      "\n",
      "Loading Wlnu\n",
      "Loading qcd\n",
      "Loading Zll\n",
      "Loading ttbar\n",
      "+--------+----------+-------+------+\n",
      "| Sample | Evts tot | Train | Val  |\n",
      "+--------+----------+-------+------+\n",
      "|  Wlnu  |  5618k   |  592k | 592k |\n",
      "|  qcd   |  1166k   |  338k | 338k |\n",
      "|  Zll   |  1777k   |  67k  | 67k  |\n",
      "| ttbar  |  6542k   |   3k  |  3k  |\n",
      "+--------+----------+-------+------+\n",
      "Tot training 1.00 M\n",
      "Tot val 1.00 M\n"
     ]
    }
   ],
   "source": [
    "dataset.loadTrainSM(N_train_max=1e6)\n",
    "dataset.charge(dataset.SMMix_train)"
   ]
  },
  {
   "cell_type": "code",
   "execution_count": 13,
   "metadata": {
    "ExecuteTime": {
     "end_time": "2019-07-19T11:33:37.816208Z",
     "start_time": "2019-07-19T11:33:31.727777Z"
    }
   },
   "outputs": [
    {
     "name": "stdout",
     "output_type": "stream",
     "text": [
      "Loading Ato4l (47.7k)\n",
      "Loading leptoquark (100.0k)\n",
      "Loading hToTauTau (100.0k)\n",
      "Loading hChToTauNu (100.0k)\n"
     ]
    }
   ],
   "source": [
    "dataset.loadValidationSamples('BSM', N_max=100000)"
   ]
  },
  {
   "cell_type": "markdown",
   "metadata": {},
   "source": [
    "## Define the model"
   ]
  },
  {
   "cell_type": "code",
   "execution_count": null,
   "metadata": {},
   "outputs": [],
   "source": []
  }
 ],
 "metadata": {
  "kernelspec": {
   "display_name": "Python 3",
   "language": "python",
   "name": "python3"
  },
  "language_info": {
   "codemirror_mode": {
    "name": "ipython",
    "version": 3
   },
   "file_extension": ".py",
   "mimetype": "text/x-python",
   "name": "python",
   "nbconvert_exporter": "python",
   "pygments_lexer": "ipython3",
   "version": "3.7.3"
  }
 },
 "nbformat": 4,
 "nbformat_minor": 2
}
