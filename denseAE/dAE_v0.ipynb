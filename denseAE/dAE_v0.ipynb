{
 "cells": [
  {
   "cell_type": "markdown",
   "metadata": {},
   "source": [
    "AE with dense layer"
   ]
  },
  {
   "cell_type": "code",
   "execution_count": 1,
   "metadata": {},
   "outputs": [],
   "source": [
    "import numpy as np\n",
    "import itertools\n",
    "import os, sys\n",
    "import matplotlib.pyplot as plt\n",
    "import matplotlib\n",
    "%matplotlib inline"
   ]
  },
  {
   "cell_type": "code",
   "execution_count": 2,
   "metadata": {},
   "outputs": [
    {
     "name": "stdout",
     "output_type": "stream",
     "text": [
      "\u001b[1m\u001b[37mmustafar\u001b[m  Wed Jul  3 16:23:37 2019\n",
      "\u001b[36m[0]\u001b[m \u001b[34mGeForce GTX 1070\u001b[m |\u001b[1m\u001b[31m 50'C\u001b[m, \u001b[32m  0 %\u001b[m | \u001b[36m\u001b[1m\u001b[33m    0\u001b[m / \u001b[33m 8114\u001b[m MB |\n",
      "\u001b[36m[1]\u001b[m \u001b[34mGeForce GTX 1070\u001b[m |\u001b[31m 46'C\u001b[m, \u001b[32m  0 %\u001b[m | \u001b[36m\u001b[1m\u001b[33m    0\u001b[m / \u001b[33m 8114\u001b[m MB |\n"
     ]
    }
   ],
   "source": [
    "import gpustat\n",
    "gpustat.print_gpustat()"
   ]
  },
  {
   "cell_type": "code",
   "execution_count": 3,
   "metadata": {},
   "outputs": [],
   "source": [
    "import torch\n",
    "import torch.nn as nn\n",
    "import torch.nn.functional as F"
   ]
  },
  {
   "cell_type": "code",
   "execution_count": 4,
   "metadata": {},
   "outputs": [],
   "source": [
    "# from progressBar import ProgressBar\n",
    "# from utils import EarlyStopping"
   ]
  },
  {
   "cell_type": "code",
   "execution_count": 5,
   "metadata": {},
   "outputs": [],
   "source": [
    "dnd = []"
   ]
  },
  {
   "cell_type": "markdown",
   "metadata": {},
   "source": [
    "## Get the dataset"
   ]
  },
  {
   "cell_type": "code",
   "execution_count": 6,
   "metadata": {},
   "outputs": [],
   "source": [
    "from torch.utils import data"
   ]
  },
  {
   "cell_type": "code",
   "execution_count": 7,
   "metadata": {
    "code_folding": [
     0
    ]
   },
   "outputs": [],
   "source": [
    "class Dataset(data.Dataset):\n",
    "    def __init__(self, names = 'SM', \n",
    "                 template='../data/20190702_20part_PtOrder_v1/{}.npy'):\n",
    "        if names == 'SM':\n",
    "            self.SM_names = ['Wlnu', 'qcd', 'ttbar', 'Zll']\n",
    "            names = self.SM_names\n",
    "        self.names = names\n",
    "        \n",
    "        self.feature_names = ['Pt', 'eta', 'phi', 'charge', 'pId'][:3]\n",
    "        \n",
    "        for i, n in enumerate(names):\n",
    "            ins = np.load(template.format(n)).astype(np.float32)[:,:,:3].reshape((-1, 60))\n",
    "            lbs = i*np.ones(ins.shape[0]).astype(np.int8)\n",
    "            \n",
    "            print(n, ':', str(ins.shape[0]))\n",
    "            \n",
    "            if i == 0:\n",
    "                self.inputs = ins\n",
    "                self.labels = lbs\n",
    "            else:\n",
    "                self.inputs = np.concatenate((self.inputs, ins))\n",
    "                self.labels = np.concatenate((self.labels, lbs))\n",
    "    \n",
    "    def __len__(self):\n",
    "        return self.inputs.shape[0]\n",
    "    \n",
    "    def __getitem__(self, idx):\n",
    "        return self.inputs[idx], self.inputs[idx]"
   ]
  },
  {
   "cell_type": "code",
   "execution_count": 8,
   "metadata": {},
   "outputs": [
    {
     "name": "stdout",
     "output_type": "stream",
     "text": [
      "Wlnu : 100000\n"
     ]
    }
   ],
   "source": [
    "dataset = {}\n",
    "# Use to do validation split\n",
    "# torch.utils.data.random_split(dataset, lengths)\n",
    "dataset['train'] = Dataset(names=['Wlnu'])"
   ]
  },
  {
   "cell_type": "markdown",
   "metadata": {},
   "source": [
    "## Define the model"
   ]
  },
  {
   "cell_type": "code",
   "execution_count": null,
   "metadata": {
    "code_folding": []
   },
   "outputs": [],
   "source": [
    "class AEDenseNet(nn.Module):\n",
    "    def __init__(self, N_features, dim_hidden, dim_latent, verbose = False):\n",
    "        super(AEDenseNet, self).__init__()\n",
    "        self.verbose = verbose\n",
    "        \n",
    "        self.p = N_features\n",
    "        self.Nk = dim_latent\n",
    "        \n",
    "        self.encoder_modules = nn.ModuleDict({\n",
    "            'PhiE': self.build_dense(dim_in=self.p,\n",
    "                                   dim_out=self.Nk,\n",
    "                                   dim_hidden=dim_hidden)\n",
    "        })\n",
    "        \n",
    "        \n",
    "        self.decoder_modules = nn.ModuleDict({\n",
    "            'PhiD': self.build_dense(dim_in=self.Nk,\n",
    "                                   dim_out=self.p,\n",
    "                                   dim_hidden=dim_hidden)\n",
    "        })\n",
    "        \n",
    "        \n",
    "        self.onGPU = False\n",
    "          \n",
    "    def build_dense(self, dim_in, dim_out, dim_hidden):\n",
    "        net = nn.Sequential(\n",
    "                            nn.Linear(dim_in, dim_hidden),\n",
    "                            nn.ELU(),\n",
    "                            nn.Linear(dim_hidden, dim_hidden),\n",
    "                            nn.ELU(),\n",
    "                            nn.Linear(dim_hidden, dim_out),\n",
    "#                             nn.ELU(),\n",
    "                          )\n",
    "        return net\n",
    "        \n",
    "    def encode(self, x):\n",
    "        z = self.encoder_modules['PhiE'](x)\n",
    "        return z\n",
    "    \n",
    "    def decode(self, z):\n",
    "        x = self.decoder_modules['PhiD'](z)\n",
    "        return x\n",
    "        \n",
    "        # --- Formatting x ----\n",
    "        # pt\n",
    "        pt = 1 + F.elu(x[:,0])\n",
    "        # eta\n",
    "        eta = 5*F.tanh(x[:,1])\n",
    "        # phi\n",
    "        phi = F.hardtanh(x[:,2], min_val=-3.14159, max_val=3.14159)\n",
    "        # charge\n",
    "#         x[:,:,3] = F.hardtanh(x[:,:,3], min_val=-1, max_val=2)\n",
    "        # pId\n",
    "#         x[:,:,4] = F.hardtanh(x[:,:,4], min_val=0, max_val=6)\n",
    "        return torch.cat((pt,eta, phi), 1)\n",
    "        \n",
    "    \n",
    "    def forward(self, x):\n",
    "        z = self.encode(x)\n",
    "        x_prime = self.decode(z)\n",
    "        return x_prime\n",
    "    \n",
    "    def initWeights(self):\n",
    "        def weights_init(M):\n",
    "            if hasattr(M, 'weight'):\n",
    "                nn.init.xavier_normal_(M.weight.data)\n",
    "        \n",
    "        self.apply(weights_init)\n",
    "    \n",
    "    def useGPU(self, N_GPU=1):\n",
    "        if torch.cuda.is_available():\n",
    "            print('Current device: {} ({} available)'.format(torch.cuda.current_device(), \n",
    "                                                             torch.cuda.device_count()))\n",
    "            self.N_GPU = N_GPU\n",
    "            torch.cuda.empty_cache()\n",
    "            self.cuda(N_GPU)\n",
    "            gpustat.print_gpustat()\n",
    "            \n",
    "            self.onGPU = True\n",
    "        else: \n",
    "            print('GPU not available')"
   ]
  },
  {
   "cell_type": "code",
   "execution_count": null,
   "metadata": {
    "code_folding": [],
    "scrolled": true
   },
   "outputs": [],
   "source": [
    "model = AEDenseNet(\n",
    "                   N_features=dataset['train'].inputs.shape[1],\n",
    "                   dim_hidden=20,\n",
    "                   dim_latent=10\n",
    "                  )\n",
    "\n",
    "print(model)\n",
    "trainablePars = sum(p.numel() for p in model.parameters() if p.requires_grad)\n",
    "print('\\nTrainable parameters:', trainablePars)\n",
    "\n",
    "model.initWeights()"
   ]
  },
  {
   "cell_type": "code",
   "execution_count": 11,
   "metadata": {},
   "outputs": [
    {
     "name": "stdout",
     "output_type": "stream",
     "text": [
      "Current device: 0 (2 available)\n",
      "\u001b[1m\u001b[37mmustafar\u001b[m  Wed Jul  3 16:23:46 2019\n",
      "\u001b[36m[0]\u001b[m \u001b[34mGeForce GTX 1070\u001b[m |\u001b[1m\u001b[31m 51'C\u001b[m, \u001b[32m  8 %\u001b[m | \u001b[36m\u001b[1m\u001b[33m  447\u001b[m / \u001b[33m 8114\u001b[m MB | \u001b[1m\u001b[30mocerri\u001b[m(\u001b[33m437M\u001b[m)\n",
      "\u001b[36m[1]\u001b[m \u001b[34mGeForce GTX 1070\u001b[m |\u001b[31m 46'C\u001b[m, \u001b[32m  0 %\u001b[m | \u001b[36m\u001b[1m\u001b[33m   10\u001b[m / \u001b[33m 8114\u001b[m MB |\n"
     ]
    }
   ],
   "source": [
    "model.useGPU(0)"
   ]
  },
  {
   "cell_type": "markdown",
   "metadata": {},
   "source": [
    "## Loss"
   ]
  },
  {
   "cell_type": "code",
   "execution_count": null,
   "metadata": {},
   "outputs": [],
   "source": [
    "criterion = nn.MSELoss()"
   ]
  },
  {
   "cell_type": "markdown",
   "metadata": {},
   "source": [
    "## Training"
   ]
  },
  {
   "cell_type": "code",
   "execution_count": null,
   "metadata": {},
   "outputs": [],
   "source": [
    "training_params = {'batch_size': 10000,\n",
    "                   'shuffle': True,\n",
    "                   'num_workers': 0\n",
    "                  }\n",
    "\n",
    "max_epochs = 100"
   ]
  },
  {
   "cell_type": "code",
   "execution_count": null,
   "metadata": {},
   "outputs": [],
   "source": [
    "torch.autograd.set_detect_anomaly(True);"
   ]
  },
  {
   "cell_type": "code",
   "execution_count": null,
   "metadata": {},
   "outputs": [],
   "source": [
    "optimizer = torch.optim.Adam(model.parameters(), lr=1e-3)\n",
    "\n",
    "from torch.optim.lr_scheduler import ReduceLROnPlateau\n",
    "scheduler = ReduceLROnPlateau(optimizer, \n",
    "                              mode='min',\n",
    "                              factor=0.3,\n",
    "                              patience=2,\n",
    "                              verbose=1,\n",
    "                              threshold=1e-4,\n",
    "                              cooldown=2,\n",
    "                              min_lr=1e-7\n",
    "                             )\n",
    "\n",
    "# Early stopping\n",
    "earlyStopping = EarlyStopping(patient=5)"
   ]
  },
  {
   "cell_type": "code",
   "execution_count": null,
   "metadata": {
    "code_folding": []
   },
   "outputs": [],
   "source": [
    "optimizer.zero_grad()\n",
    "data_train_iter = data.DataLoader(dataset['train'], **training_params)\n",
    "\n",
    "train_loss = []\n",
    "for epoch in range(1, max_epochs+1):\n",
    "    batch_loss = []\n",
    "    pb = ProgressBar(len(data_train_iter), percentPrecision=5, headLabel='Ep {} '.format(epoch))\n",
    "    for local_x, _ in data_train_iter:\n",
    "        if model.onGPU:\n",
    "            local_x = local_x.cuda()\n",
    "        \n",
    "        x_prime = model(local_x)\n",
    "        loss = criterion(local_x, x_prime)\n",
    "        batch_loss.append(loss.item())\n",
    "        \n",
    "        tail_label = 'Loss: {:2.2e}'.format(loss.item())\n",
    "        if len(train_loss) > 0:\n",
    "            tail_label += ' ({:2.2e})'.format(loss.item() - train_loss[-1][-1])\n",
    "        pb.show(len(batch_loss)-1, tail_label=tail_label)\n",
    "        loss.backward()\n",
    "        optimizer.step()\n",
    "    \n",
    "    aux_loss = 0\n",
    "    N_batches = 0\n",
    "    for local_x, _ in data_train_iter:\n",
    "        loss = criterion(local_x, model(local_x))\n",
    "        aux_loss += loss.item()\n",
    "        N_batches += 1\n",
    "    batch_loss.append(aux_loss/N_batches)\n",
    "    \n",
    "    printout = 'Loss: {:2.2e}'.format(batch_loss[-1])\n",
    "    if len(train_loss) > 0:\n",
    "        printout += ' - Delta: {:2.2e}'.format(batch_loss[-1] - train_loss[-1][-1])\n",
    "    if len(train_loss) > 1:\n",
    "        d2L_de2 = batch_loss[-1] - 2*train_loss[-1][-1] + train_loss[-2][-1]\n",
    "        printout +=' - Trend: {:2.2e}'.format(d2L_de2)\n",
    "    print(printout+'\\n')\n",
    "    \n",
    "    train_loss.append(batch_loss)\n",
    "    \n",
    "    if not earlyStopping.check(batch_loss[-1]):\n",
    "        break\n",
    "\n",
    "    scheduler.step(batch_loss[-1])"
   ]
  },
  {
   "cell_type": "code",
   "execution_count": null,
   "metadata": {},
   "outputs": [],
   "source": [
    "train_loss = np.array(train_loss)\n",
    "matplotlib.rcParams.update({'font.size': 16})\n",
    "\n",
    "f = plt.figure(figsize=(16,8))\n",
    "\n",
    "train_loss_flat = train_loss.flatten()\n",
    "x = np.arange(1, train_loss_flat.shape[0]+1) * float(train_loss.shape[0])/train_loss_flat.shape[0]\n",
    "plt.plot(x, train_loss_flat, '-', alpha=0.2, color='darkorange')\n",
    "\n",
    "x = np.arange(1, train_loss.shape[0]+1)\n",
    "plt.plot(x, train_loss[:,-1], 'o--', label='Train', color='darkorange')\n",
    "\n",
    "plt.xlabel('Epoch')\n",
    "plt.grid()\n",
    "plt.legend(loc='best')\n",
    "plt.yscale('log')\n",
    "# f.savefig('plots/TrainingHistory_VAE_all-in-one_v'+VAEversion+'.png')\n",
    "\n",
    "# f = open('TrainingHistory_VAE_all-in-one_v'+VAEversion+'.pkl', 'w')\n",
    "# pickle.dump(fit_report.history, f, pickle.HIGHEST_PROTOCOL)\n",
    "# f.close()"
   ]
  },
  {
   "cell_type": "markdown",
   "metadata": {},
   "source": [
    "# Convergence check"
   ]
  },
  {
   "cell_type": "code",
   "execution_count": null,
   "metadata": {},
   "outputs": [],
   "source": [
    "x = dataset['train'].inputs\n",
    "model.eval()\n",
    "x_prime = model(torch.from_numpy(dataset['train'].inputs[:10000])).cpu().detach().numpy()\n",
    "z = model.encode(torch.from_numpy(dataset['train'].inputs[:10000])).cpu().detach().numpy()"
   ]
  },
  {
   "cell_type": "markdown",
   "metadata": {},
   "source": [
    "### Latent space"
   ]
  },
  {
   "cell_type": "code",
   "execution_count": null,
   "metadata": {},
   "outputs": [],
   "source": [
    "for i in range(z.shape[1]):\n",
    "    x_aux = z[:,i]\n",
    "    f = plt.figure(i)\n",
    "    r = (np.min(x_aux), np.max(x_aux))\n",
    "    plt.hist(x_aux, bins=20, range=r, alpha=0.4, density=True)\n",
    "    plt.xlabel('$z_{{{}}}$'.format(i))\n",
    "    dnd.append(f)"
   ]
  },
  {
   "cell_type": "markdown",
   "metadata": {},
   "source": [
    "### Output features"
   ]
  },
  {
   "cell_type": "code",
   "execution_count": null,
   "metadata": {
    "scrolled": false
   },
   "outputs": [],
   "source": [
    "for i in range(x_prime.shape[1]):\n",
    "    x_aux = x[:,i].flatten()\n",
    "    xp_aux = x_prime[:,i].flatten()\n",
    "    f = plt.figure(i)\n",
    "    r = (min(np.min(x_aux), np.min(xp_aux)), max(np.max(x_aux), np.max(xp_aux)))\n",
    "    plt.hist(x_aux, bins=20, range=r, alpha=0.4, density=True)\n",
    "    plt.hist(xp_aux, bins=20, range=r, alpha=0.4, density=True)\n",
    "    plt.xlabel('Part {:.0f} '.format(int(i/3)) + dataset['train'].feature_names[i%3])\n",
    "    dnd.append(f)"
   ]
  }
 ],
 "metadata": {
  "kernelspec": {
   "display_name": "Python 3",
   "language": "python",
   "name": "python3"
  },
  "language_info": {
   "codemirror_mode": {
    "name": "ipython",
    "version": 3
   },
   "file_extension": ".py",
   "mimetype": "text/x-python",
   "name": "python",
   "nbconvert_exporter": "python",
   "pygments_lexer": "ipython3",
   "version": "3.7.3"
  }
 },
 "nbformat": 4,
 "nbformat_minor": 2
}
