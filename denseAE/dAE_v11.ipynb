{
 "cells": [
  {
   "cell_type": "markdown",
   "metadata": {},
   "source": [
    "Copy of 10 with PID and charge converted to bools"
   ]
  },
  {
   "cell_type": "code",
   "execution_count": 1,
   "metadata": {
    "ExecuteTime": {
     "end_time": "2019-07-17T09:57:23.188976Z",
     "start_time": "2019-07-17T09:57:23.186251Z"
    }
   },
   "outputs": [],
   "source": [
    "AEversion = '11'"
   ]
  },
  {
   "cell_type": "code",
   "execution_count": 2,
   "metadata": {
    "ExecuteTime": {
     "end_time": "2019-07-17T09:57:23.562442Z",
     "start_time": "2019-07-17T09:57:23.193486Z"
    }
   },
   "outputs": [
    {
     "data": {
      "application/javascript": [
       "IPython.notebook.set_autosave_interval(60000)"
      ]
     },
     "metadata": {},
     "output_type": "display_data"
    },
    {
     "name": "stdout",
     "output_type": "stream",
     "text": [
      "Autosaving every 60 seconds\n"
     ]
    }
   ],
   "source": [
    "import numpy as np\n",
    "import os, sys, pickle\n",
    "from prettytable import PrettyTable\n",
    "import matplotlib.pyplot as plt\n",
    "import matplotlib\n",
    "%matplotlib inline\n",
    "%autosave 60"
   ]
  },
  {
   "cell_type": "code",
   "execution_count": 3,
   "metadata": {
    "ExecuteTime": {
     "end_time": "2019-07-17T09:57:23.767440Z",
     "start_time": "2019-07-17T09:57:23.564133Z"
    },
    "code_folding": [
     1,
     3
    ]
   },
   "outputs": [
    {
     "name": "stdout",
     "output_type": "stream",
     "text": [
      "\u001b[1m\u001b[37mimperium-sm.hep.caltech.edu\u001b[m  Wed Jul 17 02:57:23 2019\n",
      "\u001b[36m[0]\u001b[m \u001b[34mGeForce GTX 1080\u001b[m |\u001b[31m 22'C\u001b[m, \u001b[32m  0 %\u001b[m | \u001b[36m\u001b[1m\u001b[33m    1\u001b[m / \u001b[33m 8119\u001b[m MB |\n",
      "\u001b[36m[1]\u001b[m \u001b[34mGeForce GTX 1080\u001b[m |\u001b[31m 44'C\u001b[m, \u001b[32m  0 %\u001b[m | \u001b[36m\u001b[1m\u001b[33m    1\u001b[m / \u001b[33m 8119\u001b[m MB |\n",
      "\u001b[36m[2]\u001b[m \u001b[34mGeForce GTX 1080\u001b[m |\u001b[31m 25'C\u001b[m, \u001b[32m  0 %\u001b[m | \u001b[36m\u001b[1m\u001b[33m    0\u001b[m / \u001b[33m 8119\u001b[m MB |\n",
      "\u001b[36m[3]\u001b[m \u001b[34mGeForce GTX 1080\u001b[m |\u001b[1m\u001b[31m 70'C\u001b[m, \u001b[1m\u001b[32m 95 %\u001b[m | \u001b[36m\u001b[1m\u001b[33m 1782\u001b[m / \u001b[33m 8119\u001b[m MB | \u001b[1m\u001b[30m3041\u001b[m(\u001b[33m1771M\u001b[m)\n",
      "\u001b[36m[4]\u001b[m \u001b[34mGeForce GTX 1080\u001b[m |\u001b[31m 25'C\u001b[m, \u001b[32m  0 %\u001b[m | \u001b[36m\u001b[1m\u001b[33m    1\u001b[m / \u001b[33m 8119\u001b[m MB |\n",
      "\u001b[36m[5]\u001b[m \u001b[34mGeForce GTX 1080\u001b[m |\u001b[31m 23'C\u001b[m, \u001b[32m  0 %\u001b[m | \u001b[36m\u001b[1m\u001b[33m    1\u001b[m / \u001b[33m 8119\u001b[m MB |\n",
      "\u001b[36m[6]\u001b[m \u001b[34mGeForce GTX 1080\u001b[m |\u001b[31m 23'C\u001b[m, \u001b[32m  0 %\u001b[m | \u001b[36m\u001b[1m\u001b[33m    1\u001b[m / \u001b[33m 8119\u001b[m MB |\n",
      "\u001b[36m[7]\u001b[m \u001b[34mGeForce GTX 1080\u001b[m |\u001b[31m 25'C\u001b[m, \u001b[32m  0 %\u001b[m | \u001b[36m\u001b[1m\u001b[33m    1\u001b[m / \u001b[33m 8119\u001b[m MB |\n"
     ]
    }
   ],
   "source": [
    "import gpustat\n",
    "try:\n",
    "    gpustat.print_gpustat()\n",
    "except:\n",
    "    pass"
   ]
  },
  {
   "cell_type": "code",
   "execution_count": 4,
   "metadata": {
    "ExecuteTime": {
     "end_time": "2019-07-17T09:57:24.220846Z",
     "start_time": "2019-07-17T09:57:23.769285Z"
    }
   },
   "outputs": [],
   "source": [
    "import torch\n",
    "import torch.nn as nn\n",
    "import torch.nn.functional as F"
   ]
  },
  {
   "cell_type": "code",
   "execution_count": 5,
   "metadata": {
    "ExecuteTime": {
     "end_time": "2019-07-17T09:57:24.229340Z",
     "start_time": "2019-07-17T09:57:24.223669Z"
    }
   },
   "outputs": [],
   "source": [
    "sys.path.append('../lib')\n",
    "from progressBar import ProgressBar\n",
    "from utils import EarlyStopping, createROC_curve, ELU_ProbNorm"
   ]
  },
  {
   "cell_type": "code",
   "execution_count": 6,
   "metadata": {
    "ExecuteTime": {
     "end_time": "2019-07-17T09:57:24.234691Z",
     "start_time": "2019-07-17T09:57:24.231735Z"
    }
   },
   "outputs": [],
   "source": [
    "dnd = []"
   ]
  },
  {
   "cell_type": "markdown",
   "metadata": {},
   "source": [
    "## Get the dataset"
   ]
  },
  {
   "cell_type": "code",
   "execution_count": 7,
   "metadata": {
    "ExecuteTime": {
     "end_time": "2019-07-17T09:57:24.260876Z",
     "start_time": "2019-07-17T09:57:24.237181Z"
    }
   },
   "outputs": [],
   "source": [
    "from dataLoaders import ParticleDataset"
   ]
  },
  {
   "cell_type": "code",
   "execution_count": 8,
   "metadata": {
    "ExecuteTime": {
     "end_time": "2019-07-17T09:57:24.266777Z",
     "start_time": "2019-07-17T09:57:24.263233Z"
    }
   },
   "outputs": [],
   "source": [
    "dataset = ParticleDataset(template='../data/20190717_50part_PtOrder_v3/{}.npy', N_part=50, N_features=11)"
   ]
  },
  {
   "cell_type": "code",
   "execution_count": 9,
   "metadata": {
    "ExecuteTime": {
     "end_time": "2019-07-17T09:59:18.814276Z",
     "start_time": "2019-07-17T09:57:24.268426Z"
    }
   },
   "outputs": [
    {
     "name": "stdout",
     "output_type": "stream",
     "text": [
      "Fetching Wlnu\n",
      "Fetching qcd\n",
      "Fetching Zll\n",
      "Fetching ttbar\n",
      "Expected 1.00M train\n",
      "Expected 1.00M val\n",
      "\n",
      "Loading Wlnu\n",
      "Loading qcd\n",
      "Loading Zll\n",
      "Loading ttbar\n",
      "+--------+----------+-------+------+\n",
      "| Sample | Evts tot | Train | Val  |\n",
      "+--------+----------+-------+------+\n",
      "|  Wlnu  |  5618k   |  592k | 592k |\n",
      "|  qcd   |  1166k   |  338k | 338k |\n",
      "|  Zll   |  1777k   |  67k  | 67k  |\n",
      "| ttbar  |  6542k   |   3k  |  3k  |\n",
      "+--------+----------+-------+------+\n",
      "Tot training 1.00 M\n",
      "Tot val 1.00 M\n"
     ]
    }
   ],
   "source": [
    "dataset.loadTrainSM(N_train_max=1e6)\n",
    "dataset.charge(dataset.SMMix_train)"
   ]
  },
  {
   "cell_type": "code",
   "execution_count": 10,
   "metadata": {
    "ExecuteTime": {
     "end_time": "2019-07-17T09:59:25.209039Z",
     "start_time": "2019-07-17T09:59:18.839832Z"
    }
   },
   "outputs": [
    {
     "name": "stdout",
     "output_type": "stream",
     "text": [
      "Loading Ato4l (47.7k)\n",
      "Loading leptoquark (273.6k)\n",
      "Loading hToTauTau (685.8k)\n",
      "Loading hChToTauNu (339.0k)\n"
     ]
    }
   ],
   "source": [
    "dataset.loadValidationSamples('BSM', N_max=1000000000000000)"
   ]
  },
  {
   "cell_type": "markdown",
   "metadata": {},
   "source": [
    "## Define the model"
   ]
  },
  {
   "cell_type": "code",
   "execution_count": 11,
   "metadata": {
    "ExecuteTime": {
     "end_time": "2019-07-17T09:59:25.232129Z",
     "start_time": "2019-07-17T09:59:25.211227Z"
    },
    "code_folding": [
     0,
     25
    ]
   },
   "outputs": [],
   "source": [
    "class AEDenseNet(nn.Module):\n",
    "    def __init__(self, N_part, N_features, dim_hidden, dim_latent, verbose = False):\n",
    "        super(AEDenseNet, self).__init__()\n",
    "        self.verbose = verbose\n",
    "        \n",
    "        self.No = N_part\n",
    "        self.p = N_features\n",
    "        self.Nk = dim_latent\n",
    "        \n",
    "        self.encoder_modules = nn.ModuleDict({\n",
    "            'PhiE': self.build_dense(dim_in=self.p*self.No,\n",
    "                                   dim_out=self.Nk,\n",
    "                                   dim_hidden=dim_hidden)\n",
    "        })\n",
    "        \n",
    "        \n",
    "        self.decoder_modules = nn.ModuleDict({\n",
    "            'PhiD': self.build_dense(dim_in=self.Nk,\n",
    "                                   dim_out=(self.p+3)*self.No,\n",
    "                                   dim_hidden=dim_hidden)\n",
    "        })\n",
    "        \n",
    "        \n",
    "        self.onGPU = False\n",
    "          \n",
    "    def build_dense(self, dim_in, dim_out, dim_hidden=0):\n",
    "        if dim_hidden:\n",
    "            net = nn.Sequential(\n",
    "                                nn.Linear(dim_in, dim_hidden),\n",
    "                                nn.ReLU(),\n",
    "                                nn.Linear(dim_hidden, dim_hidden),\n",
    "                                nn.ReLU(),\n",
    "                                nn.Linear(dim_hidden, dim_out),\n",
    "                              )\n",
    "        else:\n",
    "            d_avg = int(0.5*(dim_in + dim_out))\n",
    "            net = nn.Sequential(\n",
    "                                nn.Linear(dim_in, d_avg),\n",
    "                                nn.ReLU(),\n",
    "                                nn.Linear(d_avg, dim_out),\n",
    "                              )\n",
    "        return net\n",
    "        \n",
    "    def encode(self, x):\n",
    "        z_raw = self.encoder_modules['PhiE'](x.contiguous().view(-1, self.p*self.No))\n",
    "        z = F.hardtanh(z_raw, min_val=-5, max_val=5)\n",
    "        return z\n",
    "    \n",
    "    def decode(self, z):\n",
    "        x_raw = self.decoder_modules['PhiD'](z).view(-1, self.No, self.p+3)\n",
    "        \n",
    "        # --- Formatting x ----\n",
    "        # pt\n",
    "        pt = 1. + F.elu(x_raw[:,:,0]).view(-1, self.No, 1)\n",
    "        sig_pt = 1. + 1e-6 + F.elu(x_raw[:,:,1]).view(-1, self.No, 1)\n",
    "        # eta\n",
    "        eta = F.hardtanh(x_raw[:,:,2], min_val=-5, max_val=5).view(-1, self.No, 1)\n",
    "        sig_eta = 1. + 1e-6 + F.elu(x_raw[:,:,3]).view(-1, self.No, 1)\n",
    "        # phi\n",
    "        phi = torch.fmod(torch.abs(x_raw[:,:,4]), 6.2831853072).view(-1, self.No, 1) - 3.14159265359\n",
    "        sig_phi = 1. + 1e-6 + F.elu(x_raw[:,:,5]).view(-1, self.No, 1)\n",
    "        \n",
    "        # charge & pId category\n",
    "        cpId_cat = ELU_ProbNorm(x_raw[:,:,6:])\n",
    "        \n",
    "        x = torch.cat((pt, eta, phi, sig_pt, sig_eta, sig_phi, cpId_cat), 2)\n",
    "        return x\n",
    "        \n",
    "    \n",
    "    def forward(self, x):\n",
    "        z = self.encode(x)\n",
    "        x_prime = self.decode(z)\n",
    "        return x_prime\n",
    "    \n",
    "    def initWeights(self):\n",
    "        def weights_init(M):\n",
    "            if hasattr(M, 'weight'):\n",
    "                nn.init.xavier_normal_(M.weight.data)\n",
    "        \n",
    "        self.apply(weights_init)\n",
    "    \n",
    "    def useGPU(self, N_GPU=1):\n",
    "        if torch.cuda.is_available():\n",
    "            print('Current device: {} ({} available)'.format(torch.cuda.current_device(), \n",
    "                                                             torch.cuda.device_count()))\n",
    "            os.environ['CUDA_VISIBLE_DEVICES'] = str(N_GPU)\n",
    "            self.N_GPU = N_GPU\n",
    "            torch.cuda.empty_cache()\n",
    "            self.cuda(N_GPU)\n",
    "            gpustat.print_gpustat()\n",
    "            \n",
    "            self.onGPU = True\n",
    "        else: \n",
    "            print('GPU not available')"
   ]
  },
  {
   "cell_type": "code",
   "execution_count": 12,
   "metadata": {
    "ExecuteTime": {
     "end_time": "2019-07-17T09:59:25.401476Z",
     "start_time": "2019-07-17T09:59:25.233731Z"
    },
    "code_folding": [
     3
    ]
   },
   "outputs": [
    {
     "name": "stdout",
     "output_type": "stream",
     "text": [
      "AEDenseNet(\n",
      "  (encoder_modules): ModuleDict(\n",
      "    (PhiE): Sequential(\n",
      "      (0): Linear(in_features=550, out_features=200, bias=True)\n",
      "      (1): ReLU()\n",
      "      (2): Linear(in_features=200, out_features=200, bias=True)\n",
      "      (3): ReLU()\n",
      "      (4): Linear(in_features=200, out_features=20, bias=True)\n",
      "    )\n",
      "  )\n",
      "  (decoder_modules): ModuleDict(\n",
      "    (PhiD): Sequential(\n",
      "      (0): Linear(in_features=20, out_features=200, bias=True)\n",
      "      (1): ReLU()\n",
      "      (2): Linear(in_features=200, out_features=200, bias=True)\n",
      "      (3): ReLU()\n",
      "      (4): Linear(in_features=200, out_features=700, bias=True)\n",
      "    )\n",
      "  )\n",
      ")\n",
      "\n",
      "Trainable parameters: 339520\n"
     ]
    }
   ],
   "source": [
    "Latent_dimension = 20\n",
    "Hidden_dimension = 200\n",
    "\n",
    "model = AEDenseNet(\n",
    "                   N_part=dataset.inputs.shape[1],\n",
    "                   N_features=dataset.inputs.shape[2],\n",
    "                   dim_hidden=Hidden_dimension,\n",
    "                   dim_latent=Latent_dimension\n",
    "                  )\n",
    "\n",
    "print(model)\n",
    "trainablePars = sum(p.numel() for p in model.parameters() if p.requires_grad)\n",
    "print('\\nTrainable parameters:', trainablePars)\n",
    "\n",
    "# model.initWeights()"
   ]
  },
  {
   "cell_type": "code",
   "execution_count": 13,
   "metadata": {
    "ExecuteTime": {
     "end_time": "2019-07-17T09:59:29.673952Z",
     "start_time": "2019-07-17T09:59:25.403024Z"
    },
    "scrolled": true
   },
   "outputs": [
    {
     "name": "stdout",
     "output_type": "stream",
     "text": [
      "Current device: 0 (8 available)\n",
      "\u001b[1m\u001b[37mimperium-sm.hep.caltech.edu\u001b[m  Wed Jul 17 02:59:29 2019\n",
      "\u001b[36m[0]\u001b[m \u001b[34mGeForce GTX 1080\u001b[m |\u001b[31m 21'C\u001b[m, \u001b[32m  0 %\u001b[m | \u001b[36m\u001b[1m\u001b[33m   11\u001b[m / \u001b[33m 8119\u001b[m MB |\n",
      "\u001b[36m[1]\u001b[m \u001b[34mGeForce GTX 1080\u001b[m |\u001b[31m 35'C\u001b[m, \u001b[32m  4 %\u001b[m | \u001b[36m\u001b[1m\u001b[33m  468\u001b[m / \u001b[33m 8119\u001b[m MB | \u001b[1m\u001b[30mocerri\u001b[m(\u001b[33m457M\u001b[m)\n",
      "\u001b[36m[2]\u001b[m \u001b[34mGeForce GTX 1080\u001b[m |\u001b[31m 25'C\u001b[m, \u001b[32m  0 %\u001b[m | \u001b[36m\u001b[1m\u001b[33m   10\u001b[m / \u001b[33m 8119\u001b[m MB |\n",
      "\u001b[36m[3]\u001b[m \u001b[34mGeForce GTX 1080\u001b[m |\u001b[1m\u001b[31m 70'C\u001b[m, \u001b[1m\u001b[32m 95 %\u001b[m | \u001b[36m\u001b[1m\u001b[33m 1782\u001b[m / \u001b[33m 8119\u001b[m MB | \u001b[1m\u001b[30m3041\u001b[m(\u001b[33m1771M\u001b[m)\n",
      "\u001b[36m[4]\u001b[m \u001b[34mGeForce GTX 1080\u001b[m |\u001b[31m 25'C\u001b[m, \u001b[32m  0 %\u001b[m | \u001b[36m\u001b[1m\u001b[33m   11\u001b[m / \u001b[33m 8119\u001b[m MB |\n",
      "\u001b[36m[5]\u001b[m \u001b[34mGeForce GTX 1080\u001b[m |\u001b[31m 23'C\u001b[m, \u001b[32m  0 %\u001b[m | \u001b[36m\u001b[1m\u001b[33m   11\u001b[m / \u001b[33m 8119\u001b[m MB |\n",
      "\u001b[36m[6]\u001b[m \u001b[34mGeForce GTX 1080\u001b[m |\u001b[31m 22'C\u001b[m, \u001b[32m  0 %\u001b[m | \u001b[36m\u001b[1m\u001b[33m   11\u001b[m / \u001b[33m 8119\u001b[m MB |\n",
      "\u001b[36m[7]\u001b[m \u001b[34mGeForce GTX 1080\u001b[m |\u001b[31m 25'C\u001b[m, \u001b[32m  0 %\u001b[m | \u001b[36m\u001b[1m\u001b[33m   11\u001b[m / \u001b[33m 8119\u001b[m MB |\n"
     ]
    }
   ],
   "source": [
    "model.useGPU(1)"
   ]
  },
  {
   "cell_type": "markdown",
   "metadata": {},
   "source": [
    "## Loss"
   ]
  },
  {
   "cell_type": "code",
   "execution_count": 14,
   "metadata": {
    "ExecuteTime": {
     "end_time": "2019-07-17T09:59:29.683138Z",
     "start_time": "2019-07-17T09:59:29.675480Z"
    },
    "code_folding": []
   },
   "outputs": [],
   "source": [
    "def criterion(x_in, x_out, reduction='mean'):\n",
    "    # Gaussian\n",
    "    sigma = x_out[:,:,3:6]\n",
    "    sigma[:,:,0] *= 10\n",
    "    NLL_gauss = 0.5*torch.pow((x_in[:,:,:3] - x_out[:,:,:3])/ sigma, 2) + torch.log(sigma)\n",
    "    \n",
    "    #Cat cross entropy charge-pId\n",
    "    log_p = torch.log(x_out[:,:,6:]).view(-1, 8)\n",
    "    true_cat = torch.argmax(x_in[:,:,3:], dim=2)\n",
    "    NLL_cat = F.nll_loss(log_p, true_cat.view(-1).long(), reduction='none').view(-1, x_in.shape[1], 1)\n",
    "    \n",
    "    NLL_tot = torch.cat((NLL_gauss, NLL_cat), 2)\n",
    "    NLL_perEvent = torch.mean(NLL_tot, dim=1)\n",
    "    \n",
    "    if reduction == 'mean':\n",
    "        NLL_mean = torch.mean(NLL_perEvent, dim=0)\n",
    "        return torch.sum(NLL_mean), NLL_mean.cpu().detach().numpy()\n",
    "    elif reduction == 'none':\n",
    "        return torch.sum(NLL_perEvent, dim=1)\n",
    "    else:\n",
    "        raise"
   ]
  },
  {
   "cell_type": "markdown",
   "metadata": {},
   "source": [
    "## Training"
   ]
  },
  {
   "cell_type": "code",
   "execution_count": 15,
   "metadata": {
    "ExecuteTime": {
     "end_time": "2019-07-17T09:59:29.694745Z",
     "start_time": "2019-07-17T09:59:29.684687Z"
    },
    "code_folding": [
     0,
     7
    ]
   },
   "outputs": [],
   "source": [
    "training_params = {'batch_size': 1000,\n",
    "                   'shuffle': True,\n",
    "                   'num_workers': 3\n",
    "                  }\n",
    "\n",
    "max_epochs = 1000\n",
    "\n",
    "eval_params = {'batch_size': 50000,\n",
    "               'num_workers': 3\n",
    "              }"
   ]
  },
  {
   "cell_type": "code",
   "execution_count": 16,
   "metadata": {
    "ExecuteTime": {
     "end_time": "2019-07-17T09:59:29.698620Z",
     "start_time": "2019-07-17T09:59:29.696388Z"
    }
   },
   "outputs": [],
   "source": [
    "torch.autograd.set_detect_anomaly(True);"
   ]
  },
  {
   "cell_type": "code",
   "execution_count": 17,
   "metadata": {
    "ExecuteTime": {
     "end_time": "2019-07-17T09:59:29.703958Z",
     "start_time": "2019-07-17T09:59:29.700158Z"
    },
    "code_folding": [
     3
    ]
   },
   "outputs": [],
   "source": [
    "optimizer = torch.optim.Adam(model.parameters(), lr=1e-3)\n",
    "\n",
    "from torch.optim.lr_scheduler import ReduceLROnPlateau\n",
    "scheduler = ReduceLROnPlateau(optimizer, \n",
    "                              mode='min',\n",
    "                              factor=0.3,\n",
    "                              patience=3,\n",
    "                              verbose=1,\n",
    "                              threshold=1e-4,\n",
    "                              cooldown=2,\n",
    "                              min_lr=1e-7\n",
    "                             )\n",
    "\n",
    "# Early stopping\n",
    "earlyStopping = EarlyStopping(patient=10)"
   ]
  },
  {
   "cell_type": "code",
   "execution_count": 18,
   "metadata": {
    "ExecuteTime": {
     "end_time": "2019-07-17T11:40:02.275449Z",
     "start_time": "2019-07-17T09:59:29.705557Z"
    },
    "code_folding": [
     143
    ],
    "scrolled": true
   },
   "outputs": [
    {
     "name": "stdout",
     "output_type": "stream",
     "text": [
      "Epoch 0: [####################]  100% - Tot. time: 55.0 s           \n",
      "Loss: 1.27e+00\n",
      "Val Loss: 1.27e+00 Pt:-2.52 - Eta:1.46 - Phi:1.07 - Cat:1.25\n",
      "\n",
      "------------ Anomaly Detection monitor ------------\n",
      "SM Mix: [####################]  100% - Tot. time: 5.7 s\n",
      "Ato4l: [#]  100% - Tot. time: 0.0 s\n",
      "leptoquark: [######]  100% - Tot. time: 1.0 s\n",
      "hToTauTau: [##############]  100% - Tot. time: 3.4 s\n",
      "hChToTauNu: [#######]  100% - Tot. time: 1.2 s\n",
      "+------------+----------+----------+----------+\n",
      "|   SM Mix   | 1.00e-05 | 1.00e-04 | 1.00e-03 |\n",
      "+------------+----------+----------+----------+\n",
      "|   Ato4l    | 0.00e+00 | 1.26e-04 | 1.76e-02 |\n",
      "| leptoquark | 3.29e-05 | 4.42e-04 | 1.87e-02 |\n",
      "| hToTauTau  | 2.03e-04 | 2.30e-03 | 4.42e-02 |\n",
      "| hChToTauNu | 2.98e-04 | 3.83e-03 | 6.20e-02 |\n",
      "+------------+----------+----------+----------+\n",
      "---------------------------------------------------\n",
      "\n",
      "\n",
      "Epoch 1: [####################]  100% - Tot. time: 54.4 s                        \n",
      "Loss: 2.82e-01 - Delta: -9.83e-01\n",
      "Val Loss: 2.82e-01 Pt:-3.48 - Eta:1.46 - Phi:1.06 - Cat:1.25\n",
      "\n",
      "Epoch 2: [####################]  100% - Tot. time: 55.6 s                        \n",
      "Loss: -2.53e-01 - Delta: -5.35e-01 - Trend: 4.48e-01\n",
      "Val Loss: -2.52e-01 Pt:-3.96 - Eta:1.46 - Phi:1.00 - Cat:1.25\n",
      "\n",
      "Epoch 3: [####################]  100% - Tot. time: 55.0 s                        \n",
      "Loss: -2.63e-01 - Delta: -9.41e-03 - Trend: 5.26e-01\n",
      "Val Loss: -2.62e-01 Pt:-4.00 - Eta:1.46 - Phi:1.03 - Cat:1.25\n",
      "\n",
      "Epoch 4: [####################]  100% - Tot. time: 55.8 s                        \n",
      "Loss: -3.38e-01 - Delta: -7.48e-02 - Trend: -6.54e-02\n",
      "Val Loss: -3.37e-01 Pt:-4.06 - Eta:1.46 - Phi:1.02 - Cat:1.25\n",
      "\n",
      "Epoch 5: [####################]  100% - Tot. time: 54.4 s                        \n",
      "Loss: -3.20e-01 - Delta: 1.75e-02 - Trend: 9.23e-02\n",
      "Val Loss: -3.20e-01 Pt:-4.02 - Eta:1.46 - Phi:1.00 - Cat:1.25\n",
      "\n",
      "Epoch 6: [####################]  100% - Tot. time: 56.4 s                        \n",
      "Loss: -5.21e-01 - Delta: -2.01e-01 - Trend: -2.18e-01\n",
      "Val Loss: -5.21e-01 Pt:-4.21 - Eta:1.46 - Phi:0.98 - Cat:1.25\n",
      "\n",
      "Epoch 7: [####################]  100% - Tot. time: 60.4 s                        \n",
      "Loss: 3.08e-01 - Delta: 8.29e-01 - Trend: 1.03e+00\n",
      "Val Loss: 3.09e-01 Pt:-3.44 - Eta:1.46 - Phi:1.04 - Cat:1.25\n",
      "\n",
      "Epoch 8: [####################]  100% - Tot. time: 56.6 s                        \n",
      "Loss: -5.49e-01 - Delta: -8.56e-01 - Trend: -1.68e+00\n",
      "Val Loss: -5.48e-01 Pt:-4.24 - Eta:1.46 - Phi:0.98 - Cat:1.25\n",
      "\n",
      "Epoch 9: [####################]  100% - Tot. time: 56.4 s                        \n",
      "Loss: -1.17e-01 - Delta: 4.32e-01 - Trend: 1.29e+00\n",
      "Val Loss: -1.17e-01 Pt:-3.85 - Eta:1.46 - Phi:1.03 - Cat:1.25\n",
      "\n",
      "Epoch 10: [####################]  100% - Tot. time: 56.1 s                        \n",
      "Loss: -3.99e-01 - Delta: -2.82e-01 - Trend: -7.14e-01\n",
      "Val Loss: -3.99e-01 Pt:-4.10 - Eta:1.46 - Phi:1.00 - Cat:1.25\n",
      "\n",
      "------------ Anomaly Detection monitor ------------\n",
      "SM Mix: [####################]  100% - Tot. time: 5.7 s\n",
      "Ato4l: [#]  100% - Tot. time: 0.0 s\n",
      "leptoquark: [######]  100% - Tot. time: 0.9 s\n",
      "hToTauTau: [##############]  100% - Tot. time: 3.6 s\n",
      "hChToTauNu: [#######]  100% - Tot. time: 1.3 s\n",
      "+------------+----------+----------+----------+\n",
      "|   SM Mix   | 1.00e-05 | 1.00e-04 | 1.00e-03 |\n",
      "+------------+----------+----------+----------+\n",
      "|   Ato4l    | 8.38e-05 | 1.74e-03 | 3.14e-02 |\n",
      "| leptoquark | 1.83e-05 | 1.03e-03 | 1.97e-02 |\n",
      "| hToTauTau  | 2.38e-04 | 4.78e-03 | 4.81e-02 |\n",
      "| hChToTauNu | 4.60e-04 | 8.04e-03 | 6.45e-02 |\n",
      "+------------+----------+----------+----------+\n",
      "---------------------------------------------------\n",
      "\n",
      "\n",
      "Epoch 12: [####################]  100% - Tot. time: 56.4 s                        \n",
      "Loss: -7.04e-01 - Delta: 1.33e-03 - Trend: 3.07e-01\n",
      "Val Loss: -7.03e-01 Pt:-4.38 - Eta:1.46 - Phi:0.98 - Cat:1.25\n",
      "\n",
      "Epoch 13: [####################]  100% - Tot. time: 56.0 s                        \n",
      "Loss: -5.88e-01 - Delta: 1.16e-01 - Trend: 1.14e-01\n",
      "Val Loss: -5.87e-01 Pt:-4.27 - Eta:1.46 - Phi:0.98 - Cat:1.25\n",
      "\n",
      "Epoch 14: [####################]  100% - Tot. time: 56.6 s                        \n",
      "Loss: -4.08e-01 - Delta: 1.80e-01 - Trend: 6.43e-02\n",
      "Val Loss: -4.07e-01 Pt:-4.09 - Eta:1.46 - Phi:0.98 - Cat:1.25\n",
      "\n",
      "Epoch 15: [####################]  100% - Tot. time: 56.5 s                        \n",
      "Loss: -7.70e-01 - Delta: -3.62e-01 - Trend: -5.42e-01\n",
      "Val Loss: -7.70e-01 Pt:-4.47 - Eta:1.46 - Phi:1.00 - Cat:1.25\n",
      "\n",
      "Epoch 16: [####################]  100% - Tot. time: 56.7 s                        \n",
      "Loss: -7.26e-01 - Delta: 4.40e-02 - Trend: 4.06e-01\n",
      "Val Loss: -7.25e-01 Pt:-4.40 - Eta:1.46 - Phi:0.97 - Cat:1.25\n",
      "\n",
      "Epoch 17: [####################]  100% - Tot. time: 57.0 s                        \n",
      "Loss: -6.36e-01 - Delta: 9.03e-02 - Trend: 4.63e-02\n",
      "Val Loss: -6.35e-01 Pt:-4.34 - Eta:1.45 - Phi:1.00 - Cat:1.25\n",
      "\n",
      "Epoch 18: [####################]  100% - Tot. time: 55.7 s                        \n",
      "Loss: -7.82e-01 - Delta: -1.46e-01 - Trend: -2.37e-01\n",
      "Val Loss: -7.81e-01 Pt:-4.46 - Eta:1.45 - Phi:0.98 - Cat:1.25\n",
      "\n",
      "Epoch 19: [####################]  100% - Tot. time: 56.9 s                        \n",
      "Loss: -7.31e-01 - Delta: 5.05e-02 - Trend: 1.97e-01\n",
      "Val Loss: -7.31e-01 Pt:-4.41 - Eta:1.45 - Phi:0.98 - Cat:1.25\n",
      "\n",
      "Epoch 20: [####################]  100% - Tot. time: 56.5 s                        \n",
      "Loss: -7.31e-01 - Delta: 4.69e-04 - Trend: -5.01e-02\n",
      "Val Loss: -7.30e-01 Pt:-4.42 - Eta:1.45 - Phi:0.99 - Cat:1.25\n",
      "\n",
      "------------ Anomaly Detection monitor ------------\n",
      "SM Mix: [####################]  100% - Tot. time: 6.0 s\n",
      "Ato4l: [#]  100% - Tot. time: 0.0 s\n",
      "leptoquark: [######]  100% - Tot. time: 0.9 s\n",
      "hToTauTau: [##############]  100% - Tot. time: 4.0 s\n",
      "hChToTauNu: [#######]  100% - Tot. time: 1.3 s\n",
      "+------------+----------+----------+----------+\n",
      "|   SM Mix   | 1.00e-05 | 1.00e-04 | 1.00e-03 |\n",
      "+------------+----------+----------+----------+\n",
      "|   Ato4l    | 2.10e-05 | 1.89e-03 | 3.42e-02 |\n",
      "| leptoquark | 2.92e-05 | 1.14e-03 | 2.14e-02 |\n",
      "| hToTauTau  | 2.93e-04 | 5.18e-03 | 5.09e-02 |\n",
      "| hChToTauNu | 5.28e-04 | 8.62e-03 | 6.80e-02 |\n",
      "+------------+----------+----------+----------+\n",
      "---------------------------------------------------\n",
      "\n",
      "\n",
      "Epoch 21: [####################]  100% - Tot. time: 56.4 s                        \n",
      "Loss: -8.12e-01 - Delta: -8.11e-02 - Trend: -8.16e-02\n",
      "Val Loss: -8.11e-01 Pt:-4.47 - Eta:1.43 - Phi:0.98 - Cat:1.25\n",
      "\n",
      "Epoch 22: [####################]  100% - Tot. time: 55.8 s                        \n",
      "Loss: -8.19e-01 - Delta: -7.21e-03 - Trend: 7.39e-02\n",
      "Val Loss: -8.17e-01 Pt:-4.47 - Eta:1.43 - Phi:0.98 - Cat:1.25\n",
      "\n",
      "Epoch 23: [####################]  100% - Tot. time: 55.9 s                        \n",
      "Loss: -8.49e-01 - Delta: -3.00e-02 - Trend: -2.28e-02\n",
      "Val Loss: -8.47e-01 Pt:-4.51 - Eta:1.43 - Phi:0.98 - Cat:1.25\n",
      "\n",
      "Epoch 24: [####################]  100% - Tot. time: 56.1 s                        \n",
      "Loss: -8.24e-01 - Delta: 2.54e-02 - Trend: 5.55e-02\n",
      "Val Loss: -8.22e-01 Pt:-4.49 - Eta:1.43 - Phi:0.99 - Cat:1.25\n",
      "\n",
      "Epoch 25: [####################]  100% - Tot. time: 56.3 s                        \n",
      "Loss: -8.76e-01 - Delta: -5.18e-02 - Trend: -7.73e-02\n",
      "Val Loss: -8.74e-01 Pt:-4.53 - Eta:1.43 - Phi:0.98 - Cat:1.25\n",
      "\n",
      "Epoch 26: [####################]  100% - Tot. time: 56.4 s                        \n",
      "Loss: -7.87e-01 - Delta: 8.82e-02 - Trend: 1.40e-01\n",
      "Val Loss: -7.87e-01 Pt:-4.44 - Eta:1.43 - Phi:0.98 - Cat:1.25\n",
      "\n",
      "Epoch 27: [####################]  100% - Tot. time: 56.6 s                        \n",
      "Loss: -9.31e-01 - Delta: -1.19e-01 - Trend: -9.54e-02\n",
      "Val Loss: -9.29e-01 Pt:-4.58 - Eta:1.43 - Phi:0.98 - Cat:1.25\n",
      "\n",
      "Epoch 29: [####################]  100% - Tot. time: 56.1 s                        \n",
      "Loss: -8.92e-01 - Delta: 3.82e-02 - Trend: 1.58e-01\n",
      "Val Loss: -8.91e-01 Pt:-4.54 - Eta:1.43 - Phi:0.97 - Cat:1.25\n",
      "\n",
      "Epoch 30: [####################]  100% - Tot. time: 56.5 s                        \n",
      "Loss: -8.75e-01 - Delta: 1.74e-02 - Trend: -2.09e-02\n",
      "Val Loss: -8.71e-01 Pt:-4.52 - Eta:1.43 - Phi:0.97 - Cat:1.24\n",
      "\n",
      "------------ Anomaly Detection monitor ------------\n",
      "SM Mix: [####################]  100% - Tot. time: 6.2 s\n",
      "Ato4l: [#]  100% - Tot. time: 0.0 s\n",
      "leptoquark: [######]  100% - Tot. time: 1.2 s\n",
      "hToTauTau: [##############]  100% - Tot. time: 4.4 s\n",
      "hChToTauNu: [#######]  100% - Tot. time: 1.7 s\n",
      "+------------+----------+----------+----------+\n",
      "|   SM Mix   | 1.00e-05 | 1.00e-04 | 1.00e-03 |\n",
      "+------------+----------+----------+----------+\n",
      "|   Ato4l    | 8.38e-05 | 2.26e-03 | 3.06e-02 |\n",
      "| leptoquark | 4.75e-05 | 1.29e-03 | 1.98e-02 |\n",
      "| hToTauTau  | 3.05e-04 | 6.01e-03 | 4.84e-02 |\n",
      "| hChToTauNu | 5.40e-04 | 9.89e-03 | 6.53e-02 |\n",
      "+------------+----------+----------+----------+\n",
      "---------------------------------------------------\n",
      "\n",
      "\n"
     ]
    },
    {
     "name": "stdout",
     "output_type": "stream",
     "text": [
      "Epoch 31: [####################]  100% - Tot. time: 55.7 s                        \n",
      "Loss: -9.88e-01 - Delta: -1.13e-01 - Trend: -1.31e-01\n",
      "Val Loss: -9.87e-01 Pt:-4.63 - Eta:1.43 - Phi:0.97 - Cat:1.24\n",
      "\n",
      "Epoch 32: [####################]  100% - Tot. time: 55.2 s                        \n",
      "Loss: -9.50e-01 - Delta: 3.84e-02 - Trend: 1.52e-01\n",
      "Val Loss: -9.49e-01 Pt:-4.59 - Eta:1.43 - Phi:0.97 - Cat:1.25\n",
      "\n",
      "Epoch 33: [####################]  100% - Tot. time: 55.6 s                        \n",
      "Loss: -9.81e-01 - Delta: -3.17e-02 - Trend: -7.01e-02\n",
      "Val Loss: -9.81e-01 Pt:-4.63 - Eta:1.43 - Phi:0.98 - Cat:1.24\n",
      "\n",
      "Epoch 34: [####################]  100% - Tot. time: 55.0 s                        \n",
      "Loss: -9.72e-01 - Delta: 9.79e-03 - Trend: 4.15e-02\n",
      "Val Loss: -9.71e-01 Pt:-4.61 - Eta:1.43 - Phi:0.97 - Cat:1.24\n",
      "\n",
      "Epoch 35: [####################]  100% - Tot. time: 54.8 s                        \n",
      "Loss: -9.18e-01 - Delta: 5.38e-02 - Trend: 4.41e-02\n",
      "Val Loss: -9.16e-01 Pt:-4.56 - Eta:1.40 - Phi:1.00 - Cat:1.24\n",
      "\n",
      "Epoch    35: reducing learning rate of group 0 to 3.0000e-04.\n",
      "Epoch 36: [####################]  100% - Tot. time: 55.0 s                        \n",
      "Loss: -1.04e+00 - Delta: -1.18e-01 - Trend: -1.72e-01\n",
      "Val Loss: -1.03e+00 Pt:-4.66 - Eta:1.38 - Phi:1.00 - Cat:1.24\n",
      "\n",
      "Epoch 37: [####################]  100% - Tot. time: 54.8 s                        \n",
      "Loss: -1.12e+00 - Delta: -8.04e-02 - Trend: 3.74e-02\n",
      "Val Loss: -1.11e+00 Pt:-4.71 - Eta:1.39 - Phi:0.95 - Cat:1.24\n",
      "\n",
      "Epoch 38: [####################]  100% - Tot. time: 55.0 s                        \n",
      "Loss: -1.13e+00 - Delta: -1.85e-02 - Trend: 6.19e-02\n",
      "Val Loss: -1.13e+00 Pt:-4.71 - Eta:1.38 - Phi:0.96 - Cat:1.24\n",
      "\n",
      "Epoch 39: [####################]  100% - Tot. time: 54.9 s                        \n",
      "Loss: -1.15e+00 - Delta: -1.45e-02 - Trend: 4.01e-03\n",
      "Val Loss: -1.15e+00 Pt:-4.72 - Eta:1.37 - Phi:0.95 - Cat:1.24\n",
      "\n",
      "Epoch 40: [####################]  100% - Tot. time: 54.8 s                        \n",
      "Loss: -1.13e+00 - Delta: 1.79e-02 - Trend: 3.24e-02\n",
      "Val Loss: -1.13e+00 Pt:-4.69 - Eta:1.37 - Phi:0.95 - Cat:1.24\n",
      "\n",
      "------------ Anomaly Detection monitor ------------\n",
      "SM Mix: [####################]  100% - Tot. time: 5.6 s\n",
      "Ato4l: [#]  100% - Tot. time: 0.0 s\n",
      "leptoquark: [######]  100% - Tot. time: 0.8 s\n",
      "hToTauTau: [##############]  100% - Tot. time: 3.4 s\n",
      "hChToTauNu: [#######]  100% - Tot. time: 1.2 s\n",
      "+------------+----------+----------+----------+\n",
      "|   SM Mix   | 1.00e-05 | 1.00e-04 | 1.00e-03 |\n",
      "+------------+----------+----------+----------+\n",
      "|   Ato4l    | 4.61e-04 | 2.33e-03 | 2.58e-02 |\n",
      "| leptoquark | 1.24e-04 | 1.16e-03 | 1.86e-02 |\n",
      "| hToTauTau  | 4.51e-04 | 5.10e-03 | 4.55e-02 |\n",
      "| hChToTauNu | 8.14e-04 | 8.32e-03 | 6.22e-02 |\n",
      "+------------+----------+----------+----------+\n",
      "---------------------------------------------------\n",
      "\n",
      "\n",
      "Epoch 41: [####################]  100% - Tot. time: 55.1 s                        \n",
      "Loss: -1.14e+00 - Delta: -9.09e-03 - Trend: -2.70e-02\n",
      "Val Loss: -1.13e+00 Pt:-4.72 - Eta:1.39 - Phi:0.95 - Cat:1.24\n",
      "\n",
      "Epoch 42: [####################]  100% - Tot. time: 54.4 s                        \n",
      "Loss: -1.18e+00 - Delta: -3.93e-02 - Trend: -3.02e-02\n",
      "Val Loss: -1.17e+00 Pt:-4.73 - Eta:1.37 - Phi:0.94 - Cat:1.24\n",
      "\n",
      "Epoch 43: [####################]  100% - Tot. time: 54.5 s                        \n",
      "Loss: -1.18e+00 - Delta: 1.43e-03 - Trend: 4.07e-02\n",
      "Val Loss: -1.18e+00 Pt:-4.73 - Eta:1.36 - Phi:0.95 - Cat:1.24\n",
      "\n",
      "Epoch 44: [####################]  100% - Tot. time: 54.7 s                        \n",
      "Loss: -1.17e+00 - Delta: 1.01e-02 - Trend: 8.66e-03\n",
      "Val Loss: -1.16e+00 Pt:-4.72 - Eta:1.37 - Phi:0.95 - Cat:1.24\n",
      "\n",
      "Epoch 45: [####################]  100% - Tot. time: 55.1 s                        \n",
      "Loss: -1.18e+00 - Delta: -7.73e-03 - Trend: -1.78e-02\n",
      "Val Loss: -1.16e+00 Pt:-4.72 - Eta:1.36 - Phi:0.95 - Cat:1.24\n",
      "\n",
      "Epoch 46: [####################]  100% - Tot. time: 55.2 s                        \n",
      "Loss: -1.09e+00 - Delta: 8.17e-02 - Trend: 8.94e-02\n",
      "Val Loss: -1.07e+00 Pt:-4.62 - Eta:1.37 - Phi:0.95 - Cat:1.24\n",
      "\n",
      "Epoch    46: reducing learning rate of group 0 to 9.0000e-05.\n",
      "Epoch 47: [####################]  100% - Tot. time: 54.2 s                        \n",
      "Loss: -1.18e+00 - Delta: -8.79e-02 - Trend: -1.70e-01\n",
      "Val Loss: -1.04e+00 Pt:-4.61 - Eta:1.35 - Phi:0.96 - Cat:1.24\n",
      "\n",
      "Epoch 48: [####################]  100% - Tot. time: 54.5 s                        \n",
      "Loss: -1.24e+00 - Delta: -6.03e-02 - Trend: 2.76e-02\n",
      "Val Loss: -9.88e-01 Pt:-4.51 - Eta:1.35 - Phi:0.93 - Cat:1.24\n",
      "\n",
      "Epoch 49: [####################]  100% - Tot. time: 54.9 s                        \n",
      "Loss: -1.24e+00 - Delta: -1.21e-03 - Trend: 5.91e-02\n",
      "Val Loss: -1.12e+00 Pt:-4.64 - Eta:1.35 - Phi:0.93 - Cat:1.24\n",
      "\n",
      "Epoch 50: [####################]  100% - Tot. time: 55.6 s                        \n",
      "Loss: -1.21e+00 - Delta: 2.96e-02 - Trend: 3.08e-02\n",
      "Val Loss: -1.15e+00 Pt:-4.68 - Eta:1.36 - Phi:0.93 - Cat:1.24\n",
      "\n",
      "------------ Anomaly Detection monitor ------------\n",
      "SM Mix: [####################]  100% - Tot. time: 5.8 s\n",
      "Ato4l: [#]  100% - Tot. time: 0.0 s\n",
      "leptoquark: [######]  100% - Tot. time: 0.9 s\n",
      "hToTauTau: [##############]  100% - Tot. time: 3.3 s\n",
      "hChToTauNu: [#######]  100% - Tot. time: 1.2 s\n",
      "+------------+----------+----------+----------+\n",
      "|   SM Mix   | 1.00e-05 | 1.00e-04 | 1.00e-03 |\n",
      "+------------+----------+----------+----------+\n",
      "|   Ato4l    | 1.89e-04 | 1.95e-03 | 2.42e-02 |\n",
      "| leptoquark | 1.17e-04 | 7.49e-04 | 1.84e-02 |\n",
      "| hToTauTau  | 5.13e-04 | 3.61e-03 | 4.50e-02 |\n",
      "| hChToTauNu | 8.52e-04 | 5.91e-03 | 6.19e-02 |\n",
      "+------------+----------+----------+----------+\n",
      "---------------------------------------------------\n",
      "\n",
      "\n",
      "Epoch 51: [####################]  100% - Tot. time: 55.4 s                        \n",
      "Loss: -1.24e+00 - Delta: -2.94e-02 - Trend: -5.89e-02\n",
      "Val Loss: -1.05e+00 Pt:-4.58 - Eta:1.35 - Phi:0.93 - Cat:1.24\n",
      "\n",
      "Epoch 52: [####################]  100% - Tot. time: 54.7 s                        \n",
      "Loss: -1.27e+00 - Delta: -2.63e-02 - Trend: 3.09e-03\n",
      "Val Loss: -1.23e+00 Pt:-4.74 - Eta:1.34 - Phi:0.92 - Cat:1.24\n",
      "\n",
      "Epoch 53: [####################]  100% - Tot. time: 54.9 s                        \n",
      "Loss: -1.27e+00 - Delta: -4.05e-05 - Trend: 2.62e-02\n",
      "Val Loss: -1.19e+00 Pt:-4.70 - Eta:1.35 - Phi:0.92 - Cat:1.24\n",
      "\n",
      "Epoch 54: [####################]  100% - Tot. time: 55.0 s                        \n",
      "Loss: -1.25e+00 - Delta: 2.24e-02 - Trend: 2.25e-02\n",
      "Val Loss: -1.19e+00 Pt:-4.72 - Eta:1.34 - Phi:0.94 - Cat:1.24\n",
      "\n",
      "Epoch 55: [############--------]  60% - ETA:   22 s   Loss: -1.24e+00 (4.80e-03))"
     ]
    },
    {
     "ename": "KeyboardInterrupt",
     "evalue": "",
     "output_type": "error",
     "traceback": [
      "\u001b[0;31m---------------------------------------------------------------------------\u001b[0m",
      "\u001b[0;31mKeyboardInterrupt\u001b[0m                         Traceback (most recent call last)",
      "\u001b[0;32m<ipython-input-18-1e8a63ab22c9>\u001b[0m in \u001b[0;36m<module>\u001b[0;34m\u001b[0m\n\u001b[1;32m     20\u001b[0m \u001b[0;34m\u001b[0m\u001b[0m\n\u001b[1;32m     21\u001b[0m             \u001b[0mx_prime\u001b[0m \u001b[0;34m=\u001b[0m \u001b[0mmodel\u001b[0m\u001b[0;34m(\u001b[0m\u001b[0mlocal_x\u001b[0m\u001b[0;34m)\u001b[0m\u001b[0;34m\u001b[0m\u001b[0;34m\u001b[0m\u001b[0m\n\u001b[0;32m---> 22\u001b[0;31m             \u001b[0mloss\u001b[0m\u001b[0;34m,\u001b[0m \u001b[0m_\u001b[0m \u001b[0;34m=\u001b[0m \u001b[0mcriterion\u001b[0m\u001b[0;34m(\u001b[0m\u001b[0mlocal_x\u001b[0m\u001b[0;34m,\u001b[0m \u001b[0mx_prime\u001b[0m\u001b[0;34m)\u001b[0m\u001b[0;34m\u001b[0m\u001b[0;34m\u001b[0m\u001b[0m\n\u001b[0m\u001b[1;32m     23\u001b[0m             \u001b[0;32mif\u001b[0m \u001b[0mnp\u001b[0m\u001b[0;34m.\u001b[0m\u001b[0misnan\u001b[0m\u001b[0;34m(\u001b[0m\u001b[0mloss\u001b[0m\u001b[0;34m.\u001b[0m\u001b[0mitem\u001b[0m\u001b[0;34m(\u001b[0m\u001b[0;34m)\u001b[0m\u001b[0;34m)\u001b[0m \u001b[0;32mor\u001b[0m \u001b[0mnp\u001b[0m\u001b[0;34m.\u001b[0m\u001b[0misinf\u001b[0m\u001b[0;34m(\u001b[0m\u001b[0mloss\u001b[0m\u001b[0;34m.\u001b[0m\u001b[0mitem\u001b[0m\u001b[0;34m(\u001b[0m\u001b[0;34m)\u001b[0m\u001b[0;34m)\u001b[0m\u001b[0;34m:\u001b[0m\u001b[0;34m\u001b[0m\u001b[0;34m\u001b[0m\u001b[0m\n\u001b[1;32m     24\u001b[0m                 \u001b[0mprint\u001b[0m\u001b[0;34m(\u001b[0m\u001b[0;34m'Invalid training loss!!!'\u001b[0m\u001b[0;34m)\u001b[0m\u001b[0;34m\u001b[0m\u001b[0;34m\u001b[0m\u001b[0m\n",
      "\u001b[0;32m<ipython-input-14-551582bfb774>\u001b[0m in \u001b[0;36mcriterion\u001b[0;34m(x_in, x_out, reduction)\u001b[0m\n\u001b[1;32m      2\u001b[0m     \u001b[0;31m# Gaussian\u001b[0m\u001b[0;34m\u001b[0m\u001b[0;34m\u001b[0m\u001b[0;34m\u001b[0m\u001b[0m\n\u001b[1;32m      3\u001b[0m     \u001b[0msigma\u001b[0m \u001b[0;34m=\u001b[0m \u001b[0mx_out\u001b[0m\u001b[0;34m[\u001b[0m\u001b[0;34m:\u001b[0m\u001b[0;34m,\u001b[0m\u001b[0;34m:\u001b[0m\u001b[0;34m,\u001b[0m\u001b[0;36m3\u001b[0m\u001b[0;34m:\u001b[0m\u001b[0;36m6\u001b[0m\u001b[0;34m]\u001b[0m\u001b[0;34m\u001b[0m\u001b[0;34m\u001b[0m\u001b[0m\n\u001b[0;32m----> 4\u001b[0;31m     \u001b[0msigma\u001b[0m\u001b[0;34m[\u001b[0m\u001b[0;34m:\u001b[0m\u001b[0;34m,\u001b[0m\u001b[0;34m:\u001b[0m\u001b[0;34m,\u001b[0m\u001b[0;36m0\u001b[0m\u001b[0;34m]\u001b[0m \u001b[0;34m*=\u001b[0m \u001b[0;36m10\u001b[0m\u001b[0;34m\u001b[0m\u001b[0;34m\u001b[0m\u001b[0m\n\u001b[0m\u001b[1;32m      5\u001b[0m     \u001b[0mNLL_gauss\u001b[0m \u001b[0;34m=\u001b[0m \u001b[0;36m0.5\u001b[0m\u001b[0;34m*\u001b[0m\u001b[0mtorch\u001b[0m\u001b[0;34m.\u001b[0m\u001b[0mpow\u001b[0m\u001b[0;34m(\u001b[0m\u001b[0;34m(\u001b[0m\u001b[0mx_in\u001b[0m\u001b[0;34m[\u001b[0m\u001b[0;34m:\u001b[0m\u001b[0;34m,\u001b[0m\u001b[0;34m:\u001b[0m\u001b[0;34m,\u001b[0m\u001b[0;34m:\u001b[0m\u001b[0;36m3\u001b[0m\u001b[0;34m]\u001b[0m \u001b[0;34m-\u001b[0m \u001b[0mx_out\u001b[0m\u001b[0;34m[\u001b[0m\u001b[0;34m:\u001b[0m\u001b[0;34m,\u001b[0m\u001b[0;34m:\u001b[0m\u001b[0;34m,\u001b[0m\u001b[0;34m:\u001b[0m\u001b[0;36m3\u001b[0m\u001b[0;34m]\u001b[0m\u001b[0;34m)\u001b[0m\u001b[0;34m/\u001b[0m \u001b[0msigma\u001b[0m\u001b[0;34m,\u001b[0m \u001b[0;36m2\u001b[0m\u001b[0;34m)\u001b[0m \u001b[0;34m+\u001b[0m \u001b[0mtorch\u001b[0m\u001b[0;34m.\u001b[0m\u001b[0mlog\u001b[0m\u001b[0;34m(\u001b[0m\u001b[0msigma\u001b[0m\u001b[0;34m)\u001b[0m\u001b[0;34m\u001b[0m\u001b[0;34m\u001b[0m\u001b[0m\n\u001b[1;32m      6\u001b[0m \u001b[0;34m\u001b[0m\u001b[0m\n",
      "\u001b[0;32m~/miniconda2/envs/PartAN/lib/python3.7/traceback.py\u001b[0m in \u001b[0;36mformat_stack\u001b[0;34m(f, limit)\u001b[0m\n\u001b[1;32m    195\u001b[0m     \u001b[0;32mif\u001b[0m \u001b[0mf\u001b[0m \u001b[0;32mis\u001b[0m \u001b[0;32mNone\u001b[0m\u001b[0;34m:\u001b[0m\u001b[0;34m\u001b[0m\u001b[0;34m\u001b[0m\u001b[0m\n\u001b[1;32m    196\u001b[0m         \u001b[0mf\u001b[0m \u001b[0;34m=\u001b[0m \u001b[0msys\u001b[0m\u001b[0;34m.\u001b[0m\u001b[0m_getframe\u001b[0m\u001b[0;34m(\u001b[0m\u001b[0;34m)\u001b[0m\u001b[0;34m.\u001b[0m\u001b[0mf_back\u001b[0m\u001b[0;34m\u001b[0m\u001b[0;34m\u001b[0m\u001b[0m\n\u001b[0;32m--> 197\u001b[0;31m     \u001b[0;32mreturn\u001b[0m \u001b[0mformat_list\u001b[0m\u001b[0;34m(\u001b[0m\u001b[0mextract_stack\u001b[0m\u001b[0;34m(\u001b[0m\u001b[0mf\u001b[0m\u001b[0;34m,\u001b[0m \u001b[0mlimit\u001b[0m\u001b[0;34m=\u001b[0m\u001b[0mlimit\u001b[0m\u001b[0;34m)\u001b[0m\u001b[0;34m)\u001b[0m\u001b[0;34m\u001b[0m\u001b[0;34m\u001b[0m\u001b[0m\n\u001b[0m\u001b[1;32m    198\u001b[0m \u001b[0;34m\u001b[0m\u001b[0m\n\u001b[1;32m    199\u001b[0m \u001b[0;34m\u001b[0m\u001b[0m\n",
      "\u001b[0;32m~/miniconda2/envs/PartAN/lib/python3.7/traceback.py\u001b[0m in \u001b[0;36mextract_stack\u001b[0;34m(f, limit)\u001b[0m\n\u001b[1;32m    209\u001b[0m     \u001b[0;32mif\u001b[0m \u001b[0mf\u001b[0m \u001b[0;32mis\u001b[0m \u001b[0;32mNone\u001b[0m\u001b[0;34m:\u001b[0m\u001b[0;34m\u001b[0m\u001b[0;34m\u001b[0m\u001b[0m\n\u001b[1;32m    210\u001b[0m         \u001b[0mf\u001b[0m \u001b[0;34m=\u001b[0m \u001b[0msys\u001b[0m\u001b[0;34m.\u001b[0m\u001b[0m_getframe\u001b[0m\u001b[0;34m(\u001b[0m\u001b[0;34m)\u001b[0m\u001b[0;34m.\u001b[0m\u001b[0mf_back\u001b[0m\u001b[0;34m\u001b[0m\u001b[0;34m\u001b[0m\u001b[0m\n\u001b[0;32m--> 211\u001b[0;31m     \u001b[0mstack\u001b[0m \u001b[0;34m=\u001b[0m \u001b[0mStackSummary\u001b[0m\u001b[0;34m.\u001b[0m\u001b[0mextract\u001b[0m\u001b[0;34m(\u001b[0m\u001b[0mwalk_stack\u001b[0m\u001b[0;34m(\u001b[0m\u001b[0mf\u001b[0m\u001b[0;34m)\u001b[0m\u001b[0;34m,\u001b[0m \u001b[0mlimit\u001b[0m\u001b[0;34m=\u001b[0m\u001b[0mlimit\u001b[0m\u001b[0;34m)\u001b[0m\u001b[0;34m\u001b[0m\u001b[0;34m\u001b[0m\u001b[0m\n\u001b[0m\u001b[1;32m    212\u001b[0m     \u001b[0mstack\u001b[0m\u001b[0;34m.\u001b[0m\u001b[0mreverse\u001b[0m\u001b[0;34m(\u001b[0m\u001b[0;34m)\u001b[0m\u001b[0;34m\u001b[0m\u001b[0;34m\u001b[0m\u001b[0m\n\u001b[1;32m    213\u001b[0m     \u001b[0;32mreturn\u001b[0m \u001b[0mstack\u001b[0m\u001b[0;34m\u001b[0m\u001b[0;34m\u001b[0m\u001b[0m\n",
      "\u001b[0;32m~/miniconda2/envs/PartAN/lib/python3.7/traceback.py\u001b[0m in \u001b[0;36mextract\u001b[0;34m(klass, frame_gen, limit, lookup_lines, capture_locals)\u001b[0m\n\u001b[1;32m    357\u001b[0m                 filename, lineno, name, lookup_line=False, locals=f_locals))\n\u001b[1;32m    358\u001b[0m         \u001b[0;32mfor\u001b[0m \u001b[0mfilename\u001b[0m \u001b[0;32min\u001b[0m \u001b[0mfnames\u001b[0m\u001b[0;34m:\u001b[0m\u001b[0;34m\u001b[0m\u001b[0;34m\u001b[0m\u001b[0m\n\u001b[0;32m--> 359\u001b[0;31m             \u001b[0mlinecache\u001b[0m\u001b[0;34m.\u001b[0m\u001b[0mcheckcache\u001b[0m\u001b[0;34m(\u001b[0m\u001b[0mfilename\u001b[0m\u001b[0;34m)\u001b[0m\u001b[0;34m\u001b[0m\u001b[0;34m\u001b[0m\u001b[0m\n\u001b[0m\u001b[1;32m    360\u001b[0m         \u001b[0;31m# If immediate lookup was desired, trigger lookups now.\u001b[0m\u001b[0;34m\u001b[0m\u001b[0;34m\u001b[0m\u001b[0;34m\u001b[0m\u001b[0m\n\u001b[1;32m    361\u001b[0m         \u001b[0;32mif\u001b[0m \u001b[0mlookup_lines\u001b[0m\u001b[0;34m:\u001b[0m\u001b[0;34m\u001b[0m\u001b[0;34m\u001b[0m\u001b[0m\n",
      "\u001b[0;32m~/miniconda2/envs/PartAN/lib/python3.7/site-packages/IPython/core/compilerop.py\u001b[0m in \u001b[0;36mcheck_linecache_ipython\u001b[0;34m(*args)\u001b[0m\n\u001b[1;32m    155\u001b[0m     \"\"\"\n\u001b[1;32m    156\u001b[0m     \u001b[0;31m# First call the original checkcache as intended\u001b[0m\u001b[0;34m\u001b[0m\u001b[0;34m\u001b[0m\u001b[0;34m\u001b[0m\u001b[0m\n\u001b[0;32m--> 157\u001b[0;31m     \u001b[0mlinecache\u001b[0m\u001b[0;34m.\u001b[0m\u001b[0m_checkcache_ori\u001b[0m\u001b[0;34m(\u001b[0m\u001b[0;34m*\u001b[0m\u001b[0margs\u001b[0m\u001b[0;34m)\u001b[0m\u001b[0;34m\u001b[0m\u001b[0;34m\u001b[0m\u001b[0m\n\u001b[0m\u001b[1;32m    158\u001b[0m     \u001b[0;31m# Then, update back the cache with our data, so that tracebacks related\u001b[0m\u001b[0;34m\u001b[0m\u001b[0;34m\u001b[0m\u001b[0;34m\u001b[0m\u001b[0m\n\u001b[1;32m    159\u001b[0m     \u001b[0;31m# to our compiled codes can be produced.\u001b[0m\u001b[0;34m\u001b[0m\u001b[0;34m\u001b[0m\u001b[0;34m\u001b[0m\u001b[0m\n",
      "\u001b[0;32m~/miniconda2/envs/PartAN/lib/python3.7/linecache.py\u001b[0m in \u001b[0;36mcheckcache\u001b[0;34m(filename)\u001b[0m\n\u001b[1;32m     72\u001b[0m             \u001b[0;32mcontinue\u001b[0m   \u001b[0;31m# no-op for files loaded via a __loader__\u001b[0m\u001b[0;34m\u001b[0m\u001b[0;34m\u001b[0m\u001b[0m\n\u001b[1;32m     73\u001b[0m         \u001b[0;32mtry\u001b[0m\u001b[0;34m:\u001b[0m\u001b[0;34m\u001b[0m\u001b[0;34m\u001b[0m\u001b[0m\n\u001b[0;32m---> 74\u001b[0;31m             \u001b[0mstat\u001b[0m \u001b[0;34m=\u001b[0m \u001b[0mos\u001b[0m\u001b[0;34m.\u001b[0m\u001b[0mstat\u001b[0m\u001b[0;34m(\u001b[0m\u001b[0mfullname\u001b[0m\u001b[0;34m)\u001b[0m\u001b[0;34m\u001b[0m\u001b[0;34m\u001b[0m\u001b[0m\n\u001b[0m\u001b[1;32m     75\u001b[0m         \u001b[0;32mexcept\u001b[0m \u001b[0mOSError\u001b[0m\u001b[0;34m:\u001b[0m\u001b[0;34m\u001b[0m\u001b[0;34m\u001b[0m\u001b[0m\n\u001b[1;32m     76\u001b[0m             \u001b[0;32mdel\u001b[0m \u001b[0mcache\u001b[0m\u001b[0;34m[\u001b[0m\u001b[0mfilename\u001b[0m\u001b[0;34m]\u001b[0m\u001b[0;34m\u001b[0m\u001b[0;34m\u001b[0m\u001b[0m\n",
      "\u001b[0;31mKeyboardInterrupt\u001b[0m: "
     ]
    }
   ],
   "source": [
    "train_loss = []\n",
    "BSM_eff = {'ep': []}\n",
    "for n in dataset.BSM_names:\n",
    "    BSM_eff[n] = []\n",
    "\n",
    "loss_history = {'train': [], 'val': [], 'val_feat': []}\n",
    "optimizer.zero_grad()\n",
    "try:\n",
    "    for epoch in range(max_epochs):\n",
    "        batch_loss = []\n",
    "\n",
    "        #### ---- Training ---- ####\n",
    "        model.train()\n",
    "        dataset.charge(dataset.SMMix_train)\n",
    "        train_data_iter = torch.utils.data.DataLoader(dataset, **training_params)\n",
    "        pb = ProgressBar(len(train_data_iter), percentPrecision=5, headLabel='Epoch {}: '.format(epoch))\n",
    "        for local_x, _ in train_data_iter:\n",
    "            if model.onGPU:\n",
    "                local_x = local_x.cuda(model.N_GPU)\n",
    "\n",
    "            x_prime = model(local_x)        \n",
    "            loss, _ = criterion(local_x, x_prime)\n",
    "            if np.isnan(loss.item()) or np.isinf(loss.item()):\n",
    "                print('Invalid training loss!!!')\n",
    "                raise NameError('LossNAN')\n",
    "            batch_loss.append(loss.item())\n",
    "\n",
    "            tail_label = 'Loss: {:2.2e}'.format(loss.item())\n",
    "            if len(loss_history['train']) > 0:\n",
    "                tail_label += ' ({:2.2e})'.format(loss.item() - loss_history['train'][-1][-1])\n",
    "            pb.show(len(batch_loss)-1, tail_label=tail_label)\n",
    "\n",
    "            loss.backward()\n",
    "            optimizer.step()\n",
    "            optimizer.zero_grad()\n",
    "\n",
    "        model.eval()\n",
    "        aux_loss = 0\n",
    "        N_batches = 0\n",
    "        for local_x, _ in train_data_iter:\n",
    "            if model.onGPU:\n",
    "                local_x = local_x.cuda(model.N_GPU)\n",
    "            x_prime = model(local_x)\n",
    "            loss, _ = criterion(local_x, x_prime)\n",
    "            aux_loss += loss.item()\n",
    "            N_batches += 1\n",
    "        batch_loss.append(aux_loss/N_batches)\n",
    "\n",
    "        printout = 'Loss: {:2.2e}'.format(batch_loss[-1])\n",
    "        if len(loss_history['train']) > 0:\n",
    "            printout += ' - Delta: {:2.2e}'.format(batch_loss[-1] - loss_history['train'][-1][-1])\n",
    "        if len(loss_history['train']) > 1:\n",
    "            d2L_de2 = batch_loss[-1] - 2*loss_history['train'][-1][-1] + loss_history['train'][-2][-1]\n",
    "            printout +=' - Trend: {:2.2e}'.format(d2L_de2)\n",
    "        print(printout)\n",
    "\n",
    "        loss_history['train'].append(batch_loss)\n",
    "\n",
    "        #### ---- Validation ---- ####\n",
    "        dataset.charge(dataset.SMMix_val)\n",
    "        val_data_iter = torch.utils.data.DataLoader(dataset, **eval_params)\n",
    "        aux_loss = 0\n",
    "        aux_feat = np.zeros((4))\n",
    "        N_batches = 0\n",
    "        for local_x, _ in val_data_iter:\n",
    "            if model.onGPU:\n",
    "                local_x = local_x.cuda(model.N_GPU)\n",
    "            x_prime = model(local_x)\n",
    "            loss, NLL_feat = criterion(local_x, x_prime)\n",
    "            if np.isnan(loss.item()) or np.isinf(loss.item()):\n",
    "                print('Invalid validation loss!!!')\n",
    "                raise NameError('LossNAN')\n",
    "            aux_loss += loss.item()\n",
    "            aux_feat += NLL_feat\n",
    "            N_batches += 1\n",
    "        loss_history['val'].append(aux_loss/N_batches)\n",
    "        loss_history['val_feat'].append(aux_feat/N_batches)\n",
    "        printout = 'Val Loss: {:2.2e}'.format(loss_history['val'][-1])\n",
    "        printout += ' Pt:{:.2f} - Eta:{:.2f} - Phi:{:.2f} - Cat:{:.2f}'.format(*loss_history['val_feat'][-1])\n",
    "        print(printout)\n",
    "        if epoch > 0:\n",
    "            if loss_history['val'][-1] < np.min(loss_history['val']):\n",
    "                print('[INFO]: Saving best model')\n",
    "                torch.save(model.state_dict(), 'data/model_state_dict_dAE_v'+AEversion+'_best.pkl')\n",
    "\n",
    "        print('')\n",
    "        if not earlyStopping.check(loss_history['val'][-1]):\n",
    "            break\n",
    "\n",
    "        scheduler.step(batch_loss[-1])\n",
    "        \n",
    "        #### ---- Periodic save model ---- ####\n",
    "        if epoch%50 == 0:\n",
    "            torch.save(model.state_dict(), 'data/model_state_dict_dAE_v'+AEversion+'_epoch{}.pkl'.format(epoch))\n",
    "\n",
    "        #### ---- Anomaly Detection monitor ---- ####\n",
    "        if epoch%10 == 0:\n",
    "            print('------------ Anomaly Detection monitor ------------')\n",
    "            BSM_eff['ep'].append(epoch)\n",
    "            dataset.loss['SMMix'] = np.zeros((0))\n",
    "\n",
    "            pb = ProgressBar(len(val_data_iter), percentPrecision=5, headLabel='SM Mix: ')\n",
    "            for i, (local_x, _) in enumerate(val_data_iter):\n",
    "                    pb.show(i)\n",
    "                    if model.onGPU:\n",
    "                        local_x = local_x.cuda(model.N_GPU)\n",
    "\n",
    "                    x_prime = model(local_x)\n",
    "                    loss = criterion(local_x, x_prime, 'none').cpu().detach().numpy()\n",
    "                    dataset.loss['SMMix'] = np.concatenate((dataset.loss['SMMix'], loss))\n",
    "\n",
    "            p_SM = np.logspace(base=10, start=-5, stop=-3, num=3)\n",
    "            if not 'p_SM' in BSM_eff.keys():\n",
    "                BSM_eff['p_SM'] = p_SM\n",
    "            q_SM = np.quantile(dataset.loss['SMMix'], 1-p_SM)\n",
    "\n",
    "            table = PrettyTable(['SM Mix'] + list(map(lambda x: '{:1.2e}'.format(x), p_SM)))\n",
    "\n",
    "            for n in dataset.BSM_names:\n",
    "                dataset.loss[n] = np.zeros((0))\n",
    "\n",
    "                dataset.charge(dataset.valSamples[n])\n",
    "                data_iter = torch.utils.data.DataLoader(dataset, **eval_params)\n",
    "                pb = ProgressBar(len(data_iter), percentPrecision=5, headLabel=n+': ')\n",
    "                for i, (local_x, _) in enumerate(data_iter):\n",
    "                    pb.show(i)\n",
    "                    if model.onGPU:\n",
    "                        local_x = local_x.cuda(model.N_GPU)\n",
    "\n",
    "                    x_prime = model(local_x)\n",
    "                    loss = criterion(local_x, x_prime, 'none').cpu().detach().numpy()\n",
    "                    dataset.loss[n] = np.concatenate((dataset.loss[n], loss))\n",
    "\n",
    "                out = dataset.loss[n] > np.atleast_2d(q_SM).T\n",
    "                p_BSM = np.float64(np.sum(out, axis=1, dtype=np.float128)/dataset.loss[n].shape[0])\n",
    "                BSM_eff[n].append(p_BSM)\n",
    "\n",
    "                table.add_row([n] + list(map(lambda x: '{:1.2e}'.format(x), p_BSM)))\n",
    "            print(table)                \n",
    "            print('---------------------------------------------------\\n\\n')\n",
    "\n",
    "    model.eval()\n",
    "    torch.save(model.state_dict(), 'data/model_state_dict_dAE_v'+AEversion+'.pkl');\n",
    "except NameError:\n",
    "    if epoch > 0:\n",
    "        print ('\\n\\nModel ended up nan. Recovering best model\\n')\n",
    "        model.load_state_dict(torch.load('data/model_state_dict_dAE_v'+AEversion+'_best.pkl'))\n",
    "    else:\n",
    "        raise"
   ]
  },
  {
   "cell_type": "code",
   "execution_count": 20,
   "metadata": {
    "ExecuteTime": {
     "end_time": "2019-07-17T11:40:40.402525Z",
     "start_time": "2019-07-17T11:40:39.579681Z"
    }
   },
   "outputs": [
    {
     "data": {
      "image/png": "[encoded data removed]",
      "text/plain": [
       "<Figure size 864x576 with 1 Axes>"
      ]
     },
     "metadata": {
      "needs_background": "light"
     },
     "output_type": "display_data"
    }
   ],
   "source": [
    "loss_history['train'] = np.array(loss_history['train'])\n",
    "matplotlib.rcParams.update({'font.size': 16})\n",
    "\n",
    "f = plt.figure(figsize=(12,8))\n",
    "\n",
    "train_loss_flat = loss_history['train'].flatten()\n",
    "x = np.arange(1, train_loss_flat.shape[0]+1) * float(loss_history['train'].shape[0])/train_loss_flat.shape[0]\n",
    "plt.plot(x, train_loss_flat, '-', alpha=0.2, color='darkorange')\n",
    "\n",
    "x = np.arange(1, loss_history['train'].shape[0]+1)\n",
    "plt.plot(x, loss_history['train'][:,-1], 'o--', label='Train', color='darkorange')\n",
    "plt.plot(x, loss_history['val'], '*', label='Validatation', color='darkmagenta')\n",
    "\n",
    "lval_feat = np.array(loss_history['val_feat'])\n",
    "plt.plot(x, lval_feat[:,0], '--.', label='NLL $P_T$', color='r')\n",
    "plt.plot(x, lval_feat[:,1], '--.', label='NLL $\\eta$', color='b')\n",
    "plt.plot(x, lval_feat[:,2], '--.', label='NLL $\\phi$', color='b')\n",
    "plt.plot(x, lval_feat[:,3], '--.', label='NLL charge-ID cat', color='k')\n",
    "\n",
    "plt.xlabel('Epoch')\n",
    "plt.grid()\n",
    "plt.legend(loc='best')\n",
    "# plt.yscale('log')\n",
    "plt.ylim(-5, 5)\n",
    "\n",
    "f.savefig('plots/TrainingHistory_dAE_v'+AEversion+'.png')\n",
    "\n",
    "f = open('data/TrainingHistory_dAE_v'+AEversion+'.pkl', 'wb')\n",
    "pickle.dump(loss_history, f)\n",
    "f.close()"
   ]
  },
  {
   "cell_type": "code",
   "execution_count": null,
   "metadata": {
    "ExecuteTime": {
     "end_time": "2019-07-17T11:40:02.282543Z",
     "start_time": "2019-07-17T09:56:30.867Z"
    },
    "code_folding": [
     3
    ]
   },
   "outputs": [],
   "source": [
    "f, ax_arr = plt.subplots(2,2, figsize=(12,12))\n",
    "styles = ['-', '--', ':']\n",
    "x = BSM_eff['ep']\n",
    "for i, n in enumerate(dataset.BSM_names):  \n",
    "    ax = ax_arr[int(i/2),i%2]\n",
    "    \n",
    "    BSM_eff[n] = np.array(BSM_eff[n])\n",
    "    \n",
    "    for j in range(BSM_eff['p_SM'].shape[0]):\n",
    "#         ax.plot(x, len(x)*[BSM_eff['p_SM'][j]], color='gray', lw=2, linestyle=styles[j])\n",
    "        ax.plot(x, BSM_eff[n][:,j], \n",
    "                color=dataset.process_colors[n], lw=3, linestyle=styles[j], \n",
    "                label=dataset.process_labels[n] + ' @ $\\epsilon_{{SM}} = {:1.0e}$'.format(BSM_eff['p_SM'][j]))\n",
    "        \n",
    "    ax.set_xlim([0, x[-1]+1])\n",
    "#     ax.set_ylim([1e-6, 5])\n",
    "    ax.set_xlabel('Epoch')\n",
    "    ax.set_ylabel('Efficiency')\n",
    "    ax.set_title('')\n",
    "    ax.set_yscale('log')\n",
    "    ax.grid()\n",
    "    \n",
    "    ax.legend(loc='best')\n",
    "    \n",
    "f.tight_layout()\n",
    "\n",
    "f = open('data/AnomalyDetectionHistory_dAE_v'+AEversion+'.pkl', 'wb')\n",
    "pickle.dump(BSM_eff, f)\n",
    "f.close()"
   ]
  },
  {
   "cell_type": "code",
   "execution_count": null,
   "metadata": {
    "ExecuteTime": {
     "end_time": "2019-07-17T11:40:02.283623Z",
     "start_time": "2019-07-17T09:56:30.868Z"
    }
   },
   "outputs": [],
   "source": [
    "# model.load_state_dict(torch.load('data/model_state_dict_dAE_v'+AEversion+'_epoch400.pkl'))"
   ]
  },
  {
   "cell_type": "markdown",
   "metadata": {},
   "source": [
    "# Convergence check"
   ]
  },
  {
   "cell_type": "code",
   "execution_count": null,
   "metadata": {
    "ExecuteTime": {
     "end_time": "2019-07-17T11:40:02.284893Z",
     "start_time": "2019-07-17T09:56:30.869Z"
    }
   },
   "outputs": [],
   "source": [
    "dataset.charge(dataset.SMMix_val)\n",
    "x = dataset.inputs\n",
    "model.eval()\n",
    "if model.onGPU:\n",
    "    x_prime = model(torch.from_numpy(x[:10000]).cuda(model.N_GPU)).cpu().detach().numpy()\n",
    "    z = model.encode(torch.from_numpy(x[:10000]).cuda(model.N_GPU)).cpu().detach().numpy()\n",
    "else:\n",
    "    x_prime = model(torch.from_numpy(x[:10000])).cpu().detach().numpy()\n",
    "    z = model.encode(torch.from_numpy(x[:10000])).cpu().detach().numpy()"
   ]
  },
  {
   "cell_type": "markdown",
   "metadata": {},
   "source": [
    "### Latent space"
   ]
  },
  {
   "cell_type": "code",
   "execution_count": null,
   "metadata": {
    "ExecuteTime": {
     "end_time": "2019-07-17T11:40:02.286024Z",
     "start_time": "2019-07-17T09:56:30.870Z"
    },
    "code_folding": [
     0
    ],
    "scrolled": true
   },
   "outputs": [],
   "source": [
    "for i in range(z.shape[1]):\n",
    "    x_aux = z[:,i]\n",
    "    f = plt.figure(i)\n",
    "    r = (np.min(x_aux), np.max(x_aux))\n",
    "    plt.hist(x_aux, bins=20, range=r, alpha=0.4, density=True)\n",
    "    plt.xlabel('$z_{{{}}}$'.format(i))\n",
    "    dnd.append(f)"
   ]
  },
  {
   "cell_type": "markdown",
   "metadata": {},
   "source": [
    "### Output features"
   ]
  },
  {
   "cell_type": "code",
   "execution_count": null,
   "metadata": {
    "ExecuteTime": {
     "end_time": "2019-07-17T11:40:02.287176Z",
     "start_time": "2019-07-17T09:56:30.872Z"
    },
    "code_folding": [],
    "scrolled": false
   },
   "outputs": [],
   "source": [
    "for i in range(x.shape[2]):\n",
    "    x_aux = x[:,:,i].flatten()\n",
    "    if i < 3:\n",
    "        xp_aux = x_prime[:,:,i].flatten()\n",
    "    elif i==3:\n",
    "        xp_aux = np.argmax(x_prime[:,:,6:9], axis=2)\n",
    "        xp_aux = xp_aux.flatten() - 1\n",
    "    elif i==4:\n",
    "        xp_aux = np.argmax(x_prime[:,:,9:14], axis=2).flatten()\n",
    "        \n",
    "    f = plt.figure(i)\n",
    "    r = (min(np.min(x_aux), np.min(xp_aux)), max(np.max(x_aux), np.max(xp_aux)))\n",
    "    if i == 0:\n",
    "        r = (0,10)\n",
    "    plt.hist(x_aux, bins=31, range=r, alpha=0.4, density=True)\n",
    "    plt.hist(xp_aux, bins=31, range=r, alpha=0.4, density=True)\n",
    "    plt.xlabel('Particles ' + dataset.feature_names[i])\n",
    "#     plt.yscale('log')\n",
    "    dnd.append(f)"
   ]
  },
  {
   "cell_type": "markdown",
   "metadata": {},
   "source": [
    "# Performance evaluation"
   ]
  },
  {
   "cell_type": "code",
   "execution_count": null,
   "metadata": {
    "ExecuteTime": {
     "end_time": "2019-07-17T11:40:02.288293Z",
     "start_time": "2019-07-17T09:56:30.874Z"
    }
   },
   "outputs": [],
   "source": [
    "dataset.loadValidationSamples('SM')"
   ]
  },
  {
   "cell_type": "code",
   "execution_count": null,
   "metadata": {
    "ExecuteTime": {
     "end_time": "2019-07-17T11:40:02.289434Z",
     "start_time": "2019-07-17T09:56:30.875Z"
    },
    "code_folding": []
   },
   "outputs": [],
   "source": [
    "model.eval()\n",
    "for n in list(dataset.valSamples.keys()) + ['SMMix']:\n",
    "    dataset.loss[n] = np.zeros((0))\n",
    "    if n == 'SMMix':\n",
    "        dataset.charge(dataset.SMMix_val)\n",
    "    else:\n",
    "        dataset.charge(dataset.valSamples[n])\n",
    "    \n",
    "    data_iter = torch.utils.data.DataLoader(dataset, **eval_params)\n",
    "    pb = ProgressBar(len(data_iter), percentPrecision=5, headLabel=n+': ')\n",
    "    for i, (local_x, _) in enumerate(data_iter):\n",
    "        pb.show(i)\n",
    "        if model.onGPU:\n",
    "            local_x = local_x.cuda(model.N_GPU)\n",
    "            \n",
    "        x_prime = model(local_x)\n",
    "        loss = criterion(local_x, x_prime, 'none').cpu().detach().numpy()\n",
    "        dataset.loss[n] = np.concatenate((dataset.loss[n], loss))"
   ]
  },
  {
   "cell_type": "code",
   "execution_count": null,
   "metadata": {
    "ExecuteTime": {
     "end_time": "2019-07-17T11:40:02.290584Z",
     "start_time": "2019-07-17T09:56:30.877Z"
    }
   },
   "outputs": [],
   "source": [
    "plt.figure(figsize=(12,8))\n",
    "ra = np.array(list(map(lambda x: [np.min(x), np.quantile(x, 1-1e-3)], dataset.loss.values())))\n",
    "r = (np.min(ra[:,0]), np.max(ra[:,1]))\n",
    "\n",
    "for n in ['Ato4l','SMMix']:\n",
    "    plt.hist(dataset.loss[n], bins=31, range=r,\n",
    "             density=True,\n",
    "             color=dataset.process_colors[n], \n",
    "             alpha=0.3, \n",
    "             label=dataset.process_labels[n])\n",
    "plt.yscale('log')\n",
    "plt.legend(loc='best')"
   ]
  },
  {
   "cell_type": "code",
   "execution_count": null,
   "metadata": {
    "ExecuteTime": {
     "end_time": "2019-07-17T11:40:02.291664Z",
     "start_time": "2019-07-17T09:56:30.878Z"
    }
   },
   "outputs": [],
   "source": [
    "dic_ROC = createROC_curve(dataset)\n",
    "pickle.dump(dic_ROC, open('data/dAE_v{}_ROC_dic.pkl'.format(AEversion), 'wb'))"
   ]
  },
  {
   "cell_type": "code",
   "execution_count": null,
   "metadata": {
    "ExecuteTime": {
     "end_time": "2019-07-17T11:40:02.292938Z",
     "start_time": "2019-07-17T09:56:30.879Z"
    },
    "code_folding": [
     1
    ],
    "scrolled": false
   },
   "outputs": [],
   "source": [
    "f_ROC, ax_arr = plt.subplots(2,2, figsize=(12,12))\n",
    "for i, n in enumerate(dataset.BSM_names):\n",
    "    f = open('../data/HLFref1811-10276_loss/VAE_all-in-one_v71_ROC1_dict_{}.pkl'.format(n), 'br')\n",
    "    dRef = pickle.load(f, encoding='bytes')\n",
    "    f.close()\n",
    "    \n",
    "    ax = ax_arr[int(i/2),i%2]\n",
    "    ax.plot(dRef[b'eff_SM'], dRef[b'eff_BSM'], label=dataset.process_labels[n] + ' HLF',\n",
    "            linestyle='--', lw=3, color=dataset.process_colors[n])\n",
    "    ax.plot(dic_ROC[n]['eff_SM'], dic_ROC[n]['eff_BSM'], label=dataset.process_labels[n] + ' PF',\n",
    "            linestyle='-', lw=3, color=dataset.process_colors[n])\n",
    "    ax.plot([0, 1], [0, 1], color='gray', lw=2, linestyle=':')\n",
    "    ax.set_xlim([1e-6, 1.0])\n",
    "    ax.set_ylim([1e-6, 1.05])\n",
    "    ax.set_xlabel('SM efficiency')\n",
    "    ax.set_ylabel('BSM efficiency')\n",
    "    ax.set_title('')\n",
    "    ax.set_yscale('log')\n",
    "    ax.set_xscale('log')\n",
    "    ax.grid()\n",
    "    \n",
    "    ax.legend(loc='lower right')\n",
    "    \n",
    "f_ROC.tight_layout()"
   ]
  },
  {
   "cell_type": "markdown",
   "metadata": {},
   "source": [
    "## Latent dimension clustering"
   ]
  },
  {
   "cell_type": "code",
   "execution_count": null,
   "metadata": {
    "ExecuteTime": {
     "end_time": "2019-07-17T11:40:02.294097Z",
     "start_time": "2019-07-17T09:56:30.880Z"
    }
   },
   "outputs": [],
   "source": [
    "from sklearn.manifold import TSNE"
   ]
  },
  {
   "cell_type": "code",
   "execution_count": null,
   "metadata": {
    "ExecuteTime": {
     "end_time": "2019-07-17T11:40:02.295237Z",
     "start_time": "2019-07-17T09:56:30.881Z"
    }
   },
   "outputs": [],
   "source": [
    "dataset.encoded = {}\n",
    "\n",
    "for n in dataset.BSM_names:    \n",
    "    dataset.charge(dataset.valSamples[n][:10000])\n",
    "    x_in = torch.Tensor(dataset.inputs)\n",
    "    if model.onGPU:\n",
    "        x_in = x_in.cuda(model.N_GPU)\n",
    "    dataset.encoded[n] = model.encode(x_in).cpu().detach().numpy()\n",
    "    \n",
    "dataset.charge(dataset.SMMix_val[:10000])\n",
    "x_in = torch.Tensor(dataset.inputs)\n",
    "if model.onGPU:\n",
    "        x_in = x_in.cuda(model.N_GPU)\n",
    "dataset.encoded['SMMix'] = model.encode(x_in).cpu().detach().numpy()"
   ]
  },
  {
   "cell_type": "code",
   "execution_count": null,
   "metadata": {
    "ExecuteTime": {
     "end_time": "2019-07-17T11:40:02.296374Z",
     "start_time": "2019-07-17T09:56:30.882Z"
    }
   },
   "outputs": [],
   "source": [
    "idx_max = 1000 #np.min(list(map(lambda x: x.shape[0], dataset.encoded.values())))\n",
    "z_dset = np.zeros((0, model.Nk))\n",
    "\n",
    "for n in dataset.encoded.keys():\n",
    "    z_dset = np.concatenate((z_dset, dataset.encoded[n][:idx_max]))\n",
    "    \n",
    "z_embedded = TSNE(n_components=2).fit_transform(z_dset)"
   ]
  },
  {
   "cell_type": "code",
   "execution_count": null,
   "metadata": {
    "ExecuteTime": {
     "end_time": "2019-07-17T11:40:02.297504Z",
     "start_time": "2019-07-17T09:56:30.883Z"
    },
    "scrolled": false
   },
   "outputs": [],
   "source": [
    "f = plt.figure(figsize=(8,8))\n",
    "\n",
    "for i, n in enumerate(dataset.encoded.keys()):\n",
    "#     if not n in ['Ato4l', 'SMMix']: continue\n",
    "    aux_z = z_embedded[i*idx_max: (i+1)*idx_max]\n",
    "    plt.plot(aux_z[:,0], aux_z[:,1], \n",
    "             'o',\n",
    "             color=dataset.process_colors[n], \n",
    "             mfc='none',\n",
    "             label=dataset.process_labels[n])\n",
    "    \n",
    "plt.xlabel('Embedded 0')\n",
    "plt.ylabel('Embedded 1')\n",
    "plt.legend(loc='best')\n",
    "f.tight_layout()"
   ]
  },
  {
   "cell_type": "code",
   "execution_count": null,
   "metadata": {},
   "outputs": [],
   "source": []
  }
 ],
 "metadata": {
  "kernelspec": {
   "display_name": "Python 3",
   "language": "python",
   "name": "python3"
  }
 },
 "nbformat": 4,
 "nbformat_minor": 2
}
