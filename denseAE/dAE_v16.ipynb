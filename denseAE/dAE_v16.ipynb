{
 "cells": [
  {
   "cell_type": "markdown",
   "metadata": {},
   "source": [
    "Like 15 but without pt eta phi"
   ]
  },
  {
   "cell_type": "code",
   "execution_count": 1,
   "metadata": {
    "ExecuteTime": {
     "end_time": "2019-07-17T13:01:04.934466Z",
     "start_time": "2019-07-17T13:01:04.931648Z"
    }
   },
   "outputs": [],
   "source": [
    "AEversion = '16'"
   ]
  },
  {
   "cell_type": "code",
   "execution_count": 2,
   "metadata": {
    "ExecuteTime": {
     "end_time": "2019-07-17T13:01:05.535556Z",
     "start_time": "2019-07-17T13:01:04.938487Z"
    }
   },
   "outputs": [
    {
     "data": {
      "application/javascript": [
       "IPython.notebook.set_autosave_interval(60000)"
      ]
     },
     "metadata": {},
     "output_type": "display_data"
    },
    {
     "name": "stdout",
     "output_type": "stream",
     "text": [
      "Autosaving every 60 seconds\n"
     ]
    }
   ],
   "source": [
    "import numpy as np\n",
    "import os, sys, pickle\n",
    "from prettytable import PrettyTable\n",
    "import matplotlib.pyplot as plt\n",
    "import matplotlib\n",
    "%matplotlib inline\n",
    "%autosave 60"
   ]
  },
  {
   "cell_type": "code",
   "execution_count": 3,
   "metadata": {
    "ExecuteTime": {
     "end_time": "2019-07-17T13:01:05.750363Z",
     "start_time": "2019-07-17T13:01:05.537257Z"
    },
    "code_folding": [
     1,
     3
    ]
   },
   "outputs": [
    {
     "name": "stdout",
     "output_type": "stream",
     "text": [
      "\u001b[1m\u001b[37mimperium-sm.hep.caltech.edu\u001b[m  Wed Jul 17 06:01:05 2019\n",
      "\u001b[36m[0]\u001b[m \u001b[34mGeForce GTX 1080\u001b[m |\u001b[31m 22'C\u001b[m, \u001b[32m  0 %\u001b[m | \u001b[36m\u001b[1m\u001b[33m 2282\u001b[m / \u001b[33m 8119\u001b[m MB | \u001b[1m\u001b[30mocerri\u001b[m(\u001b[33m2271M\u001b[m)\n",
      "\u001b[36m[1]\u001b[m \u001b[34mGeForce GTX 1080\u001b[m |\u001b[31m 26'C\u001b[m, \u001b[32m  0 %\u001b[m | \u001b[36m\u001b[1m\u001b[33m   11\u001b[m / \u001b[33m 8119\u001b[m MB |\n",
      "\u001b[36m[2]\u001b[m \u001b[34mGeForce GTX 1080\u001b[m |\u001b[31m 25'C\u001b[m, \u001b[32m  0 %\u001b[m | \u001b[36m\u001b[1m\u001b[33m   10\u001b[m / \u001b[33m 8119\u001b[m MB |\n",
      "\u001b[36m[3]\u001b[m \u001b[34mGeForce GTX 1080\u001b[m |\u001b[1m\u001b[31m 70'C\u001b[m, \u001b[1m\u001b[32m 96 %\u001b[m | \u001b[36m\u001b[1m\u001b[33m 1782\u001b[m / \u001b[33m 8119\u001b[m MB | \u001b[1m\u001b[30m3041\u001b[m(\u001b[33m1771M\u001b[m)\n",
      "\u001b[36m[4]\u001b[m \u001b[34mGeForce GTX 1080\u001b[m |\u001b[31m 25'C\u001b[m, \u001b[32m  0 %\u001b[m | \u001b[36m\u001b[1m\u001b[33m   11\u001b[m / \u001b[33m 8119\u001b[m MB |\n",
      "\u001b[36m[5]\u001b[m \u001b[34mGeForce GTX 1080\u001b[m |\u001b[31m 38'C\u001b[m, \u001b[32m  0 %\u001b[m | \u001b[36m\u001b[1m\u001b[33m   11\u001b[m / \u001b[33m 8119\u001b[m MB |\n",
      "\u001b[36m[6]\u001b[m \u001b[34mGeForce GTX 1080\u001b[m |\u001b[31m 24'C\u001b[m, \u001b[32m  0 %\u001b[m | \u001b[36m\u001b[1m\u001b[33m   11\u001b[m / \u001b[33m 8119\u001b[m MB |\n",
      "\u001b[36m[7]\u001b[m \u001b[34mGeForce GTX 1080\u001b[m |\u001b[31m 25'C\u001b[m, \u001b[32m  0 %\u001b[m | \u001b[36m\u001b[1m\u001b[33m   11\u001b[m / \u001b[33m 8119\u001b[m MB |\n"
     ]
    }
   ],
   "source": [
    "import gpustat\n",
    "try:\n",
    "    gpustat.print_gpustat()\n",
    "except:\n",
    "    pass"
   ]
  },
  {
   "cell_type": "code",
   "execution_count": 4,
   "metadata": {
    "ExecuteTime": {
     "end_time": "2019-07-17T13:01:06.266423Z",
     "start_time": "2019-07-17T13:01:05.752262Z"
    }
   },
   "outputs": [],
   "source": [
    "import torch\n",
    "import torch.nn as nn\n",
    "import torch.nn.functional as F"
   ]
  },
  {
   "cell_type": "code",
   "execution_count": 5,
   "metadata": {
    "ExecuteTime": {
     "end_time": "2019-07-17T13:01:06.272892Z",
     "start_time": "2019-07-17T13:01:06.268379Z"
    }
   },
   "outputs": [],
   "source": [
    "sys.path.append('../lib')\n",
    "from progressBar import ProgressBar\n",
    "from utils import EarlyStopping, createROC_curve, ELU_ProbNorm"
   ]
  },
  {
   "cell_type": "code",
   "execution_count": 6,
   "metadata": {
    "ExecuteTime": {
     "end_time": "2019-07-17T13:01:06.276854Z",
     "start_time": "2019-07-17T13:01:06.274599Z"
    }
   },
   "outputs": [],
   "source": [
    "dnd = []"
   ]
  },
  {
   "cell_type": "markdown",
   "metadata": {},
   "source": [
    "## Get the dataset"
   ]
  },
  {
   "cell_type": "code",
   "execution_count": 7,
   "metadata": {
    "ExecuteTime": {
     "end_time": "2019-07-17T13:01:06.287244Z",
     "start_time": "2019-07-17T13:01:06.278587Z"
    }
   },
   "outputs": [],
   "source": [
    "from dataLoaders import ParticleDataset"
   ]
  },
  {
   "cell_type": "code",
   "execution_count": 8,
   "metadata": {
    "ExecuteTime": {
     "end_time": "2019-07-17T13:01:06.291474Z",
     "start_time": "2019-07-17T13:01:06.288911Z"
    }
   },
   "outputs": [],
   "source": [
    "dataset = ParticleDataset(template='../data/20190717_50part_PtOrder_v3/{}.npy', N_part=30, N_features=11)"
   ]
  },
  {
   "cell_type": "code",
   "execution_count": 9,
   "metadata": {
    "ExecuteTime": {
     "end_time": "2019-07-17T13:03:11.613786Z",
     "start_time": "2019-07-17T13:01:06.294055Z"
    }
   },
   "outputs": [
    {
     "name": "stdout",
     "output_type": "stream",
     "text": [
      "Fetching Wlnu\n",
      "Fetching qcd\n",
      "Fetching Zll\n",
      "Fetching ttbar\n",
      "Expected 1.00M train\n",
      "Expected 1.00M val\n",
      "\n",
      "Loading Wlnu\n",
      "Loading qcd\n",
      "Loading Zll\n",
      "Loading ttbar\n",
      "+--------+----------+-------+------+\n",
      "| Sample | Evts tot | Train | Val  |\n",
      "+--------+----------+-------+------+\n",
      "|  Wlnu  |  5618k   |  592k | 592k |\n",
      "|  qcd   |  1166k   |  338k | 338k |\n",
      "|  Zll   |  1777k   |  67k  | 67k  |\n",
      "| ttbar  |  6542k   |   3k  |  3k  |\n",
      "+--------+----------+-------+------+\n",
      "Tot training 1.00 M\n",
      "Tot val 1.00 M\n"
     ]
    }
   ],
   "source": [
    "dataset.loadTrainSM(N_train_max=1e6)\n",
    "dataset.charge(dataset.SMMix_train)"
   ]
  },
  {
   "cell_type": "code",
   "execution_count": 10,
   "metadata": {
    "ExecuteTime": {
     "end_time": "2019-07-17T13:03:18.316696Z",
     "start_time": "2019-07-17T13:03:11.615960Z"
    }
   },
   "outputs": [
    {
     "name": "stdout",
     "output_type": "stream",
     "text": [
      "Loading Ato4l (47.7k)\n",
      "Loading leptoquark (273.6k)\n",
      "Loading hToTauTau (685.8k)\n",
      "Loading hChToTauNu (339.0k)\n"
     ]
    }
   ],
   "source": [
    "dataset.loadValidationSamples('BSM', N_max=1000000000000000)"
   ]
  },
  {
   "cell_type": "markdown",
   "metadata": {},
   "source": [
    "## Define the model"
   ]
  },
  {
   "cell_type": "code",
   "execution_count": 49,
   "metadata": {
    "ExecuteTime": {
     "end_time": "2019-07-17T13:31:57.917654Z",
     "start_time": "2019-07-17T13:31:57.902207Z"
    },
    "code_folding": [
     25
    ]
   },
   "outputs": [],
   "source": [
    "class AEDenseNet(nn.Module):\n",
    "    def __init__(self, N_part, N_features, dim_hidden, dim_latent, verbose = False):\n",
    "        super(AEDenseNet, self).__init__()\n",
    "        self.verbose = verbose\n",
    "        \n",
    "        self.No = N_part\n",
    "        self.p = N_features-3\n",
    "        self.Nk = dim_latent\n",
    "        \n",
    "        self.encoder_modules = nn.ModuleDict({\n",
    "            'PhiE': self.build_dense(dim_in=self.p*self.No,\n",
    "                                   dim_out=self.Nk,\n",
    "                                   dim_hidden=dim_hidden)\n",
    "        })\n",
    "        \n",
    "        \n",
    "        self.decoder_modules = nn.ModuleDict({\n",
    "            'PhiD': self.build_dense(dim_in=self.Nk,\n",
    "                                   dim_out=(self.p)*self.No,\n",
    "                                   dim_hidden=dim_hidden)\n",
    "        })\n",
    "        \n",
    "        \n",
    "        self.onGPU = False\n",
    "          \n",
    "    def build_dense(self, dim_in, dim_out, dim_hidden=0):\n",
    "        if dim_hidden:\n",
    "            net = nn.Sequential(\n",
    "                                nn.Linear(dim_in, dim_hidden),\n",
    "                                nn.ReLU(),\n",
    "                                nn.Linear(dim_hidden, dim_hidden),\n",
    "                                nn.ReLU(),\n",
    "                                nn.Linear(dim_hidden, dim_out),\n",
    "                              )\n",
    "        else:\n",
    "            d_avg = int(0.5*(dim_in + dim_out))\n",
    "            net = nn.Sequential(\n",
    "                                nn.Linear(dim_in, d_avg),\n",
    "                                nn.ReLU(),\n",
    "                                nn.Linear(d_avg, dim_out),\n",
    "                              )\n",
    "        return net\n",
    "        \n",
    "    def encode(self, x):\n",
    "        z_raw = self.encoder_modules['PhiE'](x[:,:,3:].contiguous().view(-1, self.p*self.No))\n",
    "        z = F.hardtanh(z_raw, min_val=-5, max_val=5)\n",
    "        return z\n",
    "    \n",
    "    def decode(self, z):\n",
    "        x_raw = self.decoder_modules['PhiD'](z).view(-1, self.No, self.p)\n",
    "        \n",
    "        # --- Formatting x ----\n",
    "        # eta\n",
    "#         eta = F.hardtanh(x_raw[:,:,0], min_val=-5, max_val=5).view(-1, self.No, 1)\n",
    "        # phi\n",
    "#         phi = torch.fmod(torch.abs(x_raw[:,:,1]), 6.2831853072).view(-1, self.No, 1) - 3.14159265359\n",
    "        \n",
    "        # charge & pId category\n",
    "        cpId_cat = ELU_ProbNorm(x_raw)\n",
    "#         cpId_cat = F.softmax(x_raw, dim=-1)\n",
    "        \n",
    "#         x = torch.cat((eta, phi, cpId_cat), 2)\n",
    "        return cpId_cat\n",
    "        \n",
    "    \n",
    "    def forward(self, x):\n",
    "        z = self.encode(x)\n",
    "        x_prime = self.decode(z)\n",
    "        return x_prime\n",
    "    \n",
    "    def initWeights(self):\n",
    "        def weights_init(M):\n",
    "            if hasattr(M, 'weight'):\n",
    "                nn.init.xavier_normal_(M.weight.data)\n",
    "        \n",
    "        self.apply(weights_init)\n",
    "    \n",
    "    def useGPU(self, N_GPU=1):\n",
    "        if torch.cuda.is_available():\n",
    "            print('Current device: {} ({} available)'.format(torch.cuda.current_device(), \n",
    "                                                             torch.cuda.device_count()))\n",
    "            os.environ['CUDA_VISIBLE_DEVICES'] = str(N_GPU)\n",
    "            self.N_GPU = N_GPU\n",
    "            torch.cuda.empty_cache()\n",
    "            self.cuda(N_GPU)\n",
    "            gpustat.print_gpustat()\n",
    "            \n",
    "            self.onGPU = True\n",
    "        else: \n",
    "            print('GPU not available')"
   ]
  },
  {
   "cell_type": "code",
   "execution_count": 50,
   "metadata": {
    "ExecuteTime": {
     "end_time": "2019-07-17T13:31:58.119980Z",
     "start_time": "2019-07-17T13:31:58.111906Z"
    },
    "code_folding": [
     3
    ]
   },
   "outputs": [
    {
     "name": "stdout",
     "output_type": "stream",
     "text": [
      "AEDenseNet(\n",
      "  (encoder_modules): ModuleDict(\n",
      "    (PhiE): Sequential(\n",
      "      (0): Linear(in_features=240, out_features=200, bias=True)\n",
      "      (1): ReLU()\n",
      "      (2): Linear(in_features=200, out_features=200, bias=True)\n",
      "      (3): ReLU()\n",
      "      (4): Linear(in_features=200, out_features=80, bias=True)\n",
      "    )\n",
      "  )\n",
      "  (decoder_modules): ModuleDict(\n",
      "    (PhiD): Sequential(\n",
      "      (0): Linear(in_features=80, out_features=200, bias=True)\n",
      "      (1): ReLU()\n",
      "      (2): Linear(in_features=200, out_features=200, bias=True)\n",
      "      (3): ReLU()\n",
      "      (4): Linear(in_features=200, out_features=240, bias=True)\n",
      "    )\n",
      "  )\n",
      ")\n",
      "\n",
      "Trainable parameters: 209120\n"
     ]
    }
   ],
   "source": [
    "Latent_dimension = 80\n",
    "Hidden_dimension = 200\n",
    "\n",
    "model = AEDenseNet(\n",
    "                   N_part=dataset.inputs.shape[1],\n",
    "                   N_features=dataset.inputs.shape[2],\n",
    "                   dim_hidden=Hidden_dimension,\n",
    "                   dim_latent=Latent_dimension\n",
    "                  )\n",
    "\n",
    "print(model)\n",
    "trainablePars = sum(p.numel() for p in model.parameters() if p.requires_grad)\n",
    "print('\\nTrainable parameters:', trainablePars)\n",
    "\n",
    "# model.initWeights()"
   ]
  },
  {
   "cell_type": "code",
   "execution_count": 51,
   "metadata": {
    "ExecuteTime": {
     "end_time": "2019-07-17T13:31:58.495480Z",
     "start_time": "2019-07-17T13:31:58.309581Z"
    },
    "scrolled": true
   },
   "outputs": [
    {
     "name": "stdout",
     "output_type": "stream",
     "text": [
      "Current device: 0 (8 available)\n",
      "\u001b[1m\u001b[37mimperium-sm.hep.caltech.edu\u001b[m  Wed Jul 17 06:31:58 2019\n",
      "\u001b[36m[0]\u001b[m \u001b[34mGeForce GTX 1080\u001b[m |\u001b[31m 24'C\u001b[m, \u001b[32m  0 %\u001b[m | \u001b[36m\u001b[1m\u001b[33m 2737\u001b[m / \u001b[33m 8119\u001b[m MB | \u001b[1m\u001b[30mocerri\u001b[m(\u001b[33m2271M\u001b[m) \u001b[1m\u001b[30mocerri\u001b[m(\u001b[33m455M\u001b[m)\n",
      "\u001b[36m[1]\u001b[m \u001b[34mGeForce GTX 1080\u001b[m |\u001b[31m 27'C\u001b[m, \u001b[32m  0 %\u001b[m | \u001b[36m\u001b[1m\u001b[33m   11\u001b[m / \u001b[33m 8119\u001b[m MB |\n",
      "\u001b[36m[2]\u001b[m \u001b[34mGeForce GTX 1080\u001b[m |\u001b[31m 25'C\u001b[m, \u001b[32m  0 %\u001b[m | \u001b[36m\u001b[1m\u001b[33m   10\u001b[m / \u001b[33m 8119\u001b[m MB |\n",
      "\u001b[36m[3]\u001b[m \u001b[34mGeForce GTX 1080\u001b[m |\u001b[1m\u001b[31m 71'C\u001b[m, \u001b[1m\u001b[32m 95 %\u001b[m | \u001b[36m\u001b[1m\u001b[33m 1782\u001b[m / \u001b[33m 8119\u001b[m MB | \u001b[1m\u001b[30m3041\u001b[m(\u001b[33m1771M\u001b[m)\n",
      "\u001b[36m[4]\u001b[m \u001b[34mGeForce GTX 1080\u001b[m |\u001b[31m 25'C\u001b[m, \u001b[32m  0 %\u001b[m | \u001b[36m\u001b[1m\u001b[33m   11\u001b[m / \u001b[33m 8119\u001b[m MB |\n",
      "\u001b[36m[5]\u001b[m \u001b[34mGeForce GTX 1080\u001b[m |\u001b[31m 30'C\u001b[m, \u001b[32m  0 %\u001b[m | \u001b[36m\u001b[1m\u001b[33m 1210\u001b[m / \u001b[33m 8119\u001b[m MB | \u001b[1m\u001b[30mocerri\u001b[m(\u001b[33m1199M\u001b[m)\n",
      "\u001b[36m[6]\u001b[m \u001b[34mGeForce GTX 1080\u001b[m |\u001b[31m 24'C\u001b[m, \u001b[32m  0 %\u001b[m | \u001b[36m\u001b[1m\u001b[33m   11\u001b[m / \u001b[33m 8119\u001b[m MB |\n",
      "\u001b[36m[7]\u001b[m \u001b[34mGeForce GTX 1080\u001b[m |\u001b[31m 25'C\u001b[m, \u001b[32m  0 %\u001b[m | \u001b[36m\u001b[1m\u001b[33m   11\u001b[m / \u001b[33m 8119\u001b[m MB |\n"
     ]
    }
   ],
   "source": [
    "model.useGPU(5)"
   ]
  },
  {
   "cell_type": "markdown",
   "metadata": {},
   "source": [
    "## Loss"
   ]
  },
  {
   "cell_type": "code",
   "execution_count": 52,
   "metadata": {
    "ExecuteTime": {
     "end_time": "2019-07-17T13:31:58.821692Z",
     "start_time": "2019-07-17T13:31:58.815661Z"
    },
    "code_folding": []
   },
   "outputs": [],
   "source": [
    "def criterion(x_in, x_out, reduction='mean'):\n",
    "#     Gaussian\n",
    "#     NLL_gauss = torch.abs(x_in[:,:,:2] - x_out[:,:,:2])\n",
    "    \n",
    "    #Cat cross entropy charge-pId\n",
    "    log_p = torch.log(x_out[:,:,:]).view(-1, 8)\n",
    "    true_cat = torch.argmax(x_in[:,:,3:], dim=2)\n",
    "    NLL_cat = F.nll_loss(log_p, true_cat.view(-1).long(), reduction='none').view(-1, x_in.shape[1], 1)\n",
    "    \n",
    "#     NLL_tot = torch.cat((NLL_gauss, 10*NLL_cat), 2)\n",
    "    NLL_tot = NLL_cat\n",
    "    NLL_perEvent = torch.mean(NLL_tot, dim=1)\n",
    "    \n",
    "    if reduction == 'mean':\n",
    "        NLL_mean = torch.mean(NLL_perEvent, dim=0)\n",
    "        return torch.sum(NLL_mean), NLL_mean.cpu().detach().numpy()\n",
    "    elif reduction == 'none':\n",
    "        return torch.sum(NLL_perEvent, dim=1)\n",
    "    else:\n",
    "        raise"
   ]
  },
  {
   "cell_type": "markdown",
   "metadata": {},
   "source": [
    "## Training"
   ]
  },
  {
   "cell_type": "code",
   "execution_count": 53,
   "metadata": {
    "ExecuteTime": {
     "end_time": "2019-07-17T13:32:00.138239Z",
     "start_time": "2019-07-17T13:32:00.135035Z"
    },
    "code_folding": [
     0,
     7
    ]
   },
   "outputs": [],
   "source": [
    "training_params = {'batch_size': 1000,\n",
    "                   'shuffle': True,\n",
    "                   'num_workers': 3\n",
    "                  }\n",
    "\n",
    "max_epochs = 1000\n",
    "\n",
    "eval_params = {'batch_size': 50000,\n",
    "               'num_workers': 3\n",
    "              }"
   ]
  },
  {
   "cell_type": "code",
   "execution_count": 54,
   "metadata": {
    "ExecuteTime": {
     "end_time": "2019-07-17T13:32:00.469018Z",
     "start_time": "2019-07-17T13:32:00.466621Z"
    }
   },
   "outputs": [],
   "source": [
    "torch.autograd.set_detect_anomaly(True);"
   ]
  },
  {
   "cell_type": "code",
   "execution_count": 55,
   "metadata": {
    "ExecuteTime": {
     "end_time": "2019-07-17T13:32:01.139179Z",
     "start_time": "2019-07-17T13:32:01.135022Z"
    },
    "code_folding": [
     3
    ]
   },
   "outputs": [],
   "source": [
    "optimizer = torch.optim.Adam(model.parameters(), lr=1e-3)\n",
    "\n",
    "from torch.optim.lr_scheduler import ReduceLROnPlateau\n",
    "scheduler = ReduceLROnPlateau(optimizer, \n",
    "                              mode='min',\n",
    "                              factor=0.3,\n",
    "                              patience=3,\n",
    "                              verbose=1,\n",
    "                              threshold=1e-4,\n",
    "                              cooldown=2,\n",
    "                              min_lr=1e-7\n",
    "                             )\n",
    "\n",
    "# Early stopping\n",
    "earlyStopping = EarlyStopping(patient=5)"
   ]
  },
  {
   "cell_type": "code",
   "execution_count": 56,
   "metadata": {
    "ExecuteTime": {
     "end_time": "2019-07-17T13:38:30.907965Z",
     "start_time": "2019-07-17T13:32:01.366441Z"
    },
    "code_folding": [
     92,
     96,
     143
    ],
    "scrolled": true
   },
   "outputs": [
    {
     "name": "stdout",
     "output_type": "stream",
     "text": [
      "Epoch 0: [####################]  100% - Tot. time: 23.9 s           \n",
      "Loss: 6.76e-01\n",
      "Val Loss: 6.82e-01\n",
      "\n",
      "Epoch 1: [####################]  100% - Tot. time: 24.1 s                       \n",
      "Loss: 5.39e-01 - Delta: -1.38e-01\n",
      "Val Loss: 5.40e-01\n",
      "\n",
      "Epoch 2: [####################]  100% - Tot. time: 24.6 s                       \n",
      "Loss: 4.43e-01 - Delta: -9.56e-02 - Trend: 4.21e-02\n",
      "Val Loss: 4.43e-01\n",
      "\n",
      "Epoch 3: [####################]  100% - Tot. time: 25.0 s                       \n",
      "Loss: 5.56e-01 - Delta: 1.13e-01 - Trend: 2.09e-01\n",
      "Val Loss: 5.57e-01\n",
      "\n",
      "Epoch 4: [####################]  100% - Tot. time: 23.8 s                       \n",
      "Loss: 7.48e-01 - Delta: 1.92e-01 - Trend: 7.86e-02\n",
      "Val Loss: 7.17e-01\n",
      "\n",
      "Epoch 5: [####################]  100% - Tot. time: 23.9 s                       \n",
      "Loss: 4.22e-01 - Delta: -3.26e-01 - Trend: -5.18e-01\n",
      "Val Loss: 4.18e-01\n",
      "\n",
      "Epoch 6: [####################]  100% - Tot. time: 24.3 s                       \n",
      "Loss: 5.17e-01 - Delta: 9.50e-02 - Trend: 4.21e-01\n",
      "Val Loss: 5.16e-01\n",
      "\n",
      "Epoch 7: [####################]  100% - Tot. time: 24.2 s                       \n",
      "Loss: 8.30e-01 - Delta: 3.13e-01 - Trend: 2.18e-01\n",
      "Val Loss: 8.31e-01\n",
      "\n",
      "Epoch 8: [####################]  100% - Tot. time: 24.2 s                       \n",
      "Loss: 8.14e-01 - Delta: -1.55e-02 - Trend: -3.29e-01\n",
      "Val Loss: 8.12e-01\n",
      "\n",
      "Epoch 9: [####################]  100% - Tot. time: 24.3 s                       \n",
      "Loss: 8.70e-01 - Delta: 5.55e-02 - Trend: 7.10e-02\n",
      "Val Loss: 8.70e-01\n",
      "\n",
      "Epoch     9: reducing learning rate of group 0 to 3.0000e-04.\n",
      "Epoch 10: [####################]  100% - Tot. time: 24.4 s                       \n",
      "Loss: 7.83e-01 - Delta: -8.66e-02 - Trend: -1.42e-01\n",
      "Val Loss: 7.95e-01\n",
      "\n",
      "Epoch 11: [####################]  100% - Tot. time: 24.2 s                       \n",
      "Loss: 7.93e-01 - Delta: 9.69e-03 - Trend: 9.63e-02\n",
      "Val Loss: 7.92e-01\n",
      "\n",
      "Early Stopping triggered\n"
     ]
    }
   ],
   "source": [
    "train_loss = []\n",
    "BSM_eff = {'ep': []}\n",
    "for n in dataset.BSM_names:\n",
    "    BSM_eff[n] = []\n",
    "\n",
    "loss_history = {'train': [], 'val': [], 'val_feat': []}\n",
    "optimizer.zero_grad()\n",
    "try:\n",
    "    for epoch in range(max_epochs):\n",
    "        batch_loss = []\n",
    "\n",
    "        #### ---- Training ---- ####\n",
    "        model.train()\n",
    "        dataset.charge(dataset.SMMix_train)\n",
    "        train_data_iter = torch.utils.data.DataLoader(dataset, **training_params)\n",
    "        pb = ProgressBar(len(train_data_iter), percentPrecision=5, headLabel='Epoch {}: '.format(epoch))\n",
    "        for local_x, _ in train_data_iter:\n",
    "            if model.onGPU:\n",
    "                local_x = local_x.cuda(model.N_GPU)\n",
    "\n",
    "            x_prime = model(local_x)        \n",
    "            loss, _ = criterion(local_x, x_prime)\n",
    "            if np.isnan(loss.item()) or np.isinf(loss.item()):\n",
    "                print('Invalid training loss!!!')\n",
    "                raise NameError('LossNAN')\n",
    "            batch_loss.append(loss.item())\n",
    "\n",
    "            tail_label = 'Loss: {:2.2e}'.format(loss.item())\n",
    "            if len(loss_history['train']) > 0:\n",
    "                tail_label += ' ({:2.2e})'.format(loss.item() - loss_history['train'][-1][-1])\n",
    "            pb.show(len(batch_loss)-1, tail_label=tail_label)\n",
    "\n",
    "            loss.backward()\n",
    "            optimizer.step()\n",
    "            optimizer.zero_grad()\n",
    "\n",
    "        model.eval()\n",
    "#         aux_loss = 0\n",
    "#         N_batches = 0\n",
    "#         for local_x, _ in train_data_iter:\n",
    "#             if model.onGPU:\n",
    "#                 local_x = local_x.cuda(model.N_GPU)\n",
    "#             x_prime = model(local_x)\n",
    "#             loss, _ = criterion(local_x, x_prime)\n",
    "#             aux_loss += loss.item()\n",
    "#             N_batches += 1\n",
    "#         batch_loss.append(aux_loss/N_batches)\n",
    "\n",
    "        printout = 'Loss: {:2.2e}'.format(batch_loss[-1])\n",
    "        if len(loss_history['train']) > 0:\n",
    "            printout += ' - Delta: {:2.2e}'.format(batch_loss[-1] - loss_history['train'][-1][-1])\n",
    "        if len(loss_history['train']) > 1:\n",
    "            d2L_de2 = batch_loss[-1] - 2*loss_history['train'][-1][-1] + loss_history['train'][-2][-1]\n",
    "            printout +=' - Trend: {:2.2e}'.format(d2L_de2)\n",
    "        print(printout)\n",
    "\n",
    "        loss_history['train'].append(batch_loss)\n",
    "\n",
    "        #### ---- Validation ---- ####\n",
    "        dataset.charge(dataset.SMMix_val)\n",
    "        val_data_iter = torch.utils.data.DataLoader(dataset, **eval_params)\n",
    "        aux_loss = 0\n",
    "#         aux_feat = 0\n",
    "        N_batches = 0\n",
    "        for local_x, _ in val_data_iter:\n",
    "            if model.onGPU:\n",
    "                local_x = local_x.cuda(model.N_GPU)\n",
    "            x_prime = model(local_x)\n",
    "            loss, NLL_feat = criterion(local_x, x_prime)\n",
    "            if np.isnan(loss.item()) or np.isinf(loss.item()):\n",
    "                print('Invalid validation loss!!!')\n",
    "                raise NameError('LossNAN')\n",
    "            aux_loss += loss.item()\n",
    "#             aux_feat += NLL_feat\n",
    "            N_batches += 1\n",
    "        loss_history['val'].append(aux_loss/N_batches)\n",
    "#         loss_history['val_feat'].append(aux_feat/N_batches)\n",
    "        printout = 'Val Loss: {:2.2e}'.format(loss_history['val'][-1])\n",
    "#         printout += 'Cat:{:.2f}'.format(loss_history['val_feat'][-1])\n",
    "        print(printout)\n",
    "        if epoch > 0:\n",
    "            if loss_history['val'][-1] < np.min(loss_history['val']):\n",
    "                print('[INFO]: Saving best model')\n",
    "                torch.save(model.state_dict(), 'data/model_state_dict_dAE_v'+AEversion+'_best.pkl')\n",
    "\n",
    "        print('')\n",
    "        if not earlyStopping.check(loss_history['val'][-1]):\n",
    "            break\n",
    "\n",
    "        scheduler.step(batch_loss[-1])\n",
    "        \n",
    "        #### ---- Periodic save model ---- ####\n",
    "        if False and epoch%50 == 0:\n",
    "            torch.save(model.state_dict(), 'data/model_state_dict_dAE_v'+AEversion+'_epoch{}.pkl'.format(epoch))\n",
    "\n",
    "        #### ---- Anomaly Detection monitor ---- ####\n",
    "        if False and epoch%10 == 0:\n",
    "            print('------------ Anomaly Detection monitor ------------')\n",
    "            BSM_eff['ep'].append(epoch)\n",
    "            dataset.loss['SMMix'] = np.zeros((0))\n",
    "\n",
    "            pb = ProgressBar(len(val_data_iter), percentPrecision=5, headLabel='SM Mix: ')\n",
    "            for i, (local_x, _) in enumerate(val_data_iter):\n",
    "                    pb.show(i)\n",
    "                    if model.onGPU:\n",
    "                        local_x = local_x.cuda(model.N_GPU)\n",
    "\n",
    "                    x_prime = model(local_x)\n",
    "                    loss = criterion(local_x, x_prime, 'none').cpu().detach().numpy()\n",
    "                    dataset.loss['SMMix'] = np.concatenate((dataset.loss['SMMix'], loss))\n",
    "\n",
    "            p_SM = np.logspace(base=10, start=-5, stop=-3, num=3)\n",
    "            if not 'p_SM' in BSM_eff.keys():\n",
    "                BSM_eff['p_SM'] = p_SM\n",
    "            q_SM = np.quantile(dataset.loss['SMMix'], 1-p_SM)\n",
    "\n",
    "            table = PrettyTable(['SM Mix'] + list(map(lambda x: '{:1.2e}'.format(x), p_SM)))\n",
    "\n",
    "            for n in dataset.BSM_names:\n",
    "                dataset.loss[n] = np.zeros((0))\n",
    "\n",
    "                dataset.charge(dataset.valSamples[n])\n",
    "                data_iter = torch.utils.data.DataLoader(dataset, **eval_params)\n",
    "                pb = ProgressBar(len(data_iter), percentPrecision=5, headLabel=n+': ')\n",
    "                for i, (local_x, _) in enumerate(data_iter):\n",
    "                    pb.show(i)\n",
    "                    if model.onGPU:\n",
    "                        local_x = local_x.cuda(model.N_GPU)\n",
    "\n",
    "                    x_prime = model(local_x)\n",
    "                    loss = criterion(local_x, x_prime, 'none').cpu().detach().numpy()\n",
    "                    dataset.loss[n] = np.concatenate((dataset.loss[n], loss))\n",
    "\n",
    "                out = dataset.loss[n] > np.atleast_2d(q_SM).T\n",
    "                p_BSM = np.float64(np.sum(out, axis=1, dtype=np.float128)/dataset.loss[n].shape[0])\n",
    "                BSM_eff[n].append(p_BSM)\n",
    "\n",
    "                table.add_row([n] + list(map(lambda x: '{:1.2e}'.format(x), p_BSM)))\n",
    "            print(table)                \n",
    "            print('---------------------------------------------------\\n\\n')\n",
    "\n",
    "    model.eval()\n",
    "    torch.save(model.state_dict(), 'data/model_state_dict_dAE_v'+AEversion+'.pkl');\n",
    "except NameError:\n",
    "    if epoch > 0:\n",
    "        print ('\\n\\nModel ended up nan. Recovering best model\\n')\n",
    "        model.load_state_dict(torch.load('data/model_state_dict_dAE_v'+AEversion+'_best.pkl'))\n",
    "    else:\n",
    "        raise"
   ]
  },
  {
   "cell_type": "code",
   "execution_count": 57,
   "metadata": {
    "ExecuteTime": {
     "end_time": "2019-07-17T13:38:31.264735Z",
     "start_time": "2019-07-17T13:38:30.910269Z"
    }
   },
   "outputs": [
    {
     "data": {
      "image/png": "[encoded data removed]",
      "text/plain": [
       "<Figure size 864x576 with 1 Axes>"
      ]
     },
     "metadata": {
      "needs_background": "light"
     },
     "output_type": "display_data"
    }
   ],
   "source": [
    "loss_history['train'] = np.array(loss_history['train'])\n",
    "matplotlib.rcParams.update({'font.size': 16})\n",
    "\n",
    "f = plt.figure(figsize=(12,8))\n",
    "\n",
    "train_loss_flat = loss_history['train'].flatten()\n",
    "x = np.arange(1, train_loss_flat.shape[0]+1) * float(loss_history['train'].shape[0])/train_loss_flat.shape[0]\n",
    "plt.plot(x, train_loss_flat, '-', alpha=0.2, color='darkorange')\n",
    "\n",
    "x = np.arange(1, loss_history['train'].shape[0]+1)\n",
    "plt.plot(x, loss_history['train'][:,-1], 'o--', label='Train', color='darkorange')\n",
    "plt.plot(x, loss_history['val'], '*', label='Validatation', color='darkmagenta')\n",
    "\n",
    "# lval_feat = np.array(loss_history['val_feat'])\n",
    "# plt.plot(x, lval_feat[:,0], '--.', label='NLL $\\eta$', color='g')\n",
    "# plt.plot(x, lval_feat[:,1], '--.', label='NLL $\\phi$', color='b')\n",
    "# plt.plot(x, lval_feat[:,2], '--.', label='NLL charge-ID cat', color='k')\n",
    "\n",
    "plt.xlabel('Epoch')\n",
    "plt.grid()\n",
    "plt.legend(loc='best')\n",
    "# plt.yscale('log')\n",
    "plt.ylim(-5, 5)\n",
    "\n",
    "f.savefig('plots/TrainingHistory_dAE_v'+AEversion+'.png')\n",
    "\n",
    "f = open('data/TrainingHistory_dAE_v'+AEversion+'.pkl', 'wb')\n",
    "pickle.dump(loss_history, f)\n",
    "f.close()"
   ]
  },
  {
   "cell_type": "code",
   "execution_count": 58,
   "metadata": {
    "ExecuteTime": {
     "end_time": "2019-07-17T13:38:31.268934Z",
     "start_time": "2019-07-17T13:38:31.266636Z"
    },
    "code_folding": [
     3
    ]
   },
   "outputs": [],
   "source": [
    "# f, ax_arr = plt.subplots(2,2, figsize=(12,12))\n",
    "# styles = ['-', '--', ':']\n",
    "# x = BSM_eff['ep']\n",
    "# for i, n in enumerate(dataset.BSM_names):  \n",
    "#     ax = ax_arr[int(i/2),i%2]\n",
    "    \n",
    "#     BSM_eff[n] = np.array(BSM_eff[n])\n",
    "    \n",
    "#     for j in range(BSM_eff['p_SM'].shape[0]):\n",
    "# #         ax.plot(x, len(x)*[BSM_eff['p_SM'][j]], color='gray', lw=2, linestyle=styles[j])\n",
    "#         ax.plot(x, BSM_eff[n][:,j], \n",
    "#                 color=dataset.process_colors[n], lw=3, linestyle=styles[j], \n",
    "#                 label=dataset.process_labels[n] + ' @ $\\epsilon_{{SM}} = {:1.0e}$'.format(BSM_eff['p_SM'][j]))\n",
    "        \n",
    "#     ax.set_xlim([0, x[-1]+1])\n",
    "# #     ax.set_ylim([1e-6, 5])\n",
    "#     ax.set_xlabel('Epoch')\n",
    "#     ax.set_ylabel('Efficiency')\n",
    "#     ax.set_title('')\n",
    "#     ax.set_yscale('log')\n",
    "#     ax.grid()\n",
    "    \n",
    "#     ax.legend(loc='best')\n",
    "    \n",
    "# f.tight_layout()\n",
    "\n",
    "# f = open('data/AnomalyDetectionHistory_dAE_v'+AEversion+'.pkl', 'wb')\n",
    "# pickle.dump(BSM_eff, f)\n",
    "# f.close()"
   ]
  },
  {
   "cell_type": "code",
   "execution_count": 59,
   "metadata": {
    "ExecuteTime": {
     "end_time": "2019-07-17T13:38:31.273117Z",
     "start_time": "2019-07-17T13:38:31.270521Z"
    }
   },
   "outputs": [],
   "source": [
    "# model.load_state_dict(torch.load('data/model_state_dict_dAE_v'+AEversion+'_epoch400.pkl'))"
   ]
  },
  {
   "cell_type": "markdown",
   "metadata": {},
   "source": [
    "# Convergence check"
   ]
  },
  {
   "cell_type": "code",
   "execution_count": 60,
   "metadata": {
    "ExecuteTime": {
     "end_time": "2019-07-17T13:38:31.304952Z",
     "start_time": "2019-07-17T13:38:31.274687Z"
    }
   },
   "outputs": [],
   "source": [
    "dataset.charge(dataset.SMMix_val)\n",
    "x = dataset.inputs\n",
    "model.eval()\n",
    "if model.onGPU:\n",
    "    x_prime = model(torch.from_numpy(x[:10000]).cuda(model.N_GPU)).cpu().detach().numpy()\n",
    "    z = model.encode(torch.from_numpy(x[:10000]).cuda(model.N_GPU)).cpu().detach().numpy()\n",
    "else:\n",
    "    x_prime = model(torch.from_numpy(x[:10000])).cpu().detach().numpy()\n",
    "    z = model.encode(torch.from_numpy(x[:10000])).cpu().detach().numpy()"
   ]
  },
  {
   "cell_type": "markdown",
   "metadata": {},
   "source": [
    "### Latent space"
   ]
  },
  {
   "cell_type": "code",
   "execution_count": 61,
   "metadata": {
    "ExecuteTime": {
     "end_time": "2019-07-17T13:38:31.308359Z",
     "start_time": "2019-07-17T13:38:31.306504Z"
    },
    "code_folding": [],
    "scrolled": true
   },
   "outputs": [],
   "source": [
    "# for i in range(z.shape[1]):\n",
    "#     x_aux = z[:,i]\n",
    "#     f = plt.figure(i)\n",
    "#     r = (np.min(x_aux), np.max(x_aux))\n",
    "#     plt.hist(x_aux, bins=20, range=r, alpha=0.4, density=True)\n",
    "#     plt.xlabel('$z_{{{}}}$'.format(i))\n",
    "#     dnd.append(f)"
   ]
  },
  {
   "cell_type": "markdown",
   "metadata": {},
   "source": [
    "### Output features"
   ]
  },
  {
   "cell_type": "code",
   "execution_count": 62,
   "metadata": {
    "ExecuteTime": {
     "end_time": "2019-07-17T13:38:34.019792Z",
     "start_time": "2019-07-17T13:38:31.309832Z"
    }
   },
   "outputs": [
    {
     "data": {
      "image/png": "[encoded data removed]",
      "text/plain": [
       "<Figure size 432x288 with 1 Axes>"
      ]
     },
     "metadata": {
      "needs_background": "light"
     },
     "output_type": "display_data"
    }
   ],
   "source": [
    "tc = np.argmax(x[:,:,3:], axis=-1).flatten()\n",
    "pc = np.argmax(x_prime[:,:,:], axis=-1).flatten()\n",
    "\n",
    "plt.hist(tc, bins=np.arange(-0.5, 8.5, 1), alpha=0.4, density=True)\n",
    "plt.hist(pc, bins=np.arange(-0.5, 8.5, 1), alpha=0.4, density=True)\n",
    "plt.yscale('log')"
   ]
  },
  {
   "cell_type": "code",
   "execution_count": 63,
   "metadata": {
    "ExecuteTime": {
     "end_time": "2019-07-17T13:38:34.029303Z",
     "start_time": "2019-07-17T13:38:34.021791Z"
    }
   },
   "outputs": [
    {
     "ename": "RuntimeError",
     "evalue": "No active exception to reraise",
     "output_type": "error",
     "traceback": [
      "\u001b[0;31m---------------------------------------------------------------------------\u001b[0m",
      "\u001b[0;31mRuntimeError\u001b[0m                              Traceback (most recent call last)",
      "\u001b[0;32m<ipython-input-63-9c9a2cba73bf>\u001b[0m in \u001b[0;36m<module>\u001b[0;34m\u001b[0m\n\u001b[0;32m----> 1\u001b[0;31m \u001b[0;32mraise\u001b[0m\u001b[0;34m\u001b[0m\u001b[0;34m\u001b[0m\u001b[0m\n\u001b[0m",
      "\u001b[0;31mRuntimeError\u001b[0m: No active exception to reraise"
     ]
    }
   ],
   "source": [
    "raise"
   ]
  },
  {
   "cell_type": "code",
   "execution_count": null,
   "metadata": {
    "ExecuteTime": {
     "end_time": "2019-07-17T13:03:56.821696Z",
     "start_time": "2019-07-17T13:00:12.380Z"
    },
    "code_folding": [],
    "scrolled": false
   },
   "outputs": [],
   "source": [
    "for i in range(x.shape[2]):\n",
    "    x_aux = x[:,:,i].flatten()\n",
    "    if i < 3:\n",
    "        continue\n",
    "        xp_aux = x_prime[:,:,i].flatten()\n",
    "    elif i==3:\n",
    "        xp_aux = np.argmax(x_prime[:,:,6:9], axis=2)\n",
    "        xp_aux = xp_aux.flatten() - 1\n",
    "    elif i==4:\n",
    "        xp_aux = np.argmax(x_prime[:,:,9:14], axis=2).flatten()\n",
    "        \n",
    "    f = plt.figure(i)\n",
    "    r = (min(np.min(x_aux), np.min(xp_aux)), max(np.max(x_aux), np.max(xp_aux)))\n",
    "    if i == 0:\n",
    "        r = (0,10)\n",
    "    plt.hist(x_aux, bins=31, range=r, alpha=0.4, density=True)\n",
    "    plt.hist(xp_aux, bins=31, range=r, alpha=0.4, density=True)\n",
    "    plt.xlabel('Particles ' + dataset.feature_names[i])\n",
    "#     plt.yscale('log')\n",
    "    dnd.append(f)"
   ]
  },
  {
   "cell_type": "markdown",
   "metadata": {},
   "source": [
    "# Performance evaluation"
   ]
  },
  {
   "cell_type": "code",
   "execution_count": null,
   "metadata": {
    "ExecuteTime": {
     "end_time": "2019-07-17T13:03:56.822841Z",
     "start_time": "2019-07-17T13:00:12.382Z"
    }
   },
   "outputs": [],
   "source": [
    "dataset.loadValidationSamples('SM')"
   ]
  },
  {
   "cell_type": "code",
   "execution_count": null,
   "metadata": {
    "ExecuteTime": {
     "end_time": "2019-07-17T13:03:56.823973Z",
     "start_time": "2019-07-17T13:00:12.383Z"
    },
    "code_folding": []
   },
   "outputs": [],
   "source": [
    "model.eval()\n",
    "for n in list(dataset.valSamples.keys()) + ['SMMix']:\n",
    "    dataset.loss[n] = np.zeros((0))\n",
    "    if n == 'SMMix':\n",
    "        dataset.charge(dataset.SMMix_val)\n",
    "    else:\n",
    "        dataset.charge(dataset.valSamples[n])\n",
    "    \n",
    "    data_iter = torch.utils.data.DataLoader(dataset, **eval_params)\n",
    "    pb = ProgressBar(len(data_iter), percentPrecision=5, headLabel=n+': ')\n",
    "    for i, (local_x, _) in enumerate(data_iter):\n",
    "        pb.show(i)\n",
    "        if model.onGPU:\n",
    "            local_x = local_x.cuda(model.N_GPU)\n",
    "            \n",
    "        x_prime = model(local_x)\n",
    "        loss = criterion(local_x, x_prime, 'none').cpu().detach().numpy()\n",
    "        dataset.loss[n] = np.concatenate((dataset.loss[n], loss))"
   ]
  },
  {
   "cell_type": "code",
   "execution_count": null,
   "metadata": {
    "ExecuteTime": {
     "end_time": "2019-07-17T13:03:56.825138Z",
     "start_time": "2019-07-17T13:00:12.384Z"
    }
   },
   "outputs": [],
   "source": [
    "plt.figure(figsize=(12,8))\n",
    "ra = np.array(list(map(lambda x: [np.min(x), np.quantile(x, 1-1e-3)], dataset.loss.values())))\n",
    "r = (np.min(ra[:,0]), np.max(ra[:,1]))\n",
    "\n",
    "for n in ['Ato4l','SMMix']:\n",
    "    plt.hist(dataset.loss[n], bins=31, range=r,\n",
    "             density=True,\n",
    "             color=dataset.process_colors[n], \n",
    "             alpha=0.3, \n",
    "             label=dataset.process_labels[n])\n",
    "plt.yscale('log')\n",
    "plt.legend(loc='best')"
   ]
  },
  {
   "cell_type": "code",
   "execution_count": null,
   "metadata": {
    "ExecuteTime": {
     "end_time": "2019-07-17T13:03:56.826238Z",
     "start_time": "2019-07-17T13:00:12.386Z"
    }
   },
   "outputs": [],
   "source": [
    "dic_ROC = createROC_curve(dataset)\n",
    "pickle.dump(dic_ROC, open('data/dAE_v{}_ROC_dic.pkl'.format(AEversion), 'wb'))"
   ]
  },
  {
   "cell_type": "code",
   "execution_count": null,
   "metadata": {
    "ExecuteTime": {
     "end_time": "2019-07-17T13:03:56.827390Z",
     "start_time": "2019-07-17T13:00:12.387Z"
    },
    "code_folding": [
     1
    ],
    "scrolled": false
   },
   "outputs": [],
   "source": [
    "f_ROC, ax_arr = plt.subplots(2,2, figsize=(12,12))\n",
    "for i, n in enumerate(dataset.BSM_names):\n",
    "    f = open('../data/HLFref1811-10276_loss/VAE_all-in-one_v71_ROC1_dict_{}.pkl'.format(n), 'br')\n",
    "    dRef = pickle.load(f, encoding='bytes')\n",
    "    f.close()\n",
    "    \n",
    "    ax = ax_arr[int(i/2),i%2]\n",
    "    ax.plot(dRef[b'eff_SM'], dRef[b'eff_BSM'], label=dataset.process_labels[n] + ' HLF',\n",
    "            linestyle='--', lw=3, color=dataset.process_colors[n])\n",
    "    ax.plot(dic_ROC[n]['eff_SM'], dic_ROC[n]['eff_BSM'], label=dataset.process_labels[n] + ' PF',\n",
    "            linestyle='-', lw=3, color=dataset.process_colors[n])\n",
    "    ax.plot([0, 1], [0, 1], color='gray', lw=2, linestyle=':')\n",
    "    ax.set_xlim([1e-6, 1.0])\n",
    "    ax.set_ylim([1e-6, 1.05])\n",
    "    ax.set_xlabel('SM efficiency')\n",
    "    ax.set_ylabel('BSM efficiency')\n",
    "    ax.set_title('')\n",
    "    ax.set_yscale('log')\n",
    "    ax.set_xscale('log')\n",
    "    ax.grid()\n",
    "    \n",
    "    ax.legend(loc='lower right')\n",
    "    \n",
    "f_ROC.tight_layout()"
   ]
  },
  {
   "cell_type": "markdown",
   "metadata": {},
   "source": [
    "## Latent dimension clustering"
   ]
  },
  {
   "cell_type": "code",
   "execution_count": null,
   "metadata": {
    "ExecuteTime": {
     "end_time": "2019-07-17T13:03:56.828522Z",
     "start_time": "2019-07-17T13:00:12.389Z"
    }
   },
   "outputs": [],
   "source": [
    "from sklearn.manifold import TSNE"
   ]
  },
  {
   "cell_type": "code",
   "execution_count": null,
   "metadata": {
    "ExecuteTime": {
     "end_time": "2019-07-17T13:03:56.829633Z",
     "start_time": "2019-07-17T13:00:12.390Z"
    }
   },
   "outputs": [],
   "source": [
    "dataset.encoded = {}\n",
    "\n",
    "for n in dataset.BSM_names:    \n",
    "    dataset.charge(dataset.valSamples[n][:10000])\n",
    "    x_in = torch.Tensor(dataset.inputs)\n",
    "    if model.onGPU:\n",
    "        x_in = x_in.cuda(model.N_GPU)\n",
    "    dataset.encoded[n] = model.encode(x_in).cpu().detach().numpy()\n",
    "    \n",
    "dataset.charge(dataset.SMMix_val[:10000])\n",
    "x_in = torch.Tensor(dataset.inputs)\n",
    "if model.onGPU:\n",
    "        x_in = x_in.cuda(model.N_GPU)\n",
    "dataset.encoded['SMMix'] = model.encode(x_in).cpu().detach().numpy()"
   ]
  },
  {
   "cell_type": "code",
   "execution_count": null,
   "metadata": {
    "ExecuteTime": {
     "end_time": "2019-07-17T13:03:56.830785Z",
     "start_time": "2019-07-17T13:00:12.391Z"
    }
   },
   "outputs": [],
   "source": [
    "idx_max = 1000 #np.min(list(map(lambda x: x.shape[0], dataset.encoded.values())))\n",
    "z_dset = np.zeros((0, model.Nk))\n",
    "\n",
    "for n in dataset.encoded.keys():\n",
    "    z_dset = np.concatenate((z_dset, dataset.encoded[n][:idx_max]))\n",
    "    \n",
    "z_embedded = TSNE(n_components=2).fit_transform(z_dset)"
   ]
  },
  {
   "cell_type": "code",
   "execution_count": null,
   "metadata": {
    "ExecuteTime": {
     "end_time": "2019-07-17T13:03:56.831898Z",
     "start_time": "2019-07-17T13:00:12.394Z"
    },
    "scrolled": false
   },
   "outputs": [],
   "source": [
    "f = plt.figure(figsize=(8,8))\n",
    "\n",
    "for i, n in enumerate(dataset.encoded.keys()):\n",
    "#     if not n in ['Ato4l', 'SMMix']: continue\n",
    "    aux_z = z_embedded[i*idx_max: (i+1)*idx_max]\n",
    "    plt.plot(aux_z[:,0], aux_z[:,1], \n",
    "             'o',\n",
    "             color=dataset.process_colors[n], \n",
    "             mfc='none',\n",
    "             label=dataset.process_labels[n])\n",
    "    \n",
    "plt.xlabel('Embedded 0')\n",
    "plt.ylabel('Embedded 1')\n",
    "plt.legend(loc='best')\n",
    "f.tight_layout()"
   ]
  },
  {
   "cell_type": "code",
   "execution_count": null,
   "metadata": {},
   "outputs": [],
   "source": []
  }
 ],
 "metadata": {
  "kernelspec": {
   "display_name": "Python 3",
   "language": "python",
   "name": "python3"
  },
  "language_info": {
   "codemirror_mode": {
    "name": "ipython",
    "version": 3
   },
   "file_extension": ".py",
   "mimetype": "text/x-python",
   "name": "python",
   "nbconvert_exporter": "python",
   "pygments_lexer": "ipython3",
   "version": "3.7.3"
  }
 },
 "nbformat": 4,
 "nbformat_minor": 2
}
