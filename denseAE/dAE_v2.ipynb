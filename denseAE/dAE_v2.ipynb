{
 "cells": [
  {
   "cell_type": "markdown",
   "metadata": {},
   "source": [
    "First production dense AE with SM dataset externally loaded"
   ]
  },
  {
   "cell_type": "code",
   "execution_count": 1,
   "metadata": {},
   "outputs": [],
   "source": [
    "AEversion = '2'"
   ]
  },
  {
   "cell_type": "code",
   "execution_count": 2,
   "metadata": {},
   "outputs": [],
   "source": [
    "import numpy as np\n",
    "import os, sys, pickle\n",
    "import matplotlib.pyplot as plt\n",
    "import matplotlib\n",
    "%matplotlib inline"
   ]
  },
  {
   "cell_type": "code",
   "execution_count": 3,
   "metadata": {},
   "outputs": [
    {
     "name": "stderr",
     "output_type": "stream",
     "text": [
      "Error on querying NVIDIA devices. Use --debug flag for details\n"
     ]
    }
   ],
   "source": [
    "import gpustat\n",
    "try:\n",
    "    gpustat.print_gpustat()\n",
    "except:\n",
    "    pass"
   ]
  },
  {
   "cell_type": "code",
   "execution_count": 4,
   "metadata": {},
   "outputs": [],
   "source": [
    "import torch\n",
    "import torch.nn as nn\n",
    "import torch.nn.functional as F"
   ]
  },
  {
   "cell_type": "code",
   "execution_count": 5,
   "metadata": {},
   "outputs": [],
   "source": [
    "sys.path.append('../lib')\n",
    "from progressBar import ProgressBar\n",
    "from utils import EarlyStopping"
   ]
  },
  {
   "cell_type": "code",
   "execution_count": 6,
   "metadata": {},
   "outputs": [],
   "source": [
    "dnd = []"
   ]
  },
  {
   "cell_type": "markdown",
   "metadata": {},
   "source": [
    "## Get the dataset"
   ]
  },
  {
   "cell_type": "code",
   "execution_count": 7,
   "metadata": {},
   "outputs": [],
   "source": [
    "from dataLoaders import ParticleDataset"
   ]
  },
  {
   "cell_type": "code",
   "execution_count": 8,
   "metadata": {},
   "outputs": [],
   "source": [
    "dataset = ParticleDataset(template='../data/20190702_50part_PtOrder_v1/{}.npy', N_part=20, N_features=5)"
   ]
  },
  {
   "cell_type": "code",
   "execution_count": 9,
   "metadata": {},
   "outputs": [
    {
     "name": "stdout",
     "output_type": "stream",
     "text": [
      "Expected 0.10M train\n",
      "Expected 0.10M val\n",
      "\n",
      "Loading Wlnu\n",
      "Loading qcd\n",
      "Loading Zll\n",
      "Loading ttbar\n",
      "+--------+----------+-------+-----+\n",
      "| Sample | Evts tot | Train | Val |\n",
      "+--------+----------+-------+-----+\n",
      "|  Wlnu  |  2000k   |  59k  | 59k |\n",
      "|  qcd   |   690k   |  34k  | 34k |\n",
      "|  Zll   |  1000k   |   7k  |  7k |\n",
      "| ttbar  |  1000k   |   0k  |  0k |\n",
      "+--------+----------+-------+-----+\n",
      "Tot training 0.10 M\n",
      "Tot val 0.10 M\n"
     ]
    }
   ],
   "source": [
    "dataset.loadTrainSM(N_train_max=1e5)\n",
    "dataset.charge(dataset.SMMix_train)"
   ]
  },
  {
   "cell_type": "markdown",
   "metadata": {},
   "source": [
    "## Define the model"
   ]
  },
  {
   "cell_type": "code",
   "execution_count": 10,
   "metadata": {
    "code_folding": [
     0
    ]
   },
   "outputs": [],
   "source": [
    "class AEDenseNet(nn.Module):\n",
    "    def __init__(self, N_part, N_features, dim_hidden, dim_latent, verbose = False):\n",
    "        super(AEDenseNet, self).__init__()\n",
    "        self.verbose = verbose\n",
    "        \n",
    "        self.No = N_part\n",
    "        self.p = N_features\n",
    "        self.Nk = dim_latent\n",
    "        \n",
    "        self.encoder_modules = nn.ModuleDict({\n",
    "            'PhiE': self.build_dense(dim_in=self.p*self.No,\n",
    "                                   dim_out=self.Nk,\n",
    "                                   dim_hidden=dim_hidden)\n",
    "        })\n",
    "        \n",
    "        \n",
    "        self.decoder_modules = nn.ModuleDict({\n",
    "            'PhiD': self.build_dense(dim_in=self.Nk,\n",
    "                                   dim_out=self.p*self.No,\n",
    "                                   dim_hidden=dim_hidden),\n",
    "            'ChargeDec': self.build_dense(dim_in=2,\n",
    "                                   dim_out=3),\n",
    "            'pdgIdDec': self.build_dense(dim_in=2,\n",
    "                                   dim_out=5)\n",
    "        })\n",
    "        \n",
    "        \n",
    "        self.onGPU = False\n",
    "          \n",
    "    def build_dense(self, dim_in, dim_out, dim_hidden=0):\n",
    "        if dim_hidden:\n",
    "            net = nn.Sequential(\n",
    "                                nn.Linear(dim_in, dim_hidden),\n",
    "#                                 nn.ELU(),\n",
    "#                                 nn.Linear(dim_hidden, dim_hidden),\n",
    "                                nn.ReLU(),\n",
    "                                nn.Linear(dim_hidden, dim_out),\n",
    "                              )\n",
    "        else:\n",
    "            d_avg = int(0.5*(dim_in + dim_out))\n",
    "            net = nn.Sequential(\n",
    "                                nn.Linear(dim_in, d_avg),\n",
    "                                nn.ReLU(),\n",
    "                                nn.Linear(d_avg, dim_out),\n",
    "                              )\n",
    "        return net\n",
    "        \n",
    "    def encode(self, x):\n",
    "        z_raw = self.encoder_modules['PhiE'](x.contiguous().view(-1, self.p*self.No))\n",
    "        z = F.hardtanh(z_raw, min_val=-5, max_val=5)\n",
    "        return z\n",
    "    \n",
    "    def decode(self, z):\n",
    "        x_raw = self.decoder_modules['PhiD'](z).view(-1, self.No, self.p)\n",
    "        \n",
    "        # --- Formatting x ----\n",
    "        # pt\n",
    "        pt = 1. + F.elu(x_raw[:,:,0]).view(-1, self.No, 1)\n",
    "        # eta\n",
    "        eta = F.hardtanh(x_raw[:,:,1], min_val=-5, max_val=5).view(-1, self.No, 1)\n",
    "        # phi\n",
    "        phi = torch.fmod(torch.abs(x_raw[:,:,2]), 6.2831853072).view(-1, self.No, 1) - 3.14159265359\n",
    "        # charge\n",
    "        charge_cat = F.softmax(self.decoder_modules['ChargeDec'](x_raw[:,:,3:].view(-1,2)), dim=1)\n",
    "        charge = torch.argmax(charge_cat, dim=1).view(-1, self.No, 1) - 1.\n",
    "        # pId\n",
    "        pId_cat = F.softmax(self.decoder_modules['pdgIdDec'](x_raw[:,:,3:].view(-1,2)), dim=1)\n",
    "        pId = torch.argmax(pId_cat, dim=1).view(-1, self.No, 1)\n",
    "        \n",
    "        x = torch.cat((pt,eta, phi, charge.float(), pId.float()), 2)\n",
    "        return x\n",
    "        \n",
    "    \n",
    "    def forward(self, x):\n",
    "        z = self.encode(x)\n",
    "        x_prime = self.decode(z)\n",
    "        return x_prime\n",
    "    \n",
    "    def initWeights(self):\n",
    "        def weights_init(M):\n",
    "            if hasattr(M, 'weight'):\n",
    "                nn.init.xavier_normal_(M.weight.data)\n",
    "        \n",
    "        self.apply(weights_init)\n",
    "    \n",
    "    def useGPU(self, N_GPU=1):\n",
    "        if torch.cuda.is_available():\n",
    "            print('Current device: {} ({} available)'.format(torch.cuda.current_device(), \n",
    "                                                             torch.cuda.device_count()))\n",
    "            self.N_GPU = N_GPU\n",
    "            torch.cuda.empty_cache()\n",
    "            self.cuda(N_GPU)\n",
    "            gpustat.print_gpustat()\n",
    "            \n",
    "            self.onGPU = True\n",
    "        else: \n",
    "            print('GPU not available')"
   ]
  },
  {
   "cell_type": "code",
   "execution_count": 11,
   "metadata": {
    "code_folding": []
   },
   "outputs": [
    {
     "name": "stdout",
     "output_type": "stream",
     "text": [
      "AEDenseNet(\n",
      "  (encoder_modules): ModuleDict(\n",
      "    (PhiE): Sequential(\n",
      "      (0): Linear(in_features=100, out_features=55, bias=True)\n",
      "      (1): ReLU()\n",
      "      (2): Linear(in_features=55, out_features=10, bias=True)\n",
      "    )\n",
      "  )\n",
      "  (decoder_modules): ModuleDict(\n",
      "    (ChargeDec): Sequential(\n",
      "      (0): Linear(in_features=2, out_features=2, bias=True)\n",
      "      (1): ReLU()\n",
      "      (2): Linear(in_features=2, out_features=3, bias=True)\n",
      "    )\n",
      "    (PhiD): Sequential(\n",
      "      (0): Linear(in_features=10, out_features=55, bias=True)\n",
      "      (1): ReLU()\n",
      "      (2): Linear(in_features=55, out_features=100, bias=True)\n",
      "    )\n",
      "    (pdgIdDec): Sequential(\n",
      "      (0): Linear(in_features=2, out_features=3, bias=True)\n",
      "      (1): ReLU()\n",
      "      (2): Linear(in_features=3, out_features=5, bias=True)\n",
      "    )\n",
      "  )\n",
      ")\n",
      "\n",
      "Trainable parameters: 12364\n"
     ]
    }
   ],
   "source": [
    "Latent_dimension = int(0.5*dataset.inputs.shape[1])\n",
    "Hidden_dimension = int(0.5*(Latent_dimension + dataset.inputs.shape[1]*dataset.inputs.shape[2]))\n",
    "\n",
    "model = AEDenseNet(\n",
    "                   N_part=dataset.inputs.shape[1],\n",
    "                   N_features=dataset.inputs.shape[2],\n",
    "                   dim_hidden=Hidden_dimension,\n",
    "                   dim_latent=Latent_dimension\n",
    "                  )\n",
    "\n",
    "print(model)\n",
    "trainablePars = sum(p.numel() for p in model.parameters() if p.requires_grad)\n",
    "print('\\nTrainable parameters:', trainablePars)\n",
    "\n",
    "# model.initWeights()"
   ]
  },
  {
   "cell_type": "code",
   "execution_count": 12,
   "metadata": {},
   "outputs": [
    {
     "name": "stdout",
     "output_type": "stream",
     "text": [
      "GPU not available\n"
     ]
    }
   ],
   "source": [
    "model.useGPU(0)"
   ]
  },
  {
   "cell_type": "markdown",
   "metadata": {},
   "source": [
    "## Loss"
   ]
  },
  {
   "cell_type": "code",
   "execution_count": 29,
   "metadata": {},
   "outputs": [],
   "source": [
    "def criterion(x_in, x_out, reduction='mean'):\n",
    "    flattened_shape = x_in.shape[1]*x_in.shape[2]\n",
    "    out = F.l1_loss(x_in.view(-1, flattened_shape), \n",
    "                    x_out.view(-1, flattened_shape), \n",
    "                    reduction='none'\n",
    "                    )\n",
    "    out_per_evt = torch.sum(out, dim=1)\n",
    "    if reduction == 'mean':\n",
    "        return torch.mean(out_per_evt)\n",
    "    elif reduction == 'none':\n",
    "        return out_per_evt\n",
    "    else:\n",
    "        raise"
   ]
  },
  {
   "cell_type": "markdown",
   "metadata": {},
   "source": [
    "## Training"
   ]
  },
  {
   "cell_type": "code",
   "execution_count": 14,
   "metadata": {},
   "outputs": [],
   "source": [
    "training_params = {'batch_size': 5000,\n",
    "                   'shuffle': True,\n",
    "                   'num_workers': 0\n",
    "                  }\n",
    "\n",
    "max_epochs = 5"
   ]
  },
  {
   "cell_type": "code",
   "execution_count": 15,
   "metadata": {},
   "outputs": [],
   "source": [
    "torch.autograd.set_detect_anomaly(True);"
   ]
  },
  {
   "cell_type": "code",
   "execution_count": 16,
   "metadata": {},
   "outputs": [],
   "source": [
    "optimizer = torch.optim.Adam(model.parameters(), lr=1e-3)\n",
    "optimizer.zero_grad()\n",
    "\n",
    "from torch.optim.lr_scheduler import ReduceLROnPlateau\n",
    "scheduler = ReduceLROnPlateau(optimizer, \n",
    "                              mode='min',\n",
    "                              factor=0.3,\n",
    "                              patience=3,\n",
    "                              verbose=1,\n",
    "                              threshold=1e-4,\n",
    "                              cooldown=2,\n",
    "                              min_lr=1e-7\n",
    "                             )\n",
    "\n",
    "# Early stopping\n",
    "earlyStopping = EarlyStopping(patient=10)"
   ]
  },
  {
   "cell_type": "code",
   "execution_count": 17,
   "metadata": {
    "code_folding": [
     24
    ],
    "scrolled": true
   },
   "outputs": [
    {
     "name": "stdout",
     "output_type": "stream",
     "text": [
      "Epoch 0: [####################]  100% - Tot. time: 3.7 s            \n",
      "Loss: 1.51e+00\n",
      "Val Loss: 1.51e+00\n",
      "\n",
      "Epoch 1: [####################]  100% - Tot. time: 3.7 s                        \n",
      "Loss: 1.41e+00 - Delta: -1.08e-01\n",
      "Val Loss: 1.41e+00\n",
      "\n",
      "Epoch 2: [####################]  100% - Tot. time: 3.9 s                        \n",
      "Loss: 1.38e+00 - Delta: -2.64e-02 - Trend: 8.20e-02\n",
      "Val Loss: 1.38e+00\n",
      "\n",
      "Epoch 3: [####################]  100% - Tot. time: 4.4 s                        \n",
      "Loss: 1.36e+00 - Delta: -2.29e-02 - Trend: 3.49e-03\n",
      "Val Loss: 1.36e+00\n",
      "\n",
      "Epoch 4: [####################]  100% - Tot. time: 3.7 s                        \n",
      "Loss: 1.34e+00 - Delta: -1.95e-02 - Trend: 3.37e-03\n",
      "Val Loss: 1.34e+00\n",
      "\n"
     ]
    }
   ],
   "source": [
    "train_loss = []\n",
    "loss_history = {'train': [], 'val': []}\n",
    "for epoch in range(1, max_epochs+1):\n",
    "    batch_loss = []\n",
    "    \n",
    "    #Training\n",
    "    model.train()\n",
    "    dataset.charge(dataset.SMMix_train)\n",
    "    train_data_iter = torch.utils.data.DataLoader(dataset, **training_params)\n",
    "    pb = ProgressBar(len(train_data_iter), percentPrecision=5, headLabel='Epoch {}: '.format(epoch-1))\n",
    "    for local_x, _ in train_data_iter:\n",
    "        if model.onGPU:\n",
    "            local_x = local_x.cuda(model.N_GPU)\n",
    "        \n",
    "        x_prime = model(local_x)\n",
    "        loss = criterion(local_x, x_prime)\n",
    "        batch_loss.append(loss.item())\n",
    "        \n",
    "        tail_label = 'Loss: {:2.2e}'.format(loss.item())\n",
    "        if len(loss_history['train']) > 0:\n",
    "            tail_label += ' ({:2.2e})'.format(loss.item() - loss_history['train'][-1][-1])\n",
    "        pb.show(len(batch_loss)-1, tail_label=tail_label)\n",
    "        loss.backward()\n",
    "        optimizer.step()\n",
    "        optimizer.zero_grad()\n",
    "        \n",
    "    model.eval()\n",
    "    aux_loss = 0\n",
    "    N_batches = 0\n",
    "    for local_x, _ in train_data_iter:\n",
    "        if model.onGPU:\n",
    "            local_x = local_x.cuda(model.N_GPU)\n",
    "        x_prime = model(local_x)\n",
    "        loss = criterion(local_x, x_prime)\n",
    "        aux_loss += loss.item()\n",
    "        N_batches += 1\n",
    "    batch_loss.append(aux_loss/N_batches)\n",
    "    \n",
    "    printout = 'Loss: {:2.2e}'.format(batch_loss[-1])\n",
    "    if len(loss_history['train']) > 0:\n",
    "        printout += ' - Delta: {:2.2e}'.format(batch_loss[-1] - loss_history['train'][-1][-1])\n",
    "    if len(loss_history['train']) > 1:\n",
    "        d2L_de2 = batch_loss[-1] - 2*loss_history['train'][-1][-1] + loss_history['train'][-2][-1]\n",
    "        printout +=' - Trend: {:2.2e}'.format(d2L_de2)\n",
    "    print(printout)\n",
    "    \n",
    "    loss_history['train'].append(batch_loss)\n",
    "    \n",
    "    #Validation\n",
    "    dataset.charge(dataset.SMMix_val)\n",
    "    val_data_iter = torch.utils.data.DataLoader(dataset, **training_params)\n",
    "    aux_loss = 0\n",
    "    N_batches = 0\n",
    "    for local_x, _ in val_data_iter:\n",
    "        if model.onGPU:\n",
    "            local_x = local_x.cuda(model.N_GPU)\n",
    "        x_prime = model(local_x)\n",
    "        loss = criterion(local_x, x_prime)\n",
    "        aux_loss += loss.item()\n",
    "        N_batches += 1\n",
    "    loss_history['val'].append(aux_loss/N_batches)\n",
    "    printout = 'Val Loss: {:2.2e}'.format(loss_history['val'][-1])\n",
    "    print(printout)\n",
    "    \n",
    "    print('')\n",
    "    if not earlyStopping.check(loss_history['val'][-1]):\n",
    "        break\n",
    "\n",
    "    scheduler.step(batch_loss[-1])\n",
    "\n",
    "model.eval();"
   ]
  },
  {
   "cell_type": "code",
   "execution_count": 18,
   "metadata": {},
   "outputs": [
    {
     "data": {
      "image/png": "[encoded data removed]",
      "text/plain": [
       "<Figure size 1152x576 with 1 Axes>"
      ]
     },
     "metadata": {
      "needs_background": "light"
     },
     "output_type": "display_data"
    }
   ],
   "source": [
    "loss_history['train'] = np.array(loss_history['train'])\n",
    "matplotlib.rcParams.update({'font.size': 16})\n",
    "\n",
    "f = plt.figure(figsize=(16,8))\n",
    "\n",
    "train_loss_flat = loss_history['train'].flatten()\n",
    "x = np.arange(1, train_loss_flat.shape[0]+1) * float(loss_history['train'].shape[0])/train_loss_flat.shape[0]\n",
    "plt.plot(x, train_loss_flat, '-', alpha=0.2, color='darkorange')\n",
    "\n",
    "x = np.arange(1, loss_history['train'].shape[0]+1)\n",
    "plt.plot(x, loss_history['train'][:,-1], 'o--', label='Train', color='darkorange')\n",
    "plt.plot(x, loss_history['val'], '*', label='Train', color='darkmagenta')\n",
    "\n",
    "plt.xlabel('Epoch')\n",
    "plt.grid()\n",
    "plt.legend(loc='best')\n",
    "plt.yscale('log')\n",
    "plt.ylim(0.9*np.min(train_loss_flat), 1.1*np.max(loss_history['train'][1:, -1]))\n",
    "\n",
    "f.savefig('plots/TrainingHistory_dAE_v'+AEversion+'.png')\n",
    "\n",
    "f = open('data/TrainingHistory_dAE_v'+AEversion+'.pkl', 'wb')\n",
    "pickle.dump(loss_history, f)\n",
    "f.close()"
   ]
  },
  {
   "cell_type": "markdown",
   "metadata": {},
   "source": [
    "# Convergence check"
   ]
  },
  {
   "cell_type": "code",
   "execution_count": 19,
   "metadata": {},
   "outputs": [],
   "source": [
    "x = dataset.inputs\n",
    "model.eval()\n",
    "if model.onGPU:\n",
    "    x_prime = model(torch.from_numpy(x[:10000]).cuda()).cpu().detach().numpy()\n",
    "    z = model.encode(torch.from_numpy(x[:10000]).cuda()).cpu().detach().numpy()\n",
    "else:\n",
    "    x_prime = model(torch.from_numpy(x[:10000])).cpu().detach().numpy()\n",
    "    z = model.encode(torch.from_numpy(x[:10000])).cpu().detach().numpy()"
   ]
  },
  {
   "cell_type": "markdown",
   "metadata": {},
   "source": [
    "### Latent space"
   ]
  },
  {
   "cell_type": "code",
   "execution_count": 20,
   "metadata": {
    "scrolled": false
   },
   "outputs": [
    {
     "data": {
      "image/png": "[encoded data removed]",
      "text/plain": [
       "<Figure size 432x288 with 1 Axes>"
      ]
     },
     "metadata": {
      "needs_background": "light"
     },
     "output_type": "display_data"
    },
    {
     "data": {
      "image/png": "[encoded data removed]",
      "text/plain": [
       "<Figure size 432x288 with 1 Axes>"
      ]
     },
     "metadata": {
      "needs_background": "light"
     },
     "output_type": "display_data"
    },
    {
     "data": {
      "image/png": "[encoded data removed]",
      "text/plain": [
       "<Figure size 432x288 with 1 Axes>"
      ]
     },
     "metadata": {
      "needs_background": "light"
     },
     "output_type": "display_data"
    },
    {
     "data": {
      "image/png": "[encoded data removed]",
      "text/plain": [
       "<Figure size 432x288 with 1 Axes>"
      ]
     },
     "metadata": {
      "needs_background": "light"
     },
     "output_type": "display_data"
    },
    {
     "data": {
      "image/png": "[encoded data removed]",
      "text/plain": [
       "<Figure size 432x288 with 1 Axes>"
      ]
     },
     "metadata": {
      "needs_background": "light"
     },
     "output_type": "display_data"
    },
    {
     "data": {
      "image/png": "[encoded data removed]",
      "text/plain": [
       "<Figure size 432x288 with 1 Axes>"
      ]
     },
     "metadata": {
      "needs_background": "light"
     },
     "output_type": "display_data"
    },
    {
     "data": {
      "image/png": "[encoded data removed]",
      "text/plain": [
       "<Figure size 432x288 with 1 Axes>"
      ]
     },
     "metadata": {
      "needs_background": "light"
     },
     "output_type": "display_data"
    },
    {
     "data": {
      "image/png": "[encoded data removed]",
      "text/plain": [
       "<Figure size 432x288 with 1 Axes>"
      ]
     },
     "metadata": {
      "needs_background": "light"
     },
     "output_type": "display_data"
    },
    {
     "data": {
      "image/png": "[encoded data removed]",
      "text/plain": [
       "<Figure size 432x288 with 1 Axes>"
      ]
     },
     "metadata": {
      "needs_background": "light"
     },
     "output_type": "display_data"
    },
    {
     "data": {
      "image/png": "[encoded data removed]",
      "text/plain": [
       "<Figure size 432x288 with 1 Axes>"
      ]
     },
     "metadata": {
      "needs_background": "light"
     },
     "output_type": "display_data"
    }
   ],
   "source": [
    "for i in range(z.shape[1]):\n",
    "    x_aux = z[:,i]\n",
    "    f = plt.figure(i)\n",
    "    r = (np.min(x_aux), np.max(x_aux))\n",
    "    plt.hist(x_aux, bins=20, range=r, alpha=0.4, density=True)\n",
    "    plt.xlabel('$z_{{{}}}$'.format(i))\n",
    "    dnd.append(f)"
   ]
  },
  {
   "cell_type": "markdown",
   "metadata": {},
   "source": [
    "### Output features"
   ]
  },
  {
   "cell_type": "code",
   "execution_count": 21,
   "metadata": {
    "scrolled": false
   },
   "outputs": [
    {
     "data": {
      "image/png": "[encoded data removed]",
      "text/plain": [
       "<Figure size 432x288 with 1 Axes>"
      ]
     },
     "metadata": {
      "needs_background": "light"
     },
     "output_type": "display_data"
    },
    {
     "data": {
      "image/png": "[encoded data removed]",
      "text/plain": [
       "<Figure size 432x288 with 1 Axes>"
      ]
     },
     "metadata": {
      "needs_background": "light"
     },
     "output_type": "display_data"
    },
    {
     "data": {
      "image/png": "[encoded data removed]",
      "text/plain": [
       "<Figure size 432x288 with 1 Axes>"
      ]
     },
     "metadata": {
      "needs_background": "light"
     },
     "output_type": "display_data"
    },
    {
     "data": {
      "image/png": "[encoded data removed]",
      "text/plain": [
       "<Figure size 432x288 with 1 Axes>"
      ]
     },
     "metadata": {
      "needs_background": "light"
     },
     "output_type": "display_data"
    },
    {
     "data": {
      "image/png": "[encoded data removed]",
      "text/plain": [
       "<Figure size 432x288 with 1 Axes>"
      ]
     },
     "metadata": {
      "needs_background": "light"
     },
     "output_type": "display_data"
    }
   ],
   "source": [
    "for i in range(x_prime.shape[2]):\n",
    "    x_aux = x[:,:,i].flatten()\n",
    "    xp_aux = x_prime[:,:,i].flatten()\n",
    "    f = plt.figure(i)\n",
    "    r = (min(np.min(x_aux), np.min(xp_aux)), max(np.max(x_aux), np.max(xp_aux)))\n",
    "    plt.hist(x_aux, bins=20, range=r, alpha=0.4, density=True)\n",
    "    plt.hist(xp_aux, bins=20, range=r, alpha=0.4, density=True)\n",
    "    plt.xlabel('Particles ' + dataset.feature_names[i])\n",
    "    plt.yscale('log')\n",
    "    dnd.append(f)"
   ]
  },
  {
   "cell_type": "markdown",
   "metadata": {},
   "source": [
    "# Performance evaluation"
   ]
  },
  {
   "cell_type": "code",
   "execution_count": 22,
   "metadata": {},
   "outputs": [
    {
     "name": "stdout",
     "output_type": "stream",
     "text": [
      "Loading Ato4l\n",
      "Loading leptoquark\n",
      "Loading hToTauTau\n",
      "Loading hChToTauNu\n",
      "Loading Wlnu\n",
      "Loading qcd\n",
      "Loading Zll\n",
      "Loading ttbar\n",
      "SM Mix limiting stat. sample: qcd (0.66M)\n",
      "SM validation weights\n",
      "['Wlnu', 'qcd', 'Zll', 'ttbar']\n",
      "[0.5921891539876192978, 1.0, 0.13095252987918460496, 0.0058260081574768291037]\n"
     ]
    }
   ],
   "source": [
    "dataset.loadValidationSamples()"
   ]
  },
  {
   "cell_type": "code",
   "execution_count": 34,
   "metadata": {},
   "outputs": [
    {
     "name": "stdout",
     "output_type": "stream",
     "text": [
      "Ato4l: [##########]  100% - Tot. time: 1.3 s\n",
      "leptoquark: [####################]  100% - Tot. time: 7.6 s\n",
      "hToTauTau: [####################]  100% - Tot. time: 13.6 s\n",
      "hChToTauNu: [####################]  100% - Tot. time: 9.6 s\n",
      "Wlnu: [####################]  100% - Tot. time: 54.4 s\n",
      "qcd: [####################]  100% - Tot. time: 21.0 s\n",
      "Zll: [####################]  100% - Tot. time: 30.0 s\n",
      "ttbar: [####################]  100% - Tot. time: 30.7 s\n"
     ]
    }
   ],
   "source": [
    "dataset.loss = {}\n",
    "\n",
    "eval_params = {'batch_size': 5000,\n",
    "               'num_workers': 0\n",
    "              }\n",
    "model.eval()\n",
    "for n in dataset.valSamples.keys():\n",
    "    dataset.loss[n] = np.zeros((0))\n",
    "    \n",
    "    dataset.charge(dataset.valSamples[n])\n",
    "    data_iter = torch.utils.data.DataLoader(dataset, **eval_params)\n",
    "    pb = ProgressBar(len(data_iter), percentPrecision=5, headLabel=n+': ')\n",
    "    for i, (local_x, _) in enumerate(data_iter):\n",
    "        pb.show(i)\n",
    "        if model.onGPU:\n",
    "            local_x = local_x.cuda(model.N_GPU)\n",
    "            \n",
    "        x_prime = model(local_x)\n",
    "        loss = criterion(local_x, x_prime, 'none').cpu().detach().numpy()\n",
    "        dataset.loss[n] = np.concatenate((dataset.loss[n], loss))"
   ]
  },
  {
   "cell_type": "code",
   "execution_count": null,
   "metadata": {},
   "outputs": [],
   "source": [
    "def createROC_curve(dataset):\n",
    "    loss_dic = dataset.loss\n",
    "    weight_dic = dict(zip(dataset.SM_names, dataset.SM_val_weights))\n",
    "    \n",
    "    p_SM = np.logspace(base=10, start=-7, stop=0, num=100)\n",
    "    p_SM[-1] = 0.999\n",
    "\n",
    "    t_SM = np.concatenate((loss_dic['Wlnu'], \n",
    "                           loss_dic['qcd'],\n",
    "                           loss_dic['Zll'],\n",
    "                           loss_dic['ttbar']\n",
    "                          ))\n",
    "    \n",
    "    w_SM = np.concatenate((np.full_like(loss_dic['Wlnu'], weight_dic['Wlnu'], np.float128),\n",
    "                           np.full_like(loss_dic['qcd'], weight_dic['qcd'], np.float128),\n",
    "                           np.full_like(loss_dic['Zll'], weight_dic['Zll'], np.float128),\n",
    "                           np.full_like(loss_dic['ttbar'], weight_dic['ttbar'], np.float128)\n",
    "                          ))\n",
    "    \n",
    "    i_sort = np.argsort(t_SM)\n",
    "    \n",
    "    t_SM = t_SM[i_sort]\n",
    "    w_SM = w_SM[i_sort]\n",
    "    \n",
    "    l = np.zeros(4)\n",
    "    for i,n in enumerate(dataset.SM_names):\n",
    "            l[i] = dataset.valSamples[n].shape[0]\n",
    "    i_min = np.argmin(l/dataset.SM_fraction)\n",
    "    \n",
    "    cum_sum = np.cumsum(w_SM, dtype=np.float128)/np.float128(l[i_min]/fraction[i_min])\n",
    "    print 'CumSum accuracy:', cum_sum[-1]\n",
    "    \n",
    "    idx_q = np.argmax(cum_sum>np.atleast_2d(1-p_SM).T, axis=1)\n",
    "    q_SM = t_SM[idx_q]\n",
    "    \n",
    "    for n in BSM_samples:\n",
    "        out = loss_sig[n][ll] > np.atleast_2d(q_SM).T\n",
    "        p_BSM = np.float64(np.sum(out, axis=1, dtype=np.float128)/loss_sig[n].shape[1])\n",
    "        \n",
    "        roc_auc = np.trapz(p_BSM, p_SM)\n",
    "        \n",
    "        dic2save = {'eff_BSM':p_BSM, 'eff_SM':p_SM, 'roc_auc':roc_auc}\n",
    "        fileout = open('VAE_all-in-one_v{}_ROC{}_dict_{}.pkl'.format(VAEversion, ll, n), 'w')\n",
    "        pickle.dump(file=fileout, obj=dic2save)\n",
    "        fileout.close()\n",
    "    \n",
    "        ax_arr_ROC.plot(p_SM, p_BSM, label='{} (area = {:0.2f})'.format(n, roc_auc))\n",
    "        \n",
    "    ax_arr_ROC.legend(loc=\"lower right\")\n",
    "    f_ROC.savefig('plots/ROC_VAE'+str(ll)+'.png')"
   ]
  }
 ],
 "metadata": {
  "kernelspec": {
   "display_name": "Python 3",
   "language": "python",
   "name": "python3"
  },
  "language_info": {
   "codemirror_mode": {
    "name": "ipython",
    "version": 3
   },
   "file_extension": ".py",
   "mimetype": "text/x-python",
   "name": "python",
   "nbconvert_exporter": "python",
   "pygments_lexer": "ipython3",
   "version": "3.7.3"
  }
 },
 "nbformat": 4,
 "nbformat_minor": 2
}
