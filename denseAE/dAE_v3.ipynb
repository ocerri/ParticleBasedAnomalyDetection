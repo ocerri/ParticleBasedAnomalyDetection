{
 "cells": [
  {
   "cell_type": "markdown",
   "metadata": {},
   "source": [
    "Mod from v2 adding variational output"
   ]
  },
  {
   "cell_type": "code",
   "execution_count": 1,
   "metadata": {
    "ExecuteTime": {
     "end_time": "2019-07-07T20:13:14.856999Z",
     "start_time": "2019-07-07T20:13:14.854425Z"
    }
   },
   "outputs": [],
   "source": [
    "AEversion = '3'"
   ]
  },
  {
   "cell_type": "code",
   "execution_count": 2,
   "metadata": {
    "ExecuteTime": {
     "end_time": "2019-07-07T20:13:15.235149Z",
     "start_time": "2019-07-07T20:13:14.858582Z"
    }
   },
   "outputs": [
    {
     "data": {
      "application/javascript": [
       "IPython.notebook.set_autosave_interval(60000)"
      ]
     },
     "metadata": {},
     "output_type": "display_data"
    },
    {
     "name": "stdout",
     "output_type": "stream",
     "text": [
      "Autosaving every 60 seconds\n"
     ]
    }
   ],
   "source": [
    "import numpy as np\n",
    "import os, sys, pickle\n",
    "from prettytable import PrettyTable\n",
    "import matplotlib.pyplot as plt\n",
    "import matplotlib\n",
    "%matplotlib inline\n",
    "%autosave 60"
   ]
  },
  {
   "cell_type": "code",
   "execution_count": 3,
   "metadata": {
    "ExecuteTime": {
     "end_time": "2019-07-07T20:13:15.438325Z",
     "start_time": "2019-07-07T20:13:15.236955Z"
    }
   },
   "outputs": [
    {
     "name": "stdout",
     "output_type": "stream",
     "text": [
      "\u001b[1m\u001b[37mgpu-4-culture-plate-sm\u001b[m  Sun Jul  7 13:13:15 2019\n",
      "\u001b[36m[0]\u001b[m \u001b[34mGeForce GTX 1080\u001b[m |\u001b[31m 25'C\u001b[m, \u001b[32m  0 %\u001b[m | \u001b[36m\u001b[1m\u001b[33m    0\u001b[m / \u001b[33m 8114\u001b[m MB |\n",
      "\u001b[36m[1]\u001b[m \u001b[34mGeForce GTX 1080\u001b[m |\u001b[31m 27'C\u001b[m, \u001b[32m  0 %\u001b[m | \u001b[36m\u001b[1m\u001b[33m    0\u001b[m / \u001b[33m 8114\u001b[m MB |\n",
      "\u001b[36m[2]\u001b[m \u001b[34mGeForce GTX 1080\u001b[m |\u001b[31m 25'C\u001b[m, \u001b[32m  0 %\u001b[m | \u001b[36m\u001b[1m\u001b[33m  355\u001b[m / \u001b[33m 8114\u001b[m MB | \u001b[1m\u001b[30m4037\u001b[m(\u001b[33m345M\u001b[m)\n",
      "\u001b[36m[3]\u001b[m \u001b[34mGeForce GTX 1080\u001b[m |\u001b[31m 24'C\u001b[m, \u001b[32m  0 %\u001b[m | \u001b[36m\u001b[1m\u001b[33m    0\u001b[m / \u001b[33m 8114\u001b[m MB |\n",
      "\u001b[36m[4]\u001b[m \u001b[34mGeForce GTX 1080\u001b[m |\u001b[31m 25'C\u001b[m, \u001b[32m  0 %\u001b[m | \u001b[36m\u001b[1m\u001b[33m    0\u001b[m / \u001b[33m 8114\u001b[m MB |\n",
      "\u001b[36m[5]\u001b[m \u001b[34mGeForce GTX 1080\u001b[m |\u001b[31m 29'C\u001b[m, \u001b[32m  0 %\u001b[m | \u001b[36m\u001b[1m\u001b[33m    0\u001b[m / \u001b[33m 8114\u001b[m MB |\n",
      "\u001b[36m[6]\u001b[m \u001b[34mGeForce GTX 1080\u001b[m |\u001b[31m 27'C\u001b[m, \u001b[32m  0 %\u001b[m | \u001b[36m\u001b[1m\u001b[33m    0\u001b[m / \u001b[33m 8114\u001b[m MB |\n",
      "\u001b[36m[7]\u001b[m \u001b[34mGeForce GTX 1080\u001b[m |\u001b[31m 26'C\u001b[m, \u001b[32m  0 %\u001b[m | \u001b[36m\u001b[1m\u001b[33m 7141\u001b[m / \u001b[33m 8114\u001b[m MB | \u001b[1m\u001b[30m4037\u001b[m(\u001b[33m7131M\u001b[m)\n"
     ]
    }
   ],
   "source": [
    "import gpustat\n",
    "try:\n",
    "    gpustat.print_gpustat()\n",
    "except:\n",
    "    pass"
   ]
  },
  {
   "cell_type": "code",
   "execution_count": 4,
   "metadata": {
    "ExecuteTime": {
     "end_time": "2019-07-07T20:13:15.767717Z",
     "start_time": "2019-07-07T20:13:15.439933Z"
    }
   },
   "outputs": [],
   "source": [
    "import torch\n",
    "import torch.nn as nn\n",
    "import torch.nn.functional as F"
   ]
  },
  {
   "cell_type": "code",
   "execution_count": 5,
   "metadata": {
    "ExecuteTime": {
     "end_time": "2019-07-07T20:13:15.774079Z",
     "start_time": "2019-07-07T20:13:15.769384Z"
    }
   },
   "outputs": [],
   "source": [
    "sys.path.append('../lib')\n",
    "from progressBar import ProgressBar\n",
    "from utils import EarlyStopping, createROC_curve"
   ]
  },
  {
   "cell_type": "code",
   "execution_count": 6,
   "metadata": {
    "ExecuteTime": {
     "end_time": "2019-07-07T20:13:15.777658Z",
     "start_time": "2019-07-07T20:13:15.775585Z"
    }
   },
   "outputs": [],
   "source": [
    "dnd = []"
   ]
  },
  {
   "cell_type": "markdown",
   "metadata": {},
   "source": [
    "## Get the dataset"
   ]
  },
  {
   "cell_type": "code",
   "execution_count": 7,
   "metadata": {
    "ExecuteTime": {
     "end_time": "2019-07-07T20:13:15.790274Z",
     "start_time": "2019-07-07T20:13:15.779847Z"
    }
   },
   "outputs": [],
   "source": [
    "from dataLoaders import ParticleDataset"
   ]
  },
  {
   "cell_type": "code",
   "execution_count": 8,
   "metadata": {
    "ExecuteTime": {
     "end_time": "2019-07-07T20:13:15.794463Z",
     "start_time": "2019-07-07T20:13:15.792005Z"
    }
   },
   "outputs": [],
   "source": [
    "dataset = ParticleDataset(template='../data/20190702_50part_PtOrder_v1/{}.npy', N_part=20, N_features=5)"
   ]
  },
  {
   "cell_type": "code",
   "execution_count": null,
   "metadata": {
    "ExecuteTime": {
     "start_time": "2019-07-07T20:12:45.933Z"
    }
   },
   "outputs": [
    {
     "name": "stdout",
     "output_type": "stream",
     "text": [
      "Fetching Wlnu\n",
      "Fetching qcd\n",
      "Fetching Zll\n",
      "Fetching ttbar\n",
      "QCD is limiting, using it for both val and split\n",
      "Expected 1.69M train\n",
      "Expected 1.69M val\n",
      "\n"
     ]
    }
   ],
   "source": [
    "dataset.loadTrainSM(N_train_max=2e6)\n",
    "dataset.charge(dataset.SMMix_train)"
   ]
  },
  {
   "cell_type": "code",
   "execution_count": null,
   "metadata": {
    "ExecuteTime": {
     "start_time": "2019-07-07T20:12:45.935Z"
    }
   },
   "outputs": [],
   "source": [
    "dataset.loadValidationSamples('BSM')"
   ]
  },
  {
   "cell_type": "markdown",
   "metadata": {},
   "source": [
    "## Define the model"
   ]
  },
  {
   "cell_type": "code",
   "execution_count": null,
   "metadata": {
    "ExecuteTime": {
     "start_time": "2019-07-07T20:12:45.937Z"
    },
    "code_folding": [
     29,
     47
    ]
   },
   "outputs": [],
   "source": [
    "class AEDenseNet(nn.Module):\n",
    "    def __init__(self, N_part, N_features, dim_hidden, dim_latent, verbose = False):\n",
    "        super(AEDenseNet, self).__init__()\n",
    "        self.verbose = verbose\n",
    "        \n",
    "        self.No = N_part\n",
    "        self.p = N_features\n",
    "        self.Nk = dim_latent\n",
    "        \n",
    "        self.encoder_modules = nn.ModuleDict({\n",
    "            'PhiE': self.build_dense(dim_in=self.p*self.No,\n",
    "                                   dim_out=self.Nk,\n",
    "                                   dim_hidden=dim_hidden)\n",
    "        })\n",
    "        \n",
    "        \n",
    "        self.decoder_modules = nn.ModuleDict({\n",
    "            'PhiD': self.build_dense(dim_in=self.Nk,\n",
    "                                   dim_out=(self.p+3)*self.No,\n",
    "                                   dim_hidden=dim_hidden),\n",
    "            'ChargeDec': self.build_dense(dim_in=2,\n",
    "                                   dim_out=3),\n",
    "            'pdgIdDec': self.build_dense(dim_in=2,\n",
    "                                   dim_out=5)\n",
    "        })\n",
    "        \n",
    "        \n",
    "        self.onGPU = False\n",
    "          \n",
    "    def build_dense(self, dim_in, dim_out, dim_hidden=0):\n",
    "        if dim_hidden:\n",
    "            net = nn.Sequential(\n",
    "                                nn.Linear(dim_in, dim_hidden),\n",
    "                                nn.ReLU(),\n",
    "                                nn.Linear(dim_hidden, dim_hidden),\n",
    "                                nn.ReLU(),\n",
    "                                nn.Linear(dim_hidden, dim_out),\n",
    "                              )\n",
    "        else:\n",
    "            d_avg = int(0.5*(dim_in + dim_out))\n",
    "            net = nn.Sequential(\n",
    "                                nn.Linear(dim_in, d_avg),\n",
    "                                nn.ReLU(),\n",
    "                                nn.Linear(d_avg, dim_out),\n",
    "                              )\n",
    "        return net\n",
    "        \n",
    "    def encode(self, x):\n",
    "        z_raw = self.encoder_modules['PhiE'](x.contiguous().view(-1, self.p*self.No))\n",
    "        z = F.hardtanh(z_raw, min_val=-5, max_val=5)\n",
    "        return z\n",
    "    \n",
    "    def decode(self, z):\n",
    "        x_raw = self.decoder_modules['PhiD'](z).view(-1, self.No, self.p+3)\n",
    "        \n",
    "        # --- Formatting x ----\n",
    "        # pt\n",
    "        pt = 1. + F.elu(x_raw[:,:,0]).view(-1, self.No, 1)\n",
    "        sig_pt = 1. + 1e-6 + F.elu(x_raw[:,:,1]).view(-1, self.No, 1)\n",
    "        # eta\n",
    "        eta = F.hardtanh(x_raw[:,:,2], min_val=-5, max_val=5).view(-1, self.No, 1)\n",
    "        sig_eta = 1. + 1e-6 + F.elu(x_raw[:,:,3]).view(-1, self.No, 1)\n",
    "        # phi\n",
    "        phi = torch.fmod(torch.abs(x_raw[:,:,4]), 6.2831853072).view(-1, self.No, 1) - 3.14159265359\n",
    "        sig_phi = 1. + 1e-6 + F.elu(x_raw[:,:,5]).view(-1, self.No, 1)\n",
    "        # charge\n",
    "        charge_cat = F.softmax(self.decoder_modules['ChargeDec'](x_raw[:,:,6:].view(-1,2)), dim=1).view(-1, self.No, 3)\n",
    "        # pId\n",
    "        pId_cat = F.softmax(self.decoder_modules['pdgIdDec'](x_raw[:,:,6:].view(-1,2)), dim=1).view(-1, self.No, 5)\n",
    "        \n",
    "        x = torch.cat((pt, eta, phi, sig_pt, sig_eta, sig_phi, charge_cat, pId_cat), 2)\n",
    "        return x\n",
    "        \n",
    "    \n",
    "    def forward(self, x):\n",
    "        z = self.encode(x)\n",
    "        x_prime = self.decode(z)\n",
    "        return x_prime\n",
    "    \n",
    "    def initWeights(self):\n",
    "        def weights_init(M):\n",
    "            if hasattr(M, 'weight'):\n",
    "                nn.init.xavier_normal_(M.weight.data)\n",
    "        \n",
    "        self.apply(weights_init)\n",
    "    \n",
    "    def useGPU(self, N_GPU=1):\n",
    "        if torch.cuda.is_available():\n",
    "            print('Current device: {} ({} available)'.format(torch.cuda.current_device(), \n",
    "                                                             torch.cuda.device_count()))\n",
    "            self.N_GPU = N_GPU\n",
    "            torch.cuda.empty_cache()\n",
    "            self.cuda(N_GPU)\n",
    "            gpustat.print_gpustat()\n",
    "            \n",
    "            self.onGPU = True\n",
    "        else: \n",
    "            print('GPU not available')"
   ]
  },
  {
   "cell_type": "code",
   "execution_count": null,
   "metadata": {
    "ExecuteTime": {
     "start_time": "2019-07-07T20:12:45.938Z"
    },
    "code_folding": []
   },
   "outputs": [],
   "source": [
    "Latent_dimension = int(2*dataset.inputs.shape[1])\n",
    "Hidden_dimension = int(0.5*(Latent_dimension + dataset.inputs.shape[1]*dataset.inputs.shape[2]))\n",
    "\n",
    "model = AEDenseNet(\n",
    "                   N_part=dataset.inputs.shape[1],\n",
    "                   N_features=dataset.inputs.shape[2],\n",
    "                   dim_hidden=Hidden_dimension,\n",
    "                   dim_latent=Latent_dimension\n",
    "                  )\n",
    "\n",
    "print(model)\n",
    "trainablePars = sum(p.numel() for p in model.parameters() if p.requires_grad)\n",
    "print('\\nTrainable parameters:', trainablePars)\n",
    "\n",
    "# model.initWeights()"
   ]
  },
  {
   "cell_type": "code",
   "execution_count": null,
   "metadata": {
    "ExecuteTime": {
     "start_time": "2019-07-07T20:12:45.939Z"
    }
   },
   "outputs": [],
   "source": [
    "model.useGPU(0)"
   ]
  },
  {
   "cell_type": "markdown",
   "metadata": {},
   "source": [
    "## Loss"
   ]
  },
  {
   "cell_type": "code",
   "execution_count": null,
   "metadata": {
    "ExecuteTime": {
     "start_time": "2019-07-07T20:12:45.941Z"
    },
    "code_folding": []
   },
   "outputs": [],
   "source": [
    "def criterion(x_in, x_out, reduction='mean'):\n",
    "    # Gaussian\n",
    "    out_gauss = torch.pow((x_in[:,:,:3] - x_out[:,:,:3])/ x_out[:,:,3:6], 2) + torch.log(x_out[:,:,3:6])\n",
    "    out = torch.sum(out_gauss, dim=2)\n",
    "    \n",
    "    #Cat cross entropy charge\n",
    "    aux = torch.log(x_out[:,:,6:9]).view(-1, 3)\n",
    "    aux = F.nll_loss(aux, 1+x_in[:,:,3].view(-1).long(), reduction='none')\n",
    "    out += aux.view(-1, x_in.shape[1])\n",
    "    \n",
    "    #Cat cross entropy pId\n",
    "    aux = torch.log(x_out[:,:,9:14]).view(-1, 5)\n",
    "    out += F.nll_loss(aux, x_in[:,:,4].view(-1).long(), reduction='none').view(-1, x_in.shape[1])\n",
    "    \n",
    "    out_per_evt = torch.sum(out, dim=1)\n",
    "    \n",
    "    if reduction == 'mean':\n",
    "        return torch.mean(out_per_evt)\n",
    "    elif reduction == 'none':\n",
    "        return out_per_evt\n",
    "    else:\n",
    "        raise"
   ]
  },
  {
   "cell_type": "markdown",
   "metadata": {},
   "source": [
    "## Training"
   ]
  },
  {
   "cell_type": "code",
   "execution_count": null,
   "metadata": {
    "ExecuteTime": {
     "start_time": "2019-07-07T20:12:45.943Z"
    },
    "code_folding": [
     0,
     7
    ]
   },
   "outputs": [],
   "source": [
    "training_params = {'batch_size': 10000,\n",
    "                   'shuffle': True,\n",
    "                   'num_workers': 3\n",
    "                  }\n",
    "\n",
    "max_epochs = 500\n",
    "\n",
    "eval_params = {'batch_size': 10000,\n",
    "               'num_workers': 3\n",
    "              }"
   ]
  },
  {
   "cell_type": "code",
   "execution_count": null,
   "metadata": {
    "ExecuteTime": {
     "start_time": "2019-07-07T20:12:45.944Z"
    }
   },
   "outputs": [],
   "source": [
    "# torch.autograd.set_detect_anomaly(True);"
   ]
  },
  {
   "cell_type": "code",
   "execution_count": null,
   "metadata": {
    "ExecuteTime": {
     "start_time": "2019-07-07T20:12:45.945Z"
    },
    "code_folding": [
     3
    ]
   },
   "outputs": [],
   "source": [
    "optimizer = torch.optim.Adam(model.parameters(), lr=1e-3)\n",
    "\n",
    "from torch.optim.lr_scheduler import ReduceLROnPlateau\n",
    "scheduler = ReduceLROnPlateau(optimizer, \n",
    "                              mode='min',\n",
    "                              factor=0.3,\n",
    "                              patience=3,\n",
    "                              verbose=1,\n",
    "                              threshold=1e-4,\n",
    "                              cooldown=2,\n",
    "                              min_lr=1e-7\n",
    "                             )\n",
    "\n",
    "# Early stopping\n",
    "earlyStopping = EarlyStopping(patient=10)"
   ]
  },
  {
   "cell_type": "code",
   "execution_count": null,
   "metadata": {
    "ExecuteTime": {
     "start_time": "2019-07-07T20:12:45.947Z"
    },
    "code_folding": [
     2
    ],
    "scrolled": true
   },
   "outputs": [],
   "source": [
    "train_loss = []\n",
    "BSM_eff = {'ep': []}\n",
    "for n in dataset.BSM_names:\n",
    "    BSM_eff[n] = []\n",
    "\n",
    "loss_history = {'train': [], 'val': []}\n",
    "optimizer.zero_grad()\n",
    "for epoch in range(max_epochs):\n",
    "    batch_loss = []\n",
    "    \n",
    "    #### ---- Training ---- ####\n",
    "    model.train()\n",
    "    dataset.charge(dataset.SMMix_train)\n",
    "    train_data_iter = torch.utils.data.DataLoader(dataset, **training_params)\n",
    "    pb = ProgressBar(len(train_data_iter), percentPrecision=5, headLabel='Epoch {}: '.format(epoch))\n",
    "    for local_x, _ in train_data_iter:\n",
    "        if model.onGPU:\n",
    "            local_x = local_x.cuda(model.N_GPU)\n",
    "        \n",
    "        x_prime = model(local_x)        \n",
    "        loss = criterion(local_x, x_prime)        \n",
    "        batch_loss.append(loss.item())\n",
    "        \n",
    "        tail_label = 'Loss: {:2.2e}'.format(loss.item())\n",
    "        if len(loss_history['train']) > 0:\n",
    "            tail_label += ' ({:2.2e})'.format(loss.item() - loss_history['train'][-1][-1])\n",
    "        pb.show(len(batch_loss)-1, tail_label=tail_label)\n",
    "\n",
    "        loss.backward()\n",
    "        optimizer.step()\n",
    "        optimizer.zero_grad()\n",
    "        \n",
    "    model.eval()\n",
    "    aux_loss = 0\n",
    "    N_batches = 0\n",
    "    for local_x, _ in train_data_iter:\n",
    "        if model.onGPU:\n",
    "            local_x = local_x.cuda(model.N_GPU)\n",
    "        x_prime = model(local_x)\n",
    "        loss = criterion(local_x, x_prime)\n",
    "        aux_loss += loss.item()\n",
    "        N_batches += 1\n",
    "    batch_loss.append(aux_loss/N_batches)\n",
    "    \n",
    "    printout = 'Loss: {:2.2e}'.format(batch_loss[-1])\n",
    "    if len(loss_history['train']) > 0:\n",
    "        printout += ' - Delta: {:2.2e}'.format(batch_loss[-1] - loss_history['train'][-1][-1])\n",
    "    if len(loss_history['train']) > 1:\n",
    "        d2L_de2 = batch_loss[-1] - 2*loss_history['train'][-1][-1] + loss_history['train'][-2][-1]\n",
    "        printout +=' - Trend: {:2.2e}'.format(d2L_de2)\n",
    "    print(printout)\n",
    "    \n",
    "    loss_history['train'].append(batch_loss)\n",
    "    \n",
    "    #### ---- Validation ---- ####\n",
    "    dataset.charge(dataset.SMMix_val)\n",
    "    val_data_iter = torch.utils.data.DataLoader(dataset, **eval_params)\n",
    "    aux_loss = 0\n",
    "    N_batches = 0\n",
    "    for local_x, _ in val_data_iter:\n",
    "        if model.onGPU:\n",
    "            local_x = local_x.cuda(model.N_GPU)\n",
    "        x_prime = model(local_x)\n",
    "        loss = criterion(local_x, x_prime)\n",
    "        if np.isnan(loss.item()) or np.isinf(loss.item()):\n",
    "            print('Invalid loss!!!')\n",
    "            raise\n",
    "        aux_loss += loss.item()\n",
    "        N_batches += 1\n",
    "    loss_history['val'].append(aux_loss/N_batches)\n",
    "    printout = 'Val Loss: {:2.2e}'.format(loss_history['val'][-1])\n",
    "    print(printout)\n",
    "    \n",
    "    print('')\n",
    "    if not earlyStopping.check(loss_history['val'][-1]):\n",
    "        break\n",
    "\n",
    "    scheduler.step(batch_loss[-1])\n",
    "    \n",
    "    #### ---- Anomaly Detection monitor ---- ####\n",
    "    if epoch%3 == 0:\n",
    "        print('-------- Anomaly Detection monitor --------')\n",
    "        BSM_eff['ep'].append(epoch)\n",
    "        dataset.loss['SMMix'] = np.zeros((0))\n",
    "        \n",
    "        pb = ProgressBar(len(val_data_iter), percentPrecision=5, headLabel='SM Mix: ')\n",
    "        for i, (local_x, _) in enumerate(val_data_iter):\n",
    "                pb.show(i)\n",
    "                if model.onGPU:\n",
    "                    local_x = local_x.cuda(model.N_GPU)\n",
    "                    \n",
    "                x_prime = model(local_x)\n",
    "                loss = criterion(local_x, x_prime, 'none').cpu().detach().numpy()\n",
    "                dataset.loss['SMMix'] = np.concatenate((dataset.loss['SMMix'], loss))\n",
    "        \n",
    "        p_SM = np.logspace(base=10, start=-5, stop=-3, num=3)\n",
    "        if not 'p_SM' in BSM_eff.keys():\n",
    "            BSM_eff['p_SM'] = p_SM\n",
    "        q_SM = np.quantile(dataset.loss['SMMix'], 1-p_SM)\n",
    "        \n",
    "        table = PrettyTable(['SM Mix'] + list(map(lambda x: '{:1.2e}'.format(x), p_SM)))\n",
    "        \n",
    "        for n in dataset.BSM_names:\n",
    "            dataset.loss[n] = np.zeros((0))\n",
    "\n",
    "            dataset.charge(dataset.valSamples[n])\n",
    "            data_iter = torch.utils.data.DataLoader(dataset, **eval_params)\n",
    "            pb = ProgressBar(len(data_iter), percentPrecision=5, headLabel=n+': ')\n",
    "            for i, (local_x, _) in enumerate(data_iter):\n",
    "                pb.show(i)\n",
    "                if model.onGPU:\n",
    "                    local_x = local_x.cuda(model.N_GPU)\n",
    "\n",
    "                x_prime = model(local_x)\n",
    "                loss = criterion(local_x, x_prime, 'none').cpu().detach().numpy()\n",
    "                dataset.loss[n] = np.concatenate((dataset.loss[n], loss))\n",
    "        \n",
    "            out = dataset.loss[n] > np.atleast_2d(q_SM).T\n",
    "            p_BSM = np.float64(np.sum(out, axis=1, dtype=np.float128)/dataset.loss[n].shape[0])\n",
    "            BSM_eff[n].append(p_BSM)\n",
    "            \n",
    "            table.add_row([n] + list(map(lambda x: '{:1.2e}'.format(x), p_BSM)))\n",
    "        print(table)                \n",
    "        print('-------------------------------------------\\n\\n')\n",
    "\n",
    "model.eval()\n",
    "torch.save(model.state_dict(), 'data/model_state_dict_dAE_v'+AEversion+'.pkl');"
   ]
  },
  {
   "cell_type": "code",
   "execution_count": null,
   "metadata": {
    "ExecuteTime": {
     "start_time": "2019-07-07T20:12:45.948Z"
    }
   },
   "outputs": [],
   "source": [
    "loss_history['train'] = np.array(loss_history['train'])\n",
    "matplotlib.rcParams.update({'font.size': 16})\n",
    "\n",
    "f = plt.figure(figsize=(12,8))\n",
    "\n",
    "train_loss_flat = loss_history['train'].flatten()\n",
    "x = np.arange(1, train_loss_flat.shape[0]+1) * float(loss_history['train'].shape[0])/train_loss_flat.shape[0]\n",
    "plt.plot(x, train_loss_flat, '-', alpha=0.2, color='darkorange')\n",
    "\n",
    "x = np.arange(1, loss_history['train'].shape[0]+1)\n",
    "plt.plot(x, loss_history['train'][:,-1], 'o--', label='Train', color='darkorange')\n",
    "plt.plot(x, loss_history['val'], '*', label='Validatation', color='darkmagenta')\n",
    "\n",
    "plt.xlabel('Epoch')\n",
    "plt.grid()\n",
    "plt.legend(loc='best')\n",
    "plt.yscale('log')\n",
    "plt.ylim(0.9*np.min(train_loss_flat), 1.1*np.max(loss_history['train'][1:, -1]))\n",
    "\n",
    "f.savefig('plots/TrainingHistory_dAE_v'+AEversion+'.png')\n",
    "\n",
    "f = open('data/TrainingHistory_dAE_v'+AEversion+'.pkl', 'wb')\n",
    "pickle.dump(loss_history, f)\n",
    "f.close()"
   ]
  },
  {
   "cell_type": "code",
   "execution_count": null,
   "metadata": {
    "ExecuteTime": {
     "start_time": "2019-07-07T20:12:45.949Z"
    },
    "code_folding": [
     3
    ]
   },
   "outputs": [],
   "source": [
    "f, ax_arr = plt.subplots(2,2, figsize=(12,12))\n",
    "styles = ['-', '--', ':']\n",
    "x = BSM_eff['ep']\n",
    "for i, n in enumerate(dataset.BSM_names):  \n",
    "    ax = ax_arr[int(i/2),i%2]\n",
    "    \n",
    "    BSM_eff[n] = np.array(BSM_eff[n])\n",
    "    \n",
    "    for j in range(BSM_eff['p_SM'].shape[0]):\n",
    "#         ax.plot(x, len(x)*[BSM_eff['p_SM'][j]], color='gray', lw=2, linestyle=styles[j])\n",
    "        ax.plot(x, BSM_eff[n][:,j], \n",
    "                color=dataset.process_colors[n], lw=3, linestyle=styles[j], \n",
    "                label=dataset.process_labels[n] + ' @ $\\epsilon_{{SM}} = {:1.0e}$'.format(BSM_eff['p_SM'][j]))\n",
    "        \n",
    "    ax.set_xlim([0, x[-1]+1])\n",
    "#     ax.set_ylim([1e-6, 5])\n",
    "    ax.set_xlabel('Epoch')\n",
    "    ax.set_ylabel('Efficiency')\n",
    "    ax.set_title('')\n",
    "    ax.set_yscale('log')\n",
    "    ax.grid()\n",
    "    \n",
    "    ax.legend(loc='best')\n",
    "    \n",
    "f.tight_layout()\n",
    "\n",
    "f = open('data/AnomalyDetectionHistory_dAE_v'+AEversion+'.pkl', 'wb')\n",
    "pickle.dump(BSM_eff, f)\n",
    "f.close()"
   ]
  },
  {
   "cell_type": "markdown",
   "metadata": {},
   "source": [
    "# Convergence check"
   ]
  },
  {
   "cell_type": "code",
   "execution_count": null,
   "metadata": {
    "ExecuteTime": {
     "start_time": "2019-07-07T20:12:45.951Z"
    }
   },
   "outputs": [],
   "source": [
    "dataset.charge(dataset.SMMix_val)\n",
    "x = dataset.inputs\n",
    "model.eval()\n",
    "if model.onGPU:\n",
    "    x_prime = model(torch.from_numpy(x[:10000]).cuda()).cpu().detach().numpy()\n",
    "    z = model.encode(torch.from_numpy(x[:10000]).cuda()).cpu().detach().numpy()\n",
    "else:\n",
    "    x_prime = model(torch.from_numpy(x[:10000])).cpu().detach().numpy()\n",
    "    z = model.encode(torch.from_numpy(x[:10000])).cpu().detach().numpy()"
   ]
  },
  {
   "cell_type": "markdown",
   "metadata": {},
   "source": [
    "### Latent space"
   ]
  },
  {
   "cell_type": "code",
   "execution_count": null,
   "metadata": {
    "ExecuteTime": {
     "start_time": "2019-07-07T20:12:45.952Z"
    },
    "code_folding": [
     0
    ],
    "scrolled": true
   },
   "outputs": [],
   "source": [
    "for i in range(z.shape[1]):\n",
    "    x_aux = z[:,i]\n",
    "    f = plt.figure(i)\n",
    "    r = (np.min(x_aux), np.max(x_aux))\n",
    "    plt.hist(x_aux, bins=20, range=r, alpha=0.4, density=True)\n",
    "    plt.xlabel('$z_{{{}}}$'.format(i))\n",
    "    dnd.append(f)"
   ]
  },
  {
   "cell_type": "markdown",
   "metadata": {},
   "source": [
    "### Output features"
   ]
  },
  {
   "cell_type": "code",
   "execution_count": null,
   "metadata": {
    "ExecuteTime": {
     "start_time": "2019-07-07T20:12:45.954Z"
    },
    "code_folding": [
     0
    ],
    "scrolled": true
   },
   "outputs": [],
   "source": [
    "for i in range(x_prime.shape[2]):\n",
    "    x_aux = x[:,:,i].flatten()\n",
    "    xp_aux = x_prime[:,:,i].flatten()\n",
    "    f = plt.figure(i)\n",
    "    r = (min(np.min(x_aux), np.min(xp_aux)), max(np.max(x_aux), np.max(xp_aux)))\n",
    "    if i == 0:\n",
    "        r = (0,10)\n",
    "    plt.hist(x_aux, bins=30, range=r, alpha=0.4, density=True)\n",
    "    plt.hist(xp_aux, bins=30, range=r, alpha=0.4, density=True)\n",
    "    plt.xlabel('Particles ' + dataset.feature_names[i])\n",
    "    plt.yscale('log')\n",
    "    dnd.append(f)"
   ]
  },
  {
   "cell_type": "markdown",
   "metadata": {},
   "source": [
    "# Performance evaluation"
   ]
  },
  {
   "cell_type": "code",
   "execution_count": null,
   "metadata": {
    "ExecuteTime": {
     "start_time": "2019-07-07T20:12:45.955Z"
    }
   },
   "outputs": [],
   "source": [
    "dataset.loadValidationSamples('SM')"
   ]
  },
  {
   "cell_type": "code",
   "execution_count": null,
   "metadata": {
    "ExecuteTime": {
     "start_time": "2019-07-07T20:12:45.957Z"
    },
    "code_folding": [
     1
    ]
   },
   "outputs": [],
   "source": [
    "model.eval()\n",
    "for n in dataset.valSamples.keys():\n",
    "    dataset.loss[n] = np.zeros((0))\n",
    "    \n",
    "    dataset.charge(dataset.valSamples[n])\n",
    "    data_iter = torch.utils.data.DataLoader(dataset, **eval_params)\n",
    "    pb = ProgressBar(len(data_iter), percentPrecision=5, headLabel=n+': ')\n",
    "    for i, (local_x, _) in enumerate(data_iter):\n",
    "        pb.show(i)\n",
    "        if model.onGPU:\n",
    "            local_x = local_x.cuda(model.N_GPU)\n",
    "            \n",
    "        x_prime = model(local_x)\n",
    "        loss = criterion(local_x, x_prime, 'none').cpu().detach().numpy()\n",
    "        dataset.loss[n] = np.concatenate((dataset.loss[n], loss))"
   ]
  },
  {
   "cell_type": "code",
   "execution_count": null,
   "metadata": {
    "ExecuteTime": {
     "start_time": "2019-07-07T20:12:45.958Z"
    }
   },
   "outputs": [],
   "source": [
    "dic_ROC = createROC_curve(dataset)\n",
    "pickle.dump(dic_ROC, open('data/dAE_v{}_ROC_dic.pkl'.format(AEversion), 'wb'))"
   ]
  },
  {
   "cell_type": "code",
   "execution_count": null,
   "metadata": {
    "ExecuteTime": {
     "start_time": "2019-07-07T20:12:45.959Z"
    },
    "code_folding": [
     1
    ],
    "scrolled": false
   },
   "outputs": [],
   "source": [
    "f_ROC, ax_arr = plt.subplots(2,2, figsize=(12,12))\n",
    "for i, n in enumerate(dataset.BSM_names):\n",
    "    f = open('../data/HLFref1811-10276_loss/VAE_all-in-one_v71_ROC1_dict_{}.pkl'.format(n), 'br')\n",
    "    dRef = pickle.load(f, encoding='bytes')\n",
    "    f.close()\n",
    "    \n",
    "    ax = ax_arr[int(i/2),i%2]\n",
    "    ax.plot(dRef[b'eff_SM'], dRef[b'eff_BSM'], label=dataset.process_labels[n] + ' HLF',\n",
    "            linestyle='--', lw=3, color=dataset.process_colors[n])\n",
    "    ax.plot(dic_ROC[n]['eff_SM'], dic_ROC[n]['eff_BSM'], label=dataset.process_labels[n] + ' PF',\n",
    "            linestyle='-', lw=3, color=dataset.process_colors[n])\n",
    "    ax.plot([0, 1], [0, 1], color='gray', lw=2, linestyle=':')\n",
    "    ax.set_xlim([1e-6, 1.0])\n",
    "    ax.set_ylim([1e-6, 1.05])\n",
    "    ax.set_xlabel('SM efficiency')\n",
    "    ax.set_ylabel('BSM efficiency')\n",
    "    ax.set_title('')\n",
    "    ax.set_yscale('log')\n",
    "    ax.set_xscale('log')\n",
    "    ax.grid()\n",
    "    \n",
    "    ax.legend(loc='lower right')\n",
    "    \n",
    "f_ROC.tight_layout()"
   ]
  },
  {
   "cell_type": "markdown",
   "metadata": {},
   "source": [
    "## Latent dimension clustering"
   ]
  },
  {
   "cell_type": "code",
   "execution_count": null,
   "metadata": {
    "ExecuteTime": {
     "start_time": "2019-07-07T20:12:45.960Z"
    }
   },
   "outputs": [],
   "source": [
    "from sklearn.manifold import TSNE"
   ]
  },
  {
   "cell_type": "code",
   "execution_count": null,
   "metadata": {
    "ExecuteTime": {
     "start_time": "2019-07-07T20:12:45.961Z"
    }
   },
   "outputs": [],
   "source": [
    "dataset.encoded = {}\n",
    "\n",
    "for n in dataset.BSM_names:    \n",
    "    dataset.charge(dataset.valSamples[n][:10000])\n",
    "    dataset.encoded[n] = model.encode(torch.Tensor(dataset.inputs)).cpu().detach().numpy()\n",
    "    \n",
    "dataset.charge(dataset.SMMix_val[:10000])\n",
    "dataset.encoded['SMMix'] = model.encode(torch.Tensor(dataset.inputs)).cpu().detach().numpy()"
   ]
  },
  {
   "cell_type": "code",
   "execution_count": null,
   "metadata": {
    "ExecuteTime": {
     "start_time": "2019-07-07T20:12:45.962Z"
    }
   },
   "outputs": [],
   "source": [
    "idx_max = 1000 #np.min(list(map(lambda x: x.shape[0], dataset.encoded.values())))\n",
    "z_dset = np.zeros((0, model.Nk))\n",
    "\n",
    "for n in dataset.encoded.keys():\n",
    "    z_dset = np.concatenate((z_dset, dataset.encoded[n][:idx_max]))\n",
    "    \n",
    "z_embedded = TSNE(n_components=2).fit_transform(z_dset)"
   ]
  },
  {
   "cell_type": "code",
   "execution_count": null,
   "metadata": {
    "ExecuteTime": {
     "start_time": "2019-07-07T20:12:45.963Z"
    }
   },
   "outputs": [],
   "source": [
    "f = plt.figure(figsize=(8,8))\n",
    "\n",
    "for i, n in enumerate(dataset.encoded.keys()):\n",
    "    aux_z = z_embedded[i*idx_max: (i+1)*idx_max]\n",
    "    plt.plot(aux_z[:,0], aux_z[:,1], \n",
    "             'o',\n",
    "             color=dataset.process_colors[n], \n",
    "             mfc='none',\n",
    "             label=dataset.process_labels[n])\n",
    "    \n",
    "plt.xlabel('Embedded 0')\n",
    "plt.ylabel('Embedded 1')\n",
    "plt.legend(loc='best')\n",
    "f.tight_layout()"
   ]
  },
  {
   "cell_type": "code",
   "execution_count": null,
   "metadata": {},
   "outputs": [],
   "source": []
  }
 ],
 "metadata": {
  "kernelspec": {
   "display_name": "Python 3",
   "language": "python",
   "name": "python3"
  },
  "language_info": {
   "codemirror_mode": {
    "name": "ipython",
    "version": 3
   },
   "file_extension": ".py",
   "mimetype": "text/x-python",
   "name": "python",
   "nbconvert_exporter": "python",
   "pygments_lexer": "ipython3",
   "version": "3.7.3"
  }
 },
 "nbformat": 4,
 "nbformat_minor": 2
}
