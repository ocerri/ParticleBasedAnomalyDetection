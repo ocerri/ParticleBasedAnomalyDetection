{
 "cells": [
  {
   "cell_type": "code",
   "execution_count": 1,
   "metadata": {},
   "outputs": [],
   "source": [
    "import numpy as np\n",
    "import itertools\n",
    "import os, sys\n",
    "\n",
    "import torch\n",
    "import torch.nn as nn\n",
    "import torch.nn.functional  as F\n",
    "\n",
    "from progressBar import ProgressBar"
   ]
  },
  {
   "cell_type": "markdown",
   "metadata": {},
   "source": [
    "## Get the dataset"
   ]
  },
  {
   "cell_type": "code",
   "execution_count": 2,
   "metadata": {},
   "outputs": [],
   "source": [
    "from torch.utils import data"
   ]
  },
  {
   "cell_type": "code",
   "execution_count": 3,
   "metadata": {},
   "outputs": [],
   "source": [
    "class Dataset(data.Dataset):\n",
    "    def __init__(self, names = 'SM', \n",
    "                 template='../data/20190621_5part_PtOrder/{}_lepFilter_13TeV.npy'):\n",
    "        if names == 'SM':\n",
    "            self.SM_names = ['Wlnu', 'qcd', 'ttbar']\n",
    "            names = self.SM_names\n",
    "        self.names = names\n",
    "        \n",
    "        for i, n in enumerate(names):\n",
    "            ins = np.load(template.format(n)).astype(np.float32)\n",
    "            out = i*np.ones(ins.shape[0]).astype(np.int8)\n",
    "            \n",
    "            print(n, ':', str(ins.shape[0]))\n",
    "            \n",
    "            if i == 0:\n",
    "                self.inputs = ins\n",
    "                self.outputs = out\n",
    "            else:\n",
    "                self.inputs = np.concatenate((self.inputs, ins))\n",
    "                self.outputs = np.concatenate((self.outputs, out))\n",
    "    \n",
    "    def __len__(self):\n",
    "        return self.inputs.shape[0]\n",
    "    \n",
    "    def __getitem__(self, idx):\n",
    "        return self.inputs[idx], self.outputs[idx]"
   ]
  },
  {
   "cell_type": "code",
   "execution_count": 4,
   "metadata": {},
   "outputs": [
    {
     "name": "stdout",
     "output_type": "stream",
     "text": [
      "Wlnu : 10000\n",
      "qcd : 10000\n",
      "ttbar : 10000\n"
     ]
    }
   ],
   "source": [
    "dataset = {}\n",
    "# Use to do validation split\n",
    "# torch.utils.data.random_split(dataset, lengths)\n",
    "dataset['train'] = Dataset()"
   ]
  },
  {
   "cell_type": "markdown",
   "metadata": {},
   "source": [
    "## Define the model"
   ]
  },
  {
   "cell_type": "code",
   "execution_count": null,
   "metadata": {},
   "outputs": [],
   "source": [
    "class AEGraphNet(nn.Module):\n",
    "    def __init__(self, N_nodes, N_features, dim_hidden, De, Do, dim_latent, verbose = False):\n",
    "        super(ClfGraphNet, self).__init__()\n",
    "        self.verbose = verbose\n",
    "        \n",
    "        self.p = N_features\n",
    "        self.No = N_nodes\n",
    "        self.De = De\n",
    "        self.Do = Do\n",
    "        \n",
    "        self.allo\n",
    "        self.Rr, self.Rs = self.buildEdgesMatrixes()\n",
    "        self.fr = self.build_fr(dim_hidden)\n",
    "        self.fo = self.build_fo(dim_hidden)\n",
    "        self.PhiC = self.build_PhiC(dim_latent)\n",
    "        \n",
    "        self.onGPU = False\n",
    "        \n",
    "        \n",
    "    def buildEdgesMatrixes(self):\n",
    "        ### Assume fully connected graph\n",
    "        Ne = self.No * (self.No - 1)\n",
    "        self.Ne = Ne\n",
    "        Rr = torch.zeros(self.No, Ne)\n",
    "        Rs = torch.zeros(self.No, Ne)\n",
    "        receiver_sender_list = [i for i in itertools.product(range(self.No), range(self.No)) if i[0]!=i[1]]\n",
    "        for i, (r, s) in enumerate(receiver_sender_list):\n",
    "            Rr[r, i] = 1\n",
    "            Rs[s, i] = 1\n",
    "        return Rr, Rs\n",
    "            \n",
    "    def build_fr(self, dim_hidden):\n",
    "        fr = nn.Sequential(\n",
    "                            nn.Linear(2 * self.p, dim_hidden),\n",
    "                            nn.ReLU(),\n",
    "                            nn.Linear(dim_hidden, int(dim_hidden/2)),\n",
    "                            nn.ReLU(),\n",
    "                            nn.Linear(int(dim_hidden/2), self.De),\n",
    "                            nn.ReLU(),\n",
    "                          )\n",
    "        return fr\n",
    "        \n",
    "    def build_fo(self, dim_hidden):\n",
    "        fo = nn.Sequential(\n",
    "                            nn.Linear(self.p + self.De, dim_hidden),\n",
    "                            nn.ReLU(),\n",
    "                            nn.Linear(dim_hidden, int(dim_hidden/2)),\n",
    "                            nn.ReLU(),\n",
    "                            nn.Linear(int(dim_hidden/2), self.Do),\n",
    "                            nn.ReLU(),\n",
    "                          )    \n",
    "        return fo\n",
    "\n",
    "    def build_PhiC(self, dim_output):\n",
    "        self.PhiC_layer = nn.Linear(self.Do, dim_output)\n",
    "        \n",
    "        def PhiC(x):\n",
    "            return F.sigmoid(self.PhiC_layer(x))\n",
    "        \n",
    "        return PhiC\n",
    "         \n",
    "    def INlayer(self, x):\n",
    "        x = torch.transpose(x, 1, 2).contiguous()\n",
    "        Orr = torch.matmul(x, self.Rr)\n",
    "        Ors = torch.matmul(x, self.Rs)\n",
    "        B = torch.cat([Orr, Ors], dim=1)\n",
    "        \n",
    "        ### First MLP ###\n",
    "        E = self.fr(B.view(-1, 2 * self.p))\n",
    "        del B\n",
    "        \n",
    "        E = E.view(-1, self.Ne, self.De)\n",
    "        E = torch.transpose(E, 1, 2).contiguous()\n",
    "        Ebar = torch.matmul(E, torch.transpose(self.Rr, 0, 1).contiguous())\n",
    "        del E\n",
    "        \n",
    "        C = torch.cat([x, Ebar], 1)\n",
    "        del Ebar\n",
    "        \n",
    "        C = torch.transpose(C, 1, 2).contiguous()\n",
    "        O = self.fo(C.view(-1, self.p + self.De))\n",
    "        del C\n",
    "        O = torch.sigmoid(O.view(-1, self.No, self.Do))\n",
    "        return O\n",
    "        \n",
    "    def forward(self, x):\n",
    "        O = self.INlayer(x)\n",
    "        \n",
    "        # now sum over No nodes to obtain the Do latent quantities\n",
    "        O = torch.sum(O, 1)\n",
    "        y = self.PhiC(O)\n",
    "        return y\n",
    "    \n",
    "    def useGPU(self):\n",
    "        if torch.cuda.is_available():\n",
    "            print('Current device: {} ({} available)'.format(torch.cuda.current_device(), \n",
    "                                                             torch.cuda.device_count()))\n",
    "            \n",
    "            for o in self.__dict__.values():\n",
    "                if o.__class__ == torch.Tensor:\n",
    "                    o.cuda()\n",
    "            \n",
    "            self.onGPU = True\n",
    "        else: \n",
    "            print('GPU not available')"
   ]
  }
 ],
 "metadata": {
  "kernelspec": {
   "display_name": "Python 3",
   "language": "python",
   "name": "python3"
  },
  "language_info": {
   "codemirror_mode": {
    "name": "ipython",
    "version": 3
   },
   "file_extension": ".py",
   "mimetype": "text/x-python",
   "name": "python",
   "nbconvert_exporter": "python",
   "pygments_lexer": "ipython3",
   "version": "3.7.3"
  }
 },
 "nbformat": 4,
 "nbformat_minor": 2
}
