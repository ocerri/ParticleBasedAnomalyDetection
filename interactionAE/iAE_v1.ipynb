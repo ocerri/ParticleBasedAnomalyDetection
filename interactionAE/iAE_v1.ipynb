{
 "cells": [
  {
   "cell_type": "markdown",
   "metadata": {},
   "source": [
    "AE with one Interaction layers"
   ]
  },
  {
   "cell_type": "code",
   "execution_count": 1,
   "metadata": {},
   "outputs": [],
   "source": [
    "import numpy as np\n",
    "import itertools\n",
    "import os, sys\n",
    "import matplotlib.pyplot as plt\n",
    "import matplotlib\n",
    "%matplotlib inline"
   ]
  },
  {
   "cell_type": "code",
   "execution_count": 2,
   "metadata": {},
   "outputs": [],
   "source": [
    "import torch\n",
    "import torch.nn as nn\n",
    "import torch.nn.functional as F"
   ]
  },
  {
   "cell_type": "code",
   "execution_count": 3,
   "metadata": {},
   "outputs": [],
   "source": [
    "from progressBar import ProgressBar"
   ]
  },
  {
   "cell_type": "code",
   "execution_count": 16,
   "metadata": {},
   "outputs": [],
   "source": [
    "dnd = []"
   ]
  },
  {
   "cell_type": "markdown",
   "metadata": {},
   "source": [
    "## Get the dataset"
   ]
  },
  {
   "cell_type": "code",
   "execution_count": 4,
   "metadata": {},
   "outputs": [],
   "source": [
    "from torch.utils import data"
   ]
  },
  {
   "cell_type": "code",
   "execution_count": 24,
   "metadata": {
    "code_folding": []
   },
   "outputs": [],
   "source": [
    "class Dataset(data.Dataset):\n",
    "    def __init__(self, names = 'SM', \n",
    "                 template='../data/20190625_10part_PtOrder/{}_lepFilter_13TeV.npy'):\n",
    "        if names == 'SM':\n",
    "            self.SM_names = ['Wlnu', 'qcd', 'ttbar', 'Zll']\n",
    "            names = self.SM_names\n",
    "        self.names = names\n",
    "        \n",
    "        self.feature_names = ['Pt', 'eta', 'phi', 'charge', 'pId']\n",
    "        \n",
    "        for i, n in enumerate(names):\n",
    "            ins = np.load(template.format(n)).astype(np.float32)\n",
    "            lbs = i*np.ones(ins.shape[0]).astype(np.int8)\n",
    "            \n",
    "            print(n, ':', str(ins.shape[0]))\n",
    "            \n",
    "            if i == 0:\n",
    "                self.inputs = ins\n",
    "                self.labels = lbs\n",
    "            else:\n",
    "                self.inputs = np.concatenate((self.inputs, ins))\n",
    "                self.labels = np.concatenate((self.labels, lbs))\n",
    "    \n",
    "    def __len__(self):\n",
    "        return self.inputs.shape[0]\n",
    "    \n",
    "    def __getitem__(self, idx):\n",
    "        return self.inputs[idx], self.inputs[idx]"
   ]
  },
  {
   "cell_type": "code",
   "execution_count": 25,
   "metadata": {},
   "outputs": [
    {
     "name": "stdout",
     "output_type": "stream",
     "text": [
      "Zll : 100000\n"
     ]
    }
   ],
   "source": [
    "dataset = {}\n",
    "# Use to do validation split\n",
    "# torch.utils.data.random_split(dataset, lengths)\n",
    "dataset['train'] = Dataset(['Zll'])"
   ]
  },
  {
   "cell_type": "markdown",
   "metadata": {},
   "source": [
    "## Define the model"
   ]
  },
  {
   "cell_type": "code",
   "execution_count": 7,
   "metadata": {
    "code_folding": [
     41,
     53,
     64,
     73,
     124,
     131
    ]
   },
   "outputs": [],
   "source": [
    "class AEGraphNet(nn.Module):\n",
    "    def __init__(self, N_nodes, N_features, dim_hidden, De, Do, dim_latent, verbose = False):\n",
    "        super(AEGraphNet, self).__init__()\n",
    "        self.verbose = verbose\n",
    "        \n",
    "        self.p = N_features\n",
    "        self.No = N_nodes\n",
    "        self.De = De\n",
    "        self.Do = Do\n",
    "        self.Nk = dim_latent\n",
    "        \n",
    "        # Define the T/R matrixes\n",
    "        self.Rr, self.Rs = self.buildEdgesMatrixes() \n",
    "        # As soon dim are fixed and connections are the same this is enough\n",
    "        \n",
    "        self.encoder_modules = nn.ModuleDict({\n",
    "            'fr': self.build_dense(dim_in=2*self.p,\n",
    "                                   dim_out=self.De,\n",
    "                                   dim_hidden=dim_hidden),\n",
    "            'fo': self.build_dense(dim_in=self.p + self.De,\n",
    "                                   dim_out=self.Do,\n",
    "                                   dim_hidden=dim_hidden),\n",
    "            'PhiC': self.build_Phi(dim_in=self.Do,\n",
    "                                    dim_out=self.Nk)\n",
    "        })\n",
    "        \n",
    "        \n",
    "        self.decoder_modules = nn.ModuleDict({\n",
    "            'PhiU': self.build_Phi(dim_in=self.Nk,\n",
    "                                   dim_out=self.No*self.Do),\n",
    "            'fr': self.build_dense(dim_in=2*self.Do,\n",
    "                                   dim_out=self.De,\n",
    "                                   dim_hidden=dim_hidden),\n",
    "            'fo': self.build_dense(dim_in=self.Do + self.De,\n",
    "                                   dim_out=self.p,\n",
    "                                   dim_hidden=dim_hidden)\n",
    "        })\n",
    "        \n",
    "        \n",
    "        self.onGPU = False\n",
    "             \n",
    "    def buildEdgesMatrixes(self):\n",
    "        ### Assume fully connected graph\n",
    "        Ne = self.No * (self.No - 1)\n",
    "        self.Ne = Ne\n",
    "        Rr = torch.zeros(self.No, Ne)\n",
    "        Rs = torch.zeros(self.No, Ne)\n",
    "        receiver_sender_list = [i for i in itertools.product(range(self.No), range(self.No)) if i[0]!=i[1]]\n",
    "        for i, (r, s) in enumerate(receiver_sender_list):\n",
    "            Rr[r, i] = 1\n",
    "            Rs[s, i] = 1\n",
    "        return Rr, Rs\n",
    "          \n",
    "    def build_dense(self, dim_in, dim_out, dim_hidden):\n",
    "        net = nn.Sequential(\n",
    "                            nn.Linear(dim_in, dim_hidden),\n",
    "                            nn.ReLU(),\n",
    "                            nn.Linear(dim_hidden, int(dim_hidden/2)),\n",
    "                            nn.ReLU(),\n",
    "                            nn.Linear(int(dim_hidden/2), dim_out),\n",
    "                            nn.ReLU(),\n",
    "                          )\n",
    "        return net\n",
    "\n",
    "    def build_Phi(self, dim_in, dim_out):\n",
    "        Phi = nn.Sequential(\n",
    "                              nn.Linear(dim_in, int(0.5*(dim_out + dim_in))),\n",
    "                              nn.ReLU(),\n",
    "                              nn.Linear(int(0.5*(dim_out + dim_in)), dim_out),\n",
    "                              nn.ReLU()\n",
    "                            )\n",
    "        return Phi\n",
    "         \n",
    "    def INlayer(self, x, modules):\n",
    "#         print(x.shape)\n",
    "        local_p = x.shape[2]\n",
    "        x = torch.transpose(x, 1, 2).contiguous()\n",
    "#         print(x.shape)\n",
    "#         print(self.Rr.shape)\n",
    "        Orr = torch.matmul(x, self.Rr)\n",
    "#         print(Orr.shape)\n",
    "        Ors = torch.matmul(x, self.Rs)\n",
    "        B = torch.cat([Orr, Ors], dim=1)\n",
    "        \n",
    "        ### First MLP ###\n",
    "#         print(B.shape)\n",
    "#         print(modules['fr'])\n",
    "#         print(B.view(-1, 2 * local_p).shape)\n",
    "        E = modules['fr'](B.view(-1, 2 * local_p))\n",
    "        del B\n",
    "        \n",
    "        E = E.view(-1, self.Ne, self.De)\n",
    "        E = torch.transpose(E, 1, 2).contiguous()\n",
    "        Ebar = torch.matmul(E, torch.transpose(self.Rr, 0, 1).contiguous())\n",
    "        del E\n",
    "        \n",
    "        C = torch.cat([x, Ebar], 1)\n",
    "        del Ebar\n",
    "        \n",
    "        C = torch.transpose(C, 1, 2).contiguous()\n",
    "        O = modules['fo'](C.view(-1, local_p + self.De))\n",
    "        del C\n",
    "        local_Do = modules['fo'][-2].out_features\n",
    "        O = torch.relu(O.view(-1, self.No, local_Do))\n",
    "        return O\n",
    "        \n",
    "    def encode(self, x):\n",
    "        O = self.INlayer(x, self.encoder_modules)\n",
    "        \n",
    "        O = torch.sum(O, 1)\n",
    "        z = self.encoder_modules['PhiC'](O)\n",
    "        return z\n",
    "    \n",
    "    def decode(self, z):\n",
    "        O = self.decoder_modules['PhiU'](z).view(-1, self.No, self.Do)\n",
    "        x_raw = self.INlayer(O, self.decoder_modules)\n",
    "        \n",
    "        return x_raw\n",
    "        \n",
    "    \n",
    "    def forward(self, x):\n",
    "        z = self.encode(x)\n",
    "        x_prime = self.decode(z)\n",
    "        return x_prime\n",
    "    \n",
    "    def initWeights(self):\n",
    "        def weights_init(M):\n",
    "            if hasattr(M, 'weight'):\n",
    "                nn.init.xavier_normal_(M.weight.data)\n",
    "        \n",
    "        self.apply(weights_init)\n",
    "    \n",
    "    def useGPU(self):\n",
    "        if torch.cuda.is_available():\n",
    "            print('Current device: {} ({} available)'.format(torch.cuda.current_device(), \n",
    "                                                             torch.cuda.device_count()))\n",
    "            \n",
    "            for o in self.__dict__.values():\n",
    "                if o.__class__ == torch.Tensor:\n",
    "                    o.cuda()\n",
    "            \n",
    "            self.onGPU = True\n",
    "        else: \n",
    "            print('GPU not available')"
   ]
  },
  {
   "cell_type": "code",
   "execution_count": 8,
   "metadata": {
    "code_folding": [
     0
    ],
    "scrolled": true
   },
   "outputs": [
    {
     "name": "stdout",
     "output_type": "stream",
     "text": [
      "AEGraphNet(\n",
      "  (encoder_modules): ModuleDict(\n",
      "    (PhiC): Sequential(\n",
      "      (0): Linear(in_features=7, out_features=6, bias=True)\n",
      "      (1): ReLU()\n",
      "      (2): Linear(in_features=6, out_features=5, bias=True)\n",
      "      (3): ReLU()\n",
      "    )\n",
      "    (fo): Sequential(\n",
      "      (0): Linear(in_features=9, out_features=15, bias=True)\n",
      "      (1): ReLU()\n",
      "      (2): Linear(in_features=15, out_features=7, bias=True)\n",
      "      (3): ReLU()\n",
      "      (4): Linear(in_features=7, out_features=7, bias=True)\n",
      "      (5): ReLU()\n",
      "    )\n",
      "    (fr): Sequential(\n",
      "      (0): Linear(in_features=10, out_features=15, bias=True)\n",
      "      (1): ReLU()\n",
      "      (2): Linear(in_features=15, out_features=7, bias=True)\n",
      "      (3): ReLU()\n",
      "      (4): Linear(in_features=7, out_features=4, bias=True)\n",
      "      (5): ReLU()\n",
      "    )\n",
      "  )\n",
      "  (decoder_modules): ModuleDict(\n",
      "    (PhiU): Sequential(\n",
      "      (0): Linear(in_features=5, out_features=37, bias=True)\n",
      "      (1): ReLU()\n",
      "      (2): Linear(in_features=37, out_features=70, bias=True)\n",
      "      (3): ReLU()\n",
      "    )\n",
      "    (fo): Sequential(\n",
      "      (0): Linear(in_features=11, out_features=15, bias=True)\n",
      "      (1): ReLU()\n",
      "      (2): Linear(in_features=15, out_features=7, bias=True)\n",
      "      (3): ReLU()\n",
      "      (4): Linear(in_features=7, out_features=5, bias=True)\n",
      "      (5): ReLU()\n",
      "    )\n",
      "    (fr): Sequential(\n",
      "      (0): Linear(in_features=14, out_features=15, bias=True)\n",
      "      (1): ReLU()\n",
      "      (2): Linear(in_features=15, out_features=7, bias=True)\n",
      "      (3): ReLU()\n",
      "      (4): Linear(in_features=7, out_features=4, bias=True)\n",
      "      (5): ReLU()\n",
      "    )\n",
      "  )\n",
      ")\n",
      "\n",
      "Trainable parameters: 4293\n"
     ]
    }
   ],
   "source": [
    "model = AEGraphNet(\n",
    "                   N_nodes=dataset['train'].inputs.shape[1],\n",
    "                   N_features=dataset['train'].inputs.shape[2],\n",
    "                   dim_hidden=15,\n",
    "                   De=4,\n",
    "                   Do=7,\n",
    "                   dim_latent=5\n",
    "                  )\n",
    "\n",
    "print(model)\n",
    "trainablePars = sum(p.numel() for p in model.parameters() if p.requires_grad)\n",
    "print('\\nTrainable parameters:', trainablePars)\n",
    "\n",
    "model.initWeights()"
   ]
  },
  {
   "cell_type": "markdown",
   "metadata": {},
   "source": [
    "## Loss"
   ]
  },
  {
   "cell_type": "code",
   "execution_count": 9,
   "metadata": {},
   "outputs": [],
   "source": [
    "criterion = nn.L1Loss()"
   ]
  },
  {
   "cell_type": "markdown",
   "metadata": {},
   "source": [
    "## Training"
   ]
  },
  {
   "cell_type": "code",
   "execution_count": 10,
   "metadata": {},
   "outputs": [],
   "source": [
    "training_params = {'batch_size': 128,\n",
    "                   'shuffle': True,\n",
    "                   'num_workers': 0\n",
    "                  }\n",
    "\n",
    "max_epochs = 50"
   ]
  },
  {
   "cell_type": "code",
   "execution_count": 11,
   "metadata": {},
   "outputs": [],
   "source": [
    "optimizer = torch.optim.Adam(model.parameters(), lr=1e-3)\n",
    "\n",
    "from torch.optim.lr_scheduler import ReduceLROnPlateau\n",
    "scheduler = ReduceLROnPlateau(optimizer, \n",
    "                              mode='min',\n",
    "                              factor=0.2,\n",
    "                              patience=3,\n",
    "                              verbose=1,\n",
    "                              threshold=1e-4,\n",
    "                              cooldown=2\n",
    "                             )"
   ]
  },
  {
   "cell_type": "code",
   "execution_count": 12,
   "metadata": {
    "code_folding": [
     4
    ]
   },
   "outputs": [
    {
     "name": "stdout",
     "output_type": "stream",
     "text": [
      "Ep 1 [####################]  100% - Tot. time: 10.8 s           \n",
      "Loss: 2.66e+00\n",
      "\n",
      "Ep 2 [####################]  100% - Tot. time: 9.8 s                        \n",
      "Loss: 2.28e+00 - Delta: -3.75e-01\n",
      "\n",
      "Ep 3 [####################]  100% - Tot. time: 9.7 s                        \n",
      "Loss: 2.32e+00 - Delta: 3.45e-02 - Trend: 4.09e-01\n",
      "\n",
      "Ep 4 [####################]  100% - Tot. time: 10.4 s                       \n",
      "Loss: 2.39e+00 - Delta: 6.71e-02 - Trend: 3.26e-02\n",
      "\n",
      "Ep 5 [####################]  100% - Tot. time: 9.8 s                        \n",
      "Loss: 2.35e+00 - Delta: -3.46e-02 - Trend: -1.02e-01\n",
      "\n",
      "Ep 6 [####################]  100% - Tot. time: 11.1 s                       \n",
      "Loss: 2.20e+00 - Delta: -1.54e-01 - Trend: -1.20e-01\n",
      "\n",
      "Ep 7 [####################]  100% - Tot. time: 10.6 s                       \n",
      "Loss: 2.33e+00 - Delta: 1.35e-01 - Trend: 2.89e-01\n",
      "\n",
      "Ep 8 [####################]  100% - Tot. time: 14.4 s                       \n",
      "Loss: 2.35e+00 - Delta: 1.80e-02 - Trend: -1.17e-01\n",
      "\n",
      "Ep 9 [####################]  100% - Tot. time: 12.6 s                       \n",
      "Loss: 2.19e+00 - Delta: -1.63e-01 - Trend: -1.81e-01\n",
      "\n",
      "Ep 10 [####################]  100% - Tot. time: 10.6 s                       \n",
      "Loss: 2.45e+00 - Delta: 2.64e-01 - Trend: 4.26e-01\n",
      "\n",
      "Ep 11 [####################]  100% - Tot. time: 11.5 s                       \n",
      "Loss: 2.33e+00 - Delta: -1.22e-01 - Trend: -3.86e-01\n",
      "\n",
      "Ep 12 [####################]  100% - Tot. time: 14.2 s                       \n",
      "Loss: 2.12e+00 - Delta: -2.06e-01 - Trend: -8.43e-02\n",
      "\n",
      "Ep 13 [####################]  100% - Tot. time: 11.4 s                       \n",
      "Loss: 2.63e+00 - Delta: 5.08e-01 - Trend: 7.14e-01\n",
      "\n",
      "Ep 14 [####################]  100% - Tot. time: 10.2 s                       \n",
      "Loss: 2.08e+00 - Delta: -5.49e-01 - Trend: -1.06e+00\n",
      "\n",
      "Ep 15 [####################]  100% - Tot. time: 10.1 s                       \n",
      "Loss: 2.23e+00 - Delta: 1.52e-01 - Trend: 7.01e-01\n",
      "\n",
      "Ep 16 [####################]  100% - Tot. time: 11.1 s                       \n",
      "Loss: 1.99e+00 - Delta: -2.43e-01 - Trend: -3.95e-01\n",
      "\n",
      "Ep 17 [####################]  100% - Tot. time: 11.1 s                      \n",
      "Loss: 2.36e+00 - Delta: 3.75e-01 - Trend: 6.18e-01\n",
      "\n",
      "Ep 18 [####################]  100% - Tot. time: 11.5 s                       \n",
      "Loss: 2.19e+00 - Delta: -1.73e-01 - Trend: -5.47e-01\n",
      "\n",
      "Ep 19 [####################]  100% - Tot. time: 11.3 s                       \n",
      "Loss: 2.10e+00 - Delta: -9.32e-02 - Trend: 7.93e-02\n",
      "\n",
      "Ep 20 [####################]  100% - Tot. time: 12.2 s                       \n",
      "Epoch    19: reducing learning rate of group 0 to 2.0000e-04.\n",
      "Loss: 2.46e+00 - Delta: 3.58e-01 - Trend: 4.51e-01\n",
      "\n",
      "Ep 21 [####################]  100% - Tot. time: 11.9 s                       \n",
      "Loss: 2.18e+00 - Delta: -2.78e-01 - Trend: -6.36e-01\n",
      "\n",
      "Ep 22 [####################]  100% - Tot. time: 11.3 s                       \n",
      "Loss: 2.19e+00 - Delta: 1.19e-02 - Trend: 2.90e-01\n",
      "\n",
      "Ep 23 [####################]  100% - Tot. time: 13.0 s                       \n",
      "Loss: 1.92e+00 - Delta: -2.70e-01 - Trend: -2.81e-01\n",
      "\n",
      "Ep 24 [####################]  100% - Tot. time: 13.0 s                      \n",
      "Loss: 2.17e+00 - Delta: 2.52e-01 - Trend: 5.21e-01\n",
      "\n",
      "Ep 25 [####################]  100% - Tot. time: 11.0 s                       \n",
      "Loss: 2.06e+00 - Delta: -1.10e-01 - Trend: -3.62e-01\n",
      "\n",
      "Ep 26 [####################]  100% - Tot. time: 10.8 s                       \n",
      "Loss: 2.04e+00 - Delta: -2.54e-02 - Trend: 8.47e-02\n",
      "\n",
      "Ep 27 [####################]  100% - Tot. time: 11.5 s                       \n",
      "Loss: 1.86e+00 - Delta: -1.79e-01 - Trend: -1.53e-01\n",
      "\n",
      "Ep 28 [####################]  100% - Tot. time: 13.5 s                      \n",
      "Loss: 2.25e+00 - Delta: 3.93e-01 - Trend: 5.72e-01\n",
      "\n",
      "Ep 29 [####################]  100% - Tot. time: 12.4 s                       \n",
      "Loss: 2.09e+00 - Delta: -1.60e-01 - Trend: -5.53e-01\n",
      "\n",
      "Ep 30 [####################]  100% - Tot. time: 11.9 s                       \n",
      "Loss: 2.15e+00 - Delta: 6.27e-02 - Trend: 2.23e-01\n",
      "\n",
      "Ep 31 [####################]  100% - Tot. time: 11.1 s                       \n",
      "Epoch    30: reducing learning rate of group 0 to 4.0000e-05.\n",
      "Loss: 2.06e+00 - Delta: -9.82e-02 - Trend: -1.61e-01\n",
      "\n",
      "Ep 32 [####################]  100% - Tot. time: 10.5 s                       \n",
      "Loss: 2.13e+00 - Delta: 6.86e-02 - Trend: 1.67e-01\n",
      "\n",
      "Ep 33 [####################]  100% - Tot. time: 10.6 s                       \n",
      "Loss: 2.02e+00 - Delta: -1.00e-01 - Trend: -1.69e-01\n",
      "\n",
      "Ep 34 [####################]  100% - Tot. time: 12.1 s                       \n",
      "Loss: 2.24e+00 - Delta: 2.14e-01 - Trend: 3.14e-01\n",
      "\n",
      "Ep 35 [####################]  100% - Tot. time: 11.3 s                       \n",
      "Loss: 2.03e+00 - Delta: -2.13e-01 - Trend: -4.27e-01\n",
      "\n",
      "Ep 36 [####################]  100% - Tot. time: 12.0 s                       \n",
      "Loss: 1.99e+00 - Delta: -3.65e-02 - Trend: 1.77e-01\n",
      "\n",
      "Ep 37 [####################]  100% - Tot. time: 10.9 s                       \n",
      "Epoch    36: reducing learning rate of group 0 to 8.0000e-06.\n",
      "Loss: 2.03e+00 - Delta: 3.80e-02 - Trend: 7.45e-02\n",
      "\n",
      "Ep 38 [####################]  100% - Tot. time: 10.5 s                       \n",
      "Loss: 2.02e+00 - Delta: -4.07e-03 - Trend: -4.21e-02\n",
      "\n",
      "Ep 39 [####################]  100% - Tot. time: 11.8 s                       \n",
      "Loss: 2.08e+00 - Delta: 5.49e-02 - Trend: 5.90e-02\n",
      "\n",
      "Ep 40 [####################]  100% - Tot. time: 10.6 s                       \n",
      "Loss: 2.01e+00 - Delta: -6.73e-02 - Trend: -1.22e-01\n",
      "\n",
      "Ep 41 [####################]  100% - Tot. time: 12.6 s                       \n",
      "Loss: 1.98e+00 - Delta: -2.64e-02 - Trend: 4.09e-02\n",
      "\n",
      "Ep 42 [####################]  100% - Tot. time: 10.9 s                       \n",
      "Loss: 2.02e+00 - Delta: 3.21e-02 - Trend: 5.85e-02\n",
      "\n",
      "Ep 43 [####################]  100% - Tot. time: 10.5 s                       \n",
      "Epoch    42: reducing learning rate of group 0 to 1.6000e-06.\n",
      "Loss: 2.09e+00 - Delta: 7.54e-02 - Trend: 4.33e-02\n",
      "\n",
      "Ep 44 [####################]  100% - Tot. time: 11.5 s                       \n",
      "Loss: 2.03e+00 - Delta: -6.64e-02 - Trend: -1.42e-01\n",
      "\n",
      "Ep 45 [####################]  100% - Tot. time: 12.5 s                       \n",
      "Loss: 2.01e+00 - Delta: -2.00e-02 - Trend: 4.64e-02\n",
      "\n",
      "Ep 46 [####################]  100% - Tot. time: 11.2 s                       \n",
      "Loss: 2.18e+00 - Delta: 1.78e-01 - Trend: 1.98e-01\n",
      "\n",
      "Ep 47 [####################]  100% - Tot. time: 11.7 s                       \n",
      "Loss: 2.20e+00 - Delta: 2.02e-02 - Trend: -1.58e-01\n",
      "\n",
      "Ep 48 [####################]  100% - Tot. time: 10.7 s                       \n",
      "Loss: 1.96e+00 - Delta: -2.44e-01 - Trend: -2.64e-01\n",
      "\n",
      "Ep 49 [####################]  100% - Tot. time: 10.5 s                      \n",
      "Epoch    48: reducing learning rate of group 0 to 3.2000e-07.\n",
      "Loss: 2.11e+00 - Delta: 1.51e-01 - Trend: 3.95e-01\n",
      "\n",
      "Ep 50 [####################]  100% - Tot. time: 11.8 s                       \n",
      "Loss: 2.08e+00 - Delta: -2.75e-02 - Trend: -1.78e-01\n",
      "\n"
     ]
    }
   ],
   "source": [
    "optimizer.zero_grad()\n",
    "data_train_iter = data.DataLoader(dataset['train'], **training_params)\n",
    "\n",
    "train_loss = []\n",
    "for epoch in range(1, max_epochs+1):\n",
    "    batch_loss = []\n",
    "    pb = ProgressBar(len(data_train_iter), percentPrecision=5, headLabel='Ep {} '.format(epoch))\n",
    "    for local_x, _ in data_train_iter:\n",
    "        if model.onGPU:\n",
    "            local_x = local_x.cuda()\n",
    "        \n",
    "        x_prime = model(local_x)\n",
    "        loss = criterion(local_x.view(-1, model.No*model.p), x_prime.view(-1, model.No*model.p))\n",
    "        batch_loss.append(loss.item())\n",
    "        \n",
    "        tail_label = 'Loss: {:2.2e}'.format(loss.item())\n",
    "        if len(train_loss) > 0:\n",
    "            tail_label += ' ({:2.2e})'.format(loss.item() - train_loss[-1][-1])\n",
    "        pb.show(len(batch_loss)-1, tail_label=tail_label)\n",
    "        loss.backward()\n",
    "        optimizer.step()\n",
    "        \n",
    "    scheduler.step(batch_loss[-1])\n",
    "    printout = 'Loss: {:2.2e}'.format(batch_loss[-1])\n",
    "    if len(train_loss) > 0:\n",
    "        printout += ' - Delta: {:2.2e}'.format(batch_loss[-1] - train_loss[-1][-1])\n",
    "    if len(train_loss) > 1:\n",
    "        d2L_de2 = batch_loss[-1] - 2*train_loss[-1][-1] + train_loss[-2][-1]\n",
    "        printout +=' - Trend: {:2.2e}'.format(d2L_de2)\n",
    "    print(printout+'\\n')\n",
    "    train_loss.append(batch_loss)\n",
    "    \n",
    "train_loss = np.array(train_loss)"
   ]
  },
  {
   "cell_type": "code",
   "execution_count": 13,
   "metadata": {},
   "outputs": [
    {
     "data": {
      "image/png": "[encoded data removed]",
      "text/plain": [
       "<Figure size 1152x576 with 1 Axes>"
      ]
     },
     "metadata": {
      "needs_background": "light"
     },
     "output_type": "display_data"
    }
   ],
   "source": [
    "matplotlib.rcParams.update({'font.size': 16})\n",
    "\n",
    "f = plt.figure(figsize=(16,8))\n",
    "\n",
    "train_loss_flat = train_loss.flatten()\n",
    "x = np.arange(1, train_loss_flat.shape[0]+1) * float(train_loss.shape[0])/train_loss_flat.shape[0]\n",
    "plt.plot(x, train_loss_flat, '-', alpha=0.2, color='darkorange')\n",
    "\n",
    "x = np.arange(1, train_loss.shape[0]+1)\n",
    "plt.plot(x, train_loss[:,-1], 'o--', label='Train', color='darkorange')\n",
    "\n",
    "plt.xlabel('Epoch')\n",
    "plt.grid()\n",
    "plt.legend(loc='best')\n",
    "plt.yscale('log')\n",
    "# f.savefig('plots/TrainingHistory_VAE_all-in-one_v'+VAEversion+'.png')\n",
    "\n",
    "# f = open('TrainingHistory_VAE_all-in-one_v'+VAEversion+'.pkl', 'w')\n",
    "# pickle.dump(fit_report.history, f, pickle.HIGHEST_PROTOCOL)\n",
    "# f.close()"
   ]
  },
  {
   "cell_type": "markdown",
   "metadata": {},
   "source": [
    "# Convergence check"
   ]
  },
  {
   "cell_type": "code",
   "execution_count": 17,
   "metadata": {},
   "outputs": [],
   "source": [
    "x = dataset['train'].inputs\n",
    "x_prime = model(torch.Tensor(dataset['train'].inputs)).cpu().detach().numpy()"
   ]
  },
  {
   "cell_type": "markdown",
   "metadata": {},
   "source": [
    "### Output features"
   ]
  },
  {
   "cell_type": "code",
   "execution_count": 28,
   "metadata": {},
   "outputs": [
    {
     "data": {
      "image/png": "[encoded data removed]",
      "text/plain": [
       "<Figure size 432x288 with 1 Axes>"
      ]
     },
     "metadata": {
      "needs_background": "light"
     },
     "output_type": "display_data"
    },
    {
     "data": {
      "image/png": "[encoded data removed]",
      "text/plain": [
       "<Figure size 432x288 with 1 Axes>"
      ]
     },
     "metadata": {
      "needs_background": "light"
     },
     "output_type": "display_data"
    },
    {
     "data": {
      "image/png": "[encoded data removed]",
      "text/plain": [
       "<Figure size 432x288 with 1 Axes>"
      ]
     },
     "metadata": {
      "needs_background": "light"
     },
     "output_type": "display_data"
    },
    {
     "data": {
      "image/png": "[encoded data removed]",
      "text/plain": [
       "<Figure size 432x288 with 1 Axes>"
      ]
     },
     "metadata": {
      "needs_background": "light"
     },
     "output_type": "display_data"
    },
    {
     "data": {
      "image/png": "[encoded data removed]",
      "text/plain": [
       "<Figure size 432x288 with 1 Axes>"
      ]
     },
     "metadata": {
      "needs_background": "light"
     },
     "output_type": "display_data"
    }
   ],
   "source": [
    "for i in range(x_prime.shape[2]):\n",
    "    x_aux = x[:,:,i].flatten()\n",
    "    xp_aux = x_prime[:,:,i].flatten()\n",
    "    f = plt.figure(i)\n",
    "    r = (min(np.min(x_aux), np.min(xp_aux)), max(np.max(x_aux), np.max(xp_aux)))\n",
    "    plt.hist(x_aux, bins=20, range=r, alpha=0.4, density=True)\n",
    "    plt.hist(xp_aux, bins=20, range=r, alpha=0.4, density=True)\n",
    "    plt.xlabel(dataset['train'].feature_names[i])\n",
    "    dnd.append(f)"
   ]
  },
  {
   "cell_type": "code",
   "execution_count": null,
   "metadata": {},
   "outputs": [],
   "source": []
  }
 ],
 "metadata": {
  "kernelspec": {
   "display_name": "Python 3",
   "language": "python",
   "name": "python3"
  },
  "language_info": {
   "codemirror_mode": {
    "name": "ipython",
    "version": 3
   },
   "file_extension": ".py",
   "mimetype": "text/x-python",
   "name": "python",
   "nbconvert_exporter": "python",
   "pygments_lexer": "ipython3",
   "version": "3.7.3"
  }
 },
 "nbformat": 4,
 "nbformat_minor": 2
}
