{
 "cells": [
  {
   "cell_type": "markdown",
   "metadata": {},
   "source": [
    "AE with one Interaction layers"
   ]
  },
  {
   "cell_type": "code",
   "execution_count": 1,
   "metadata": {},
   "outputs": [],
   "source": [
    "import numpy as np\n",
    "import itertools\n",
    "import os, sys\n",
    "import matplotlib.pyplot as plt\n",
    "import matplotlib\n",
    "%matplotlib inline"
   ]
  },
  {
   "cell_type": "code",
   "execution_count": 2,
   "metadata": {},
   "outputs": [],
   "source": [
    "import torch\n",
    "import torch.nn as nn\n",
    "import torch.nn.functional as F"
   ]
  },
  {
   "cell_type": "code",
   "execution_count": 3,
   "metadata": {},
   "outputs": [],
   "source": [
    "from progressBar import ProgressBar"
   ]
  },
  {
   "cell_type": "code",
   "execution_count": 4,
   "metadata": {},
   "outputs": [],
   "source": [
    "dnd = []"
   ]
  },
  {
   "cell_type": "markdown",
   "metadata": {},
   "source": [
    "## Get the dataset"
   ]
  },
  {
   "cell_type": "code",
   "execution_count": 5,
   "metadata": {},
   "outputs": [],
   "source": [
    "from torch.utils import data"
   ]
  },
  {
   "cell_type": "code",
   "execution_count": 6,
   "metadata": {
    "code_folding": []
   },
   "outputs": [],
   "source": [
    "class Dataset(data.Dataset):\n",
    "    def __init__(self, names = 'SM', \n",
    "                 template='../data/20190625_10part_PtOrder/{}_lepFilter_13TeV.npy'):\n",
    "        if names == 'SM':\n",
    "            self.SM_names = ['Wlnu', 'qcd', 'ttbar', 'Zll']\n",
    "            names = self.SM_names\n",
    "        self.names = names\n",
    "        \n",
    "        self.feature_names = ['Pt', 'eta', 'phi', 'charge', 'pId'][:2]\n",
    "        \n",
    "        for i, n in enumerate(names):\n",
    "            ins = np.load(template.format(n)).astype(np.float32)[:,:,:2]\n",
    "            lbs = i*np.ones(ins.shape[0]).astype(np.int8)\n",
    "            \n",
    "            print(n, ':', str(ins.shape[0]))\n",
    "            \n",
    "            if i == 0:\n",
    "                self.inputs = ins\n",
    "                self.labels = lbs\n",
    "            else:\n",
    "                self.inputs = np.concatenate((self.inputs, ins))\n",
    "                self.labels = np.concatenate((self.labels, lbs))\n",
    "    \n",
    "    def __len__(self):\n",
    "        return self.inputs.shape[0]\n",
    "    \n",
    "    def __getitem__(self, idx):\n",
    "        return self.inputs[idx], self.inputs[idx]"
   ]
  },
  {
   "cell_type": "code",
   "execution_count": 7,
   "metadata": {},
   "outputs": [
    {
     "name": "stdout",
     "output_type": "stream",
     "text": [
      "Zll : 100000\n"
     ]
    }
   ],
   "source": [
    "dataset = {}\n",
    "# Use to do validation split\n",
    "# torch.utils.data.random_split(dataset, lengths)\n",
    "dataset['train'] = Dataset(names=['Zll'], template='../data/20190626_20part_PtOrder_v1/{}_lepFilter_13TeV.npy')"
   ]
  },
  {
   "cell_type": "markdown",
   "metadata": {},
   "source": [
    "## Define the model"
   ]
  },
  {
   "cell_type": "code",
   "execution_count": 8,
   "metadata": {
    "code_folding": [
     41
    ]
   },
   "outputs": [],
   "source": [
    "class AEGraphNet(nn.Module):\n",
    "    def __init__(self, N_nodes, N_features=5, dim_hidden=20, De=7, Do=None, dim_latent=8, verbose = False):\n",
    "        super(AEGraphNet, self).__init__()\n",
    "        self.verbose = verbose\n",
    "        \n",
    "        self.p = N_features\n",
    "        self.No = N_nodes\n",
    "        self.De = De\n",
    "        self.Do = 1\n",
    "        self.Nk = dim_latent\n",
    "        \n",
    "        # Define the T/R matrixes\n",
    "        self.Rr, self.Rs = self.buildEdgesMatrixes() \n",
    "        # As soon dim are fixed and connections are the same this is enough\n",
    "        \n",
    "        self.encoder_modules = nn.ModuleDict({\n",
    "            'fr': self.build_dense(dim_in=2*self.p,\n",
    "                                   dim_out=self.De,\n",
    "                                   dim_hidden=dim_hidden),\n",
    "            'fo': self.build_dense(dim_in=self.p + self.De,\n",
    "                                   dim_out=self.Do,\n",
    "                                   dim_hidden=dim_hidden),\n",
    "            'PhiC': self.build_Phi(dim_in=self.No*self.Do,\n",
    "                                    dim_out=self.Nk)\n",
    "        })\n",
    "        \n",
    "        \n",
    "        self.decoder_modules = nn.ModuleDict({\n",
    "            'PhiU': self.build_Phi(dim_in=self.Nk,\n",
    "                                   dim_out=self.No*self.Do),\n",
    "            'fr': self.build_dense(dim_in=2*self.Do,\n",
    "                                   dim_out=self.De,\n",
    "                                   dim_hidden=dim_hidden),\n",
    "            'fo': self.build_dense(dim_in=self.Do + self.De,\n",
    "                                   dim_out=self.p,\n",
    "                                   dim_hidden=dim_hidden)\n",
    "        })\n",
    "        \n",
    "        \n",
    "        self.onGPU = False\n",
    "             \n",
    "    def buildEdgesMatrixes(self):\n",
    "        ### Assume fully connected graph\n",
    "        Ne = self.No * (self.No - 1)\n",
    "        self.Ne = Ne\n",
    "        Rr = torch.zeros(self.No, Ne)\n",
    "        Rs = torch.zeros(self.No, Ne)\n",
    "        receiver_sender_list = [i for i in itertools.product(range(self.No), range(self.No)) if i[0]!=i[1]]\n",
    "        for i, (r, s) in enumerate(receiver_sender_list):\n",
    "            Rr[r, i] = 1\n",
    "            Rs[s, i] = 1\n",
    "        return Rr, Rs\n",
    "          \n",
    "    def build_dense(self, dim_in, dim_out, dim_hidden):\n",
    "        net = nn.Sequential(\n",
    "                            nn.Linear(dim_in, dim_hidden),\n",
    "                            nn.ReLU(),\n",
    "                            nn.Linear(dim_hidden, int(dim_hidden/2)),\n",
    "                            nn.ReLU(),\n",
    "                            nn.Linear(int(dim_hidden/2), dim_out),\n",
    "                            nn.ReLU(),\n",
    "                          )\n",
    "        return net\n",
    "\n",
    "    def build_Phi(self, dim_in, dim_out):\n",
    "        Phi = nn.Sequential(\n",
    "                              nn.Linear(dim_in, int(0.5*(dim_out + dim_in))),\n",
    "                              nn.ReLU(),\n",
    "                              nn.Linear(int(0.5*(dim_out + dim_in)), dim_out),\n",
    "                              nn.ReLU()\n",
    "                            )\n",
    "        return Phi\n",
    "         \n",
    "    def INlayer(self, x, modules):\n",
    "#         print(x.shape)\n",
    "        local_p = x.shape[2]\n",
    "        x = torch.transpose(x, 1, 2).contiguous()\n",
    "#         print(x.shape)\n",
    "#         print(self.Rr.shape)\n",
    "        Orr = torch.matmul(x, self.Rr)\n",
    "#         print(Orr.shape)\n",
    "        Ors = torch.matmul(x, self.Rs)\n",
    "        B = torch.cat([Orr, Ors], dim=1)\n",
    "        \n",
    "        ### First MLP ###\n",
    "#         print(B.shape)\n",
    "#         print(modules['fr'])\n",
    "#         print(B.view(-1, 2 * local_p).shape)\n",
    "        E = modules['fr'](B.view(-1, 2 * local_p))\n",
    "        del B\n",
    "        \n",
    "        E = E.view(-1, self.Ne, self.De)\n",
    "        E = torch.transpose(E, 1, 2).contiguous()\n",
    "        Ebar = torch.matmul(E, torch.transpose(self.Rr, 0, 1).contiguous())\n",
    "        del E\n",
    "        \n",
    "        C = torch.cat([x, Ebar], 1)\n",
    "        del Ebar\n",
    "        \n",
    "        C = torch.transpose(C, 1, 2).contiguous()\n",
    "        O = modules['fo'](C.view(-1, local_p + self.De))\n",
    "        del C\n",
    "        local_Do = modules['fo'][-2].out_features\n",
    "        O = torch.relu(O.view(-1, self.No, local_Do))\n",
    "        return O\n",
    "        \n",
    "    def encode(self, x):\n",
    "        O = self.INlayer(x, self.encoder_modules)\n",
    "        O = O.view(-1, self.No * self.Do)\n",
    "        z = self.encoder_modules['PhiC'](O)\n",
    "        return z\n",
    "    \n",
    "    def decode(self, z):\n",
    "        O = self.decoder_modules['PhiU'](z)\n",
    "        O = O.view(-1, self.No, self.Do)\n",
    "        x = self.INlayer(O, self.decoder_modules)\n",
    "        \n",
    "        # --- Formatting x ----\n",
    "        # eta\n",
    "#         x[:,:,1] = F.hardtanh(x[:,:,1], min_val=-5, max_val=5)\n",
    "        # phi\n",
    "#         x[:,:,2] = F.hardtanh(x[:,:,2], min_val=-3.14159, max_val=3.14159)\n",
    "        # charge\n",
    "#         x[:,:,3] = F.hardtanh(x[:,:,3], min_val=-1, max_val=2)\n",
    "        #pId\n",
    "#         x[:,:,4] = F.hardtanh(x[:,:,4], min_val=0, max_val=6)\n",
    "        return x\n",
    "        \n",
    "    \n",
    "    def forward(self, x):\n",
    "        z = self.encode(x)\n",
    "        x_prime = self.decode(z)\n",
    "        return x_prime\n",
    "    \n",
    "    def initWeights(self):\n",
    "        def weights_init(M):\n",
    "            if hasattr(M, 'weight'):\n",
    "                nn.init.xavier_normal_(M.weight.data)\n",
    "        \n",
    "        self.apply(weights_init)\n",
    "    \n",
    "    def useGPU(self):\n",
    "        if torch.cuda.is_available():\n",
    "            print('Current device: {} ({} available)'.format(torch.cuda.current_device(), \n",
    "                                                             torch.cuda.device_count()))\n",
    "            \n",
    "            for o in self.__dict__.values():\n",
    "                if o.__class__ == torch.Tensor:\n",
    "                    o.cuda()\n",
    "            \n",
    "            self.onGPU = True\n",
    "        else: \n",
    "            print('GPU not available')"
   ]
  },
  {
   "cell_type": "code",
   "execution_count": 9,
   "metadata": {
    "code_folding": [],
    "scrolled": true
   },
   "outputs": [
    {
     "name": "stdout",
     "output_type": "stream",
     "text": [
      "AEGraphNet(\n",
      "  (encoder_modules): ModuleDict(\n",
      "    (PhiC): Sequential(\n",
      "      (0): Linear(in_features=20, out_features=12, bias=True)\n",
      "      (1): ReLU()\n",
      "      (2): Linear(in_features=12, out_features=5, bias=True)\n",
      "      (3): ReLU()\n",
      "    )\n",
      "    (fo): Sequential(\n",
      "      (0): Linear(in_features=7, out_features=20, bias=True)\n",
      "      (1): ReLU()\n",
      "      (2): Linear(in_features=20, out_features=10, bias=True)\n",
      "      (3): ReLU()\n",
      "      (4): Linear(in_features=10, out_features=1, bias=True)\n",
      "      (5): ReLU()\n",
      "    )\n",
      "    (fr): Sequential(\n",
      "      (0): Linear(in_features=4, out_features=20, bias=True)\n",
      "      (1): ReLU()\n",
      "      (2): Linear(in_features=20, out_features=10, bias=True)\n",
      "      (3): ReLU()\n",
      "      (4): Linear(in_features=10, out_features=5, bias=True)\n",
      "      (5): ReLU()\n",
      "    )\n",
      "  )\n",
      "  (decoder_modules): ModuleDict(\n",
      "    (PhiU): Sequential(\n",
      "      (0): Linear(in_features=5, out_features=12, bias=True)\n",
      "      (1): ReLU()\n",
      "      (2): Linear(in_features=12, out_features=20, bias=True)\n",
      "      (3): ReLU()\n",
      "    )\n",
      "    (fo): Sequential(\n",
      "      (0): Linear(in_features=6, out_features=20, bias=True)\n",
      "      (1): ReLU()\n",
      "      (2): Linear(in_features=20, out_features=10, bias=True)\n",
      "      (3): ReLU()\n",
      "      (4): Linear(in_features=10, out_features=2, bias=True)\n",
      "      (5): ReLU()\n",
      "    )\n",
      "    (fr): Sequential(\n",
      "      (0): Linear(in_features=2, out_features=20, bias=True)\n",
      "      (1): ReLU()\n",
      "      (2): Linear(in_features=20, out_features=10, bias=True)\n",
      "      (3): ReLU()\n",
      "      (4): Linear(in_features=10, out_features=5, bias=True)\n",
      "      (5): ReLU()\n",
      "    )\n",
      "  )\n",
      ")\n",
      "\n",
      "Trainable parameters: 2092\n"
     ]
    }
   ],
   "source": [
    "model = AEGraphNet(\n",
    "                   N_nodes=dataset['train'].inputs.shape[1],\n",
    "                   N_features=dataset['train'].inputs.shape[2],\n",
    "                   dim_hidden=20,\n",
    "                   De=5,\n",
    "                   dim_latent=5\n",
    "                  )\n",
    "\n",
    "print(model)\n",
    "trainablePars = sum(p.numel() for p in model.parameters() if p.requires_grad)\n",
    "print('\\nTrainable parameters:', trainablePars)\n",
    "\n",
    "model.initWeights()"
   ]
  },
  {
   "cell_type": "markdown",
   "metadata": {},
   "source": [
    "## Loss"
   ]
  },
  {
   "cell_type": "code",
   "execution_count": 10,
   "metadata": {},
   "outputs": [],
   "source": [
    "criterion = nn.L1Loss()"
   ]
  },
  {
   "cell_type": "markdown",
   "metadata": {},
   "source": [
    "## Training"
   ]
  },
  {
   "cell_type": "code",
   "execution_count": 11,
   "metadata": {},
   "outputs": [],
   "source": [
    "training_params = {'batch_size': 256,\n",
    "                   'shuffle': True,\n",
    "                   'num_workers': 0\n",
    "                  }\n",
    "\n",
    "max_epochs = 5"
   ]
  },
  {
   "cell_type": "code",
   "execution_count": 12,
   "metadata": {},
   "outputs": [
    {
     "data": {
      "text/plain": [
       "<torch.autograd.anomaly_mode.set_detect_anomaly at 0x124f41320>"
      ]
     },
     "execution_count": 12,
     "metadata": {},
     "output_type": "execute_result"
    }
   ],
   "source": [
    "torch.autograd.set_detect_anomaly(True)"
   ]
  },
  {
   "cell_type": "code",
   "execution_count": 13,
   "metadata": {},
   "outputs": [],
   "source": [
    "optimizer = torch.optim.Adam(model.parameters(), lr=1e-3)\n",
    "\n",
    "from torch.optim.lr_scheduler import ReduceLROnPlateau\n",
    "scheduler = ReduceLROnPlateau(optimizer, \n",
    "                              mode='min',\n",
    "                              factor=0.2,\n",
    "                              patience=3,\n",
    "                              verbose=1,\n",
    "                              threshold=1e-4,\n",
    "                              cooldown=2\n",
    "                             )"
   ]
  },
  {
   "cell_type": "code",
   "execution_count": 14,
   "metadata": {
    "code_folding": [
     4
    ]
   },
   "outputs": [
    {
     "name": "stdout",
     "output_type": "stream",
     "text": [
      "Ep 1 [####################]  100% - Tot. time: 68.5 s           \n",
      "Loss: 1.31e+00\n",
      "\n",
      "Ep 2 [####################]  100% - Tot. time: 68.6 s                       \n",
      "Loss: 1.30e+00 - Delta: -1.31e-02\n",
      "\n",
      "Ep 3 [####################]  100% - Tot. time: 68.0 s                       \n",
      "Loss: 1.29e+00 - Delta: -4.65e-03 - Trend: 8.43e-03\n",
      "\n",
      "Ep 4 [####################]  100% - Tot. time: 68.1 s                       \n",
      "Loss: 1.33e+00 - Delta: 3.58e-02 - Trend: 4.05e-02\n",
      "\n",
      "Ep 5 [####################]  100% - Tot. time: 68.0 s                       \n",
      "Loss: 1.29e+00 - Delta: -3.68e-02 - Trend: -7.27e-02\n",
      "\n"
     ]
    }
   ],
   "source": [
    "optimizer.zero_grad()\n",
    "data_train_iter = data.DataLoader(dataset['train'], **training_params)\n",
    "\n",
    "train_loss = []\n",
    "for epoch in range(1, max_epochs+1):\n",
    "    batch_loss = []\n",
    "    pb = ProgressBar(len(data_train_iter), percentPrecision=5, headLabel='Ep {} '.format(epoch))\n",
    "    for local_x, _ in data_train_iter:\n",
    "        if model.onGPU:\n",
    "            local_x = local_x.cuda()\n",
    "        \n",
    "        x_prime = model(local_x)\n",
    "        loss = criterion(local_x.view(-1, model.No*model.p), x_prime.view(-1, model.No*model.p))\n",
    "        batch_loss.append(loss.item())\n",
    "        \n",
    "        tail_label = 'Loss: {:2.2e}'.format(loss.item())\n",
    "        if len(train_loss) > 0:\n",
    "            tail_label += ' ({:2.2e})'.format(loss.item() - train_loss[-1][-1])\n",
    "        pb.show(len(batch_loss)-1, tail_label=tail_label)\n",
    "        loss.backward()\n",
    "        optimizer.step()\n",
    "        \n",
    "    scheduler.step(batch_loss[-1])\n",
    "    printout = 'Loss: {:2.2e}'.format(batch_loss[-1])\n",
    "    if len(train_loss) > 0:\n",
    "        printout += ' - Delta: {:2.2e}'.format(batch_loss[-1] - train_loss[-1][-1])\n",
    "    if len(train_loss) > 1:\n",
    "        d2L_de2 = batch_loss[-1] - 2*train_loss[-1][-1] + train_loss[-2][-1]\n",
    "        printout +=' - Trend: {:2.2e}'.format(d2L_de2)\n",
    "    print(printout+'\\n')\n",
    "    train_loss.append(batch_loss)"
   ]
  },
  {
   "cell_type": "code",
   "execution_count": 15,
   "metadata": {},
   "outputs": [
    {
     "data": {
      "image/png": "[encoded data removed]",
      "text/plain": [
       "<Figure size 1152x576 with 1 Axes>"
      ]
     },
     "metadata": {
      "needs_background": "light"
     },
     "output_type": "display_data"
    }
   ],
   "source": [
    "train_loss = np.array(train_loss)\n",
    "matplotlib.rcParams.update({'font.size': 16})\n",
    "\n",
    "f = plt.figure(figsize=(16,8))\n",
    "\n",
    "train_loss_flat = train_loss.flatten()\n",
    "x = np.arange(1, train_loss_flat.shape[0]+1) * float(train_loss.shape[0])/train_loss_flat.shape[0]\n",
    "plt.plot(x, train_loss_flat, '-', alpha=0.2, color='darkorange')\n",
    "\n",
    "x = np.arange(1, train_loss.shape[0]+1)\n",
    "plt.plot(x, train_loss[:,-1], 'o--', label='Train', color='darkorange')\n",
    "\n",
    "plt.xlabel('Epoch')\n",
    "plt.grid()\n",
    "plt.legend(loc='best')\n",
    "plt.yscale('log')\n",
    "# f.savefig('plots/TrainingHistory_VAE_all-in-one_v'+VAEversion+'.png')\n",
    "\n",
    "# f = open('TrainingHistory_VAE_all-in-one_v'+VAEversion+'.pkl', 'w')\n",
    "# pickle.dump(fit_report.history, f, pickle.HIGHEST_PROTOCOL)\n",
    "# f.close()"
   ]
  },
  {
   "cell_type": "markdown",
   "metadata": {},
   "source": [
    "# Convergence check"
   ]
  },
  {
   "cell_type": "code",
   "execution_count": 16,
   "metadata": {},
   "outputs": [],
   "source": [
    "x = dataset['train'].inputs\n",
    "model.eval()\n",
    "x_prime = model(torch.from_numpy(dataset['train'].inputs[:10000])).cpu().detach().numpy()\n",
    "z = model.encode(torch.from_numpy(dataset['train'].inputs[:10000])).cpu().detach().numpy()"
   ]
  },
  {
   "cell_type": "code",
   "execution_count": 17,
   "metadata": {},
   "outputs": [
    {
     "data": {
      "text/plain": [
       "(10000, 5)"
      ]
     },
     "execution_count": 17,
     "metadata": {},
     "output_type": "execute_result"
    }
   ],
   "source": [
    "z.shape"
   ]
  },
  {
   "cell_type": "markdown",
   "metadata": {},
   "source": [
    "### Latent space"
   ]
  },
  {
   "cell_type": "code",
   "execution_count": 19,
   "metadata": {},
   "outputs": [
    {
     "data": {
      "image/png": "[encoded data removed]",
      "text/plain": [
       "<Figure size 432x288 with 1 Axes>"
      ]
     },
     "metadata": {
      "needs_background": "light"
     },
     "output_type": "display_data"
    },
    {
     "data": {
      "image/png": "[encoded data removed]",
      "text/plain": [
       "<Figure size 432x288 with 1 Axes>"
      ]
     },
     "metadata": {
      "needs_background": "light"
     },
     "output_type": "display_data"
    },
    {
     "data": {
      "image/png": "[encoded data removed]",
      "text/plain": [
       "<Figure size 432x288 with 1 Axes>"
      ]
     },
     "metadata": {
      "needs_background": "light"
     },
     "output_type": "display_data"
    },
    {
     "data": {
      "image/png": "[encoded data removed]",
      "text/plain": [
       "<Figure size 432x288 with 1 Axes>"
      ]
     },
     "metadata": {
      "needs_background": "light"
     },
     "output_type": "display_data"
    },
    {
     "data": {
      "image/png": "[encoded data removed]",
      "text/plain": [
       "<Figure size 432x288 with 1 Axes>"
      ]
     },
     "metadata": {
      "needs_background": "light"
     },
     "output_type": "display_data"
    }
   ],
   "source": [
    "for i in range(z.shape[1]):\n",
    "    x_aux = z[:,i]\n",
    "    f = plt.figure(i)\n",
    "    r = (np.min(x_aux), np.max(x_aux))\n",
    "    plt.hist(x_aux, bins=20, range=r, alpha=0.4, density=True)\n",
    "    plt.xlabel('$z_{}$'.format(i))\n",
    "    dnd.append(f)"
   ]
  },
  {
   "cell_type": "markdown",
   "metadata": {},
   "source": [
    "### Output features"
   ]
  },
  {
   "cell_type": "code",
   "execution_count": 20,
   "metadata": {},
   "outputs": [
    {
     "data": {
      "image/png": "[encoded data removed]",
      "text/plain": [
       "<Figure size 432x288 with 1 Axes>"
      ]
     },
     "metadata": {
      "needs_background": "light"
     },
     "output_type": "display_data"
    },
    {
     "data": {
      "image/png": "[encoded data removed]",
      "text/plain": [
       "<Figure size 432x288 with 1 Axes>"
      ]
     },
     "metadata": {
      "needs_background": "light"
     },
     "output_type": "display_data"
    }
   ],
   "source": [
    "for i in range(x_prime.shape[2]):\n",
    "    x_aux = x[:,:,i].flatten()\n",
    "    xp_aux = x_prime[:,:,i].flatten()\n",
    "    f = plt.figure(i)\n",
    "    r = (min(np.min(x_aux), np.min(xp_aux)), max(np.max(x_aux), np.max(xp_aux)))\n",
    "    plt.hist(x_aux, bins=20, range=r, alpha=0.4, density=True)\n",
    "    plt.hist(xp_aux, bins=20, range=r, alpha=0.4, density=True)\n",
    "    plt.xlabel(dataset['train'].feature_names[i])\n",
    "    dnd.append(f)"
   ]
  },
  {
   "cell_type": "code",
   "execution_count": null,
   "metadata": {},
   "outputs": [],
   "source": []
  }
 ],
 "metadata": {
  "kernelspec": {
   "display_name": "Python 3",
   "language": "python",
   "name": "python3"
  },
  "language_info": {
   "codemirror_mode": {
    "name": "ipython",
    "version": 3
   },
   "file_extension": ".py",
   "mimetype": "text/x-python",
   "name": "python",
   "nbconvert_exporter": "python",
   "pygments_lexer": "ipython3",
   "version": "3.7.3"
  }
 },
 "nbformat": 4,
 "nbformat_minor": 2
}
