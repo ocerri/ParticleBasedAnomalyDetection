{
 "cells": [
  {
   "cell_type": "markdown",
   "metadata": {},
   "source": [
    "Like dense v4 but with interraction network"
   ]
  },
  {
   "cell_type": "code",
   "execution_count": null,
   "metadata": {
    "ExecuteTime": {
     "end_time": "2019-07-12T13:17:35.384585Z",
     "start_time": "2019-07-12T13:17:35.381876Z"
    }
   },
   "outputs": [],
   "source": [
    "AEversion = '2'"
   ]
  },
  {
   "cell_type": "code",
   "execution_count": null,
   "metadata": {
    "ExecuteTime": {
     "end_time": "2019-07-12T13:17:36.894954Z",
     "start_time": "2019-07-12T13:17:36.422364Z"
    }
   },
   "outputs": [],
   "source": [
    "import numpy as np\n",
    "import os, sys, pickle, itertools\n",
    "from prettytable import PrettyTable\n",
    "import matplotlib.pyplot as plt\n",
    "import matplotlib\n",
    "%matplotlib inline\n",
    "%autosave 60"
   ]
  },
  {
   "cell_type": "code",
   "execution_count": null,
   "metadata": {
    "ExecuteTime": {
     "end_time": "2019-07-12T13:17:38.427234Z",
     "start_time": "2019-07-12T13:17:38.198095Z"
    },
    "code_folding": [
     1,
     3
    ]
   },
   "outputs": [],
   "source": [
    "import gpustat\n",
    "try:\n",
    "    gpustat.print_gpustat()\n",
    "except:\n",
    "    pass"
   ]
  },
  {
   "cell_type": "code",
   "execution_count": null,
   "metadata": {
    "ExecuteTime": {
     "end_time": "2019-07-12T13:18:40.678668Z",
     "start_time": "2019-07-12T13:18:40.301590Z"
    }
   },
   "outputs": [],
   "source": [
    "import torch\n",
    "import torch.nn as nn\n",
    "import torch.nn.functional as F"
   ]
  },
  {
   "cell_type": "code",
   "execution_count": null,
   "metadata": {
    "ExecuteTime": {
     "end_time": "2019-07-12T13:18:41.192764Z",
     "start_time": "2019-07-12T13:18:41.187024Z"
    }
   },
   "outputs": [],
   "source": [
    "sys.path.append('../lib')\n",
    "from progressBar import ProgressBar\n",
    "from utils import EarlyStopping, createROC_curve, ELU_ProbNorm"
   ]
  },
  {
   "cell_type": "code",
   "execution_count": null,
   "metadata": {
    "ExecuteTime": {
     "end_time": "2019-07-12T13:18:41.843933Z",
     "start_time": "2019-07-12T13:18:41.841472Z"
    }
   },
   "outputs": [],
   "source": [
    "dnd = []"
   ]
  },
  {
   "cell_type": "markdown",
   "metadata": {},
   "source": [
    "## Get the dataset"
   ]
  },
  {
   "cell_type": "code",
   "execution_count": null,
   "metadata": {
    "ExecuteTime": {
     "end_time": "2019-07-12T13:18:44.416736Z",
     "start_time": "2019-07-12T13:18:44.403921Z"
    }
   },
   "outputs": [],
   "source": [
    "from dataLoaders import ParticleDataset"
   ]
  },
  {
   "cell_type": "code",
   "execution_count": null,
   "metadata": {
    "ExecuteTime": {
     "end_time": "2019-07-12T13:18:44.943154Z",
     "start_time": "2019-07-12T13:18:44.940405Z"
    }
   },
   "outputs": [],
   "source": [
    "dataset = ParticleDataset(template='../data/20190708_50part_PtOrder_v2/{}.npy', N_part=20, N_features=5)"
   ]
  },
  {
   "cell_type": "code",
   "execution_count": null,
   "metadata": {
    "ExecuteTime": {
     "end_time": "2019-07-12T13:19:12.948463Z",
     "start_time": "2019-07-12T13:18:45.779217Z"
    }
   },
   "outputs": [],
   "source": [
    "dataset.loadTrainSM(N_train_max=1e6)\n",
    "dataset.charge(dataset.SMMix_train)"
   ]
  },
  {
   "cell_type": "code",
   "execution_count": null,
   "metadata": {
    "ExecuteTime": {
     "end_time": "2019-07-12T13:19:15.520523Z",
     "start_time": "2019-07-12T13:19:12.950237Z"
    }
   },
   "outputs": [],
   "source": [
    "dataset.loadValidationSamples('BSM')"
   ]
  },
  {
   "cell_type": "markdown",
   "metadata": {},
   "source": [
    "## Define the model"
   ]
  },
  {
   "cell_type": "code",
   "execution_count": null,
   "metadata": {
    "ExecuteTime": {
     "end_time": "2019-07-12T13:23:32.894640Z",
     "start_time": "2019-07-12T13:23:32.857930Z"
    },
    "code_folding": [
     49,
     61,
     71
    ]
   },
   "outputs": [],
   "source": [
    "class AEGraphNet(nn.Module):\n",
    "    def __init__(self, N_part, N_features=5, dim_hidden=20, De=7, Do=1, dim_latent=8, verbose = False):\n",
    "        super(AEGraphNet, self).__init__()\n",
    "        self.verbose = verbose\n",
    "        \n",
    "        self.p = N_features\n",
    "        self.No = N_part\n",
    "        self.De = De\n",
    "        self.Do = Do\n",
    "        self.Nk = dim_latent\n",
    "        \n",
    "        # Define the T/R matrixes\n",
    "        self.Rr, self.Rs = self.buildEdgesMatrixes() \n",
    "        # As soon dim are fixed and connections are the same this is enough\n",
    "        \n",
    "        self.encoder_modules = nn.ModuleDict({\n",
    "            'fr': self.build_dense(dim_in=2*self.p,\n",
    "                                   dim_out=self.De,\n",
    "                                   dim_hidden=dim_hidden),\n",
    "            'fo': self.build_dense(dim_in=self.p + self.De,\n",
    "                                   dim_out=self.Do,\n",
    "                                   dim_hidden=dim_hidden),\n",
    "            'PhiC': self.build_dense(dim_in=self.No*self.Do,\n",
    "                                     dim_out=self.Nk,\n",
    "                                     dim_hidden=self.Nk+self.No*self.Do\n",
    "                                    )\n",
    "        })\n",
    "        \n",
    "        \n",
    "        self.decoder_modules = nn.ModuleDict({\n",
    "            'PhiU': self.build_dense(dim_in=self.Nk,\n",
    "                                     dim_out=self.No*self.Do,\n",
    "                                     dim_hidden=self.Nk+self.No*self.Do\n",
    "                                    ),\n",
    "            'fr': self.build_dense(dim_in=2*self.Do,\n",
    "                                   dim_out=self.De,\n",
    "                                   dim_hidden=dim_hidden),\n",
    "            'fo': self.build_dense(dim_in=self.Do + self.De,\n",
    "                                   dim_out=self.p + 3,\n",
    "                                   dim_hidden=dim_hidden),\n",
    "            'ChargeDec': self.build_Phi(dim_in=2,\n",
    "                                   dim_out=3),\n",
    "            'pdgIdDec': self.build_Phi(dim_in=2,\n",
    "                                   dim_out=5)\n",
    "        })\n",
    "        \n",
    "        \n",
    "        self.onGPU = False\n",
    "             \n",
    "    def buildEdgesMatrixes(self):\n",
    "        ### Assume fully connected graph\n",
    "        Ne = self.No * (self.No - 1)\n",
    "        self.Ne = Ne\n",
    "        Rr = torch.zeros(self.No, Ne)\n",
    "        Rs = torch.zeros(self.No, Ne)\n",
    "        receiver_sender_list = [i for i in itertools.product(range(self.No), range(self.No)) if i[0]!=i[1]]\n",
    "        for i, (r, s) in enumerate(receiver_sender_list):\n",
    "            Rr[r, i] = 1\n",
    "            Rs[s, i] = 1\n",
    "        return Rr, Rs\n",
    "          \n",
    "    def build_dense(self, dim_in, dim_out, dim_hidden):\n",
    "        net = nn.Sequential(\n",
    "                            nn.Linear(dim_in, dim_hidden),\n",
    "                            nn.ReLU(),\n",
    "                            nn.Linear(dim_hidden, dim_hidden),\n",
    "                            nn.ReLU(),\n",
    "                            nn.Linear(dim_hidden, dim_out),\n",
    "                          )\n",
    "        return net\n",
    "\n",
    "    def build_Phi(self, dim_in, dim_out):\n",
    "        Phi = nn.Sequential(\n",
    "                              nn.Linear(dim_in, int(0.5*(dim_out + dim_in))),\n",
    "                              nn.ReLU(),\n",
    "                              nn.Linear(int(0.5*(dim_out + dim_in)), dim_out)\n",
    "                            )\n",
    "        return Phi\n",
    "         \n",
    "    def INlayer(self, x, modules):\n",
    "        local_p = x.shape[2]\n",
    "        x = torch.transpose(x, 1, 2).contiguous()\n",
    "\n",
    "        Orr = torch.matmul(x, self.Rr)\n",
    "        Ors = torch.matmul(x, self.Rs)\n",
    "        B = torch.cat([Orr, Ors], dim=1)\n",
    "        \n",
    "        ### First MLP ###\n",
    "        E = modules['fr'](B.view(-1, 2 * local_p))\n",
    "        del B\n",
    "        \n",
    "        E = E.view(-1, self.Ne, self.De)\n",
    "        E = torch.transpose(E, 1, 2).contiguous()\n",
    "        Ebar = torch.matmul(E, torch.transpose(self.Rr, 0, 1).contiguous())\n",
    "        del E\n",
    "        \n",
    "        C = torch.cat([x, Ebar], 1)\n",
    "        del Ebar\n",
    "        \n",
    "        C = torch.transpose(C, 1, 2).contiguous()\n",
    "        O = modules['fo'](C.view(-1, local_p + self.De))\n",
    "        del C\n",
    "        local_Do = modules['fo'][-1].out_features\n",
    "        O = torch.relu(O.view(-1, self.No, local_Do))\n",
    "        return O\n",
    "        \n",
    "    def encode(self, x):\n",
    "        O = self.INlayer(x, self.encoder_modules)\n",
    "        O = O.view(-1, self.No * self.Do)\n",
    "        z_raw = self.encoder_modules['PhiC'](O)\n",
    "        z = F.hardtanh(z_raw, min_val=-5, max_val=5)\n",
    "        return z\n",
    "    \n",
    "    def decode(self, z):\n",
    "        O = self.decoder_modules['PhiU'](z)\n",
    "        O = O.view(-1, self.No, self.Do)\n",
    "        x_raw = self.INlayer(O, self.decoder_modules)\n",
    "        \n",
    "        # --- Formatting x ----\n",
    "        # pt\n",
    "        pt = 1. + F.elu(x_raw[:,:,0]).view(-1, self.No, 1)\n",
    "        sig_pt = 1. + 1e-6 + F.elu(x_raw[:,:,1]).view(-1, self.No, 1)\n",
    "        # eta\n",
    "        eta = F.hardtanh(x_raw[:,:,2], min_val=-5, max_val=5).view(-1, self.No, 1)\n",
    "        sig_eta = 1. + 1e-6 + F.elu(x_raw[:,:,3]).view(-1, self.No, 1)\n",
    "        # phi\n",
    "        phi = torch.fmod(torch.abs(x_raw[:,:,4]), 6.2831853072).view(-1, self.No, 1) - 3.14159265359\n",
    "        sig_phi = 1. + 1e-6 + F.elu(x_raw[:,:,5]).view(-1, self.No, 1)\n",
    "        # charge\n",
    "#         charge_cat = F.softmax(self.decoder_modules['ChargeDec'](x_raw[:,:,6:].view(-1,2)), dim=1).view(-1, self.No, 3)\n",
    "        charge_cat = ELU_ProbNorm(self.decoder_modules['ChargeDec'](x_raw[:,:,6:].view(-1,2)), dim=1).view(-1, self.No, 3)\n",
    "        # pId\n",
    "#         pId_cat = F.softmax(self.decoder_modules['pdgIdDec'](x_raw[:,:,6:].view(-1,2)), dim=1).view(-1, self.No, 5)\n",
    "        pId_cat = ELU_ProbNorm(self.decoder_modules['pdgIdDec'](x_raw[:,:,6:].view(-1,2)), dim=1).view(-1, self.No, 5)\n",
    "        \n",
    "        x = torch.cat((pt, eta, phi, sig_pt, sig_eta, sig_phi, charge_cat, pId_cat), 2)\n",
    "        return x\n",
    "        \n",
    "    \n",
    "    def forward(self, x):\n",
    "        z = self.encode(x)\n",
    "        x_prime = self.decode(z)\n",
    "        return x_prime\n",
    "    \n",
    "    def initWeights(self):\n",
    "        def weights_init(M):\n",
    "            if hasattr(M, 'weight'):\n",
    "                nn.init.xavier_normal_(M.weight.data)\n",
    "        \n",
    "        self.apply(weights_init)\n",
    "    \n",
    "    def useGPU(self, N_GPU=1):\n",
    "        if torch.cuda.is_available():\n",
    "            print('Current device: {} ({} available)'.format(torch.cuda.current_device(), \n",
    "                                                             torch.cuda.device_count()))\n",
    "            os.environ['CUDA_VISIBLE_DEVICES'] = str(N_GPU)\n",
    "            torch.cuda.empty_cache()\n",
    "            self.N_GPU = N_GPU\n",
    "            torch.cuda.empty_cache()\n",
    "            self.cuda(N_GPU)\n",
    "            self.Rr = self.Rr.cuda(N_GPU)\n",
    "            self.Rs = self.Rs.cuda(N_GPU)\n",
    "            gpustat.print_gpustat()\n",
    "            \n",
    "            self.onGPU = True\n",
    "        else: \n",
    "            print('GPU not available')"
   ]
  },
  {
   "cell_type": "code",
   "execution_count": null,
   "metadata": {
    "ExecuteTime": {
     "end_time": "2019-07-12T13:23:33.979137Z",
     "start_time": "2019-07-12T13:23:33.935543Z"
    },
    "code_folding": []
   },
   "outputs": [],
   "source": [
    "Latent_dimension = int(0.8*dataset.inputs.shape[1])\n",
    "Hidden_dimension = 4*dataset.inputs.shape[2]\n",
    "\n",
    "model = AEGraphNet(\n",
    "                   N_part=dataset.inputs.shape[1],\n",
    "                   N_features=dataset.inputs.shape[2],\n",
    "                   dim_hidden=Hidden_dimension,\n",
    "                   dim_latent=Latent_dimension,\n",
    "                   De=5,\n",
    "                   Do=5\n",
    "                  )\n",
    "\n",
    "print(model)\n",
    "trainablePars = sum(p.numel() for p in model.parameters() if p.requires_grad)\n",
    "print('\\nTrainable parameters:', trainablePars)\n",
    "\n",
    "# model.initWeights()"
   ]
  },
  {
   "cell_type": "code",
   "execution_count": null,
   "metadata": {
    "ExecuteTime": {
     "end_time": "2019-07-12T13:24:15.493114Z",
     "start_time": "2019-07-12T13:24:11.475947Z"
    },
    "scrolled": true
   },
   "outputs": [],
   "source": [
    "model.useGPU(int(AEversion)%8)"
   ]
  },
  {
   "cell_type": "markdown",
   "metadata": {},
   "source": [
    "## Loss"
   ]
  },
  {
   "cell_type": "code",
   "execution_count": null,
   "metadata": {
    "ExecuteTime": {
     "end_time": "2019-07-12T13:24:22.525580Z",
     "start_time": "2019-07-12T13:24:22.517436Z"
    },
    "code_folding": []
   },
   "outputs": [],
   "source": [
    "def criterion(x_in, x_out, reduction='mean'):\n",
    "    # Gaussian\n",
    "    out_gauss = torch.pow((x_in[:,:,:3] - x_out[:,:,:3])/ x_out[:,:,3:6], 2) + torch.log(x_out[:,:,3:6])\n",
    "    out = torch.sum(out_gauss, dim=2)\n",
    "    \n",
    "    #Cat cross entropy charge\n",
    "    aux = torch.log(x_out[:,:,6:9]).view(-1, 3)\n",
    "    aux = F.nll_loss(aux, 1+x_in[:,:,3].view(-1).long(), reduction='none')\n",
    "    out += aux.view(-1, x_in.shape[1])\n",
    "    \n",
    "    #Cat cross entropy pId\n",
    "    aux = torch.log(x_out[:,:,9:14]).view(-1, 5)\n",
    "    out += F.nll_loss(aux, x_in[:,:,4].view(-1).long(), reduction='none').view(-1, x_in.shape[1])\n",
    "    \n",
    "    out_per_evt = torch.sum(out, dim=1)\n",
    "    \n",
    "    if reduction == 'mean':\n",
    "        return torch.mean(out_per_evt)\n",
    "    elif reduction == 'none':\n",
    "        return out_per_evt\n",
    "    else:\n",
    "        raise"
   ]
  },
  {
   "cell_type": "markdown",
   "metadata": {},
   "source": [
    "## Training"
   ]
  },
  {
   "cell_type": "code",
   "execution_count": null,
   "metadata": {
    "ExecuteTime": {
     "end_time": "2019-07-12T13:24:31.174996Z",
     "start_time": "2019-07-12T13:24:31.171873Z"
    },
    "code_folding": [
     0,
     7
    ]
   },
   "outputs": [],
   "source": [
    "training_params = {'batch_size': 1000,\n",
    "                   'shuffle': True,\n",
    "                   'num_workers': 3\n",
    "                  }\n",
    "\n",
    "max_epochs = 500\n",
    "\n",
    "eval_params = {'batch_size': 5000,\n",
    "               'num_workers': 3\n",
    "              }"
   ]
  },
  {
   "cell_type": "code",
   "execution_count": null,
   "metadata": {
    "ExecuteTime": {
     "end_time": "2019-07-12T13:24:31.451958Z",
     "start_time": "2019-07-12T13:24:31.449792Z"
    }
   },
   "outputs": [],
   "source": [
    "# torch.autograd.set_detect_anomaly(True);"
   ]
  },
  {
   "cell_type": "code",
   "execution_count": null,
   "metadata": {
    "ExecuteTime": {
     "end_time": "2019-07-12T13:24:31.894904Z",
     "start_time": "2019-07-12T13:24:31.890352Z"
    },
    "code_folding": [
     3
    ]
   },
   "outputs": [],
   "source": [
    "optimizer = torch.optim.Adam(model.parameters(), lr=1e-4)\n",
    "\n",
    "from torch.optim.lr_scheduler import ReduceLROnPlateau\n",
    "scheduler = ReduceLROnPlateau(optimizer, \n",
    "                              mode='min',\n",
    "                              factor=0.3,\n",
    "                              patience=3,\n",
    "                              verbose=1,\n",
    "                              threshold=1e-4,\n",
    "                              cooldown=2,\n",
    "                              min_lr=1e-7\n",
    "                             )\n",
    "\n",
    "# Early stopping\n",
    "earlyStopping = EarlyStopping(patient=10)"
   ]
  },
  {
   "cell_type": "code",
   "execution_count": null,
   "metadata": {
    "ExecuteTime": {
     "end_time": "2019-07-12T13:27:47.841705Z",
     "start_time": "2019-07-12T13:24:43.145411Z"
    },
    "code_folding": [
     63
    ],
    "scrolled": true
   },
   "outputs": [],
   "source": [
    "train_loss = []\n",
    "BSM_eff = {'ep': []}\n",
    "for n in dataset.BSM_names:\n",
    "    BSM_eff[n] = []\n",
    "\n",
    "loss_history = {'train': [], 'val': []}\n",
    "optimizer.zero_grad()\n",
    "try:\n",
    "    for epoch in range(max_epochs):\n",
    "        batch_loss = []\n",
    "\n",
    "        #### ---- Training ---- ####\n",
    "        model.train()\n",
    "        dataset.charge(dataset.SMMix_train)\n",
    "        train_data_iter = torch.utils.data.DataLoader(dataset, **training_params)\n",
    "        pb = ProgressBar(len(train_data_iter), percentPrecision=5, headLabel='Epoch {}: '.format(epoch))\n",
    "        for local_x, _ in train_data_iter:\n",
    "            if model.onGPU:\n",
    "                local_x = local_x.cuda(model.N_GPU)\n",
    "\n",
    "            x_prime = model(local_x)        \n",
    "            loss = criterion(local_x, x_prime)\n",
    "            if np.isnan(loss.item()) or np.isinf(loss.item()):\n",
    "                print('Invalid training loss!!!')\n",
    "                raise NameError('LossNAN')\n",
    "            batch_loss.append(loss.item())\n",
    "\n",
    "            tail_label = 'Loss: {:2.2e}'.format(loss.item())\n",
    "            if len(loss_history['train']) > 0:\n",
    "                tail_label += ' ({:2.2e})'.format(loss.item() - loss_history['train'][-1][-1])\n",
    "            pb.show(len(batch_loss)-1, tail_label=tail_label)\n",
    "\n",
    "            loss.backward()\n",
    "            optimizer.step()\n",
    "            optimizer.zero_grad()\n",
    "\n",
    "        model.eval()\n",
    "        aux_loss = 0\n",
    "        N_batches = 0\n",
    "        for local_x, _ in train_data_iter:\n",
    "            if model.onGPU:\n",
    "                local_x = local_x.cuda(model.N_GPU)\n",
    "            x_prime = model(local_x)\n",
    "            loss = criterion(local_x, x_prime)\n",
    "            aux_loss += loss.item()\n",
    "            N_batches += 1\n",
    "        batch_loss.append(aux_loss/N_batches)\n",
    "\n",
    "        printout = 'Loss: {:2.2e}'.format(batch_loss[-1])\n",
    "        if len(loss_history['train']) > 0:\n",
    "            printout += ' - Delta: {:2.2e}'.format(batch_loss[-1] - loss_history['train'][-1][-1])\n",
    "        if len(loss_history['train']) > 1:\n",
    "            d2L_de2 = batch_loss[-1] - 2*loss_history['train'][-1][-1] + loss_history['train'][-2][-1]\n",
    "            printout +=' - Trend: {:2.2e}'.format(d2L_de2)\n",
    "        print(printout)\n",
    "\n",
    "        loss_history['train'].append(batch_loss)\n",
    "\n",
    "        #### ---- Validation ---- ####\n",
    "        dataset.charge(dataset.SMMix_val)\n",
    "        val_data_iter = torch.utils.data.DataLoader(dataset, **eval_params)\n",
    "        aux_loss = 0\n",
    "        N_batches = 0\n",
    "        for local_x, _ in val_data_iter:\n",
    "            if model.onGPU:\n",
    "                local_x = local_x.cuda(model.N_GPU)\n",
    "            x_prime = model(local_x)\n",
    "            loss = criterion(local_x, x_prime)\n",
    "            if np.isnan(loss.item()) or np.isinf(loss.item()):\n",
    "                print('Invalid validation loss!!!')\n",
    "                raise NameError('LossNAN')\n",
    "            aux_loss += loss.item()\n",
    "            N_batches += 1\n",
    "        loss_history['val'].append(aux_loss/N_batches)\n",
    "        printout = 'Val Loss: {:2.2e}'.format(loss_history['val'][-1])\n",
    "        print(printout)\n",
    "        if epoch > 0:\n",
    "            if loss_history['val'][-1] < np.min(loss_history['val']):\n",
    "                print('[INFO]: Saving best model')\n",
    "                torch.save(model.state_dict(), 'data/model_state_dict_iAE_v'+AEversion+'_best.pkl')\n",
    "\n",
    "        print('')\n",
    "        if not earlyStopping.check(loss_history['val'][-1]):\n",
    "            break\n",
    "\n",
    "        scheduler.step(batch_loss[-1])\n",
    "\n",
    "        #### ---- Anomaly Detection monitor ---- ####\n",
    "        if False and epoch%3 == 0:\n",
    "            print('------------ Anomaly Detection monitor ------------')\n",
    "            BSM_eff['ep'].append(epoch)\n",
    "            dataset.loss['SMMix'] = np.zeros((0))\n",
    "\n",
    "            pb = ProgressBar(len(val_data_iter), percentPrecision=5, headLabel='SM Mix: ')\n",
    "            for i, (local_x, _) in enumerate(val_data_iter):\n",
    "                    pb.show(i)\n",
    "                    if model.onGPU:\n",
    "                        local_x = local_x.cuda(model.N_GPU)\n",
    "\n",
    "                    x_prime = model(local_x)\n",
    "                    loss = criterion(local_x, x_prime, 'none').cpu().detach().numpy()\n",
    "                    dataset.loss['SMMix'] = np.concatenate((dataset.loss['SMMix'], loss))\n",
    "\n",
    "            p_SM = np.logspace(base=10, start=-5, stop=-3, num=3)\n",
    "            if not 'p_SM' in BSM_eff.keys():\n",
    "                BSM_eff['p_SM'] = p_SM\n",
    "            q_SM = np.quantile(dataset.loss['SMMix'], 1-p_SM)\n",
    "\n",
    "            table = PrettyTable(['SM Mix'] + list(map(lambda x: '{:1.2e}'.format(x), p_SM)))\n",
    "\n",
    "            for n in dataset.BSM_names:\n",
    "                dataset.loss[n] = np.zeros((0))\n",
    "\n",
    "                dataset.charge(dataset.valSamples[n])\n",
    "                data_iter = torch.utils.data.DataLoader(dataset, **eval_params)\n",
    "                pb = ProgressBar(len(data_iter), percentPrecision=5, headLabel=n+': ')\n",
    "                for i, (local_x, _) in enumerate(data_iter):\n",
    "                    pb.show(i)\n",
    "                    if model.onGPU:\n",
    "                        local_x = local_x.cuda(model.N_GPU)\n",
    "\n",
    "                    x_prime = model(local_x)\n",
    "                    loss = criterion(local_x, x_prime, 'none').cpu().detach().numpy()\n",
    "                    dataset.loss[n] = np.concatenate((dataset.loss[n], loss))\n",
    "\n",
    "                out = dataset.loss[n] > np.atleast_2d(q_SM).T\n",
    "                p_BSM = np.float64(np.sum(out, axis=1, dtype=np.float128)/dataset.loss[n].shape[0])\n",
    "                BSM_eff[n].append(p_BSM)\n",
    "\n",
    "                table.add_row([n] + list(map(lambda x: '{:1.2e}'.format(x), p_BSM)))\n",
    "            print(table)                \n",
    "            print('---------------------------------------------------\\n\\n')\n",
    "\n",
    "    model.eval()\n",
    "    torch.save(model.state_dict(), 'data/model_state_dict_iAE_v'+AEversion+'.pkl');\n",
    "except NameError:\n",
    "    if epoch > 0:\n",
    "        print ('\\n\\nModel ended up nan. Recovering best model\\n')\n",
    "        model.load_state_dict(torch.load('data/model_state_dict_iAE_v'+AEversion+'_best.pkl'))\n",
    "    else:\n",
    "        raise"
   ]
  },
  {
   "cell_type": "code",
   "execution_count": null,
   "metadata": {
    "ExecuteTime": {
     "start_time": "2019-07-12T13:16:37.303Z"
    }
   },
   "outputs": [],
   "source": [
    "loss_history['train'] = np.array(loss_history['train'])\n",
    "matplotlib.rcParams.update({'font.size': 16})\n",
    "\n",
    "f = plt.figure(figsize=(12,8))\n",
    "\n",
    "train_loss_flat = loss_history['train'].flatten()\n",
    "x = np.arange(1, train_loss_flat.shape[0]+1) * float(loss_history['train'].shape[0])/train_loss_flat.shape[0]\n",
    "plt.plot(x, train_loss_flat, '-', alpha=0.2, color='darkorange')\n",
    "\n",
    "x = np.arange(1, loss_history['train'].shape[0]+1)\n",
    "plt.plot(x, loss_history['train'][:,-1], 'o--', label='Train', color='darkorange')\n",
    "plt.plot(x, loss_history['val'], '*', label='Validatation', color='darkmagenta')\n",
    "\n",
    "plt.xlabel('Epoch')\n",
    "plt.grid()\n",
    "plt.legend(loc='best')\n",
    "# plt.yscale('log')\n",
    "plt.ylim(0.9*np.min(train_loss_flat), 1.1*np.max(loss_history['train'][1:, -1]))\n",
    "\n",
    "f.savefig('plots/TrainingHistory_iAE_v'+AEversion+'.png')\n",
    "\n",
    "f = open('data/TrainingHistory_iAE_v'+AEversion+'.pkl', 'wb')\n",
    "pickle.dump(loss_history, f)\n",
    "f.close()"
   ]
  },
  {
   "cell_type": "code",
   "execution_count": null,
   "metadata": {
    "ExecuteTime": {
     "start_time": "2019-07-12T13:16:37.307Z"
    },
    "code_folding": [
     3
    ]
   },
   "outputs": [],
   "source": [
    "f, ax_arr = plt.subplots(2,2, figsize=(12,12))\n",
    "styles = ['-', '--', ':']\n",
    "x = BSM_eff['ep']\n",
    "for i, n in enumerate(dataset.BSM_names):  \n",
    "    ax = ax_arr[int(i/2),i%2]\n",
    "    \n",
    "    BSM_eff[n] = np.array(BSM_eff[n])\n",
    "    \n",
    "    for j in range(BSM_eff['p_SM'].shape[0]):\n",
    "#         ax.plot(x, len(x)*[BSM_eff['p_SM'][j]], color='gray', lw=2, linestyle=styles[j])\n",
    "        ax.plot(x, BSM_eff[n][:,j], \n",
    "                color=dataset.process_colors[n], lw=3, linestyle=styles[j], \n",
    "                label=dataset.process_labels[n] + ' @ $\\epsilon_{{SM}} = {:1.0e}$'.format(BSM_eff['p_SM'][j]))\n",
    "        \n",
    "    ax.set_xlim([0, x[-1]+1])\n",
    "#     ax.set_ylim([1e-6, 5])\n",
    "    ax.set_xlabel('Epoch')\n",
    "    ax.set_ylabel('Efficiency')\n",
    "    ax.set_title('')\n",
    "    ax.set_yscale('log')\n",
    "    ax.grid()\n",
    "    \n",
    "    ax.legend(loc='best')\n",
    "    \n",
    "f.tight_layout()\n",
    "\n",
    "f = open('data/AnomalyDetectionHistory_iAE_v'+AEversion+'.pkl', 'wb')\n",
    "pickle.dump(BSM_eff, f)\n",
    "f.close()"
   ]
  },
  {
   "cell_type": "markdown",
   "metadata": {},
   "source": [
    "# Convergence check"
   ]
  },
  {
   "cell_type": "code",
   "execution_count": null,
   "metadata": {
    "ExecuteTime": {
     "start_time": "2019-07-12T13:16:37.309Z"
    }
   },
   "outputs": [],
   "source": [
    "dataset.charge(dataset.SMMix_val)\n",
    "x = dataset.inputs\n",
    "model.eval()\n",
    "if model.onGPU:\n",
    "    x_prime = model(torch.from_numpy(x[:10000]).cuda(model.N_GPU)).cpu().detach().numpy()\n",
    "    z = model.encode(torch.from_numpy(x[:10000]).cuda(model.N_GPU)).cpu().detach().numpy()\n",
    "else:\n",
    "    x_prime = model(torch.from_numpy(x[:10000])).cpu().detach().numpy()\n",
    "    z = model.encode(torch.from_numpy(x[:10000])).cpu().detach().numpy()"
   ]
  },
  {
   "cell_type": "markdown",
   "metadata": {},
   "source": [
    "### Latent space"
   ]
  },
  {
   "cell_type": "code",
   "execution_count": null,
   "metadata": {
    "ExecuteTime": {
     "start_time": "2019-07-12T13:16:37.311Z"
    },
    "code_folding": [
     0
    ],
    "scrolled": true
   },
   "outputs": [],
   "source": [
    "for i in range(z.shape[1]):\n",
    "    x_aux = z[:,i]\n",
    "    f = plt.figure(i)\n",
    "    r = (np.min(x_aux), np.max(x_aux))\n",
    "    plt.hist(x_aux, bins=20, range=r, alpha=0.4, density=True)\n",
    "    plt.xlabel('$z_{{{}}}$'.format(i))\n",
    "    dnd.append(f)"
   ]
  },
  {
   "cell_type": "markdown",
   "metadata": {},
   "source": [
    "### Output features"
   ]
  },
  {
   "cell_type": "code",
   "execution_count": null,
   "metadata": {
    "ExecuteTime": {
     "start_time": "2019-07-12T13:16:37.313Z"
    },
    "code_folding": [],
    "scrolled": true
   },
   "outputs": [],
   "source": [
    "for i in range(x.shape[2]):\n",
    "    x_aux = x[:,:,i].flatten()\n",
    "    if i < 3:\n",
    "        xp_aux = x_prime[:,:,i].flatten()\n",
    "    elif i==3:\n",
    "        xp_aux = np.argmax(x_prime[:,:,6:9], axis=2)\n",
    "        xp_aux = xp_aux.flatten() - 1\n",
    "    elif i==4:\n",
    "        xp_aux = np.argmax(x_prime[:,:,9:14], axis=2).flatten()\n",
    "        \n",
    "    f = plt.figure(i)\n",
    "    r = (min(np.min(x_aux), np.min(xp_aux)), max(np.max(x_aux), np.max(xp_aux)))\n",
    "    if i == 0:\n",
    "        r = (0,10)\n",
    "    plt.hist(x_aux, bins=30, range=r, alpha=0.4, density=True)\n",
    "    plt.hist(xp_aux, bins=30, range=r, alpha=0.4, density=True)\n",
    "    plt.xlabel('Particles ' + dataset.feature_names[i])\n",
    "    plt.yscale('log')\n",
    "    dnd.append(f)"
   ]
  },
  {
   "cell_type": "markdown",
   "metadata": {},
   "source": [
    "# Performance evaluation"
   ]
  },
  {
   "cell_type": "code",
   "execution_count": null,
   "metadata": {
    "ExecuteTime": {
     "start_time": "2019-07-12T13:16:37.315Z"
    }
   },
   "outputs": [],
   "source": [
    "dataset.loadValidationSamples('SM')"
   ]
  },
  {
   "cell_type": "code",
   "execution_count": null,
   "metadata": {
    "ExecuteTime": {
     "start_time": "2019-07-12T13:16:37.317Z"
    },
    "code_folding": []
   },
   "outputs": [],
   "source": [
    "model.eval()\n",
    "for n in dataset.valSamples.keys():\n",
    "    dataset.loss[n] = np.zeros((0))\n",
    "    \n",
    "    dataset.charge(dataset.valSamples[n])\n",
    "    data_iter = torch.utils.data.DataLoader(dataset, **eval_params)\n",
    "    pb = ProgressBar(len(data_iter), percentPrecision=5, headLabel=n+': ')\n",
    "    for i, (local_x, _) in enumerate(data_iter):\n",
    "        pb.show(i)\n",
    "        if model.onGPU:\n",
    "            local_x = local_x.cuda(model.N_GPU)\n",
    "            \n",
    "        x_prime = model(local_x)\n",
    "        loss = criterion(local_x, x_prime, 'none').cpu().detach().numpy()\n",
    "        dataset.loss[n] = np.concatenate((dataset.loss[n], loss))"
   ]
  },
  {
   "cell_type": "code",
   "execution_count": null,
   "metadata": {
    "ExecuteTime": {
     "start_time": "2019-07-12T13:16:37.318Z"
    }
   },
   "outputs": [],
   "source": [
    "dic_ROC = createROC_curve(dataset)\n",
    "pickle.dump(dic_ROC, open('data/iAE_v{}_ROC_dic.pkl'.format(AEversion), 'wb'))"
   ]
  },
  {
   "cell_type": "code",
   "execution_count": null,
   "metadata": {
    "ExecuteTime": {
     "start_time": "2019-07-12T13:16:37.321Z"
    },
    "code_folding": [
     1
    ],
    "scrolled": false
   },
   "outputs": [],
   "source": [
    "f_ROC, ax_arr = plt.subplots(2,2, figsize=(12,12))\n",
    "for i, n in enumerate(dataset.BSM_names):\n",
    "    f = open('../data/HLFref1811-10276_loss/VAE_all-in-one_v71_ROC1_dict_{}.pkl'.format(n), 'br')\n",
    "    dRef = pickle.load(f, encoding='bytes')\n",
    "    f.close()\n",
    "    \n",
    "    ax = ax_arr[int(i/2),i%2]\n",
    "    ax.plot(dRef[b'eff_SM'], dRef[b'eff_BSM'], label=dataset.process_labels[n] + ' HLF',\n",
    "            linestyle='--', lw=3, color=dataset.process_colors[n])\n",
    "    ax.plot(dic_ROC[n]['eff_SM'], dic_ROC[n]['eff_BSM'], label=dataset.process_labels[n] + ' PF',\n",
    "            linestyle='-', lw=3, color=dataset.process_colors[n])\n",
    "    ax.plot([0, 1], [0, 1], color='gray', lw=2, linestyle=':')\n",
    "    ax.set_xlim([1e-6, 1.0])\n",
    "    ax.set_ylim([1e-6, 1.05])\n",
    "    ax.set_xlabel('SM efficiency')\n",
    "    ax.set_ylabel('BSM efficiency')\n",
    "    ax.set_title('')\n",
    "    ax.set_yscale('log')\n",
    "    ax.set_xscale('log')\n",
    "    ax.grid()\n",
    "    \n",
    "    ax.legend(loc='lower right')\n",
    "    \n",
    "f_ROC.tight_layout()"
   ]
  },
  {
   "cell_type": "markdown",
   "metadata": {},
   "source": [
    "## Latent dimension clustering"
   ]
  },
  {
   "cell_type": "code",
   "execution_count": null,
   "metadata": {
    "ExecuteTime": {
     "start_time": "2019-07-12T13:16:37.323Z"
    }
   },
   "outputs": [],
   "source": [
    "from sklearn.manifold import TSNE"
   ]
  },
  {
   "cell_type": "code",
   "execution_count": null,
   "metadata": {
    "ExecuteTime": {
     "start_time": "2019-07-12T13:16:37.324Z"
    }
   },
   "outputs": [],
   "source": [
    "dataset.encoded = {}\n",
    "\n",
    "for n in dataset.BSM_names:    \n",
    "    dataset.charge(dataset.valSamples[n][:10000])\n",
    "    x_in = torch.Tensor(dataset.inputs)\n",
    "    if model.onGPU:\n",
    "        x_in = x_in.cuda(model.N_GPU)\n",
    "    dataset.encoded[n] = model.encode(x_in).cpu().detach().numpy()\n",
    "    \n",
    "dataset.charge(dataset.SMMix_val[:10000])\n",
    "x_in = torch.Tensor(dataset.inputs)\n",
    "if model.onGPU:\n",
    "        x_in = x_in.cuda(model.N_GPU)\n",
    "dataset.encoded['SMMix'] = model.encode(x_in).cpu().detach().numpy()"
   ]
  },
  {
   "cell_type": "code",
   "execution_count": null,
   "metadata": {
    "ExecuteTime": {
     "start_time": "2019-07-12T13:16:37.329Z"
    }
   },
   "outputs": [],
   "source": [
    "idx_max = 1000 #np.min(list(map(lambda x: x.shape[0], dataset.encoded.values())))\n",
    "z_dset = np.zeros((0, model.Nk))\n",
    "\n",
    "for n in dataset.encoded.keys():\n",
    "    z_dset = np.concatenate((z_dset, dataset.encoded[n][:idx_max]))\n",
    "    \n",
    "z_embedded = TSNE(n_components=2).fit_transform(z_dset)"
   ]
  },
  {
   "cell_type": "code",
   "execution_count": null,
   "metadata": {
    "ExecuteTime": {
     "start_time": "2019-07-12T13:16:37.330Z"
    }
   },
   "outputs": [],
   "source": [
    "f = plt.figure(figsize=(8,8))\n",
    "\n",
    "for i, n in enumerate(dataset.encoded.keys()):\n",
    "#     if not n in ['Ato4l', 'SMMix']: continue\n",
    "    aux_z = z_embedded[i*idx_max: (i+1)*idx_max]\n",
    "    plt.plot(aux_z[:,0], aux_z[:,1], \n",
    "             'o',\n",
    "             color=dataset.process_colors[n], \n",
    "             mfc='none',\n",
    "             label=dataset.process_labels[n])\n",
    "    \n",
    "plt.xlabel('Embedded 0')\n",
    "plt.ylabel('Embedded 1')\n",
    "plt.legend(loc='best')\n",
    "f.tight_layout()"
   ]
  }
 ],
 "metadata": {
  "kernelspec": {
   "display_name": "Python 3",
   "language": "python",
   "name": "python3"
  },
  "language_info": {
   "codemirror_mode": {
    "name": "ipython",
    "version": 3
   },
   "file_extension": ".py",
   "mimetype": "text/x-python",
   "name": "python",
   "nbconvert_exporter": "python",
   "pygments_lexer": "ipython3",
   "version": "3.7.3"
  }
 },
 "nbformat": 4,
 "nbformat_minor": 2
}
