{
 "cells": [
  {
   "cell_type": "markdown",
   "metadata": {},
   "source": [
    "First attempt of graph network. Running on CPU."
   ]
  },
  {
   "cell_type": "code",
   "execution_count": 1,
   "metadata": {},
   "outputs": [],
   "source": [
    "import numpy as np\n",
    "import itertools\n",
    "import os, sys\n",
    "import matplotlib.pyplot as plt\n",
    "import matplotlib\n",
    "%matplotlib inline"
   ]
  },
  {
   "cell_type": "code",
   "execution_count": 2,
   "metadata": {},
   "outputs": [],
   "source": [
    "import torch\n",
    "import torch.nn as nn\n",
    "import torch.nn.functional  as F"
   ]
  },
  {
   "cell_type": "code",
   "execution_count": 3,
   "metadata": {},
   "outputs": [],
   "source": [
    "from progressBar import ProgressBar"
   ]
  },
  {
   "cell_type": "markdown",
   "metadata": {},
   "source": [
    "## Get the dataset"
   ]
  },
  {
   "cell_type": "code",
   "execution_count": 4,
   "metadata": {},
   "outputs": [],
   "source": [
    "from torch.utils import data"
   ]
  },
  {
   "cell_type": "code",
   "execution_count": 5,
   "metadata": {},
   "outputs": [],
   "source": [
    "class Dataset(data.Dataset):\n",
    "    def __init__(self, names = 'SM', \n",
    "                 template='../data/20190624_5part_PtOrder/{}_lepFilter_13TeV.npy'):\n",
    "        if names == 'SM':\n",
    "            self.SM_names = ['Wlnu', 'qcd', 'ttbar', 'Zll']\n",
    "            names = self.SM_names\n",
    "        self.names = names\n",
    "        \n",
    "        for i, n in enumerate(names):\n",
    "            ins = np.load(template.format(n)).astype(np.float32)\n",
    "            out = i*np.ones(ins.shape[0]).astype(np.int8)\n",
    "            \n",
    "            print(n, ':', str(ins.shape[0]))\n",
    "            \n",
    "            if i == 0:\n",
    "                self.inputs = ins\n",
    "                self.outputs = out\n",
    "            else:\n",
    "                self.inputs = np.concatenate((self.inputs, ins))\n",
    "                self.outputs = np.concatenate((self.outputs, out))\n",
    "    \n",
    "    def __len__(self):\n",
    "        return self.inputs.shape[0]\n",
    "    \n",
    "    def __getitem__(self, idx):\n",
    "        return self.inputs[idx], self.outputs[idx]"
   ]
  },
  {
   "cell_type": "code",
   "execution_count": 6,
   "metadata": {},
   "outputs": [
    {
     "name": "stdout",
     "output_type": "stream",
     "text": [
      "Wlnu : 50000\n",
      "Zll : 50000\n"
     ]
    }
   ],
   "source": [
    "dataset = {}\n",
    "# Use to do validation split\n",
    "# torch.utils.data.random_split(dataset, lengths)\n",
    "dataset['train'] = Dataset(['Wlnu', 'Zll'])"
   ]
  },
  {
   "cell_type": "markdown",
   "metadata": {},
   "source": [
    "## Define the model"
   ]
  },
  {
   "cell_type": "code",
   "execution_count": 7,
   "metadata": {
    "code_folding": []
   },
   "outputs": [],
   "source": [
    "class ClfGraphNet(nn.Module):\n",
    "    def __init__(self, N_nodes, N_features, dim_hidden, De, Do, dim_output, verbose = False):\n",
    "        super(ClfGraphNet, self).__init__()\n",
    "        self.verbose = verbose\n",
    "        \n",
    "        self.p = N_features\n",
    "        self.No = N_nodes\n",
    "        self.De = De\n",
    "        self.Do = Do\n",
    "        \n",
    "        self.Rr, self.Rs = self.buildEdgesMatrixes()\n",
    "        self.fr = self.build_fr(dim_hidden)\n",
    "        self.fo = self.build_fo(dim_hidden)\n",
    "        self.PhiC = self.build_PhiC(dim_output)\n",
    "        \n",
    "        self.onGPU = False\n",
    "        \n",
    "        \n",
    "    def buildEdgesMatrixes(self):\n",
    "        ### Assume fully connected graph\n",
    "        Ne = self.No * (self.No - 1)\n",
    "        self.Ne = Ne\n",
    "        Rr = torch.zeros(self.No, Ne)\n",
    "        Rs = torch.zeros(self.No, Ne)\n",
    "        receiver_sender_list = [i for i in itertools.product(range(self.No), range(self.No)) if i[0]!=i[1]]\n",
    "        for i, (r, s) in enumerate(receiver_sender_list):\n",
    "            Rr[r, i] = 1\n",
    "            Rs[s, i] = 1\n",
    "        return Rr, Rs\n",
    "            \n",
    "    def build_fr(self, dim_hidden):\n",
    "        fr = nn.Sequential(\n",
    "                            nn.Linear(2 * self.p, dim_hidden),\n",
    "                            nn.ReLU(),\n",
    "                            nn.Linear(dim_hidden, int(dim_hidden/2)),\n",
    "                            nn.ReLU(),\n",
    "                            nn.Linear(int(dim_hidden/2), self.De),\n",
    "                            nn.ReLU(),\n",
    "                          )\n",
    "        return fr\n",
    "        \n",
    "    def build_fo(self, dim_hidden):\n",
    "        fo = nn.Sequential(\n",
    "                            nn.Linear(self.p + self.De, dim_hidden),\n",
    "                            nn.ReLU(),\n",
    "                            nn.Linear(dim_hidden, int(dim_hidden/2)),\n",
    "                            nn.ReLU(),\n",
    "                            nn.Linear(int(dim_hidden/2), self.Do),\n",
    "                            nn.ReLU(),\n",
    "                          )    \n",
    "        return fo\n",
    "\n",
    "    def build_PhiC(self, dim_output):\n",
    "        PhiC = nn.Sequential(\n",
    "                              nn.Linear(self.Do, int(0.5*(dim_output+self.Do))),\n",
    "                              nn.ReLU(),\n",
    "                              nn.Linear(int(0.5*(dim_output+self.Do)), dim_output),\n",
    "                              nn.Sigmoid()\n",
    "                            )        \n",
    "        return PhiC\n",
    "         \n",
    "    def INlayer(self, x):\n",
    "        x = torch.transpose(x, 1, 2).contiguous()\n",
    "        Orr = torch.matmul(x, self.Rr)\n",
    "        Ors = torch.matmul(x, self.Rs)\n",
    "        B = torch.cat([Orr, Ors], dim=1)\n",
    "        \n",
    "        ### First MLP ###\n",
    "        E = self.fr(B.view(-1, 2 * self.p))\n",
    "        del B\n",
    "        \n",
    "        E = E.view(-1, self.Ne, self.De)\n",
    "        E = torch.transpose(E, 1, 2).contiguous()\n",
    "        Ebar = torch.matmul(E, torch.transpose(self.Rr, 0, 1).contiguous())\n",
    "        del E\n",
    "        \n",
    "        C = torch.cat([x, Ebar], 1)\n",
    "        del Ebar\n",
    "        \n",
    "        C = torch.transpose(C, 1, 2).contiguous()\n",
    "        O = self.fo(C.view(-1, self.p + self.De))\n",
    "        del C\n",
    "        O = torch.relu(O.view(-1, self.No, self.Do))\n",
    "        return O\n",
    "        \n",
    "    def forward(self, x):\n",
    "        O = self.INlayer(x)\n",
    "        \n",
    "        # now sum over No nodes to obtain the Do latent quantities\n",
    "        O = torch.sum(O, 1)\n",
    "        y = self.PhiC(O)\n",
    "        return y\n",
    "    \n",
    "    def useGPU(self):\n",
    "        if torch.cuda.is_available():\n",
    "            print('Current device: {} ({} available)'.format(torch.cuda.current_device(), \n",
    "                                                             torch.cuda.device_count()))\n",
    "            \n",
    "            for o in self.__dict__.values():\n",
    "                if o.__class__ == torch.Tensor:\n",
    "                    o.cuda()\n",
    "            \n",
    "            self.onGPU = True\n",
    "        else: \n",
    "            print('GPU not available')\n",
    "            "
   ]
  },
  {
   "cell_type": "code",
   "execution_count": 8,
   "metadata": {
    "code_folding": []
   },
   "outputs": [],
   "source": [
    "def weights_init(M):\n",
    "    if hasattr(M, 'weight'):\n",
    "        nn.init.xavier_normal_(M.weight.data)"
   ]
  },
  {
   "cell_type": "code",
   "execution_count": 9,
   "metadata": {},
   "outputs": [
    {
     "name": "stdout",
     "output_type": "stream",
     "text": [
      "ClfGraphNet(\n",
      "  (fr): Sequential(\n",
      "    (0): Linear(in_features=10, out_features=30, bias=True)\n",
      "    (1): ReLU()\n",
      "    (2): Linear(in_features=30, out_features=15, bias=True)\n",
      "    (3): ReLU()\n",
      "    (4): Linear(in_features=15, out_features=5, bias=True)\n",
      "    (5): ReLU()\n",
      "  )\n",
      "  (fo): Sequential(\n",
      "    (0): Linear(in_features=10, out_features=30, bias=True)\n",
      "    (1): ReLU()\n",
      "    (2): Linear(in_features=30, out_features=15, bias=True)\n",
      "    (3): ReLU()\n",
      "    (4): Linear(in_features=15, out_features=10, bias=True)\n",
      "    (5): ReLU()\n",
      "  )\n",
      "  (PhiC): Sequential(\n",
      "    (0): Linear(in_features=10, out_features=5, bias=True)\n",
      "    (1): ReLU()\n",
      "    (2): Linear(in_features=5, out_features=1, bias=True)\n",
      "    (3): Sigmoid()\n",
      "  )\n",
      ")\n",
      "\n",
      "Trainable parameters: 1891\n"
     ]
    }
   ],
   "source": [
    "model = ClfGraphNet(N_nodes=dataset['train'].inputs.shape[1],\n",
    "                    N_features=dataset['train'].inputs.shape[2],\n",
    "                    dim_hidden=30,\n",
    "                    De=5,\n",
    "                    Do=10,\n",
    "                    dim_output=1\n",
    "#                     dim_output=len(dataset['train'].names)\n",
    "                   )\n",
    "print(model)\n",
    "trainablePars = sum(p.numel() for p in model.parameters() if p.requires_grad)\n",
    "print('\\nTrainable parameters:', trainablePars)\n",
    "\n",
    "# Initialize weights\n",
    "model.apply(weights_init);"
   ]
  },
  {
   "cell_type": "code",
   "execution_count": 10,
   "metadata": {},
   "outputs": [
    {
     "name": "stdout",
     "output_type": "stream",
     "text": [
      "[0.398366   0.3872427  0.40685657 ... 0.38186017 0.36862049 0.33193466]\n",
      "0.3814658\n",
      "0.038356517\n"
     ]
    },
    {
     "data": {
      "text/plain": [
       "<matplotlib.legend.Legend at 0x10a871860>"
      ]
     },
     "execution_count": 10,
     "metadata": {},
     "output_type": "execute_result"
    },
    {
     "data": {
      "image/png": "[encoded data removed]",
      "text/plain": [
       "<Figure size 432x288 with 1 Axes>"
      ]
     },
     "metadata": {
      "needs_background": "light"
     },
     "output_type": "display_data"
    }
   ],
   "source": [
    "y_pred = model(torch.Tensor(dataset['train'].inputs)).cpu().detach().numpy().flatten()\n",
    "print(y_pred)\n",
    "\n",
    "# plt.hist(y_pred, range=(0,1))\n",
    "for i in range(len(dataset['train'].names)):\n",
    "    plt.hist(y_pred[dataset['train'].outputs==i], range=(0,1), label=dataset['train'].names[i], alpha=0.4)\n",
    "\n",
    "print(np.mean(y_pred))\n",
    "print(np.std(y_pred))\n",
    "plt.legend(loc='best')"
   ]
  },
  {
   "cell_type": "markdown",
   "metadata": {},
   "source": [
    "## Loss"
   ]
  },
  {
   "cell_type": "code",
   "execution_count": 11,
   "metadata": {},
   "outputs": [],
   "source": [
    "criterion = nn.BCELoss()"
   ]
  },
  {
   "cell_type": "markdown",
   "metadata": {},
   "source": [
    "## Training"
   ]
  },
  {
   "cell_type": "code",
   "execution_count": 12,
   "metadata": {},
   "outputs": [],
   "source": [
    "training_params = {'batch_size': 128,\n",
    "                   'shuffle': True,\n",
    "                   'num_workers': 0\n",
    "                  }\n",
    "\n",
    "max_epochs = 15"
   ]
  },
  {
   "cell_type": "code",
   "execution_count": 13,
   "metadata": {},
   "outputs": [],
   "source": [
    "optimizer = torch.optim.Adam(model.parameters(), lr=1e-4)\n",
    "\n",
    "from torch.optim.lr_scheduler import ReduceLROnPlateau\n",
    "scheduler = ReduceLROnPlateau(optimizer, \n",
    "                              mode='min',\n",
    "                              factor=0.2,\n",
    "                              patience=3,\n",
    "                              verbose=1,\n",
    "                              threshold=1e-4,\n",
    "                              cooldown=2\n",
    "                             )"
   ]
  },
  {
   "cell_type": "code",
   "execution_count": 14,
   "metadata": {
    "scrolled": false
   },
   "outputs": [
    {
     "name": "stdout",
     "output_type": "stream",
     "text": [
      "Ep 1 [####################]  100% - Tot. time: 3.1 s            \n",
      "Loss: 3.79e-01\n",
      "\n",
      "Ep 2 [####################]  100% - Tot. time: 3.1 s                       \n",
      "Loss: 3.88e-01 - Delta: 8.34e-03\n",
      "\n",
      "Ep 3 [####################]  100% - Tot. time: 3.0 s                        \n",
      "Loss: 5.01e-01 - Delta: 1.13e-01 - Trend: 1.05e-01\n",
      "\n",
      "Ep 4 [####################]  100% - Tot. time: 3.1 s                        \n",
      "Loss: 3.58e-01 - Delta: -1.43e-01 - Trend: -2.56e-01\n",
      "\n",
      "Ep 5 [####################]  100% - Tot. time: 3.2 s                        \n",
      "Loss: 3.52e-01 - Delta: -6.01e-03 - Trend: 1.37e-01\n",
      "\n",
      "Ep 6 [####################]  100% - Tot. time: 3.2 s                        \n",
      "Loss: 1.62e-01 - Delta: -1.90e-01 - Trend: -1.84e-01\n",
      "\n",
      "Ep 7 [####################]  100% - Tot. time: 3.1 s                       \n",
      "Loss: 3.09e-01 - Delta: 1.48e-01 - Trend: 3.38e-01\n",
      "\n",
      "Ep 8 [####################]  100% - Tot. time: 3.1 s                        \n",
      "Loss: 4.92e-01 - Delta: 1.83e-01 - Trend: 3.52e-02\n",
      "\n",
      "Ep 9 [####################]  100% - Tot. time: 3.0 s                        \n",
      "Loss: 4.76e-01 - Delta: -1.67e-02 - Trend: -1.99e-01\n",
      "\n",
      "Ep 10 [####################]  100% - Tot. time: 3.1 s                        \n",
      "Epoch     9: reducing learning rate of group 0 to 2.0000e-05.\n",
      "Loss: 2.62e-01 - Delta: -2.14e-01 - Trend: -1.97e-01\n",
      "\n",
      "Ep 11 [####################]  100% - Tot. time: 3.1 s                        \n",
      "Loss: 3.85e-01 - Delta: 1.23e-01 - Trend: 3.37e-01\n",
      "\n",
      "Ep 12 [####################]  100% - Tot. time: 3.3 s                        \n",
      "Loss: 3.69e-01 - Delta: -1.67e-02 - Trend: -1.40e-01\n",
      "\n",
      "Ep 13 [####################]  100% - Tot. time: 3.1 s                        \n",
      "Loss: 2.90e-01 - Delta: -7.82e-02 - Trend: -6.15e-02\n",
      "\n",
      "Ep 14 [####################]  100% - Tot. time: 3.1 s                        \n",
      "Loss: 4.96e-01 - Delta: 2.06e-01 - Trend: 2.84e-01\n",
      "\n",
      "Ep 15 [####################]  100% - Tot. time: 3.1 s                        \n",
      "Loss: 3.52e-01 - Delta: -1.44e-01 - Trend: -3.50e-01\n",
      "\n"
     ]
    }
   ],
   "source": [
    "optimizer.zero_grad()\n",
    "data_train_iter = data.DataLoader(dataset['train'], **training_params)\n",
    "\n",
    "train_loss = []\n",
    "for epoch in range(1, max_epochs+1):\n",
    "    batch_loss = []\n",
    "    pb = ProgressBar(len(data_train_iter), percentPrecision=5, headLabel='Ep {} '.format(epoch))\n",
    "    for local_x, local_y in data_train_iter:\n",
    "        if model.onGPU:\n",
    "            local_x = local_x.cuda()\n",
    "            local_y = local_y.cuda()\n",
    "        \n",
    "        y_pred = model(local_x)\n",
    "        loss = criterion(y_pred.view(-1), local_y.float())\n",
    "        batch_loss.append(loss.item())\n",
    "        \n",
    "        tail_label = 'Loss: {:2.2e}'.format(loss.item())\n",
    "        if len(train_loss) > 0:\n",
    "            tail_label += ' ({:2.2e})'.format(loss.item() - train_loss[-1][-1])\n",
    "        pb.show(len(batch_loss)-1, tail_label=tail_label)\n",
    "        loss.backward()\n",
    "        optimizer.step()\n",
    "        \n",
    "    scheduler.step(batch_loss[-1])\n",
    "    printout = 'Loss: {:2.2e}'.format(batch_loss[-1])\n",
    "    if len(train_loss) > 0:\n",
    "        printout += ' - Delta: {:2.2e}'.format(batch_loss[-1] - train_loss[-1][-1])\n",
    "    if len(train_loss) > 1:\n",
    "        d2L_de2 = batch_loss[-1] - 2*train_loss[-1][-1] + train_loss[-2][-1]\n",
    "        printout +=' - Trend: {:2.2e}'.format(d2L_de2)\n",
    "    print(printout+'\\n')\n",
    "    train_loss.append(batch_loss)\n",
    "    \n",
    "train_loss = np.array(train_loss)"
   ]
  },
  {
   "cell_type": "code",
   "execution_count": 15,
   "metadata": {},
   "outputs": [
    {
     "data": {
      "image/png": "[encoded data removed]",
      "text/plain": [
       "<Figure size 1152x576 with 1 Axes>"
      ]
     },
     "metadata": {
      "needs_background": "light"
     },
     "output_type": "display_data"
    }
   ],
   "source": [
    "matplotlib.rcParams.update({'font.size': 16})\n",
    "\n",
    "f = plt.figure(figsize=(16,8))\n",
    "\n",
    "train_loss_flat = train_loss.flatten()\n",
    "x = np.arange(1, train_loss_flat.shape[0]+1) * float(train_loss.shape[0])/train_loss_flat.shape[0]\n",
    "plt.plot(x, train_loss_flat, '-', alpha=0.2, color='darkorange')\n",
    "\n",
    "x = np.arange(1, train_loss.shape[0]+1)\n",
    "plt.plot(x, train_loss[:,-1], 'o--', label='Train', color='darkorange')\n",
    "\n",
    "plt.xlabel('Epoch')\n",
    "plt.grid()\n",
    "plt.legend(loc='best')\n",
    "plt.yscale('log')\n",
    "# f.savefig('plots/TrainingHistory_VAE_all-in-one_v'+VAEversion+'.png')\n",
    "\n",
    "# f = open('TrainingHistory_VAE_all-in-one_v'+VAEversion+'.pkl', 'w')\n",
    "# pickle.dump(fit_report.history, f, pickle.HIGHEST_PROTOCOL)\n",
    "# f.close()"
   ]
  },
  {
   "cell_type": "code",
   "execution_count": 16,
   "metadata": {},
   "outputs": [
    {
     "name": "stdout",
     "output_type": "stream",
     "text": [
      "[0.06520278 0.19697662 0.07334874 ... 0.8583262  0.9955486  0.4216682 ]\n",
      "0.4907307\n",
      "0.40601823\n"
     ]
    },
    {
     "data": {
      "text/plain": [
       "<matplotlib.legend.Legend at 0x1213cdc50>"
      ]
     },
     "execution_count": 16,
     "metadata": {},
     "output_type": "execute_result"
    },
    {
     "data": {
      "image/png": "[encoded data removed]",
      "text/plain": [
       "<Figure size 432x288 with 1 Axes>"
      ]
     },
     "metadata": {
      "needs_background": "light"
     },
     "output_type": "display_data"
    }
   ],
   "source": [
    "y_pred = model(torch.Tensor(dataset['train'].inputs)).cpu().detach().numpy().flatten()\n",
    "print(y_pred)\n",
    "\n",
    "for i in range(len(dataset['train'].names)):\n",
    "    plt.hist(y_pred[dataset['train'].outputs==i], range=(0,1), label=dataset['train'].names[i], alpha=0.4, density=True)\n",
    "\n",
    "print(np.mean(y_pred))\n",
    "print(np.std(y_pred))\n",
    "plt.legend(loc='best')"
   ]
  },
  {
   "cell_type": "code",
   "execution_count": null,
   "metadata": {},
   "outputs": [],
   "source": []
  }
 ],
 "metadata": {
  "kernelspec": {
   "display_name": "Python 3",
   "language": "python",
   "name": "python3"
  },
  "language_info": {
   "codemirror_mode": {
    "name": "ipython",
    "version": 3
   },
   "file_extension": ".py",
   "mimetype": "text/x-python",
   "name": "python",
   "nbconvert_exporter": "python",
   "pygments_lexer": "ipython3",
   "version": "3.7.3"
  }
 },
 "nbformat": 4,
 "nbformat_minor": 2
}
