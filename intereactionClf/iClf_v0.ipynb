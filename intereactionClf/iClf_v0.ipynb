{
 "cells": [
  {
   "cell_type": "markdown",
   "metadata": {},
   "source": [
    "First attempt of graph network. Running on CPU."
   ]
  },
  {
   "cell_type": "code",
   "execution_count": 1,
   "metadata": {},
   "outputs": [],
   "source": [
    "import numpy as np\n",
    "import itertools\n",
    "import os, sys\n",
    "\n",
    "import torch\n",
    "import torch.nn as nn\n",
    "import torch.nn.functional  as F\n",
    "\n",
    "from progressBar import ProgressBar"
   ]
  },
  {
   "cell_type": "markdown",
   "metadata": {},
   "source": [
    "## Get the dataset"
   ]
  },
  {
   "cell_type": "code",
   "execution_count": 2,
   "metadata": {},
   "outputs": [],
   "source": [
    "from torch.utils import data"
   ]
  },
  {
   "cell_type": "code",
   "execution_count": 3,
   "metadata": {},
   "outputs": [],
   "source": [
    "class Dataset(data.Dataset):\n",
    "    def __init__(self, names = 'SM', \n",
    "                 template='../data/20190621_5part_PtOrder/{}_lepFilter_13TeV.npy'):\n",
    "        if names == 'SM':\n",
    "            self.SM_names = ['Wlnu', 'qcd', 'ttbar']\n",
    "            names = self.SM_names\n",
    "        self.names = names\n",
    "        \n",
    "        for i, n in enumerate(names):\n",
    "            ins = np.load(template.format(n)).astype(np.float32)\n",
    "            out = i*np.ones(ins.shape[0]).astype(np.int8)\n",
    "            \n",
    "            print(n, ':', str(ins.shape[0]))\n",
    "            \n",
    "            if i == 0:\n",
    "                self.inputs = ins\n",
    "                self.outputs = out\n",
    "            else:\n",
    "                self.inputs = np.concatenate((self.inputs, ins))\n",
    "                self.outputs = np.concatenate((self.outputs, out))\n",
    "    \n",
    "    def __len__(self):\n",
    "        return self.inputs.shape[0]\n",
    "    \n",
    "    def __getitem__(self, idx):\n",
    "        return self.inputs[idx], self.outputs[idx]"
   ]
  },
  {
   "cell_type": "code",
   "execution_count": 4,
   "metadata": {},
   "outputs": [
    {
     "name": "stdout",
     "output_type": "stream",
     "text": [
      "Wlnu : 10000\n",
      "qcd : 10000\n",
      "ttbar : 10000\n"
     ]
    }
   ],
   "source": [
    "dataset = {}\n",
    "# Use to do validation split\n",
    "# torch.utils.data.random_split(dataset, lengths)\n",
    "dataset['train'] = Dataset()"
   ]
  },
  {
   "cell_type": "markdown",
   "metadata": {},
   "source": [
    "## Define the model"
   ]
  },
  {
   "cell_type": "code",
   "execution_count": 5,
   "metadata": {
    "code_folding": [
     55
    ]
   },
   "outputs": [],
   "source": [
    "class ClfGraphNet(nn.Module):\n",
    "    def __init__(self, N_nodes, N_features, dim_hidden, De, Do, dim_output, verbose = False):\n",
    "        super(ClfGraphNet, self).__init__()\n",
    "        self.verbose = verbose\n",
    "        \n",
    "        self.p = N_features\n",
    "        self.No = N_nodes\n",
    "        self.De = De\n",
    "        self.Do = Do\n",
    "        \n",
    "        self.Rr, self.Rs = self.buildEdgesMatrixes()\n",
    "        self.fr = self.build_fr(dim_hidden)\n",
    "        self.fo = self.build_fo(dim_hidden)\n",
    "        self.PhiC = self.build_PhiC(dim_output)\n",
    "        \n",
    "        self.onGPU = False\n",
    "        \n",
    "        \n",
    "    def buildEdgesMatrixes(self):\n",
    "        ### Assume fully connected graph\n",
    "        Ne = self.No * (self.No - 1)\n",
    "        self.Ne = Ne\n",
    "        Rr = torch.zeros(self.No, Ne)\n",
    "        Rs = torch.zeros(self.No, Ne)\n",
    "        receiver_sender_list = [i for i in itertools.product(range(self.No), range(self.No)) if i[0]!=i[1]]\n",
    "        for i, (r, s) in enumerate(receiver_sender_list):\n",
    "            Rr[r, i] = 1\n",
    "            Rs[s, i] = 1\n",
    "        return Rr, Rs\n",
    "            \n",
    "    def build_fr(self, dim_hidden):\n",
    "        fr = nn.Sequential(\n",
    "                            nn.Linear(2 * self.p, dim_hidden),\n",
    "                            nn.ReLU(),\n",
    "                            nn.Linear(dim_hidden, int(dim_hidden/2)),\n",
    "                            nn.ReLU(),\n",
    "                            nn.Linear(int(dim_hidden/2), self.De),\n",
    "                            nn.ReLU(),\n",
    "                          )\n",
    "        return fr\n",
    "        \n",
    "    def build_fo(self, dim_hidden):\n",
    "        fo = nn.Sequential(\n",
    "                            nn.Linear(self.p + self.De, dim_hidden),\n",
    "                            nn.ReLU(),\n",
    "                            nn.Linear(dim_hidden, int(dim_hidden/2)),\n",
    "                            nn.ReLU(),\n",
    "                            nn.Linear(int(dim_hidden/2), self.Do),\n",
    "                            nn.ReLU(),\n",
    "                          )    \n",
    "        return fo\n",
    "\n",
    "    def build_PhiC(self, dim_output):\n",
    "        self.PhiC_layer = nn.Linear(self.Do, dim_output)\n",
    "        \n",
    "        def PhiC(x):\n",
    "            return F.sigmoid(self.PhiC_layer(x))\n",
    "        \n",
    "        return PhiC\n",
    "         \n",
    "    def INlayer(self, x):\n",
    "        x = torch.transpose(x, 1, 2).contiguous()\n",
    "        Orr = torch.matmul(x, self.Rr)\n",
    "        Ors = torch.matmul(x, self.Rs)\n",
    "        B = torch.cat([Orr, Ors], dim=1)\n",
    "        \n",
    "        ### First MLP ###\n",
    "        E = self.fr(B.view(-1, 2 * self.p))\n",
    "        del B\n",
    "        \n",
    "        E = E.view(-1, self.Ne, self.De)\n",
    "        E = torch.transpose(E, 1, 2).contiguous()\n",
    "        Ebar = torch.matmul(E, torch.transpose(self.Rr, 0, 1).contiguous())\n",
    "        del E\n",
    "        \n",
    "        C = torch.cat([x, Ebar], 1)\n",
    "        del Ebar\n",
    "        \n",
    "        C = torch.transpose(C, 1, 2).contiguous()\n",
    "        O = self.fo(C.view(-1, self.p + self.De))\n",
    "        del C\n",
    "        O = torch.sigmoid(O.view(-1, self.No, self.Do))\n",
    "        return O\n",
    "        \n",
    "    def forward(self, x):\n",
    "        O = self.INlayer(x)\n",
    "        \n",
    "        # now sum over No nodes to obtain the Do latent quantities\n",
    "        O = torch.sum(O, 1)\n",
    "        y = self.PhiC(O)\n",
    "        return y\n",
    "    \n",
    "    def useGPU(self):\n",
    "        if torch.cuda.is_available():\n",
    "            print('Current device: {} ({} available)'.format(torch.cuda.current_device(), \n",
    "                                                             torch.cuda.device_count()))\n",
    "            \n",
    "            for o in self.__dict__.values():\n",
    "                if o.__class__ == torch.Tensor:\n",
    "                    o.cuda()\n",
    "            \n",
    "            self.onGPU = True\n",
    "        else: \n",
    "            print('GPU not available')\n",
    "            "
   ]
  },
  {
   "cell_type": "code",
   "execution_count": 6,
   "metadata": {
    "code_folding": []
   },
   "outputs": [],
   "source": [
    "# Does not work for the moment\n",
    "# def weights_init(M):\n",
    "#     nn.init.xavier_normal(M.weight.data)"
   ]
  },
  {
   "cell_type": "code",
   "execution_count": 7,
   "metadata": {},
   "outputs": [
    {
     "name": "stdout",
     "output_type": "stream",
     "text": [
      "ClfGraphNet(\n",
      "  (fr): Sequential(\n",
      "    (0): Linear(in_features=10, out_features=10, bias=True)\n",
      "    (1): ReLU()\n",
      "    (2): Linear(in_features=10, out_features=5, bias=True)\n",
      "    (3): ReLU()\n",
      "    (4): Linear(in_features=5, out_features=3, bias=True)\n",
      "    (5): ReLU()\n",
      "  )\n",
      "  (fo): Sequential(\n",
      "    (0): Linear(in_features=8, out_features=10, bias=True)\n",
      "    (1): ReLU()\n",
      "    (2): Linear(in_features=10, out_features=5, bias=True)\n",
      "    (3): ReLU()\n",
      "    (4): Linear(in_features=5, out_features=7, bias=True)\n",
      "    (5): ReLU()\n",
      "  )\n",
      "  (PhiC_layer): Linear(in_features=7, out_features=3, bias=True)\n",
      ")\n"
     ]
    }
   ],
   "source": [
    "model = ClfGraphNet(N_nodes=dataset['train'].inputs.shape[1],\n",
    "                    N_features=dataset['train'].inputs.shape[2],\n",
    "                    dim_hidden=10,\n",
    "                    De=3,\n",
    "                    Do=7,\n",
    "                    dim_output=len(dataset['train'].names)\n",
    "                   )\n",
    "print(model)"
   ]
  },
  {
   "cell_type": "code",
   "execution_count": 8,
   "metadata": {},
   "outputs": [
    {
     "name": "stdout",
     "output_type": "stream",
     "text": [
      "394\n"
     ]
    }
   ],
   "source": [
    "trainablePars = sum(p.numel() for p in model.parameters() if p.requires_grad)\n",
    "print(trainablePars)"
   ]
  },
  {
   "cell_type": "code",
   "execution_count": 9,
   "metadata": {},
   "outputs": [],
   "source": [
    "# print(model.fr_layers[0].weight)\n",
    "# model.apply(weights_init)\n",
    "# print(model.fr_layers[0].weight)"
   ]
  },
  {
   "cell_type": "markdown",
   "metadata": {},
   "source": [
    "## Loss"
   ]
  },
  {
   "cell_type": "code",
   "execution_count": 10,
   "metadata": {},
   "outputs": [],
   "source": [
    "criterion = nn.CrossEntropyLoss()"
   ]
  },
  {
   "cell_type": "markdown",
   "metadata": {},
   "source": [
    "## Training"
   ]
  },
  {
   "cell_type": "code",
   "execution_count": 11,
   "metadata": {},
   "outputs": [],
   "source": [
    "training_params = {'batch_size': 64,\n",
    "                   'shuffle': True,\n",
    "                   'num_workers': 0\n",
    "                  }\n",
    "\n",
    "max_epochs = 100"
   ]
  },
  {
   "cell_type": "code",
   "execution_count": 12,
   "metadata": {},
   "outputs": [],
   "source": [
    "optimizer = torch.optim.Adam(model.parameters(), lr = 0.0001)"
   ]
  },
  {
   "cell_type": "code",
   "execution_count": 13,
   "metadata": {
    "scrolled": true
   },
   "outputs": [
    {
     "name": "stdout",
     "output_type": "stream",
     "text": [
      "Ep 0 [#-------------------]  9% - ETA:    1 s   Loss: 1.14e+00"
     ]
    },
    {
     "name": "stderr",
     "output_type": "stream",
     "text": [
      "/Users/olmo/programs/miniconda2/envs/PartAN/lib/python3.7/site-packages/torch/nn/functional.py:1386: UserWarning: nn.functional.sigmoid is deprecated. Use torch.sigmoid instead.\n",
      "  warnings.warn(\"nn.functional.sigmoid is deprecated. Use torch.sigmoid instead.\")\n"
     ]
    },
    {
     "name": "stdout",
     "output_type": "stream",
     "text": [
      "Ep 0 [####################]  100% - Tot. time: 1.3 s            \n",
      "Loss: 1.08e+00\n",
      "Ep 1 [####################]  100% - Tot. time: 1.3 s                        \n",
      "Loss: 1.06e+00 - Delta: -2.37e-02\n",
      "Ep 2 [####################]  100% - Tot. time: 1.2 s                        \n",
      "Loss: 1.01e+00 - Delta: -4.72e-02 - Trend: -2.35e-02\n",
      "Ep 3 [####################]  100% - Tot. time: 1.2 s                        \n",
      "Loss: 1.01e+00 - Delta: -1.90e-03 - Trend: 4.53e-02\n",
      "Ep 4 [####################]  100% - Tot. time: 1.2 s                        \n",
      "Loss: 9.74e-01 - Delta: -3.85e-02 - Trend: -3.66e-02\n",
      "Ep 5 [####################]  100% - Tot. time: 1.4 s                        \n",
      "Loss: 9.63e-01 - Delta: -1.01e-02 - Trend: 2.84e-02\n",
      "Ep 6 [####################]  100% - Tot. time: 1.3 s                        \n",
      "Loss: 9.63e-01 - Delta: -3.20e-04 - Trend: 9.81e-03\n",
      "Ep 7 [####################]  100% - Tot. time: 1.3 s                        \n",
      "Loss: 9.02e-01 - Delta: -6.14e-02 - Trend: -6.11e-02\n",
      "Ep 8 [####################]  100% - Tot. time: 1.3 s                        \n",
      "Loss: 9.34e-01 - Delta: 3.24e-02 - Trend: 9.38e-02\n",
      "Ep 9 [####################]  100% - Tot. time: 1.3 s                        \n",
      "Loss: 9.23e-01 - Delta: -1.07e-02 - Trend: -4.30e-02\n",
      "Ep 10 [####################]  100% - Tot. time: 1.3 s                        \n",
      "Loss: 9.55e-01 - Delta: 3.13e-02 - Trend: 4.20e-02\n",
      "Ep 11 [####################]  100% - Tot. time: 1.3 s                        \n",
      "Loss: 8.24e-01 - Delta: -1.31e-01 - Trend: -1.62e-01\n",
      "Ep 12 [####################]  100% - Tot. time: 1.3 s                       \n",
      "Loss: 8.97e-01 - Delta: 7.35e-02 - Trend: 2.04e-01\n",
      "Ep 13 [####################]  100% - Tot. time: 1.3 s                        \n",
      "Loss: 8.74e-01 - Delta: -2.36e-02 - Trend: -9.71e-02\n",
      "Ep 14 [####################]  100% - Tot. time: 1.3 s                        \n",
      "Loss: 8.88e-01 - Delta: 1.40e-02 - Trend: 3.77e-02\n",
      "Ep 15 [####################]  100% - Tot. time: 1.4 s                        \n",
      "Loss: 8.66e-01 - Delta: -2.14e-02 - Trend: -3.54e-02\n",
      "Ep 16 [####################]  100% - Tot. time: 1.4 s                        \n",
      "Loss: 8.50e-01 - Delta: -1.68e-02 - Trend: 4.65e-03\n",
      "Ep 17 [####################]  100% - Tot. time: 1.3 s                        \n",
      "Loss: 8.70e-01 - Delta: 2.04e-02 - Trend: 3.72e-02\n",
      "Ep 18 [####################]  100% - Tot. time: 1.4 s                        \n",
      "Loss: 9.37e-01 - Delta: 6.65e-02 - Trend: 4.61e-02\n",
      "Ep 19 [####################]  100% - Tot. time: 1.4 s                        \n",
      "Loss: 9.56e-01 - Delta: 1.92e-02 - Trend: -4.73e-02\n",
      "Ep 20 [####################]  100% - Tot. time: 1.4 s                        \n",
      "Loss: 8.50e-01 - Delta: -1.06e-01 - Trend: -1.25e-01\n",
      "Ep 21 [####################]  100% - Tot. time: 1.3 s                        \n",
      "Loss: 8.74e-01 - Delta: 2.42e-02 - Trend: 1.30e-01\n",
      "Ep 22 [####################]  100% - Tot. time: 1.3 s                        \n",
      "Loss: 8.61e-01 - Delta: -1.32e-02 - Trend: -3.74e-02\n",
      "Ep 23 [####################]  100% - Tot. time: 1.3 s                        \n",
      "Loss: 8.33e-01 - Delta: -2.82e-02 - Trend: -1.50e-02\n",
      "Ep 24 [####################]  100% - Tot. time: 1.3 s                        \n",
      "Loss: 8.46e-01 - Delta: 1.31e-02 - Trend: 4.13e-02\n",
      "Ep 25 [####################]  100% - Tot. time: 1.3 s                        \n",
      "Loss: 8.86e-01 - Delta: 3.98e-02 - Trend: 2.68e-02\n",
      "Ep 26 [####################]  100% - Tot. time: 1.3 s                        \n",
      "Loss: 8.31e-01 - Delta: -5.44e-02 - Trend: -9.43e-02\n",
      "Ep 27 [####################]  100% - Tot. time: 1.4 s                        \n",
      "Loss: 8.78e-01 - Delta: 4.70e-02 - Trend: 1.01e-01\n",
      "Ep 28 [####################]  100% - Tot. time: 1.4 s                        \n",
      "Loss: 8.86e-01 - Delta: 8.09e-03 - Trend: -3.89e-02\n",
      "Ep 29 [####################]  100% - Tot. time: 1.4 s                        \n",
      "Loss: 8.43e-01 - Delta: -4.28e-02 - Trend: -5.09e-02\n",
      "Ep 30 [####################]  100% - Tot. time: 1.4 s                        \n",
      "Loss: 8.71e-01 - Delta: 2.74e-02 - Trend: 7.03e-02\n",
      "Ep 31 [####################]  100% - Tot. time: 1.5 s                        \n",
      "Loss: 8.39e-01 - Delta: -3.17e-02 - Trend: -5.91e-02\n",
      "Ep 32 [####################]  100% - Tot. time: 1.4 s                        \n",
      "Loss: 8.45e-01 - Delta: 5.96e-03 - Trend: 3.76e-02\n",
      "Ep 33 [####################]  100% - Tot. time: 1.4 s                        \n",
      "Loss: 8.45e-01 - Delta: 2.90e-05 - Trend: -5.93e-03\n",
      "Ep 34 [####################]  100% - Tot. time: 1.3 s                        \n",
      "Loss: 7.97e-01 - Delta: -4.78e-02 - Trend: -4.78e-02\n",
      "Ep 35 [####################]  100% - Tot. time: 1.4 s                        \n",
      "Loss: 8.68e-01 - Delta: 7.03e-02 - Trend: 1.18e-01\n",
      "Ep 36 [####################]  100% - Tot. time: 1.6 s                        \n",
      "Loss: 8.42e-01 - Delta: -2.54e-02 - Trend: -9.57e-02\n",
      "Ep 37 [####################]  100% - Tot. time: 1.5 s                        \n",
      "Loss: 8.80e-01 - Delta: 3.75e-02 - Trend: 6.29e-02\n",
      "Ep 38 [####################]  100% - Tot. time: 1.5 s                        \n",
      "Loss: 7.90e-01 - Delta: -8.96e-02 - Trend: -1.27e-01\n",
      "Ep 39 [####################]  100% - Tot. time: 1.4 s                        \n",
      "Loss: 8.33e-01 - Delta: 4.30e-02 - Trend: 1.33e-01\n",
      "Ep 40 [####################]  100% - Tot. time: 1.4 s                        \n",
      "Loss: 8.56e-01 - Delta: 2.28e-02 - Trend: -2.02e-02\n",
      "Ep 41 [####################]  100% - Tot. time: 1.4 s                        \n",
      "Loss: 8.74e-01 - Delta: 1.78e-02 - Trend: -5.01e-03\n",
      "Ep 42 [####################]  100% - Tot. time: 1.4 s                        \n",
      "Loss: 7.81e-01 - Delta: -9.31e-02 - Trend: -1.11e-01\n",
      "Ep 43 [####################]  100% - Tot. time: 1.4 s                       \n",
      "Loss: 8.21e-01 - Delta: 4.03e-02 - Trend: 1.33e-01\n",
      "Ep 44 [####################]  100% - Tot. time: 1.3 s                        \n",
      "Loss: 9.08e-01 - Delta: 8.70e-02 - Trend: 4.67e-02\n",
      "Ep 45 [####################]  100% - Tot. time: 1.3 s                        \n",
      "Loss: 8.18e-01 - Delta: -8.96e-02 - Trend: -1.77e-01\n",
      "Ep 46 [####################]  100% - Tot. time: 1.4 s                        \n",
      "Loss: 9.06e-01 - Delta: 8.79e-02 - Trend: 1.78e-01\n",
      "Ep 47 [####################]  100% - Tot. time: 1.4 s                        \n",
      "Loss: 9.02e-01 - Delta: -3.86e-03 - Trend: -9.18e-02\n",
      "Ep 48 [####################]  100% - Tot. time: 1.4 s                        \n",
      "Loss: 8.62e-01 - Delta: -4.05e-02 - Trend: -3.66e-02\n",
      "Ep 49 [####################]  100% - Tot. time: 1.4 s                        \n",
      "Loss: 8.57e-01 - Delta: -5.33e-03 - Trend: 3.51e-02\n",
      "Ep 50 [####################]  100% - Tot. time: 1.4 s                        \n",
      "Loss: 8.06e-01 - Delta: -5.10e-02 - Trend: -4.57e-02\n",
      "Ep 51 [####################]  100% - Tot. time: 1.5 s                       \n",
      "Loss: 8.47e-01 - Delta: 4.19e-02 - Trend: 9.29e-02\n",
      "Ep 52 [####################]  100% - Tot. time: 1.6 s                        \n",
      "Loss: 8.11e-01 - Delta: -3.67e-02 - Trend: -7.86e-02\n",
      "Ep 53 [####################]  100% - Tot. time: 1.5 s                        \n",
      "Loss: 9.77e-01 - Delta: 1.66e-01 - Trend: 2.03e-01\n",
      "Ep 54 [####################]  100% - Tot. time: 1.4 s                        \n",
      "Loss: 8.90e-01 - Delta: -8.73e-02 - Trend: -2.54e-01\n",
      "Ep 55 [####################]  100% - Tot. time: 1.4 s                        \n",
      "Loss: 8.46e-01 - Delta: -4.41e-02 - Trend: 4.32e-02\n",
      "Ep 56 [####################]  100% - Tot. time: 1.5 s                        \n",
      "Loss: 8.90e-01 - Delta: 4.45e-02 - Trend: 8.86e-02\n",
      "Ep 57 [####################]  100% - Tot. time: 1.4 s                        \n",
      "Loss: 8.79e-01 - Delta: -1.07e-02 - Trend: -5.52e-02\n",
      "Ep 58 [####################]  100% - Tot. time: 1.4 s                        \n",
      "Loss: 8.31e-01 - Delta: -4.80e-02 - Trend: -3.72e-02\n",
      "Ep 59 [####################]  100% - Tot. time: 1.3 s                        \n",
      "Loss: 8.64e-01 - Delta: 3.25e-02 - Trend: 8.04e-02\n",
      "Ep 60 [####################]  100% - Tot. time: 1.3 s                        \n",
      "Loss: 8.68e-01 - Delta: 3.86e-03 - Trend: -2.86e-02\n",
      "Ep 61 [####################]  100% - Tot. time: 1.3 s                        \n",
      "Loss: 8.28e-01 - Delta: -4.03e-02 - Trend: -4.42e-02\n",
      "Ep 62 [####################]  100% - Tot. time: 1.4 s                        \n",
      "Loss: 8.37e-01 - Delta: 9.24e-03 - Trend: 4.95e-02\n",
      "Ep 63 [####################]  100% - Tot. time: 1.3 s                        \n",
      "Loss: 8.73e-01 - Delta: 3.63e-02 - Trend: 2.71e-02\n"
     ]
    },
    {
     "name": "stdout",
     "output_type": "stream",
     "text": [
      "Ep 64 [####################]  100% - Tot. time: 1.3 s                        \n",
      "Loss: 8.93e-01 - Delta: 2.00e-02 - Trend: -1.63e-02\n",
      "Ep 65 [####################]  100% - Tot. time: 1.3 s                        \n",
      "Loss: 8.50e-01 - Delta: -4.30e-02 - Trend: -6.30e-02\n",
      "Ep 66 [####################]  100% - Tot. time: 1.3 s                        \n",
      "Loss: 7.95e-01 - Delta: -5.48e-02 - Trend: -1.18e-02\n",
      "Ep 67 [####################]  100% - Tot. time: 1.3 s                       \n",
      "Loss: 8.79e-01 - Delta: 8.34e-02 - Trend: 1.38e-01\n",
      "Ep 68 [####################]  100% - Tot. time: 1.3 s                        \n",
      "Loss: 8.48e-01 - Delta: -3.02e-02 - Trend: -1.14e-01\n",
      "Ep 69 [####################]  100% - Tot. time: 1.3 s                        \n",
      "Loss: 8.79e-01 - Delta: 3.06e-02 - Trend: 6.09e-02\n",
      "Ep 70 [####################]  100% - Tot. time: 1.3 s                        \n",
      "Loss: 9.16e-01 - Delta: 3.69e-02 - Trend: 6.28e-03\n",
      "Ep 71 [####################]  100% - Tot. time: 1.3 s                        \n",
      "Loss: 8.56e-01 - Delta: -5.98e-02 - Trend: -9.67e-02\n",
      "Ep 72 [####################]  100% - Tot. time: 1.3 s                        \n",
      "Loss: 7.90e-01 - Delta: -6.58e-02 - Trend: -6.02e-03\n",
      "Ep 73 [####################]  100% - Tot. time: 1.3 s                       \n",
      "Loss: 8.66e-01 - Delta: 7.53e-02 - Trend: 1.41e-01\n",
      "Ep 74 [####################]  100% - Tot. time: 1.3 s                        \n",
      "Loss: 8.73e-01 - Delta: 7.78e-03 - Trend: -6.75e-02\n",
      "Ep 75 [####################]  100% - Tot. time: 1.3 s                        \n",
      "Loss: 8.77e-01 - Delta: 3.18e-03 - Trend: -4.60e-03\n",
      "Ep 76 [####################]  100% - Tot. time: 1.3 s                        \n",
      "Loss: 8.69e-01 - Delta: -8.05e-03 - Trend: -1.12e-02\n",
      "Ep 77 [####################]  100% - Tot. time: 1.3 s                        \n",
      "Loss: 8.88e-01 - Delta: 1.97e-02 - Trend: 2.78e-02\n",
      "Ep 78 [####################]  100% - Tot. time: 1.3 s                        \n",
      "Loss: 8.66e-01 - Delta: -2.26e-02 - Trend: -4.23e-02\n",
      "Ep 79 [####################]  100% - Tot. time: 1.3 s                        \n",
      "Loss: 7.97e-01 - Delta: -6.86e-02 - Trend: -4.60e-02\n",
      "Ep 80 [####################]  100% - Tot. time: 1.3 s                       \n",
      "Loss: 8.27e-01 - Delta: 3.03e-02 - Trend: 9.89e-02\n",
      "Ep 81 [####################]  100% - Tot. time: 1.3 s                        \n",
      "Loss: 8.45e-01 - Delta: 1.76e-02 - Trend: -1.27e-02\n",
      "Ep 82 [####################]  100% - Tot. time: 1.3 s                        \n",
      "Loss: 8.73e-01 - Delta: 2.78e-02 - Trend: 1.02e-02\n",
      "Ep 83 [####################]  100% - Tot. time: 1.3 s                        \n",
      "Loss: 8.10e-01 - Delta: -6.26e-02 - Trend: -9.04e-02\n",
      "Ep 84 [####################]  100% - Tot. time: 1.3 s                        \n",
      "Loss: 8.33e-01 - Delta: 2.24e-02 - Trend: 8.49e-02\n",
      "Ep 85 [####################]  100% - Tot. time: 1.3 s                        \n",
      "Loss: 8.29e-01 - Delta: -3.91e-03 - Trend: -2.63e-02\n",
      "Ep 86 [####################]  100% - Tot. time: 1.3 s                        \n",
      "Loss: 9.06e-01 - Delta: 7.71e-02 - Trend: 8.10e-02\n",
      "Ep 87 [####################]  100% - Tot. time: 1.4 s                        \n",
      "Loss: 8.36e-01 - Delta: -7.00e-02 - Trend: -1.47e-01\n",
      "Ep 88 [####################]  100% - Tot. time: 1.4 s                        \n",
      "Loss: 8.02e-01 - Delta: -3.39e-02 - Trend: 3.60e-02\n",
      "Ep 89 [####################]  100% - Tot. time: 1.4 s                        \n",
      "Loss: 8.50e-01 - Delta: 4.78e-02 - Trend: 8.17e-02\n",
      "Ep 90 [####################]  100% - Tot. time: 1.4 s                        \n",
      "Loss: 8.57e-01 - Delta: 7.33e-03 - Trend: -4.05e-02\n",
      "Ep 91 [####################]  100% - Tot. time: 1.3 s                        \n",
      "Loss: 7.76e-01 - Delta: -8.06e-02 - Trend: -8.79e-02\n",
      "Ep 92 [####################]  100% - Tot. time: 1.4 s                       \n",
      "Loss: 8.04e-01 - Delta: 2.77e-02 - Trend: 1.08e-01\n",
      "Ep 93 [####################]  100% - Tot. time: 1.4 s                        \n",
      "Loss: 8.62e-01 - Delta: 5.79e-02 - Trend: 3.03e-02\n",
      "Ep 94 [####################]  100% - Tot. time: 1.4 s                        \n",
      "Loss: 8.68e-01 - Delta: 5.55e-03 - Trend: -5.24e-02\n",
      "Ep 95 [####################]  100% - Tot. time: 1.4 s                        \n",
      "Loss: 8.36e-01 - Delta: -3.17e-02 - Trend: -3.73e-02\n",
      "Ep 96 [####################]  100% - Tot. time: 1.4 s                        \n",
      "Loss: 8.68e-01 - Delta: 3.18e-02 - Trend: 6.35e-02\n",
      "Ep 97 [####################]  100% - Tot. time: 1.5 s                        \n",
      "Loss: 8.13e-01 - Delta: -5.46e-02 - Trend: -8.64e-02\n",
      "Ep 98 [####################]  100% - Tot. time: 1.4 s                        \n",
      "Loss: 9.03e-01 - Delta: 8.96e-02 - Trend: 1.44e-01\n",
      "Ep 99 [####################]  100% - Tot. time: 1.4 s                        \n",
      "Loss: 7.87e-01 - Delta: -1.15e-01 - Trend: -2.05e-01\n"
     ]
    }
   ],
   "source": [
    "optimizer.zero_grad()\n",
    "data_train_iter = data.DataLoader(dataset['train'], **training_params)\n",
    "\n",
    "train_loss = []\n",
    "for epoch in range(max_epochs):\n",
    "    batch_loss = []\n",
    "    pb = ProgressBar(len(data_train_iter), percentPrecision=5, headLabel='Ep {} '.format(epoch))\n",
    "    for local_x, local_y in data_train_iter:\n",
    "        if model.onGPU:\n",
    "            local_x = local_x.cuda()\n",
    "            local_y = local_y.cuda()\n",
    "        \n",
    "        y_pred = model(local_x)\n",
    "        loss = criterion(y_pred, local_y.long())\n",
    "        batch_loss.append(loss.item())\n",
    "        \n",
    "        tail_label = 'Loss: {:2.2e}'.format(loss.item())\n",
    "        if len(train_loss) > 0:\n",
    "            tail_label += ' ({:2.2e})'.format(loss.item() - train_loss[-1][-1])\n",
    "        pb.show(len(batch_loss)-1, tail_label=tail_label)\n",
    "        loss.backward()\n",
    "        optimizer.step()\n",
    "\n",
    "    printout = 'Loss: {:2.2e}'.format(batch_loss[-1])\n",
    "    if len(train_loss) > 0:\n",
    "        printout += ' - Delta: {:2.2e}'.format(batch_loss[-1] - train_loss[-1][-1])\n",
    "    if len(train_loss) > 1:\n",
    "        d2L_de2 = batch_loss[-1] - 2*train_loss[-1][-1] + train_loss[-2][-1]\n",
    "        printout +=' - Trend: {:2.2e}'.format(d2L_de2)\n",
    "    print(printout+'\\n')\n",
    "    train_loss.append(batch_loss)"
   ]
  },
  {
   "cell_type": "code",
   "execution_count": null,
   "metadata": {},
   "outputs": [],
   "source": []
  }
 ],
 "metadata": {
  "kernelspec": {
   "display_name": "Python 3",
   "language": "python",
   "name": "python3"
  },
  "language_info": {
   "codemirror_mode": {
    "name": "ipython",
    "version": 3
   },
   "file_extension": ".py",
   "mimetype": "text/x-python",
   "name": "python",
   "nbconvert_exporter": "python",
   "pygments_lexer": "ipython3",
   "version": "3.7.3"
  }
 },
 "nbformat": 4,
 "nbformat_minor": 2
}
