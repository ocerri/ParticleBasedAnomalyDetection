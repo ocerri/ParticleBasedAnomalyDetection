{
 "cells": [
  {
   "cell_type": "markdown",
   "metadata": {},
   "source": [
    "First attempt of graph network. Running on CPU."
   ]
  },
  {
   "cell_type": "code",
   "execution_count": 1,
   "metadata": {},
   "outputs": [],
   "source": [
    "import numpy as np\n",
    "import itertools\n",
    "import os, sys\n",
    "\n",
    "import torch\n",
    "import torch.nn as nn\n",
    "import torch.nn.functional  as F"
   ]
  },
  {
   "cell_type": "markdown",
   "metadata": {},
   "source": [
    "## Get the dataset"
   ]
  },
  {
   "cell_type": "code",
   "execution_count": 2,
   "metadata": {},
   "outputs": [],
   "source": [
    "from torch.utils import data"
   ]
  },
  {
   "cell_type": "code",
   "execution_count": 3,
   "metadata": {},
   "outputs": [],
   "source": [
    "class Dataset(data.Dataset):\n",
    "    def __init__(self, names = 'SM', template='../data/20190619_10part_PtOrder/{}_lepFilter_13TeV.npy'):\n",
    "        if names == 'SM':\n",
    "            self.SM_names = ['Wlnu', 'qcd', 'ttbar']\n",
    "            names = self.SM_names\n",
    "        \n",
    "        for i, n in enumerate(names):\n",
    "            ins = np.load(template.format(n)).astype(np.float32)\n",
    "            out = np.zeros((ins.shape[0], len(names)))\n",
    "            out[:,i] = 1\n",
    "            \n",
    "            print(n, ':', str(ins.shape[0]))\n",
    "            \n",
    "            if i == 0:\n",
    "                self.inputs = ins\n",
    "                self.outputs = out\n",
    "            else:\n",
    "                self.inputs = np.concatenate((self.inputs, ins))\n",
    "                self.outputs = np.concatenate((self.outputs, out))\n",
    "    \n",
    "    def __len__(self):\n",
    "        return self.inputs.shape[0]\n",
    "    \n",
    "    def __getitem__(self, idx):\n",
    "        return self.inputs[idx], self.outputs[idx]"
   ]
  },
  {
   "cell_type": "code",
   "execution_count": 4,
   "metadata": {},
   "outputs": [
    {
     "name": "stdout",
     "output_type": "stream",
     "text": [
      "Wlnu : 200\n",
      "qcd : 200\n",
      "ttbar : 200\n"
     ]
    }
   ],
   "source": [
    "dataset = {}\n",
    "dataset['train'] = Dataset()"
   ]
  },
  {
   "cell_type": "markdown",
   "metadata": {},
   "source": [
    "## Define the model"
   ]
  },
  {
   "cell_type": "code",
   "execution_count": 5,
   "metadata": {
    "code_folding": [
     18,
     30,
     44,
     58,
     66,
     96
    ]
   },
   "outputs": [],
   "source": [
    "class ClfGraphNet(nn.Module):\n",
    "    def __init__(self, N_nodes, N_features, dim_hidden, De, Do, dim_output, verbose = False):\n",
    "        super(ClfGraphNet, self).__init__()\n",
    "        self.verbose = verbose\n",
    "        \n",
    "        self.p = N_features\n",
    "        self.No = N_nodes\n",
    "        self.De = De\n",
    "        self.Do = Do\n",
    "        \n",
    "        self.Rr, self.Rs = self.buildEdgesMatrixes()\n",
    "        self.fr = self.build_fr(dim_hidden)\n",
    "        self.fo = self.build_fo(dim_hidden)\n",
    "        self.PhiC = self.build_PhiC(dim_output)\n",
    "        \n",
    "        self.onGPU = False\n",
    "        \n",
    "        \n",
    "    def buildEdgesMatrixes(self):\n",
    "        ### Assume fully connected graph\n",
    "        Ne = self.No * (self.No - 1)\n",
    "        self.Ne = Ne\n",
    "        Rr = torch.zeros(self.No, Ne)\n",
    "        Rs = torch.zeros(self.No, Ne)\n",
    "        receiver_sender_list = [i for i in itertools.product(range(self.No), range(self.No)) if i[0]!=i[1]]\n",
    "        for i, (r, s) in enumerate(receiver_sender_list):\n",
    "            Rr[r, i] = 1\n",
    "            Rs[s, i] = 1\n",
    "        return Rr, Rs\n",
    "            \n",
    "    def build_fr(self, dim_hidden):\n",
    "        self.fr_layers = [nn.Linear(2 * self.p, dim_hidden),\n",
    "                          nn.Linear(dim_hidden, int(dim_hidden/2)),\n",
    "                          nn.Linear(int(dim_hidden/2), self.De)\n",
    "                         ]\n",
    "        \n",
    "        def fr(x):\n",
    "            aux = x\n",
    "            for l in self.fr_layers:\n",
    "                aux = F.relu(aux)\n",
    "            return aux\n",
    "        \n",
    "        return fr\n",
    "        \n",
    "    def build_fo(self, dim_hidden):\n",
    "        self.fo_layers = [nn.Linear(self.p + self.De, dim_hidden),\n",
    "                          nn.Linear(dim_hidden, int(dim_hidden/2)),\n",
    "                          nn.Linear(int(dim_hidden/2), self.Do)\n",
    "                         ]\n",
    "        \n",
    "        def fo(x):\n",
    "            aux = x\n",
    "            for l in self.fr_layers:\n",
    "                aux = F.relu(aux)\n",
    "            return aux\n",
    "        \n",
    "        return fo\n",
    "\n",
    "    def build_PhiC(self, dim_output):\n",
    "        self.PhiC_layer = nn.Linear(self.Do, dim_output)\n",
    "        \n",
    "        def PhiC(x):\n",
    "            return F.sigmoid(self.PhiC_layer(x))\n",
    "        \n",
    "        return PhiC\n",
    "         \n",
    "    def INlayer(self, x):\n",
    "        Orr = torch.matmul(x, self.Rr)\n",
    "        Ors = torch.matmul(x, self.Rs)\n",
    "        B = torch.cat([Orr, Ors], dim=1)\n",
    "        \n",
    "        ### First MLP ###\n",
    "        B = torch.transpose(B, 1, 2).contiguous()\n",
    "        E = self.fr(B.view(-1, 2 * P)).view(-1, self.Ne, self.De)\n",
    "        del B\n",
    "        \n",
    "        E = torch.transpose(E, 1, 2).contiguous()\n",
    "        Ebar = torch.matmul(E, torch.transpose(self.Rr, 0, 1).contiguous())\n",
    "        del E\n",
    "        \n",
    "        C = torch.cat([x, Ebar], 1)\n",
    "        del Ebar\n",
    "        \n",
    "        C = torch.transpose(C, 1, 2).contiguous()\n",
    "        C = self.fo(C.view(-1, self.p + self.De))\n",
    "        O = nn.functional.sigmoid(C.view(-1, self.No, self.Do))\n",
    "        del C\n",
    "        return O\n",
    "        \n",
    "    def forward(self, x):\n",
    "        O = self.INlayer(x)\n",
    "        \n",
    "        # now sum over No nodes to obtain the Do latent quantities\n",
    "        O = torch.sum(O, 1)\n",
    "        return self.PhiC(O)\n",
    "    \n",
    "    def useGPU(self):\n",
    "        if torch.cuda.is_available():\n",
    "            print('Current device: {} ({} available)'.format(torch.cuda.current_device(), \n",
    "                                                             torch.cuda.device_count()))\n",
    "            \n",
    "            for o in self.__dict__.values():\n",
    "                if o.__class__ == torch.Tensor:\n",
    "                    o.cuda()\n",
    "            \n",
    "            self.onGPU = True\n",
    "        else: \n",
    "            print('GPU not available')\n",
    "            "
   ]
  },
  {
   "cell_type": "code",
   "execution_count": 6,
   "metadata": {
    "code_folding": [
     18,
     30,
     44,
     58,
     66,
     89,
     96
    ]
   },
   "outputs": [],
   "source": [
    "# Does not work for the moment\n",
    "# def weights_init(M):\n",
    "#     nn.init.xavier_normal(M.weight.data)"
   ]
  },
  {
   "cell_type": "code",
   "execution_count": 7,
   "metadata": {},
   "outputs": [],
   "source": [
    "model = ClfGraphNet(N_nodes=dataset['train'].inputs.shape[1],\n",
    "                    N_features=dataset['train'].inputs.shape[2],\n",
    "                    dim_hidden=10,\n",
    "                    De=5,\n",
    "                    Do=7,\n",
    "                    dim_output=dataset['train'].outputs.shape[1]\n",
    "                   )"
   ]
  },
  {
   "cell_type": "code",
   "execution_count": 8,
   "metadata": {},
   "outputs": [],
   "source": [
    "# print(model.fr_layers[0].weight)\n",
    "# model.apply(weights_init)\n",
    "# print(model.fr_layers[0].weight)"
   ]
  },
  {
   "cell_type": "markdown",
   "metadata": {},
   "source": [
    "## Loss"
   ]
  },
  {
   "cell_type": "code",
   "execution_count": 9,
   "metadata": {},
   "outputs": [],
   "source": [
    "criterion = nn.CrossEntropyLoss()"
   ]
  },
  {
   "cell_type": "markdown",
   "metadata": {},
   "source": [
    "## Training"
   ]
  },
  {
   "cell_type": "code",
   "execution_count": 10,
   "metadata": {},
   "outputs": [],
   "source": [
    "training_params = {'batch_size': 64,\n",
    "                   'shuffle': True,\n",
    "                   'num_workers': 0\n",
    "                  }\n",
    "\n",
    "max_epochs = 100"
   ]
  },
  {
   "cell_type": "code",
   "execution_count": 11,
   "metadata": {},
   "outputs": [],
   "source": [
    "optimizer = torch.optim.Adam(model.parameters(), lr = 0.0001)"
   ]
  },
  {
   "cell_type": "code",
   "execution_count": 12,
   "metadata": {},
   "outputs": [
    {
     "ename": "RuntimeError",
     "evalue": "size mismatch, m1: [640 x 5], m2: [10 x 90] at /Users/distiller/project/conda/conda-bld/pytorch_1556653464916/work/aten/src/TH/generic/THTensorMath.cpp:961",
     "output_type": "error",
     "traceback": [
      "\u001b[0;31m---------------------------------------------------------------------------\u001b[0m",
      "\u001b[0;31mRuntimeError\u001b[0m                              Traceback (most recent call last)",
      "\u001b[0;32m<ipython-input-12-2e573f1ea443>\u001b[0m in \u001b[0;36m<module>\u001b[0;34m\u001b[0m\n\u001b[1;32m     10\u001b[0m             \u001b[0mlocal_y\u001b[0m \u001b[0;34m=\u001b[0m \u001b[0mlocal_y\u001b[0m\u001b[0;34m.\u001b[0m\u001b[0mcuda\u001b[0m\u001b[0;34m(\u001b[0m\u001b[0;34m)\u001b[0m\u001b[0;34m\u001b[0m\u001b[0;34m\u001b[0m\u001b[0m\n\u001b[1;32m     11\u001b[0m \u001b[0;34m\u001b[0m\u001b[0m\n\u001b[0;32m---> 12\u001b[0;31m         \u001b[0mloss\u001b[0m \u001b[0;34m=\u001b[0m \u001b[0mcriterion\u001b[0m\u001b[0;34m(\u001b[0m\u001b[0mmodel\u001b[0m\u001b[0;34m(\u001b[0m\u001b[0mlocal_x\u001b[0m\u001b[0;34m)\u001b[0m\u001b[0;34m,\u001b[0m \u001b[0mlocal_y\u001b[0m\u001b[0;34m)\u001b[0m\u001b[0;34m\u001b[0m\u001b[0;34m\u001b[0m\u001b[0m\n\u001b[0m\u001b[1;32m     13\u001b[0m         \u001b[0mbatch_loss\u001b[0m\u001b[0;34m.\u001b[0m\u001b[0mappend\u001b[0m\u001b[0;34m(\u001b[0m\u001b[0mloss\u001b[0m\u001b[0;34m.\u001b[0m\u001b[0mdata\u001b[0m\u001b[0;34m[\u001b[0m\u001b[0;36m0\u001b[0m\u001b[0;34m]\u001b[0m\u001b[0;34m)\u001b[0m\u001b[0;34m\u001b[0m\u001b[0;34m\u001b[0m\u001b[0m\n\u001b[1;32m     14\u001b[0m         \u001b[0mloss\u001b[0m\u001b[0;34m.\u001b[0m\u001b[0mbackward\u001b[0m\u001b[0;34m(\u001b[0m\u001b[0;34m)\u001b[0m\u001b[0;34m\u001b[0m\u001b[0;34m\u001b[0m\u001b[0m\n",
      "\u001b[0;32m~/programs/miniconda2/envs/PartAN/lib/python3.7/site-packages/torch/nn/modules/module.py\u001b[0m in \u001b[0;36m__call__\u001b[0;34m(self, *input, **kwargs)\u001b[0m\n\u001b[1;32m    491\u001b[0m             \u001b[0mresult\u001b[0m \u001b[0;34m=\u001b[0m \u001b[0mself\u001b[0m\u001b[0;34m.\u001b[0m\u001b[0m_slow_forward\u001b[0m\u001b[0;34m(\u001b[0m\u001b[0;34m*\u001b[0m\u001b[0minput\u001b[0m\u001b[0;34m,\u001b[0m \u001b[0;34m**\u001b[0m\u001b[0mkwargs\u001b[0m\u001b[0;34m)\u001b[0m\u001b[0;34m\u001b[0m\u001b[0;34m\u001b[0m\u001b[0m\n\u001b[1;32m    492\u001b[0m         \u001b[0;32melse\u001b[0m\u001b[0;34m:\u001b[0m\u001b[0;34m\u001b[0m\u001b[0;34m\u001b[0m\u001b[0m\n\u001b[0;32m--> 493\u001b[0;31m             \u001b[0mresult\u001b[0m \u001b[0;34m=\u001b[0m \u001b[0mself\u001b[0m\u001b[0;34m.\u001b[0m\u001b[0mforward\u001b[0m\u001b[0;34m(\u001b[0m\u001b[0;34m*\u001b[0m\u001b[0minput\u001b[0m\u001b[0;34m,\u001b[0m \u001b[0;34m**\u001b[0m\u001b[0mkwargs\u001b[0m\u001b[0;34m)\u001b[0m\u001b[0;34m\u001b[0m\u001b[0;34m\u001b[0m\u001b[0m\n\u001b[0m\u001b[1;32m    494\u001b[0m         \u001b[0;32mfor\u001b[0m \u001b[0mhook\u001b[0m \u001b[0;32min\u001b[0m \u001b[0mself\u001b[0m\u001b[0;34m.\u001b[0m\u001b[0m_forward_hooks\u001b[0m\u001b[0;34m.\u001b[0m\u001b[0mvalues\u001b[0m\u001b[0;34m(\u001b[0m\u001b[0;34m)\u001b[0m\u001b[0;34m:\u001b[0m\u001b[0;34m\u001b[0m\u001b[0;34m\u001b[0m\u001b[0m\n\u001b[1;32m    495\u001b[0m             \u001b[0mhook_result\u001b[0m \u001b[0;34m=\u001b[0m \u001b[0mhook\u001b[0m\u001b[0;34m(\u001b[0m\u001b[0mself\u001b[0m\u001b[0;34m,\u001b[0m \u001b[0minput\u001b[0m\u001b[0;34m,\u001b[0m \u001b[0mresult\u001b[0m\u001b[0;34m)\u001b[0m\u001b[0;34m\u001b[0m\u001b[0;34m\u001b[0m\u001b[0m\n",
      "\u001b[0;32m<ipython-input-5-0ba51ee5c4b7>\u001b[0m in \u001b[0;36mforward\u001b[0;34m(self, x)\u001b[0m\n\u001b[1;32m     89\u001b[0m \u001b[0;34m\u001b[0m\u001b[0m\n\u001b[1;32m     90\u001b[0m     \u001b[0;32mdef\u001b[0m \u001b[0mforward\u001b[0m\u001b[0;34m(\u001b[0m\u001b[0mself\u001b[0m\u001b[0;34m,\u001b[0m \u001b[0mx\u001b[0m\u001b[0;34m)\u001b[0m\u001b[0;34m:\u001b[0m\u001b[0;34m\u001b[0m\u001b[0;34m\u001b[0m\u001b[0m\n\u001b[0;32m---> 91\u001b[0;31m         \u001b[0mO\u001b[0m \u001b[0;34m=\u001b[0m \u001b[0mself\u001b[0m\u001b[0;34m.\u001b[0m\u001b[0mINlayer\u001b[0m\u001b[0;34m(\u001b[0m\u001b[0mx\u001b[0m\u001b[0;34m)\u001b[0m\u001b[0;34m\u001b[0m\u001b[0;34m\u001b[0m\u001b[0m\n\u001b[0m\u001b[1;32m     92\u001b[0m \u001b[0;34m\u001b[0m\u001b[0m\n\u001b[1;32m     93\u001b[0m         \u001b[0;31m# now sum over No nodes to obtain the Do latent quantities\u001b[0m\u001b[0;34m\u001b[0m\u001b[0;34m\u001b[0m\u001b[0;34m\u001b[0m\u001b[0m\n",
      "\u001b[0;32m<ipython-input-5-0ba51ee5c4b7>\u001b[0m in \u001b[0;36mINlayer\u001b[0;34m(self, x)\u001b[0m\n\u001b[1;32m     66\u001b[0m \u001b[0;34m\u001b[0m\u001b[0m\n\u001b[1;32m     67\u001b[0m     \u001b[0;32mdef\u001b[0m \u001b[0mINlayer\u001b[0m\u001b[0;34m(\u001b[0m\u001b[0mself\u001b[0m\u001b[0;34m,\u001b[0m \u001b[0mx\u001b[0m\u001b[0;34m)\u001b[0m\u001b[0;34m:\u001b[0m\u001b[0;34m\u001b[0m\u001b[0;34m\u001b[0m\u001b[0m\n\u001b[0;32m---> 68\u001b[0;31m         \u001b[0mOrr\u001b[0m \u001b[0;34m=\u001b[0m \u001b[0mtorch\u001b[0m\u001b[0;34m.\u001b[0m\u001b[0mmatmul\u001b[0m\u001b[0;34m(\u001b[0m\u001b[0mx\u001b[0m\u001b[0;34m,\u001b[0m \u001b[0mself\u001b[0m\u001b[0;34m.\u001b[0m\u001b[0mRr\u001b[0m\u001b[0;34m)\u001b[0m\u001b[0;34m\u001b[0m\u001b[0;34m\u001b[0m\u001b[0m\n\u001b[0m\u001b[1;32m     69\u001b[0m         \u001b[0mOrs\u001b[0m \u001b[0;34m=\u001b[0m \u001b[0mtorch\u001b[0m\u001b[0;34m.\u001b[0m\u001b[0mmatmul\u001b[0m\u001b[0;34m(\u001b[0m\u001b[0mx\u001b[0m\u001b[0;34m,\u001b[0m \u001b[0mself\u001b[0m\u001b[0;34m.\u001b[0m\u001b[0mRs\u001b[0m\u001b[0;34m)\u001b[0m\u001b[0;34m\u001b[0m\u001b[0;34m\u001b[0m\u001b[0m\n\u001b[1;32m     70\u001b[0m         \u001b[0mB\u001b[0m \u001b[0;34m=\u001b[0m \u001b[0mtorch\u001b[0m\u001b[0;34m.\u001b[0m\u001b[0mcat\u001b[0m\u001b[0;34m(\u001b[0m\u001b[0;34m[\u001b[0m\u001b[0mOrr\u001b[0m\u001b[0;34m,\u001b[0m \u001b[0mOrs\u001b[0m\u001b[0;34m]\u001b[0m\u001b[0;34m,\u001b[0m \u001b[0mdim\u001b[0m\u001b[0;34m=\u001b[0m\u001b[0;36m1\u001b[0m\u001b[0;34m)\u001b[0m\u001b[0;34m\u001b[0m\u001b[0;34m\u001b[0m\u001b[0m\n",
      "\u001b[0;31mRuntimeError\u001b[0m: size mismatch, m1: [640 x 5], m2: [10 x 90] at /Users/distiller/project/conda/conda-bld/pytorch_1556653464916/work/aten/src/TH/generic/THTensorMath.cpp:961"
     ]
    }
   ],
   "source": [
    "optimizer.zero_grad()\n",
    "\n",
    "train_loss = []\n",
    "for epoch in range(max_epochs):\n",
    "    \n",
    "    batch_loss = []\n",
    "    for local_x, local_y in data.DataLoader(dataset['train'], **training_params):\n",
    "        if model.onGPU:\n",
    "            local_x = local_x.cuda()\n",
    "            local_y = local_y.cuda()\n",
    "        \n",
    "        loss = criterion(model(local_x), local_y)\n",
    "        batch_loss.append(loss.data[0])\n",
    "        loss.backward()\n",
    "        \n",
    "        optimizer.step()\n",
    "    train_loss.append(batch_loss)"
   ]
  },
  {
   "cell_type": "code",
   "execution_count": null,
   "metadata": {},
   "outputs": [],
   "source": []
  }
 ],
 "metadata": {
  "kernelspec": {
   "display_name": "Python 3",
   "language": "python",
   "name": "python3"
  },
  "language_info": {
   "codemirror_mode": {
    "name": "ipython",
    "version": 3
   },
   "file_extension": ".py",
   "mimetype": "text/x-python",
   "name": "python",
   "nbconvert_exporter": "python",
   "pygments_lexer": "ipython3",
   "version": "3.7.3"
  }
 },
 "nbformat": 4,
 "nbformat_minor": 2
}
